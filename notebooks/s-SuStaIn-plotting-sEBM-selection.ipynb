{
 "cells": [
  {
   "cell_type": "code",
   "execution_count": 1,
   "id": "25db1df8",
   "metadata": {},
   "outputs": [],
   "source": [
    "import pandas as pd\n",
    "import pickle\n",
    "import seaborn as sns\n",
    "import numpy as np\n",
    "from kde_ebm.mixture_model import fit_all_gmm_models\n",
    "from kde_ebm import mixture_model\n",
    "from sSuStaIn.sEBMSustain import sEBMSustain, sEBMSustainData\n",
    "import os\n",
    "import numpy.ma as ma\n",
    "from collections import Counter\n",
    "from dateutil.relativedelta import relativedelta\n"
   ]
  },
  {
   "cell_type": "code",
   "execution_count": 2,
   "id": "0920200d",
   "metadata": {},
   "outputs": [],
   "source": [
    "%load_ext autoreload\n",
    "%autoreload 2\n",
    "%matplotlib inline\n",
    "import matplotlib.pyplot as plt\n",
    "from matplotlib import cm\n",
    "hfont = {'fontname':'Arial'}"
   ]
  },
  {
   "cell_type": "code",
   "execution_count": 3,
   "id": "49390950",
   "metadata": {},
   "outputs": [],
   "source": [
    "def process_L(L, min_val=0):\n",
    "    mx = ma.masked_less_equal(L,min_val)\n",
    "    min_masked = mx.min(axis=0)\n",
    "    L_new = mx.filled(fill_value=min_masked)\n",
    "    return L_new"
   ]
  },
  {
   "cell_type": "markdown",
   "id": "fd1d4edd",
   "metadata": {},
   "source": [
    "## Change the path to the pickled file"
   ]
  },
  {
   "cell_type": "code",
   "execution_count": 12,
   "id": "ec057597",
   "metadata": {},
   "outputs": [],
   "source": [
    "# Read the pickled file\n",
    "pickle_path = \"/nethome/rtandon32/ebm/s-SuStain-outputs/sim_tadpole_w_sEBM_mixture_GMM/pickle_files/sim_tadpole_w_sEBM_subtype3.pickle\"\n",
    "with open(pickle_path, \"rb\") as input_file:\n",
    "    pkl = pickle.load(input_file)"
   ]
  },
  {
   "cell_type": "markdown",
   "id": "678dd49b",
   "metadata": {},
   "source": [
    "### Check that the MCI and CN/AD files have same column names"
   ]
  },
  {
   "cell_type": "code",
   "execution_count": 13,
   "id": "0e2a1645",
   "metadata": {},
   "outputs": [],
   "source": [
    "# MCI and CN/AD data\n",
    "cn_ad_path = \"/home/rtandon32/ebm/ebm_experiments/experiment_scripts/real_data/dfMri_D12_ebm_final_n327.csv\"\n",
    "df_cnad = pd.read_csv(cn_ad_path)\n",
    "mci_path = \"/nethome/rtandon32/ebm/ebm_experiments/experiment_scripts/real_data/dfMri_D12_ebm_mci.csv\"\n",
    "df_mci = pd.read_csv(mci_path)\n",
    "df_cnad[\"EXAMDATE\"] = pd.to_datetime(df_cnad[\"EXAMDATE\"])\n",
    "df_mci[\"EXAMDATE\"] = pd.to_datetime(df_mci[\"EXAMDATE\"])\n",
    "assert all(df_mci.columns == df_cnad.columns)"
   ]
  },
  {
   "cell_type": "markdown",
   "id": "48db514e",
   "metadata": {},
   "source": [
    "## Subtyping and Staging the subjects"
   ]
  },
  {
   "cell_type": "markdown",
   "id": "d1876c72",
   "metadata": {},
   "source": [
    "### Get the probability matrices for CN/AD"
   ]
  },
  {
   "cell_type": "code",
   "execution_count": 14,
   "id": "d12fe69f",
   "metadata": {},
   "outputs": [
    {
     "name": "stderr",
     "output_type": "stream",
     "text": [
      "/home/rtandon32/.conda/envs/sustain/lib/python3.9/site-packages/scipy/optimize/optimize.py:282: RuntimeWarning: Values in x were outside bounds during a minimize step, clipping to bounds\n",
      "  warnings.warn(\"Values in x were outside bounds during a \"\n"
     ]
    }
   ],
   "source": [
    "# Get the mixture model for the CN/AD subjects\n",
    "k=119\n",
    "exclude_idx = [21,  71,  22,  19, 111,  64,  96,  44,  90,  50,  80,  57,   9,\n",
    "        77,  33, 113,  76,  98, 105,  79,  41,   4,  87, 107, 114,  20,\n",
    "         2, 110,  84,  23,  58,   1,  60,  56,  10,  94,  49,  74,   0,\n",
    "        92,  91,  18,  61,  43,  45, 108,  78, 118,  62,   8,   5,  46,\n",
    "         3,  47,  48,  53,  42, 112,  73]\n",
    "select_cols = [_ for _ in range(k) if _ not in exclude_idx]\n",
    "X = df_cnad.iloc[:,select_cols].values\n",
    "bm_names = df_cnad.columns[select_cols].tolist()\n",
    "y = df_cnad[\"DX\"].map({\"Dementia\":1, \"CN\":0})\n",
    "mm_fit = mixture_model.fit_all_gmm_models\n",
    "mixture_models = mm_fit(X, y)\n",
    "L_yes = np.zeros(X.shape)\n",
    "L_no = np.zeros(X.shape)\n",
    "for i in range(len(select_cols)):\n",
    "    L_no[:, i], L_yes[:, i] = mixture_models[i].pdf(None, X[:, i])\n",
    "\n",
    "L_no = process_L(L_no)\n",
    "L_yes = process_L(L_yes)"
   ]
  },
  {
   "cell_type": "markdown",
   "id": "e8d97228",
   "metadata": {},
   "source": [
    "### Create a SuStaIn object to call the associated methods"
   ]
  },
  {
   "cell_type": "code",
   "execution_count": 15,
   "id": "b94e0887",
   "metadata": {},
   "outputs": [],
   "source": [
    "# Create the SuStaIn object for the sEBM model\n",
    "stage_sizes = [12,12,12,12,12]\n",
    "N_startpoints           = 25\n",
    "N_S_max                 = 3\n",
    "rep = 20\n",
    "N_iterations_MCMC_init = int(2e4)\n",
    "N_iterations_MCMC       = int(5e5)  #Generally recommend either 1e5 or 1e6 (the latter may be slow though) in practice\n",
    "n_stages = 5\n",
    "min_clust_size = 8\n",
    "p_absorb = 0.3\n",
    "SuStaInLabels = df_cnad.columns[select_cols].tolist()\n",
    "dataset_name            = 'sim_tadpole_x'\n",
    "output_dir              = '/home/rtandon32/ebm/s-SuStain-outputs'\n",
    "sustainType             = 'mixture_GMM'\n",
    "output_folder           = os.path.join(output_dir, dataset_name + '_' + sustainType)\n",
    "use_parallel_startpoints = True\n",
    "sustain = sEBMSustain(L_yes, L_no, n_stages, stage_sizes, min_clust_size, p_absorb, rep, SuStaInLabels, N_startpoints, N_S_max, N_iterations_MCMC_init, N_iterations_MCMC, output_folder, dataset_name, use_parallel_startpoints)"
   ]
  },
  {
   "cell_type": "markdown",
   "id": "fab7c0b2",
   "metadata": {},
   "source": [
    "### Get the prob mat for the mci subjects"
   ]
  },
  {
   "cell_type": "code",
   "execution_count": 16,
   "id": "3d669a02",
   "metadata": {},
   "outputs": [],
   "source": [
    "# Get the prob mat for the mci subjects\n",
    "X_mci = df_mci.iloc[:,select_cols].values\n",
    "prob_mat_mci = mixture_model.get_prob_mat(X_mci, mixture_models)\n",
    "L_no_mci = prob_mat_mci[:,:,0]\n",
    "L_yes_mci = prob_mat_mci[:,:,1]\n",
    "L_no_mci = process_L(L_no_mci)\n",
    "L_yes_mci = process_L(L_yes_mci)"
   ]
  },
  {
   "cell_type": "markdown",
   "id": "b45d7d20",
   "metadata": {},
   "source": [
    "### Subtype and Stage the MCI subjects"
   ]
  },
  {
   "cell_type": "code",
   "execution_count": 17,
   "id": "46369ce6",
   "metadata": {},
   "outputs": [],
   "source": [
    "# Subtype and Stage the MCI subjects\n",
    "last_N = 400000\n",
    "N_samples = 1000\n",
    "sustainData_newData = sEBMSustainData(L_yes_mci, L_no_mci, n_stages)\n",
    "samples_sequence = pkl[\"samples_sequence\"][:,:,-last_N:]\n",
    "samples_f = pkl[\"samples_f\"][:,-last_N:]\n",
    "shape_seq = pkl[\"shape_seq\"]\n",
    "temp_mean_f = np.mean(samples_f, axis=1)\n",
    "ix = np.argsort(temp_mean_f)[::-1]\n",
    "\n",
    "ml_subtype_mci, \\\n",
    "prob_ml_subtype_mci, \\\n",
    "ml_stage_mci, \\\n",
    "prob_ml_stage_mci, \\\n",
    "prob_subtype_mci, \\\n",
    "prob_stage_mci, \\\n",
    "prob_subtype_stage_mci = sustain.subtype_and_stage_individuals(sustainData_newData, shape_seq, samples_sequence, samples_f, N_samples)\n"
   ]
  },
  {
   "cell_type": "code",
   "execution_count": 18,
   "id": "0f065383",
   "metadata": {},
   "outputs": [
    {
     "data": {
      "text/plain": [
       "{0.0: 23, 1.0: 246, 2.0: 85, 3.0: 101, 4.0: 92, 5.0: 4}"
      ]
     },
     "execution_count": 18,
     "metadata": {},
     "output_type": "execute_result"
    }
   ],
   "source": [
    "unique, counts = np.unique(ml_stage_mci, return_counts=True)\n",
    "dict(zip(unique, counts))"
   ]
  },
  {
   "cell_type": "markdown",
   "id": "50395ffd",
   "metadata": {},
   "source": [
    "### Subtype and Stage CN/AD data"
   ]
  },
  {
   "cell_type": "code",
   "execution_count": 19,
   "id": "768c0d9b",
   "metadata": {},
   "outputs": [],
   "source": [
    "# subtype and stage CN/AD data\n",
    "\n",
    "sustainData_cnad = sEBMSustainData(L_yes, L_no, n_stages)\n",
    "samples_sequence = pkl[\"samples_sequence\"][:,:,-last_N:]\n",
    "samples_f = pkl[\"samples_f\"][:,-last_N:]\n",
    "shape_seq = pkl[\"shape_seq\"]\n",
    "\n",
    "ml_subtype_cnad, \\\n",
    "prob_ml_subtype_cnad, \\\n",
    "ml_stage_cnad, \\\n",
    "prob_ml_stage_cnad, \\\n",
    "prob_subtype_cnad, \\\n",
    "prob_stage_cnad, \\\n",
    "prob_subtype_stage_cnad = sustain.subtype_and_stage_individuals(sustainData_cnad, shape_seq, samples_sequence, samples_f, N_samples)\n"
   ]
  },
  {
   "cell_type": "code",
   "execution_count": 20,
   "id": "092438e3",
   "metadata": {},
   "outputs": [
    {
     "name": "stdout",
     "output_type": "stream",
     "text": [
      "CN/AD fractions across subtypes : \n",
      " {0.0: 0.3211009174311927, 1.0: 0.29357798165137616, 2.0: 0.2874617737003058, 3.0: 0.09785932721712538}\n",
      "MCI fractions across subtypes : \n",
      " {0.0: 0.33030852994555354, 1.0: 0.3448275862068966, 2.0: 0.12341197822141561, 3.0: 0.2014519056261343}\n"
     ]
    }
   ],
   "source": [
    "n_cnad = ml_subtype_cnad.shape[0]\n",
    "n_mci = ml_subtype_mci.shape[0]\n",
    "unique_cnad, counts_cnad = np.unique(ml_subtype_cnad, return_counts=True)\n",
    "unique_mci, counts_mci = np.unique(ml_subtype_mci, return_counts=True)\n",
    "\n",
    "fraction_cnad = {}\n",
    "dict_cnad = dict(zip(unique_cnad, counts_cnad))\n",
    "for k, v in dict_cnad.items():\n",
    "    fraction_cnad[k] = v/n_cnad\n",
    "    \n",
    "fraction_mci = {}\n",
    "dict_mci = dict(zip(unique_mci, counts_mci))\n",
    "for k, v in dict_mci.items():\n",
    "    fraction_mci[k] = v/n_mci\n",
    "    \n",
    "print(\"CN/AD fractions across subtypes : \\n\", fraction_cnad)\n",
    "print(\"MCI fractions across subtypes : \\n\", fraction_mci)"
   ]
  },
  {
   "cell_type": "markdown",
   "id": "e8ed0f7e",
   "metadata": {},
   "source": [
    "### Get subjects for a givensubtype"
   ]
  },
  {
   "cell_type": "markdown",
   "id": "7284479f",
   "metadata": {},
   "source": [
    "### Prepare final dataframe which has subtype, stage, PTID, DX, and EXAMDATE for all subjects"
   ]
  },
  {
   "cell_type": "code",
   "execution_count": 21,
   "id": "c0e7ba89",
   "metadata": {},
   "outputs": [],
   "source": [
    "# DataFrame for CN/AD subjects\n",
    "array_subtype_stage_cnad = np.hstack([ml_subtype_cnad, ml_stage_cnad, y.values.reshape(-1,1)])\n",
    "cnad_solved = pd.DataFrame(data=array_subtype_stage_cnad, columns=[\"subtype\", \"stage\", \"DX\"])\n",
    "cnad_solved[[\"PTID\", \"EXAMDATE\"]] = df_cnad[[\"PTID\", \"EXAMDATE\"]]"
   ]
  },
  {
   "cell_type": "code",
   "execution_count": 22,
   "id": "d0fd62f4",
   "metadata": {},
   "outputs": [],
   "source": [
    "# DataFrame for MCI subjects\n",
    "array_subtype_stage_mci = np.hstack([ml_subtype_mci, ml_stage_mci])\n",
    "mci_solved = pd.DataFrame(data=array_subtype_stage_mci, columns=[\"subtype\", \"stage\"])\n",
    "mci_solved[\"DX\"] = 2.0\n",
    "mci_solved[[\"PTID\", \"EXAMDATE\"]] = df_mci[[\"PTID\", \"EXAMDATE\"]]\n",
    "final_df = pd.concat([cnad_solved, mci_solved], axis=0)"
   ]
  },
  {
   "cell_type": "code",
   "execution_count": 23,
   "id": "54002be1",
   "metadata": {},
   "outputs": [],
   "source": [
    "final_df[\"DX\"] = final_df[\"DX\"].map({0.0:\"Controls\", 1.0:\"AD\", 2.0:\"MCI\"})"
   ]
  },
  {
   "cell_type": "code",
   "execution_count": 43,
   "id": "e6a644d2",
   "metadata": {},
   "outputs": [],
   "source": [
    "subtype_select = 3.0\n",
    "final_df_grouped = final_df[final_df[\"subtype\"] == subtype_select].groupby([\"stage\", \"DX\"]).size().reset_index()\n",
    "final_df_pivot = final_df_grouped.pivot(columns=\"DX\", values=0, index=\"stage\").fillna(0)\n",
    "final_df_pivot /= final_df_pivot.sum(axis=0)\n",
    "counts_bar = final_df_pivot.melt(ignore_index=False, value_vars=[\"Controls\",\"AD\",\"MCI\"]).reset_index()"
   ]
  },
  {
   "cell_type": "code",
   "execution_count": 44,
   "id": "25f358f4",
   "metadata": {},
   "outputs": [
    {
     "data": {
      "text/html": [
       "<div>\n",
       "<style scoped>\n",
       "    .dataframe tbody tr th:only-of-type {\n",
       "        vertical-align: middle;\n",
       "    }\n",
       "\n",
       "    .dataframe tbody tr th {\n",
       "        vertical-align: top;\n",
       "    }\n",
       "\n",
       "    .dataframe thead th {\n",
       "        text-align: right;\n",
       "    }\n",
       "</style>\n",
       "<table border=\"1\" class=\"dataframe\">\n",
       "  <thead>\n",
       "    <tr style=\"text-align: right;\">\n",
       "      <th>DX</th>\n",
       "      <th>AD</th>\n",
       "      <th>Controls</th>\n",
       "      <th>MCI</th>\n",
       "    </tr>\n",
       "    <tr>\n",
       "      <th>stage</th>\n",
       "      <th></th>\n",
       "      <th></th>\n",
       "      <th></th>\n",
       "    </tr>\n",
       "  </thead>\n",
       "  <tbody>\n",
       "    <tr>\n",
       "      <th>1.0</th>\n",
       "      <td>0.0</td>\n",
       "      <td>5.0</td>\n",
       "      <td>80.0</td>\n",
       "    </tr>\n",
       "    <tr>\n",
       "      <th>2.0</th>\n",
       "      <td>2.0</td>\n",
       "      <td>9.0</td>\n",
       "      <td>15.0</td>\n",
       "    </tr>\n",
       "    <tr>\n",
       "      <th>3.0</th>\n",
       "      <td>3.0</td>\n",
       "      <td>3.0</td>\n",
       "      <td>12.0</td>\n",
       "    </tr>\n",
       "    <tr>\n",
       "      <th>4.0</th>\n",
       "      <td>10.0</td>\n",
       "      <td>0.0</td>\n",
       "      <td>4.0</td>\n",
       "    </tr>\n",
       "  </tbody>\n",
       "</table>\n",
       "</div>"
      ],
      "text/plain": [
       "DX       AD  Controls   MCI\n",
       "stage                      \n",
       "1.0     0.0       5.0  80.0\n",
       "2.0     2.0       9.0  15.0\n",
       "3.0     3.0       3.0  12.0\n",
       "4.0    10.0       0.0   4.0"
      ]
     },
     "execution_count": 44,
     "metadata": {},
     "output_type": "execute_result"
    }
   ],
   "source": [
    "final_df_grouped.pivot(columns=\"DX\", values=0, index=\"stage\").fillna(0)"
   ]
  },
  {
   "cell_type": "code",
   "execution_count": 45,
   "id": "0303c1fe",
   "metadata": {},
   "outputs": [
    {
     "data": {
      "image/png": "[encoded data removed]",
      "text/plain": [
       "<Figure size 600x300 with 1 Axes>"
      ]
     },
     "metadata": {},
     "output_type": "display_data"
    }
   ],
   "source": [
    "fig, ax = plt.subplots(figsize=(6,3))\n",
    "hue_order=[\"Controls\", \"MCI\", \"AD\"]\n",
    "palette = [\"C0\", \"C2\",\"C1\"]\n",
    "sns.barplot(data=counts_bar, x=\"stage\", y=\"value\", \n",
    "            hue=\"DX\",ax=ax, hue_order=hue_order, \n",
    "            palette=palette,edgecolor=\"k\",linewidth=1)\n",
    "ax.set_xlabel(\"Disease (sEBM) stage\", fontsize=18)\n",
    "ax.set_ylabel(\"Fraction\", fontsize=18)\n",
    "ax.tick_params(axis='both', which='major', labelsize=12)\n",
    "ax.legend(title=\"\", fontsize=15, framealpha=0.0, loc=(0.9,0.6))\n",
    "ax.set_title(\"Subtype {}\".format(int(subtype_select)))\n",
    "# ax.text(s=r\"p-value ($\\chi^{2}$) < 1 x $10^{-18}$ \",x=1.0,y=0.5, fontsize=15)\n",
    "sns.despine()\n",
    "plt.tight_layout()\n",
    "fig_path = \"/nethome/rtandon32/ebm/s-SuStain-outputs/sim_tadpole_w_sEBM_mixture_GMM/figures\"\n",
    "fname = \"stage_hist_subtype_{}.png\".format(int(subtype_select))\n",
    "fig.savefig(os.path.join(fig_path, fname), dpi=300, transparent=True)"
   ]
  },
  {
   "cell_type": "markdown",
   "id": "77d8ffc9",
   "metadata": {},
   "source": [
    "# Progression curves"
   ]
  },
  {
   "cell_type": "code",
   "execution_count": 46,
   "id": "91caf2ce",
   "metadata": {},
   "outputs": [],
   "source": [
    "cmap = cm.get_cmap('autumn_r')\n",
    "delta_years = list(range(5,8))\n",
    "colors = [cmap(_) for _ in np.linspace(0.15,1,len(delta_years))]\n",
    "d_colors = dict(zip(delta_years, colors))"
   ]
  },
  {
   "cell_type": "markdown",
   "id": "e2e95bcf",
   "metadata": {},
   "source": [
    "## Prepare longitudinal data"
   ]
  },
  {
   "cell_type": "code",
   "execution_count": 47,
   "id": "8aecfec2",
   "metadata": {},
   "outputs": [],
   "source": [
    "def prepare_logitudinal_data(first_visit_df):\n",
    "    # Read the MRI data across all subjects\n",
    "    path = \"/nethome/rtandon32/ebm/ebm_experiments/experiment_scripts/real_data/dfMri_D12_ebm.csv\"\n",
    "    df = pd.read_csv(path)\n",
    "    sid = df[\"Measure:volume\"].apply(lambda x: x.split(\"-\",1))\n",
    "    df_sid = pd.DataFrame(sid.tolist(), columns=[\"sid\", \"time\"])\n",
    "    sid_time = df_sid[\"time\"].apply(lambda x: x.split(\"_\",1))\n",
    "    df_sid_time = pd.DataFrame(sid_time.tolist(), columns=[\"date\", \"time\"])\n",
    "    df_concat = pd.concat([df_sid, df_sid_time], axis=1)[[\"sid\", \"date\"]]\n",
    "    df_concat[\"date\"] = pd.to_datetime(df_concat[\"date\"])\n",
    "\n",
    "    # Read the ADNIMERGE file     \n",
    "    adnimerge_path = \"/nethome/rtandon32/ebm/ebm_experiments/experiment_scripts/real_data/ADNIMERGE.csv\"\n",
    "    df_adnimerge =pd.read_csv(adnimerge_path)[[\"PTID\", \"DX_bl\", \"DX\", \"EXAMDATE\", \"VISCODE\", \"AGE\",\"PTGENDER\",\"PTEDUCAT\", \"APOE4\"]]\n",
    "    df_adnimerge[\"EXAMDATE\"] = pd.to_datetime(df_adnimerge[\"EXAMDATE\"])\n",
    "    merged_df = df_adnimerge.merge(df_concat, left_on=[\"PTID\", \"EXAMDATE\"], right_on=[\"sid\", \"date\"])\n",
    "    \n",
    "    # longitudinal_records\n",
    "    longitudinal_records = df_adnimerge.sort_values([\"PTID\", \"EXAMDATE\"]).set_index(\"PTID\").dropna(subset=[\"DX\"])\n",
    "    d = {}\n",
    "    for i, row in first_visit_df.iterrows():\n",
    "        ptid = row[\"PTID\"]\n",
    "        d[ptid] = longitudinal_records.loc[ptid, :]\n",
    "    return d, merged_df\n",
    "    "
   ]
  },
  {
   "cell_type": "code",
   "execution_count": 48,
   "id": "cbc291ac",
   "metadata": {},
   "outputs": [
    {
     "name": "stderr",
     "output_type": "stream",
     "text": [
      "<ipython-input-47-2b455cddab5a>:14: DtypeWarning: Columns (18,19,20,103,104) have mixed types. Specify dtype option on import or set low_memory=False.\n",
      "  df_adnimerge =pd.read_csv(adnimerge_path)[[\"PTID\", \"DX_bl\", \"DX\", \"EXAMDATE\", \"VISCODE\", \"AGE\",\"PTGENDER\",\"PTEDUCAT\", \"APOE4\"]]\n"
     ]
    }
   ],
   "source": [
    "d, merged_df = prepare_logitudinal_data(final_df)\n",
    "mci_demographics = merged_df[merged_df[\"DX\"].isin([\"MCI\"])].sort_values([\"PTID\", \"EXAMDATE\"]).drop_duplicates(\"PTID\", keep=\"first\")\n",
    "cn_demographics = merged_df[merged_df[\"DX\"].isin([\"CN\"])].sort_values([\"PTID\", \"EXAMDATE\"]).drop_duplicates(\"PTID\", keep=\"first\")"
   ]
  },
  {
   "cell_type": "code",
   "execution_count": 65,
   "id": "2a5cefcd",
   "metadata": {},
   "outputs": [],
   "source": [
    "Su = 0.0\n",
    "mci_subtype = mci_solved[mci_solved[\"subtype\"]==Su]\n",
    "fraction = mci_subtype.shape[0]/mci_solved.shape[0]\n",
    "cox_mci = mci_demographics[mci_demographics[\"PTID\"].isin(mci_subtype[\"PTID\"])]\n",
    "dict_stage = dict(zip(mci_subtype[\"PTID\"],mci_subtype[\"stage\"]))"
   ]
  },
  {
   "cell_type": "code",
   "execution_count": 66,
   "id": "66362997",
   "metadata": {
    "scrolled": true
   },
   "outputs": [
    {
     "name": "stderr",
     "output_type": "stream",
     "text": [
      "<ipython-input-66-73d2a169fe0c>:34: SettingWithCopyWarning: \n",
      "A value is trying to be set on a copy of a slice from a DataFrame.\n",
      "Try using .loc[row_indexer,col_indexer] = value instead\n",
      "\n",
      "See the caveats in the documentation: https://pandas.pydata.org/pandas-docs/stable/user_guide/indexing.html#returning-a-view-versus-a-copy\n",
      "  mci_subtype[\"convert\"] = mci_subtype[\"PTID\"].map(d2)\n",
      "<ipython-input-66-73d2a169fe0c>:58: SettingWithCopyWarning: \n",
      "A value is trying to be set on a copy of a slice from a DataFrame.\n",
      "Try using .loc[row_indexer,col_indexer] = value instead\n",
      "\n",
      "See the caveats in the documentation: https://pandas.pydata.org/pandas-docs/stable/user_guide/indexing.html#returning-a-view-versus-a-copy\n",
      "  cox_mci[\"convert\"] = cox_mci[\"PTID\"].map(d2)\n",
      "<ipython-input-66-73d2a169fe0c>:59: SettingWithCopyWarning: \n",
      "A value is trying to be set on a copy of a slice from a DataFrame.\n",
      "Try using .loc[row_indexer,col_indexer] = value instead\n",
      "\n",
      "See the caveats in the documentation: https://pandas.pydata.org/pandas-docs/stable/user_guide/indexing.html#returning-a-view-versus-a-copy\n",
      "  cox_mci[\"time\"] = cox_mci[\"PTID\"].map(dtd)\n",
      "<ipython-input-66-73d2a169fe0c>:60: SettingWithCopyWarning: \n",
      "A value is trying to be set on a copy of a slice from a DataFrame.\n",
      "Try using .loc[row_indexer,col_indexer] = value instead\n",
      "\n",
      "See the caveats in the documentation: https://pandas.pydata.org/pandas-docs/stable/user_guide/indexing.html#returning-a-view-versus-a-copy\n",
      "  cox_mci[\"subtype\"] = Su\n",
      "<ipython-input-66-73d2a169fe0c>:61: SettingWithCopyWarning: \n",
      "A value is trying to be set on a copy of a slice from a DataFrame.\n",
      "Try using .loc[row_indexer,col_indexer] = value instead\n",
      "\n",
      "See the caveats in the documentation: https://pandas.pydata.org/pandas-docs/stable/user_guide/indexing.html#returning-a-view-versus-a-copy\n",
      "  cox_mci[\"stages_inferred\"] = cox_mci[\"PTID\"].map(dict_stage)\n",
      "<ipython-input-66-73d2a169fe0c>:34: SettingWithCopyWarning: \n",
      "A value is trying to be set on a copy of a slice from a DataFrame.\n",
      "Try using .loc[row_indexer,col_indexer] = value instead\n",
      "\n",
      "See the caveats in the documentation: https://pandas.pydata.org/pandas-docs/stable/user_guide/indexing.html#returning-a-view-versus-a-copy\n",
      "  mci_subtype[\"convert\"] = mci_subtype[\"PTID\"].map(d2)\n",
      "<ipython-input-66-73d2a169fe0c>:58: SettingWithCopyWarning: \n",
      "A value is trying to be set on a copy of a slice from a DataFrame.\n",
      "Try using .loc[row_indexer,col_indexer] = value instead\n",
      "\n",
      "See the caveats in the documentation: https://pandas.pydata.org/pandas-docs/stable/user_guide/indexing.html#returning-a-view-versus-a-copy\n",
      "  cox_mci[\"convert\"] = cox_mci[\"PTID\"].map(d2)\n",
      "<ipython-input-66-73d2a169fe0c>:59: SettingWithCopyWarning: \n",
      "A value is trying to be set on a copy of a slice from a DataFrame.\n",
      "Try using .loc[row_indexer,col_indexer] = value instead\n",
      "\n",
      "See the caveats in the documentation: https://pandas.pydata.org/pandas-docs/stable/user_guide/indexing.html#returning-a-view-versus-a-copy\n",
      "  cox_mci[\"time\"] = cox_mci[\"PTID\"].map(dtd)\n",
      "<ipython-input-66-73d2a169fe0c>:60: SettingWithCopyWarning: \n",
      "A value is trying to be set on a copy of a slice from a DataFrame.\n",
      "Try using .loc[row_indexer,col_indexer] = value instead\n",
      "\n",
      "See the caveats in the documentation: https://pandas.pydata.org/pandas-docs/stable/user_guide/indexing.html#returning-a-view-versus-a-copy\n",
      "  cox_mci[\"subtype\"] = Su\n",
      "<ipython-input-66-73d2a169fe0c>:61: SettingWithCopyWarning: \n",
      "A value is trying to be set on a copy of a slice from a DataFrame.\n",
      "Try using .loc[row_indexer,col_indexer] = value instead\n",
      "\n",
      "See the caveats in the documentation: https://pandas.pydata.org/pandas-docs/stable/user_guide/indexing.html#returning-a-view-versus-a-copy\n",
      "  cox_mci[\"stages_inferred\"] = cox_mci[\"PTID\"].map(dict_stage)\n",
      "<ipython-input-66-73d2a169fe0c>:34: SettingWithCopyWarning: \n",
      "A value is trying to be set on a copy of a slice from a DataFrame.\n",
      "Try using .loc[row_indexer,col_indexer] = value instead\n",
      "\n",
      "See the caveats in the documentation: https://pandas.pydata.org/pandas-docs/stable/user_guide/indexing.html#returning-a-view-versus-a-copy\n",
      "  mci_subtype[\"convert\"] = mci_subtype[\"PTID\"].map(d2)\n",
      "<ipython-input-66-73d2a169fe0c>:58: SettingWithCopyWarning: \n",
      "A value is trying to be set on a copy of a slice from a DataFrame.\n",
      "Try using .loc[row_indexer,col_indexer] = value instead\n",
      "\n",
      "See the caveats in the documentation: https://pandas.pydata.org/pandas-docs/stable/user_guide/indexing.html#returning-a-view-versus-a-copy\n",
      "  cox_mci[\"convert\"] = cox_mci[\"PTID\"].map(d2)\n",
      "<ipython-input-66-73d2a169fe0c>:59: SettingWithCopyWarning: \n",
      "A value is trying to be set on a copy of a slice from a DataFrame.\n",
      "Try using .loc[row_indexer,col_indexer] = value instead\n",
      "\n",
      "See the caveats in the documentation: https://pandas.pydata.org/pandas-docs/stable/user_guide/indexing.html#returning-a-view-versus-a-copy\n",
      "  cox_mci[\"time\"] = cox_mci[\"PTID\"].map(dtd)\n",
      "<ipython-input-66-73d2a169fe0c>:60: SettingWithCopyWarning: \n",
      "A value is trying to be set on a copy of a slice from a DataFrame.\n",
      "Try using .loc[row_indexer,col_indexer] = value instead\n",
      "\n",
      "See the caveats in the documentation: https://pandas.pydata.org/pandas-docs/stable/user_guide/indexing.html#returning-a-view-versus-a-copy\n",
      "  cox_mci[\"subtype\"] = Su\n",
      "<ipython-input-66-73d2a169fe0c>:61: SettingWithCopyWarning: \n",
      "A value is trying to be set on a copy of a slice from a DataFrame.\n",
      "Try using .loc[row_indexer,col_indexer] = value instead\n",
      "\n",
      "See the caveats in the documentation: https://pandas.pydata.org/pandas-docs/stable/user_guide/indexing.html#returning-a-view-versus-a-copy\n",
      "  cox_mci[\"stages_inferred\"] = cox_mci[\"PTID\"].map(dict_stage)\n",
      "<ipython-input-66-73d2a169fe0c>:34: SettingWithCopyWarning: \n",
      "A value is trying to be set on a copy of a slice from a DataFrame.\n",
      "Try using .loc[row_indexer,col_indexer] = value instead\n",
      "\n",
      "See the caveats in the documentation: https://pandas.pydata.org/pandas-docs/stable/user_guide/indexing.html#returning-a-view-versus-a-copy\n",
      "  mci_subtype[\"convert\"] = mci_subtype[\"PTID\"].map(d2)\n",
      "<ipython-input-66-73d2a169fe0c>:58: SettingWithCopyWarning: \n",
      "A value is trying to be set on a copy of a slice from a DataFrame.\n",
      "Try using .loc[row_indexer,col_indexer] = value instead\n",
      "\n",
      "See the caveats in the documentation: https://pandas.pydata.org/pandas-docs/stable/user_guide/indexing.html#returning-a-view-versus-a-copy\n",
      "  cox_mci[\"convert\"] = cox_mci[\"PTID\"].map(d2)\n",
      "<ipython-input-66-73d2a169fe0c>:59: SettingWithCopyWarning: \n",
      "A value is trying to be set on a copy of a slice from a DataFrame.\n",
      "Try using .loc[row_indexer,col_indexer] = value instead\n",
      "\n",
      "See the caveats in the documentation: https://pandas.pydata.org/pandas-docs/stable/user_guide/indexing.html#returning-a-view-versus-a-copy\n",
      "  cox_mci[\"time\"] = cox_mci[\"PTID\"].map(dtd)\n",
      "<ipython-input-66-73d2a169fe0c>:60: SettingWithCopyWarning: \n",
      "A value is trying to be set on a copy of a slice from a DataFrame.\n",
      "Try using .loc[row_indexer,col_indexer] = value instead\n",
      "\n",
      "See the caveats in the documentation: https://pandas.pydata.org/pandas-docs/stable/user_guide/indexing.html#returning-a-view-versus-a-copy\n",
      "  cox_mci[\"subtype\"] = Su\n",
      "<ipython-input-66-73d2a169fe0c>:61: SettingWithCopyWarning: \n",
      "A value is trying to be set on a copy of a slice from a DataFrame.\n",
      "Try using .loc[row_indexer,col_indexer] = value instead\n",
      "\n",
      "See the caveats in the documentation: https://pandas.pydata.org/pandas-docs/stable/user_guide/indexing.html#returning-a-view-versus-a-copy\n",
      "  cox_mci[\"stages_inferred\"] = cox_mci[\"PTID\"].map(dict_stage)\n",
      "<ipython-input-66-73d2a169fe0c>:34: SettingWithCopyWarning: \n",
      "A value is trying to be set on a copy of a slice from a DataFrame.\n",
      "Try using .loc[row_indexer,col_indexer] = value instead\n",
      "\n",
      "See the caveats in the documentation: https://pandas.pydata.org/pandas-docs/stable/user_guide/indexing.html#returning-a-view-versus-a-copy\n",
      "  mci_subtype[\"convert\"] = mci_subtype[\"PTID\"].map(d2)\n",
      "<ipython-input-66-73d2a169fe0c>:58: SettingWithCopyWarning: \n",
      "A value is trying to be set on a copy of a slice from a DataFrame.\n",
      "Try using .loc[row_indexer,col_indexer] = value instead\n",
      "\n",
      "See the caveats in the documentation: https://pandas.pydata.org/pandas-docs/stable/user_guide/indexing.html#returning-a-view-versus-a-copy\n",
      "  cox_mci[\"convert\"] = cox_mci[\"PTID\"].map(d2)\n",
      "<ipython-input-66-73d2a169fe0c>:59: SettingWithCopyWarning: \n",
      "A value is trying to be set on a copy of a slice from a DataFrame.\n",
      "Try using .loc[row_indexer,col_indexer] = value instead\n",
      "\n",
      "See the caveats in the documentation: https://pandas.pydata.org/pandas-docs/stable/user_guide/indexing.html#returning-a-view-versus-a-copy\n",
      "  cox_mci[\"time\"] = cox_mci[\"PTID\"].map(dtd)\n",
      "<ipython-input-66-73d2a169fe0c>:60: SettingWithCopyWarning: \n",
      "A value is trying to be set on a copy of a slice from a DataFrame.\n",
      "Try using .loc[row_indexer,col_indexer] = value instead\n",
      "\n",
      "See the caveats in the documentation: https://pandas.pydata.org/pandas-docs/stable/user_guide/indexing.html#returning-a-view-versus-a-copy\n",
      "  cox_mci[\"subtype\"] = Su\n",
      "<ipython-input-66-73d2a169fe0c>:61: SettingWithCopyWarning: \n",
      "A value is trying to be set on a copy of a slice from a DataFrame.\n",
      "Try using .loc[row_indexer,col_indexer] = value instead\n",
      "\n",
      "See the caveats in the documentation: https://pandas.pydata.org/pandas-docs/stable/user_guide/indexing.html#returning-a-view-versus-a-copy\n",
      "  cox_mci[\"stages_inferred\"] = cox_mci[\"PTID\"].map(dict_stage)\n"
     ]
    },
    {
     "data": {
      "image/png": "[encoded data removed]",
      "text/plain": [
       "<Figure size 500x500 with 1 Axes>"
      ]
     },
     "metadata": {},
     "output_type": "display_data"
    }
   ],
   "source": [
    "cmap = cm.get_cmap('autumn_r')\n",
    "fig, ax = plt.subplots(1,1, figsize=(5,5), constrained_layout=True)\n",
    "delta_years = list(range(3,8))\n",
    "colors = [cmap(_) for _ in np.linspace(0.15,1,len(delta_years))]\n",
    "d_colors = dict(zip(delta_years, colors))\n",
    "save_path = \"/nethome/rtandon32/ebm/s-SuStain-outputs/sim_tadpole_w_sEBM_mixture_GMM/figures\"\n",
    "\n",
    "for dy in delta_years:\n",
    "    d2 = {}\n",
    "    dtd = {}\n",
    "    for i, row in mci_subtype.iterrows():\n",
    "        ptid = row[\"PTID\"]\n",
    "        examdate = row[\"EXAMDATE\"]\n",
    "        examdate_max = examdate + relativedelta(years=dy, months=0)\n",
    "        ptid_df = d[ptid].sort_values([\"EXAMDATE\"])\n",
    "        ptid_forward_df = ptid_df[(ptid_df[\"EXAMDATE\"] >= examdate) \n",
    "                            & (ptid_df[\"EXAMDATE\"] <= examdate_max)]\n",
    "        srs = ptid_forward_df[\"DX\"]\n",
    "        if type(srs) is str:\n",
    "            cnvrt = 0\n",
    "        else:\n",
    "            first_dx = srs[0]\n",
    "            assert first_dx == \"MCI\"\n",
    "            bool_srs = srs == \"Dementia\"\n",
    "            cnvrt = 1*any(bool_srs)\n",
    "            if cnvrt:\n",
    "                last_idx = np.where(bool_srs.values)[0][0]\n",
    "            else:\n",
    "                last_idx = bool_srs.shape[0]-1\n",
    "            time_delta = ptid_forward_df[\"EXAMDATE\"][last_idx] - ptid_forward_df[\"EXAMDATE\"][0]\n",
    "        dtd[ptid] = time_delta.days\n",
    "        d2[ptid] = cnvrt\n",
    "\n",
    "    mci_subtype[\"convert\"] = mci_subtype[\"PTID\"].map(d2)\n",
    "    df_convert = mci_subtype[mci_subtype[\"convert\"]==1]\n",
    "    dfc = df_convert\n",
    "    # EBM stages of controls who converted at a future time point\n",
    "    a = Counter(dfc[\"stage\"])\n",
    "    # EBM stages of all controls regardless of whether they converted or not \n",
    "    b = Counter(mci_subtype[\"stage\"])\n",
    "    d3 = {}\n",
    "    for i in range(6):\n",
    "        if i in a:\n",
    "            num = a[i]\n",
    "        else:\n",
    "            num = 0\n",
    "        if i in b:\n",
    "            den = b[i]\n",
    "        else:\n",
    "            den = np.nan\n",
    "        r = num/(den)\n",
    "        d3[i]=r\n",
    "    # print(stats.kendalltau(list(d3.keys()), list(d3.values())))\n",
    "    x = np.array(list(d3.keys()))\n",
    "    y = np.array(list(d3.values()))\n",
    "    ax.plot(x, y, label=str(dy) + \" years\", marker=\"o\", color=d_colors[dy])\n",
    "    ax.set_xlabel(\"sEBM stage\", fontsize=15)\n",
    "    cox_mci[\"convert\"] = cox_mci[\"PTID\"].map(d2)\n",
    "    cox_mci[\"time\"] = cox_mci[\"PTID\"].map(dtd)\n",
    "    cox_mci[\"subtype\"] = Su\n",
    "    cox_mci[\"stages_inferred\"] = cox_mci[\"PTID\"].map(dict_stage)\n",
    "    fname = \"cox_df_subtype_{}_delta_yrs_{}.csv\".format(Su,dy)\n",
    "    cox_mci.to_csv(os.path.join(save_path,fname))\n",
    "    \n",
    "ax.set_ylabel(\"Fraction of MCI subjects \\nconverted to AD\", fontsize=15)\n",
    "ax.set_title(\"Subtype {}, prevalence {}\".format(int(Su), np.round(fraction, 2)), \n",
    "             fontsize=15)\n",
    "ax.set_xlim([0,5])\n",
    "ax.set_ylim([0,1])\n",
    "# fig.subplots_adjust(right=0.5)\n",
    "plt.xticks(fontsize=15)\n",
    "plt.tight_layout()\n",
    "# plt.xlim([0,6])\n",
    "plt.yticks(fontsize=15)\n",
    "plt.legend(fontsize=15, loc=2)\n",
    "fig_name = \"mci_subtype_{}.png\".format(Su)\n",
    "fig.savefig(os.path.join(save_path, fig_name), dpi=300)\n"
   ]
  },
  {
   "cell_type": "markdown",
   "id": "e0d644a7",
   "metadata": {},
   "source": [
    "## Controls progression"
   ]
  },
  {
   "cell_type": "code",
   "execution_count": 67,
   "id": "54f1e06d",
   "metadata": {},
   "outputs": [
    {
     "name": "stderr",
     "output_type": "stream",
     "text": [
      "<ipython-input-47-2b455cddab5a>:14: DtypeWarning: Columns (18,19,20,103,104) have mixed types. Specify dtype option on import or set low_memory=False.\n",
      "  df_adnimerge =pd.read_csv(adnimerge_path)[[\"PTID\", \"DX_bl\", \"DX\", \"EXAMDATE\", \"VISCODE\", \"AGE\",\"PTGENDER\",\"PTEDUCAT\", \"APOE4\"]]\n"
     ]
    }
   ],
   "source": [
    "d, merged_df = prepare_logitudinal_data(final_df)\n",
    "cn_demographics = merged_df[merged_df[\"DX_bl\"].isin([\"CN\"])].sort_values([\"PTID\", \"EXAMDATE\"]).drop_duplicates(\"PTID\", keep=\"first\")"
   ]
  },
  {
   "cell_type": "code",
   "execution_count": 82,
   "id": "d574d471",
   "metadata": {},
   "outputs": [],
   "source": [
    "Su = 3.0\n",
    "cn_subtype = cnad_solved[(cnad_solved[\"subtype\"]==Su) & (cnad_solved[\"DX\"]==0.0)]\n",
    "fraction_cn = cn_subtype.shape[0]/cnad_solved[cnad_solved[\"DX\"]==0.0].shape[0]\n",
    "cox_cn = cn_demographics[cn_demographics[\"PTID\"].isin(cn_subtype[\"PTID\"])]\n",
    "dict_stage = dict(zip(cn_subtype[\"PTID\"],cn_subtype[\"stage\"]))"
   ]
  },
  {
   "cell_type": "code",
   "execution_count": 83,
   "id": "b56f7290",
   "metadata": {},
   "outputs": [
    {
     "name": "stderr",
     "output_type": "stream",
     "text": [
      "<ipython-input-83-287efe4480af>:34: SettingWithCopyWarning: \n",
      "A value is trying to be set on a copy of a slice from a DataFrame.\n",
      "Try using .loc[row_indexer,col_indexer] = value instead\n",
      "\n",
      "See the caveats in the documentation: https://pandas.pydata.org/pandas-docs/stable/user_guide/indexing.html#returning-a-view-versus-a-copy\n",
      "  cn_subtype[\"convert\"] = cn_subtype[\"PTID\"].map(d2)\n",
      "<ipython-input-83-287efe4480af>:58: SettingWithCopyWarning: \n",
      "A value is trying to be set on a copy of a slice from a DataFrame.\n",
      "Try using .loc[row_indexer,col_indexer] = value instead\n",
      "\n",
      "See the caveats in the documentation: https://pandas.pydata.org/pandas-docs/stable/user_guide/indexing.html#returning-a-view-versus-a-copy\n",
      "  cox_cn[\"convert\"] = cox_cn[\"PTID\"].map(d2)\n",
      "<ipython-input-83-287efe4480af>:59: SettingWithCopyWarning: \n",
      "A value is trying to be set on a copy of a slice from a DataFrame.\n",
      "Try using .loc[row_indexer,col_indexer] = value instead\n",
      "\n",
      "See the caveats in the documentation: https://pandas.pydata.org/pandas-docs/stable/user_guide/indexing.html#returning-a-view-versus-a-copy\n",
      "  cox_cn[\"time\"] = cox_cn[\"PTID\"].map(dtd)\n",
      "<ipython-input-83-287efe4480af>:60: SettingWithCopyWarning: \n",
      "A value is trying to be set on a copy of a slice from a DataFrame.\n",
      "Try using .loc[row_indexer,col_indexer] = value instead\n",
      "\n",
      "See the caveats in the documentation: https://pandas.pydata.org/pandas-docs/stable/user_guide/indexing.html#returning-a-view-versus-a-copy\n",
      "  cox_cn[\"subtype\"] = Su\n",
      "<ipython-input-83-287efe4480af>:61: SettingWithCopyWarning: \n",
      "A value is trying to be set on a copy of a slice from a DataFrame.\n",
      "Try using .loc[row_indexer,col_indexer] = value instead\n",
      "\n",
      "See the caveats in the documentation: https://pandas.pydata.org/pandas-docs/stable/user_guide/indexing.html#returning-a-view-versus-a-copy\n",
      "  cox_cn[\"stages_inferred\"] = cox_cn[\"PTID\"].map(dict_stage)\n",
      "<ipython-input-83-287efe4480af>:34: SettingWithCopyWarning: \n",
      "A value is trying to be set on a copy of a slice from a DataFrame.\n",
      "Try using .loc[row_indexer,col_indexer] = value instead\n",
      "\n",
      "See the caveats in the documentation: https://pandas.pydata.org/pandas-docs/stable/user_guide/indexing.html#returning-a-view-versus-a-copy\n",
      "  cn_subtype[\"convert\"] = cn_subtype[\"PTID\"].map(d2)\n",
      "<ipython-input-83-287efe4480af>:58: SettingWithCopyWarning: \n",
      "A value is trying to be set on a copy of a slice from a DataFrame.\n",
      "Try using .loc[row_indexer,col_indexer] = value instead\n",
      "\n",
      "See the caveats in the documentation: https://pandas.pydata.org/pandas-docs/stable/user_guide/indexing.html#returning-a-view-versus-a-copy\n",
      "  cox_cn[\"convert\"] = cox_cn[\"PTID\"].map(d2)\n",
      "<ipython-input-83-287efe4480af>:59: SettingWithCopyWarning: \n",
      "A value is trying to be set on a copy of a slice from a DataFrame.\n",
      "Try using .loc[row_indexer,col_indexer] = value instead\n",
      "\n",
      "See the caveats in the documentation: https://pandas.pydata.org/pandas-docs/stable/user_guide/indexing.html#returning-a-view-versus-a-copy\n",
      "  cox_cn[\"time\"] = cox_cn[\"PTID\"].map(dtd)\n",
      "<ipython-input-83-287efe4480af>:60: SettingWithCopyWarning: \n",
      "A value is trying to be set on a copy of a slice from a DataFrame.\n",
      "Try using .loc[row_indexer,col_indexer] = value instead\n",
      "\n",
      "See the caveats in the documentation: https://pandas.pydata.org/pandas-docs/stable/user_guide/indexing.html#returning-a-view-versus-a-copy\n",
      "  cox_cn[\"subtype\"] = Su\n",
      "<ipython-input-83-287efe4480af>:61: SettingWithCopyWarning: \n",
      "A value is trying to be set on a copy of a slice from a DataFrame.\n",
      "Try using .loc[row_indexer,col_indexer] = value instead\n",
      "\n",
      "See the caveats in the documentation: https://pandas.pydata.org/pandas-docs/stable/user_guide/indexing.html#returning-a-view-versus-a-copy\n",
      "  cox_cn[\"stages_inferred\"] = cox_cn[\"PTID\"].map(dict_stage)\n",
      "<ipython-input-83-287efe4480af>:34: SettingWithCopyWarning: \n",
      "A value is trying to be set on a copy of a slice from a DataFrame.\n",
      "Try using .loc[row_indexer,col_indexer] = value instead\n",
      "\n",
      "See the caveats in the documentation: https://pandas.pydata.org/pandas-docs/stable/user_guide/indexing.html#returning-a-view-versus-a-copy\n",
      "  cn_subtype[\"convert\"] = cn_subtype[\"PTID\"].map(d2)\n",
      "<ipython-input-83-287efe4480af>:58: SettingWithCopyWarning: \n",
      "A value is trying to be set on a copy of a slice from a DataFrame.\n",
      "Try using .loc[row_indexer,col_indexer] = value instead\n",
      "\n",
      "See the caveats in the documentation: https://pandas.pydata.org/pandas-docs/stable/user_guide/indexing.html#returning-a-view-versus-a-copy\n",
      "  cox_cn[\"convert\"] = cox_cn[\"PTID\"].map(d2)\n",
      "<ipython-input-83-287efe4480af>:59: SettingWithCopyWarning: \n",
      "A value is trying to be set on a copy of a slice from a DataFrame.\n",
      "Try using .loc[row_indexer,col_indexer] = value instead\n",
      "\n",
      "See the caveats in the documentation: https://pandas.pydata.org/pandas-docs/stable/user_guide/indexing.html#returning-a-view-versus-a-copy\n",
      "  cox_cn[\"time\"] = cox_cn[\"PTID\"].map(dtd)\n",
      "<ipython-input-83-287efe4480af>:60: SettingWithCopyWarning: \n",
      "A value is trying to be set on a copy of a slice from a DataFrame.\n",
      "Try using .loc[row_indexer,col_indexer] = value instead\n",
      "\n",
      "See the caveats in the documentation: https://pandas.pydata.org/pandas-docs/stable/user_guide/indexing.html#returning-a-view-versus-a-copy\n",
      "  cox_cn[\"subtype\"] = Su\n",
      "<ipython-input-83-287efe4480af>:61: SettingWithCopyWarning: \n",
      "A value is trying to be set on a copy of a slice from a DataFrame.\n",
      "Try using .loc[row_indexer,col_indexer] = value instead\n",
      "\n",
      "See the caveats in the documentation: https://pandas.pydata.org/pandas-docs/stable/user_guide/indexing.html#returning-a-view-versus-a-copy\n",
      "  cox_cn[\"stages_inferred\"] = cox_cn[\"PTID\"].map(dict_stage)\n"
     ]
    },
    {
     "data": {
      "image/png": "[encoded data removed]",
      "text/plain": [
       "<Figure size 500x500 with 1 Axes>"
      ]
     },
     "metadata": {},
     "output_type": "display_data"
    }
   ],
   "source": [
    "cmap = cm.get_cmap('autumn_r')\n",
    "fig, ax = plt.subplots(1,1, figsize=(5,5), constrained_layout=True)\n",
    "delta_years = list(range(5,8))\n",
    "colors = [cmap(_) for _ in np.linspace(0.15,1,len(delta_years))]\n",
    "d_colors = dict(zip(delta_years, colors))\n",
    "save_path = \"/nethome/rtandon32/ebm/s-SuStain-outputs/sim_tadpole_w_sEBM_mixture_GMM/figures\"\n",
    "\n",
    "for dy in delta_years:\n",
    "    d2 = {}\n",
    "    dtd = {}\n",
    "    for i, row in cn_subtype.iterrows():\n",
    "        ptid = row[\"PTID\"]\n",
    "        examdate = row[\"EXAMDATE\"]\n",
    "        examdate_max = examdate + relativedelta(years=dy, months=0)\n",
    "        ptid_df = d[ptid].sort_values([\"EXAMDATE\"])\n",
    "        ptid_forward_df = ptid_df[(ptid_df[\"EXAMDATE\"] >= examdate) \n",
    "                            & (ptid_df[\"EXAMDATE\"] <= examdate_max)]\n",
    "        srs = ptid_forward_df[\"DX\"]\n",
    "        if type(srs) is str:\n",
    "            cnvrt = 0\n",
    "        else:\n",
    "            first_dx = srs[0]\n",
    "            assert first_dx == \"CN\"\n",
    "            bool_srs = srs != first_dx\n",
    "            cnvrt = 1*any(bool_srs)\n",
    "            if cnvrt:\n",
    "                last_idx = np.where(bool_srs.values)[0][0]\n",
    "            else:\n",
    "                last_idx = bool_srs.shape[0]-1\n",
    "            time_delta = ptid_forward_df[\"EXAMDATE\"][last_idx] - ptid_forward_df[\"EXAMDATE\"][0]\n",
    "        dtd[ptid] = time_delta.days\n",
    "        d2[ptid] = cnvrt\n",
    "\n",
    "    cn_subtype[\"convert\"] = cn_subtype[\"PTID\"].map(d2)\n",
    "    df_convert = cn_subtype[cn_subtype[\"convert\"]==1]\n",
    "    dfc = df_convert\n",
    "    # EBM stages of controls who converted at a future time point\n",
    "    a = Counter(dfc[\"stage\"])\n",
    "    # EBM stages of all controls regardless of whether they converted or not \n",
    "    b = Counter(cn_subtype[\"stage\"])\n",
    "    d3 = {}\n",
    "    for i in range(6):\n",
    "        if i in a:\n",
    "            num = a[i]\n",
    "        else:\n",
    "            num = 0\n",
    "        if i in b:\n",
    "            den = b[i]\n",
    "        else:\n",
    "            den = np.nan\n",
    "        r = num/(den)\n",
    "        d3[i]=r\n",
    "    # print(stats.kendalltau(list(d3.keys()), list(d3.values())))\n",
    "    x = np.array(list(d3.keys()))\n",
    "    y = np.array(list(d3.values()))\n",
    "    ax.plot(x, y, label=str(dy) + \" years\", marker=\"o\", color=d_colors[dy])\n",
    "    ax.set_xlabel(\"sEBM stage\", fontsize=15)\n",
    "    cox_cn[\"convert\"] = cox_cn[\"PTID\"].map(d2)\n",
    "    cox_cn[\"time\"] = cox_cn[\"PTID\"].map(dtd)\n",
    "    cox_cn[\"subtype\"] = Su\n",
    "    cox_cn[\"stages_inferred\"] = cox_cn[\"PTID\"].map(dict_stage)\n",
    "    fname = \"CN_cox_df_subtype_{}_delta_yrs_{}.csv\".format(Su,dy)\n",
    "    cox_cn.to_csv(os.path.join(save_path,fname))\n",
    "    \n",
    "ax.set_ylabel(\"Fraction of CN subjects \\nconverted to AD\", fontsize=15)\n",
    "ax.set_title(\"Subtype {}, prevalence {}\".format(int(Su), np.round(fraction_cn, 2)), \n",
    "             fontsize=15)\n",
    "ax.set_xlim([0,5])\n",
    "ax.set_ylim([0,1.0])\n",
    "# fig.subplots_adjust(right=0.5)\n",
    "plt.xticks(fontsize=15)\n",
    "plt.tight_layout()\n",
    "# plt.xlim([0,6])\n",
    "plt.yticks(fontsize=15)\n",
    "plt.legend(fontsize=15, loc=2)\n",
    "fig_name = \"cn_subtype_{}.png\".format(Su)\n",
    "fig.savefig(os.path.join(save_path, fig_name), dpi=300)\n"
   ]
  },
  {
   "cell_type": "markdown",
   "id": "2729fbb7",
   "metadata": {},
   "source": [
    "## Longitudinal data analysis"
   ]
  },
  {
   "cell_type": "code",
   "execution_count": null,
   "id": "9bb729d7",
   "metadata": {},
   "outputs": [],
   "source": [
    "long_path = \"/nethome/rtandon32/ebm/ebm_experiments/experiment_scripts/real_data/df12_longitudinal_ebm.csv\"\n",
    "df_long = pd.read_csv(long_path)"
   ]
  },
  {
   "cell_type": "code",
   "execution_count": null,
   "id": "c76fd1fb",
   "metadata": {},
   "outputs": [],
   "source": [
    "df_long.shape"
   ]
  },
  {
   "cell_type": "code",
   "execution_count": null,
   "id": "525376d1",
   "metadata": {},
   "outputs": [],
   "source": [
    "len(set(df_long[\"sid\"]))"
   ]
  },
  {
   "cell_type": "code",
   "execution_count": null,
   "id": "92bac9d5",
   "metadata": {},
   "outputs": [],
   "source": [
    "327 + 551"
   ]
  },
  {
   "cell_type": "code",
   "execution_count": null,
   "id": "01b5a6cc",
   "metadata": {},
   "outputs": [],
   "source": [
    "df_long.shape"
   ]
  },
  {
   "cell_type": "code",
   "execution_count": null,
   "id": "6a16dc31",
   "metadata": {},
   "outputs": [],
   "source": [
    "set(final_df[\"PTID\"]) - set(df_long[\"sid\"])"
   ]
  },
  {
   "cell_type": "code",
   "execution_count": null,
   "id": "5920d87c",
   "metadata": {},
   "outputs": [],
   "source": [
    "len(set(final_df[\"PTID\"]))"
   ]
  },
  {
   "cell_type": "code",
   "execution_count": null,
   "id": "ea403e99",
   "metadata": {},
   "outputs": [],
   "source": [
    "all(df_long.columns[:119] == df_cnad.columns[:119])"
   ]
  },
  {
   "cell_type": "code",
   "execution_count": null,
   "id": "581ca1c8",
   "metadata": {},
   "outputs": [],
   "source": [
    "### List of CN/AD and MCI subjects"
   ]
  },
  {
   "cell_type": "code",
   "execution_count": null,
   "id": "158dec46",
   "metadata": {},
   "outputs": [],
   "source": [
    "# mci_subj_0 = mci_solved[mci_solved[\"subtype\"]==0.0][\"PTID\"].tolist()\n",
    "# mci_subj_1 = mci_solved[mci_solved[\"subtype\"]==1.0][\"PTID\"].tolist()"
   ]
  },
  {
   "cell_type": "code",
   "execution_count": null,
   "id": "539c4c90",
   "metadata": {},
   "outputs": [],
   "source": [
    "cnad_ptid = df_cnad[\"PTID\"].tolist()\n",
    "mci_ptid = df_mci[\"PTID\"].tolist()"
   ]
  },
  {
   "cell_type": "code",
   "execution_count": null,
   "id": "d22c263c",
   "metadata": {},
   "outputs": [],
   "source": [
    "df_long_cnad = df_long[df_long[\"sid\"].isin(cnad_ptid)]\n",
    "df_long_mci = df_long[df_long[\"sid\"].isin(mci_ptid)]"
   ]
  },
  {
   "cell_type": "code",
   "execution_count": null,
   "id": "40e7ef69",
   "metadata": {},
   "outputs": [],
   "source": [
    "k"
   ]
  },
  {
   "cell_type": "code",
   "execution_count": null,
   "id": "13b9341b",
   "metadata": {},
   "outputs": [],
   "source": [
    "prob_mat_mci_long = mixture_model.get_prob_mat(df_long_mci.iloc[:,select_cols].values, mixture_models)\n",
    "L_no_mci_long = prob_mat_mci_long[:,:,0]\n",
    "L_yes_mci_long = prob_mat_mci_long[:,:,1]\n",
    "L_yes_mci_long = process_L(L_yes_mci_long)\n",
    "L_no_mci_long = process_L(L_no_mci_long)"
   ]
  },
  {
   "cell_type": "code",
   "execution_count": null,
   "id": "d13ec304",
   "metadata": {},
   "outputs": [],
   "source": [
    "# Subtype and Stage the MCI subjects\n",
    "last_N = 400000\n",
    "N_samples = 1000\n",
    "sustainData_mci_long = sEBMSustainData(L_yes_mci_long, L_no_mci_long, n_stages)\n",
    "samples_sequence = pkl[\"samples_sequence\"][:,:,-last_N:]\n",
    "samples_f = pkl[\"samples_f\"][:,-last_N:]\n",
    "shape_seq = pkl[\"shape_seq\"]\n",
    "temp_mean_f = np.mean(samples_f, axis=1)\n",
    "ix = np.argsort(temp_mean_f)[::-1]\n",
    "\n",
    "ml_subtype_mci, \\\n",
    "prob_ml_subtype_mci, \\\n",
    "ml_stage_mci, \\\n",
    "prob_ml_stage_mci, \\\n",
    "prob_subtype_mci, \\\n",
    "prob_stage_mci, \\\n",
    "prob_subtype_stage_mci = sustain.subtype_and_stage_individuals(sustainData_mci_long, shape_seq, samples_sequence, samples_f, N_samples)\n"
   ]
  },
  {
   "cell_type": "code",
   "execution_count": null,
   "id": "0d7b6fae",
   "metadata": {},
   "outputs": [],
   "source": [
    "mci_long_subtype_stage = np.hstack([ml_subtype_mci, ml_stage_mci])"
   ]
  },
  {
   "cell_type": "code",
   "execution_count": null,
   "id": "a9081409",
   "metadata": {},
   "outputs": [],
   "source": [
    "mci_long_subtype_stage = np.hstack([ml_subtype_mci, ml_stage_mci])\n",
    "mci_long_subtype_stage = pd.DataFrame(mci_long_subtype_stage, columns=[\"subtype\", \"stage\"])\n",
    "mci_long_subtype_stage[[\"sid\", \"date\"]] = df_long_mci.reset_index()[[\"sid\", \"date\"]]\n",
    "mci_long_subtype_stage[\"date\"] = pd.to_datetime(mci_long_subtype_stage[\"date\"])\n",
    "df_followup = mci_long_subtype_stage\n",
    "df_followup = df_followup.sort_values([\"sid\", \"date\"])"
   ]
  },
  {
   "cell_type": "code",
   "execution_count": null,
   "id": "05aaaf0c",
   "metadata": {},
   "outputs": [],
   "source": [
    "df_followup"
   ]
  },
  {
   "cell_type": "code",
   "execution_count": null,
   "id": "2888fcc5",
   "metadata": {},
   "outputs": [],
   "source": [
    "def get_pairs(vec):\n",
    "    trns = []\n",
    "    l = vec.shape[0]\n",
    "    for i in range(1,l):\n",
    "        trns.append((vec[:i][-1], vec[i:][0]))\n",
    "    return trns\n",
    "\n",
    "sub_dict = {}\n",
    "transform_dict = {}\n",
    "for sub in mci_ptid:\n",
    "# for sub in mci_subj_1:\n",
    "    df_subset = df_followup[df_followup[\"sid\"]==sub]\n",
    "    delta_days = df_subset[\"date\"] - min(df_subset[\"date\"])\n",
    "    delta_years = delta_days.apply(lambda x: x.days/365)\n",
    "    df_subset[\"delta_years\"] = delta_years\n",
    "    sub_dict[sub] = df_subset\n",
    "    vec = df_subset[\"subtype\"].values.astype(int)\n",
    "    transform_dict[sub] = get_pairs(vec)"
   ]
  },
  {
   "cell_type": "code",
   "execution_count": null,
   "id": "244f67e2",
   "metadata": {},
   "outputs": [],
   "source": [
    "count = np.zeros((4,4))\n",
    "for sub in mci_ptid:\n",
    "# for sub in mci_subj_1:\n",
    "    count_arr = transform_dict[sub]\n",
    "    for _ in count_arr:\n",
    "        count[_] += 1"
   ]
  },
  {
   "cell_type": "code",
   "execution_count": null,
   "id": "93053938",
   "metadata": {},
   "outputs": [],
   "source": [
    "fig, ax = plt.subplots(1,1, figsize=(5,5), sharex=True, sharey=True)\n",
    "count = count.astype(int)\n",
    "sns.heatmap(count/np.expand_dims(count.sum(axis=1),1), cmap=\"Greys\", annot=count, fmt='', cbar=False, square=True, ax=ax, annot_kws={'fontsize':15})\n",
    "ax.set_ylabel(\"sEBM stage in previous visit\", fontsize=15)\n",
    "ax.set_xlabel(\"sEBM stage in next visit\", fontsize=15)"
   ]
  },
  {
   "cell_type": "code",
   "execution_count": null,
   "id": "6e8a0b4e",
   "metadata": {},
   "outputs": [],
   "source": [
    "count.trace()/count.sum()"
   ]
  },
  {
   "cell_type": "code",
   "execution_count": null,
   "id": "d9b00328",
   "metadata": {},
   "outputs": [],
   "source": [
    "transform_dict"
   ]
  },
  {
   "cell_type": "code",
   "execution_count": null,
   "id": "98c775ea",
   "metadata": {},
   "outputs": [],
   "source": [
    "mci_long_subtype_stage[[\"sid\", \"date\"]]"
   ]
  },
  {
   "cell_type": "code",
   "execution_count": null,
   "id": "cca68ccc",
   "metadata": {},
   "outputs": [],
   "source": [
    "df_long_mci"
   ]
  },
  {
   "cell_type": "code",
   "execution_count": null,
   "id": "255f1c2d",
   "metadata": {},
   "outputs": [],
   "source": [
    "mci_demographics, mci_solved"
   ]
  },
  {
   "cell_type": "code",
   "execution_count": null,
   "id": "519fd403",
   "metadata": {},
   "outputs": [],
   "source": [
    "mci_solved[\"EXAMDATE\"]"
   ]
  },
  {
   "cell_type": "code",
   "execution_count": null,
   "id": "1a16a6bb",
   "metadata": {},
   "outputs": [],
   "source": [
    "mci_demo_full = pd.merge(mci_demographics, mci_solved, on=[\"PTID\", \"EXAMDATE\"])"
   ]
  },
  {
   "cell_type": "code",
   "execution_count": null,
   "id": "f3357a2d",
   "metadata": {},
   "outputs": [],
   "source": [
    "mci_solved"
   ]
  },
  {
   "cell_type": "code",
   "execution_count": null,
   "id": "120ed49f",
   "metadata": {},
   "outputs": [],
   "source": [
    "final_df"
   ]
  },
  {
   "cell_type": "code",
   "execution_count": null,
   "id": "05f814ef",
   "metadata": {},
   "outputs": [],
   "source": [
    "mci_demo_full.head()"
   ]
  },
  {
   "cell_type": "code",
   "execution_count": null,
   "id": "6c2545c3",
   "metadata": {},
   "outputs": [],
   "source": [
    "mci_demo_full"
   ]
  },
  {
   "cell_type": "code",
   "execution_count": null,
   "id": "a7e12c68",
   "metadata": {},
   "outputs": [],
   "source": [
    "mci_demo_full.groupby([\"subtype\", \"APOE4\"]).size()"
   ]
  },
  {
   "cell_type": "code",
   "execution_count": null,
   "id": "7c303f20",
   "metadata": {},
   "outputs": [],
   "source": [
    "mci_demo_full.pivot_table(index='subtype', columns='APOE4', \n",
    "                        aggfunc=len, fill_value=0)[\"PTID\"]"
   ]
  },
  {
   "cell_type": "code",
   "execution_count": null,
   "id": "9e1eb2ac",
   "metadata": {},
   "outputs": [],
   "source": [
    "mci_demo_full.pivot_table(index='subtype', columns='stage', \n",
    "                        aggfunc=len, fill_value=0)[\"PTID\"]"
   ]
  },
  {
   "cell_type": "code",
   "execution_count": null,
   "id": "e90bb572",
   "metadata": {},
   "outputs": [],
   "source": [
    "all_demographics = merged_df[merged_df[\"DX\"].isin([\"CN\", \"MCI\", \"Dementia\"])].sort_values([\"PTID\", \"EXAMDATE\"]).drop_duplicates(\"PTID\", keep=\"first\")"
   ]
  },
  {
   "cell_type": "code",
   "execution_count": null,
   "id": "7d5897ca",
   "metadata": {},
   "outputs": [],
   "source": [
    "len(set(all_demographics[\"PTID\"]))"
   ]
  },
  {
   "cell_type": "code",
   "execution_count": null,
   "id": "6a1439f7",
   "metadata": {},
   "outputs": [],
   "source": [
    "all_demographics"
   ]
  },
  {
   "cell_type": "code",
   "execution_count": null,
   "id": "a2ba54c6",
   "metadata": {},
   "outputs": [],
   "source": [
    "all_data = pd.merge(all_demographics, final_df, on=[\"PTID\", \"EXAMDATE\"])"
   ]
  },
  {
   "cell_type": "code",
   "execution_count": null,
   "id": "f762cb54",
   "metadata": {},
   "outputs": [],
   "source": [
    "all_data[all_data[\"DX_x\"].isin([\"CN\", \"Dementia\"])].shape"
   ]
  },
  {
   "cell_type": "code",
   "execution_count": null,
   "id": "3454fde1",
   "metadata": {},
   "outputs": [],
   "source": [
    "all_data.pivot_table(index='subtype', columns='DX_x', \n",
    "                        aggfunc=len, fill_value=0)[\"PTID\"]"
   ]
  },
  {
   "cell_type": "code",
   "execution_count": null,
   "id": "45e94e85",
   "metadata": {},
   "outputs": [],
   "source": [
    "all_data[all_data[\"DX_x\"].isin([\"CN\", \"Dementia\"])].pivot_table(index='subtype', columns='stage',\n",
    "                        aggfunc=len, fill_value=0)[\"PTID\"]"
   ]
  },
  {
   "cell_type": "code",
   "execution_count": null,
   "id": "91e399dd",
   "metadata": {},
   "outputs": [],
   "source": [
    "all_data.pivot_table(index='subtype', columns='APOE4', \n",
    "                        aggfunc=len, fill_value=0)[\"PTID\"]"
   ]
  },
  {
   "cell_type": "markdown",
   "id": "32a2e84c",
   "metadata": {},
   "source": [
    "# SCRAP work"
   ]
  },
  {
   "cell_type": "code",
   "execution_count": null,
   "id": "fc414d83",
   "metadata": {},
   "outputs": [],
   "source": [
    "sebm_output = {0: np.array([ 95,  50,   2,  21,  44,  77,  57,  48,  78,  84,  67,  56,  42,\n",
    "        73, 105,  22,   1,  76, 118,  96,  19,  98, 108,  58,  20,  61,\n",
    "        64, 112,  71,  91,  80, 114,  49,  94, 110,  45,  46,  92, 107,\n",
    "        41,  74,  87, 113,   0,   4,  90,  18,  53, 111,  33,   8,  62,\n",
    "        43,  79,   3,  10,  47,   9,  60]), \n",
    "1: np.array([100,  32, 101,   7, 115,  38,  16,  81,  70,  39,  35,  54]), \n",
    "2: np.array([ 14,  40, 103,  75,  59,  72, 117,  69,  28,  93, 104,  30]), \n",
    "3: np.array([ 99,   6,  24, 102,  51,  34,  85,  83, 106,  63,  65,  37]), \n",
    "4: np.array([ 82,  11,  89,  12,  15,  26,  97,  55,  29, 116,  27,  68]), \n",
    "5: np.array([ 52,  86,  31,   5,  25,  23,  13,  36,  66, 109,  88,  17])}\n",
    "\n",
    "for k, v in sebm_output.items():\n",
    "    v.sort()"
   ]
  },
  {
   "cell_type": "code",
   "execution_count": null,
   "id": "bf7b7754",
   "metadata": {},
   "outputs": [],
   "source": [
    "sebm_output"
   ]
  },
  {
   "cell_type": "code",
   "execution_count": null,
   "id": "9a99f75f",
   "metadata": {},
   "outputs": [],
   "source": [
    "selected_cols = [_ for _ in range(119) if _ not in sebm_output[0]]\n",
    "new_idx = list(range(60))\n",
    "new_idx_dict = dict(zip(selected_cols, new_idx))"
   ]
  },
  {
   "cell_type": "code",
   "execution_count": null,
   "id": "8ebc8434",
   "metadata": {},
   "outputs": [],
   "source": [
    "new_idx_sebm_output = {}\n",
    "for _ in range(1, 6):\n",
    "    l = []\n",
    "    for i in sebm_output[_]:\n",
    "        l.append(new_idx_dict[i])\n",
    "    new_idx_sebm_output[_ - 1] = np.array(l)"
   ]
  },
  {
   "cell_type": "code",
   "execution_count": null,
   "id": "250dec36",
   "metadata": {},
   "outputs": [],
   "source": [
    "# Get the mixture model for the CN/AD subjects\n",
    "k=119\n",
    "X = df_cnad.iloc[:,selected_cols].values\n",
    "bm_names = df_cnad.columns[selected_cols].tolist()\n",
    "y = df_cnad[\"DX\"].map({\"Dementia\":1, \"CN\":0})\n",
    "mm_fit = mixture_model.fit_all_gmm_models\n",
    "mixture_models = mm_fit(X, y)\n",
    "L_yes = np.zeros(X.shape)\n",
    "L_no = np.zeros(X.shape)\n",
    "for i in range(len(selected_cols)):\n",
    "    L_no[:, i], L_yes[:, i] = mixture_models[i].pdf(None, X[:, i])\n",
    "\n",
    "# L_no = process_L(L_no)\n",
    "# L_yes = process_L(L_yes)"
   ]
  },
  {
   "cell_type": "code",
   "execution_count": null,
   "id": "b8fdd1af",
   "metadata": {},
   "outputs": [],
   "source": [
    "L_yes.shape"
   ]
  },
  {
   "cell_type": "code",
   "execution_count": null,
   "id": "0b05685c",
   "metadata": {},
   "outputs": [],
   "source": [
    "# Create the SuStaIn object for the sEBM model\n",
    "stage_sizes = [12,12,12,12,12]\n",
    "N_startpoints           = 25\n",
    "N_S_max                 = 3\n",
    "rep = 20\n",
    "N_iterations_MCMC_init = int(2e4)\n",
    "N_iterations_MCMC       = int(5e5)  #Generally recommend either 1e5 or 1e6 (the latter may be slow though) in practice\n",
    "n_stages = 5\n",
    "min_clust_size = 8\n",
    "p_absorb = 0.3\n",
    "SuStaInLabels = df_cnad.columns[selected_cols].tolist()\n",
    "dataset_name            = 'sim_tadpole_x'\n",
    "output_dir              = '/home/rtandon32/ebm/s-SuStain-outputs'\n",
    "sustainType             = 'mixture_GMM'\n",
    "output_folder           = os.path.join(output_dir, dataset_name + '_' + sustainType)\n",
    "use_parallel_startpoints = True\n",
    "sustain = sEBMSustain(L_yes, L_no, n_stages, stage_sizes, min_clust_size, p_absorb, rep, SuStaInLabels, N_startpoints, N_S_max, N_iterations_MCMC_init, N_iterations_MCMC, output_folder, dataset_name, use_parallel_startpoints)"
   ]
  },
  {
   "cell_type": "code",
   "execution_count": null,
   "id": "2d68513c",
   "metadata": {},
   "outputs": [],
   "source": [
    "sustainData_sEBM = sEBMSustainData(L_yes, L_no, n_stages)"
   ]
  },
  {
   "cell_type": "code",
   "execution_count": null,
   "id": "b11830fb",
   "metadata": {},
   "outputs": [],
   "source": [
    "new_idx_sebm_output"
   ]
  },
  {
   "cell_type": "code",
   "execution_count": null,
   "id": "b23c22c1",
   "metadata": {},
   "outputs": [],
   "source": [
    "sustain._calculate_likelihood(sustainData_sEBM, [new_idx_sebm_output], [1.0])"
   ]
  },
  {
   "cell_type": "code",
   "execution_count": null,
   "id": "c842c7a2",
   "metadata": {},
   "outputs": [],
   "source": [
    "ll_mat = sustain._calculate_likelihood_stage(sustainData_sEBM, new_idx_sebm_output, [12]*5)"
   ]
  },
  {
   "cell_type": "code",
   "execution_count": null,
   "id": "362f66df",
   "metadata": {},
   "outputs": [],
   "source": [
    "np.log(np.sum(np.exp(ll_mat - np.log(1.0/6)), axis=1)).sum()"
   ]
  },
  {
   "cell_type": "code",
   "execution_count": null,
   "id": "db961cc1",
   "metadata": {},
   "outputs": [],
   "source": [
    "np.log(np.sum(np.exp(ll_mat - np.log(1.0/6)), axis=1)).sum()"
   ]
  },
  {
   "cell_type": "code",
   "execution_count": null,
   "id": "7ec908d1",
   "metadata": {},
   "outputs": [],
   "source": [
    "sebm_output[1]"
   ]
  },
  {
   "cell_type": "code",
   "execution_count": null,
   "id": "4e379f09",
   "metadata": {},
   "outputs": [],
   "source": [
    "select_cols.append"
   ]
  },
  {
   "cell_type": "code",
   "execution_count": null,
   "id": "80d32e2b",
   "metadata": {},
   "outputs": [],
   "source": [
    "for i, j in enumerate(select_cols):\n",
    "    \n",
    "    print(i, j)"
   ]
  },
  {
   "cell_type": "code",
   "execution_count": null,
   "id": "14ea0c0f",
   "metadata": {},
   "outputs": [],
   "source": []
  }
 ],
 "metadata": {
  "kernelspec": {
   "display_name": "Python 3",
   "language": "python",
   "name": "python3"
  },
  "language_info": {
   "codemirror_mode": {
    "name": "ipython",
    "version": 3
   },
   "file_extension": ".py",
   "mimetype": "text/x-python",
   "name": "python",
   "nbconvert_exporter": "python",
   "pygments_lexer": "ipython3",
   "version": "3.9.18"
  }
 },
 "nbformat": 4,
 "nbformat_minor": 5
}
