{
 "cells": [
  {
   "cell_type": "code",
   "execution_count": 1,
   "id": "25db1df8",
   "metadata": {},
   "outputs": [],
   "source": [
    "import pandas as pd\n",
    "import pickle\n",
    "import seaborn as sns\n",
    "import numpy as np\n",
    "from kde_ebm.mixture_model import fit_all_gmm_models\n",
    "from kde_ebm import mixture_model\n",
    "from sSuStaIn.sEBMSustain import sEBMSustain, sEBMSustainData\n",
    "import os\n",
    "import numpy.ma as ma\n",
    "from collections import Counter\n",
    "from dateutil.relativedelta import relativedelta\n",
    "from scipy.stats import chi2_contingency, kruskal, fisher_exact\n",
    "from scipy.stats import spearmanr, kendalltau\n",
    "from statannotations.Annotator import Annotator\n",
    "import statsmodels.api as sm\n",
    "import statsmodels.formula.api as smf\n",
    "import matplotlib.ticker as mtick\n",
    "from statsmodels.stats.multitest import multipletests"
   ]
  },
  {
   "cell_type": "code",
   "execution_count": 2,
   "id": "78270871",
   "metadata": {},
   "outputs": [],
   "source": [
    "import warnings\n",
    "warnings.filterwarnings(\"ignore\")"
   ]
  },
  {
   "cell_type": "code",
   "execution_count": 3,
   "id": "0920200d",
   "metadata": {},
   "outputs": [],
   "source": [
    "%load_ext autoreload\n",
    "%autoreload 2\n",
    "%matplotlib inline\n",
    "import matplotlib.pyplot as plt\n",
    "from matplotlib import cm\n",
    "hfont = {'fontname':'Arial'}"
   ]
  },
  {
   "cell_type": "code",
   "execution_count": 4,
   "id": "49390950",
   "metadata": {},
   "outputs": [],
   "source": [
    "def process_L(L, min_val=0):\n",
    "    mx = ma.masked_less_equal(L,min_val)\n",
    "    min_masked = mx.min(axis=0)\n",
    "    L_new = mx.filled(fill_value=min_masked)\n",
    "    return L_new"
   ]
  },
  {
   "cell_type": "code",
   "execution_count": 5,
   "id": "76e36982",
   "metadata": {},
   "outputs": [],
   "source": [
    "key_regions = [\"hippocampus\", \"parahippocampal\", \"entorhinal\", \"amygdala\", \"cingulate\", \"frontal\", \"occipital\", \"ventricle\"]\n",
    "def get_selected_cols(cols, key_regions):\n",
    "    region_dict = {}\n",
    "    cols_include = []\n",
    "    for region in key_regions:\n",
    "        region_dict[region] = [_ for _, col in enumerate(cols) if region in col.lower()]\n",
    "        cols_include += region_dict[region]\n",
    "    return cols_include"
   ]
  },
  {
   "cell_type": "markdown",
   "id": "fd1d4edd",
   "metadata": {},
   "source": [
    "## Change the path to the pickled file"
   ]
  },
  {
   "cell_type": "code",
   "execution_count": 6,
   "id": "ec057597",
   "metadata": {},
   "outputs": [],
   "source": [
    "# Read the pickled file\n",
    "pickle_path = \"/nethome/rtandon32/ebm/s-SuStain-outputs/sim_tadpole33_mixture_GMM/pickle_files/sim_tadpole33_subtype3.pickle\"\n",
    "with open(pickle_path, \"rb\") as input_file:\n",
    "    pkl = pickle.load(input_file)"
   ]
  },
  {
   "cell_type": "code",
   "execution_count": 7,
   "id": "96eb8a21",
   "metadata": {},
   "outputs": [
    {
     "data": {
      "text/plain": [
       "(850, 1)"
      ]
     },
     "execution_count": 7,
     "metadata": {},
     "output_type": "execute_result"
    }
   ],
   "source": [
    "pkl[\"ml_subtype\"].shape"
   ]
  },
  {
   "cell_type": "code",
   "execution_count": 8,
   "id": "4ac8f628",
   "metadata": {},
   "outputs": [
    {
     "data": {
      "text/plain": [
       "(2000000, 1)"
      ]
     },
     "execution_count": 8,
     "metadata": {},
     "output_type": "execute_result"
    }
   ],
   "source": [
    "pkl[\"samples_likelihood\"].shape"
   ]
  },
  {
   "cell_type": "markdown",
   "id": "678dd49b",
   "metadata": {},
   "source": [
    "### Check that the MCI and CN/AD files have same column names"
   ]
  },
  {
   "cell_type": "code",
   "execution_count": 10,
   "id": "0e2a1645",
   "metadata": {},
   "outputs": [],
   "source": [
    "# MCI and CN/AD data\n",
    "cn_ad_path = \"/nethome/rtandon32/ebm/ebm_experiments/experiment_scripts/real_data/TADPOLE_all_aligned/df_all_first_cnad_no_5ventricle_adj.csv\"\n",
    "df_cnad = pd.read_csv(cn_ad_path)\n",
    "mci_path = \"/nethome/rtandon32/ebm/ebm_experiments/experiment_scripts/real_data/TADPOLE_all_aligned/df_all_first_mci_no_5ventricle_adj.csv\"\n",
    "df_mci = pd.read_csv(mci_path)\n",
    "df_cnad[\"EXAMDATE\"] = pd.to_datetime(df_cnad[\"EXAMDATE\"])\n",
    "df_mci[\"EXAMDATE\"] = pd.to_datetime(df_mci[\"EXAMDATE\"])\n",
    "assert all(df_mci.columns == df_cnad.columns)"
   ]
  },
  {
   "cell_type": "markdown",
   "id": "48db514e",
   "metadata": {},
   "source": [
    "## Subtyping and Staging the subjects"
   ]
  },
  {
   "cell_type": "markdown",
   "id": "d1876c72",
   "metadata": {},
   "source": [
    "### Get the probability matrices for CN/AD"
   ]
  },
  {
   "cell_type": "code",
   "execution_count": 11,
   "id": "d12fe69f",
   "metadata": {},
   "outputs": [],
   "source": [
    "# Get the mixture model for the CN/AD subjects\n",
    "k=118\n",
    "X = df_cnad.iloc[:,:k].values\n",
    "bm_names = df_cnad.columns[:k].tolist()\n",
    "y = df_cnad[\"DX\"].map({\"Dementia\":1, \"CN\":0})\n",
    "mm_fit = mixture_model.fit_all_gmm_models\n",
    "mixture_models = mm_fit(X, y)\n",
    "L_yes = np.zeros(X.shape)\n",
    "L_no = np.zeros(X.shape)\n",
    "for i in range(k):\n",
    "    L_no[:, i], L_yes[:, i] = mixture_models[i].pdfs_mixture_components(X[:, i], None)\n",
    "\n",
    "L_no = process_L(L_no)\n",
    "L_yes = process_L(L_yes)"
   ]
  },
  {
   "cell_type": "markdown",
   "id": "e8d97228",
   "metadata": {},
   "source": [
    "### Create a SuStaIn object to call the associated methods"
   ]
  },
  {
   "cell_type": "code",
   "execution_count": 12,
   "id": "b94e0887",
   "metadata": {},
   "outputs": [],
   "source": [
    "# Create the SuStaIn object for the sEBM model\n",
    "stage_sizes = [24,24,24,23,23]\n",
    "N_startpoints           = 25\n",
    "N_S_max                 = 3\n",
    "rep = 20\n",
    "N_iterations_MCMC_init = int(2e4)\n",
    "N_iterations_MCMC       = int(5e5)  #Generally recommend either 1e5 or 1e6 (the latter may be slow though) in practice\n",
    "n_stages = 5\n",
    "min_clust_size = 2\n",
    "p_absorb = 0.3\n",
    "N_em = 100\n",
    "SuStaInLabels = df_cnad.columns[:k].tolist()\n",
    "dataset_name            = 'sim_tadpole33'\n",
    "output_dir              = '/home/rtandon32/ebm/s-SuStain-outputs'\n",
    "sustainType             = 'mixture_GMM'\n",
    "output_folder           = os.path.join(output_dir, dataset_name + '_' + sustainType)\n",
    "use_parallel_startpoints = True\n",
    "sustain = sEBMSustain(L_yes, L_no, n_stages, stage_sizes, min_clust_size, p_absorb, rep, SuStaInLabels, N_startpoints, N_S_max, N_iterations_MCMC_init, N_iterations_MCMC, N_em, output_folder, dataset_name, use_parallel_startpoints)"
   ]
  },
  {
   "cell_type": "markdown",
   "id": "fab7c0b2",
   "metadata": {},
   "source": [
    "### Get the prob mat for the mci subjects"
   ]
  },
  {
   "cell_type": "code",
   "execution_count": 13,
   "id": "3d669a02",
   "metadata": {},
   "outputs": [],
   "source": [
    "# Get the prob mat for the mci subjects\n",
    "X_mci = df_mci.iloc[:,:k].values\n",
    "prob_mat_mci = mixture_model.get_prob_mat(X_mci, mixture_models)\n",
    "L_no_mci = prob_mat_mci[:,:,0]\n",
    "L_yes_mci = prob_mat_mci[:,:,1]\n",
    "L_no_mci = process_L(L_no_mci)\n",
    "L_yes_mci = process_L(L_yes_mci)"
   ]
  },
  {
   "cell_type": "markdown",
   "id": "b45d7d20",
   "metadata": {},
   "source": [
    "### Subtype and Stage the MCI subjects"
   ]
  },
  {
   "cell_type": "code",
   "execution_count": 14,
   "id": "46369ce6",
   "metadata": {},
   "outputs": [],
   "source": [
    "# Subtype and Stage the MCI subjects\n",
    "last_N = 1000000\n",
    "N_samples = 1000\n",
    "sustainData_newData = sEBMSustainData(L_yes_mci, L_no_mci, n_stages)\n",
    "samples_sequence = pkl[\"samples_sequence\"][:,:,-last_N:]\n",
    "samples_f = pkl[\"samples_f\"][:,-last_N:]\n",
    "shape_seq = pkl[\"shape_seq\"]\n",
    "temp_mean_f = np.mean(samples_f, axis=1)\n",
    "ix = np.argsort(temp_mean_f)[::-1]\n",
    "\n",
    "ml_subtype_mci, \\\n",
    "prob_ml_subtype_mci, \\\n",
    "ml_stage_mci, \\\n",
    "prob_ml_stage_mci, \\\n",
    "prob_subtype_mci, \\\n",
    "prob_stage_mci, \\\n",
    "prob_subtype_stage_mci, ll = sustain.subtype_and_stage_individuals(sustainData_newData, shape_seq, samples_sequence, samples_f, N_samples)\n"
   ]
  },
  {
   "cell_type": "code",
   "execution_count": 15,
   "id": "7342298d",
   "metadata": {},
   "outputs": [
    {
     "data": {
      "text/plain": [
       "(-771535.0390465037, 23.042331465770808)"
      ]
     },
     "execution_count": 15,
     "metadata": {},
     "output_type": "execute_result"
    }
   ],
   "source": [
    "np.mean(ll), np.std(ll)"
   ]
  },
  {
   "cell_type": "code",
   "execution_count": 16,
   "id": "c2d54304",
   "metadata": {},
   "outputs": [
    {
     "data": {
      "text/plain": [
       "[<matplotlib.lines.Line2D at 0x7fdbf8d253a0>]"
      ]
     },
     "execution_count": 16,
     "metadata": {},
     "output_type": "execute_result"
    },
    {
     "data": {
      "image/png": "[encoded data removed]",
      "text/plain": [
       "<Figure size 640x480 with 1 Axes>"
      ]
     },
     "metadata": {},
     "output_type": "display_data"
    }
   ],
   "source": [
    "# plt.plot(ll)\n",
    "plt.plot(pkl[\"samples_likelihood\"])"
   ]
  },
  {
   "cell_type": "markdown",
   "id": "50395ffd",
   "metadata": {},
   "source": [
    "### Subtype and Stage CN/AD data"
   ]
  },
  {
   "cell_type": "code",
   "execution_count": 17,
   "id": "768c0d9b",
   "metadata": {},
   "outputs": [],
   "source": [
    "# subtype and stage CN/AD data\n",
    "\n",
    "sustainData_cnad = sEBMSustainData(L_yes, L_no, n_stages)\n",
    "samples_sequence = pkl[\"samples_sequence\"][:,:,-last_N:]\n",
    "samples_f = pkl[\"samples_f\"][:,-last_N:]\n",
    "shape_seq = pkl[\"shape_seq\"]\n",
    "\n",
    "ml_subtype_cnad, \\\n",
    "prob_ml_subtype_cnad, \\\n",
    "ml_stage_cnad, \\\n",
    "prob_ml_stage_cnad, \\\n",
    "prob_subtype_cnad, \\\n",
    "prob_stage_cnad, \\\n",
    "prob_subtype_stage_cnad, _ = sustain.subtype_and_stage_individuals(sustainData_cnad, shape_seq, samples_sequence,\n",
    "                                                                   samples_f, N_samples)\n"
   ]
  },
  {
   "cell_type": "code",
   "execution_count": 18,
   "id": "0f065383",
   "metadata": {},
   "outputs": [
    {
     "name": "stdout",
     "output_type": "stream",
     "text": [
      "CN/AD fractions across subtypes : \n",
      " {0.0: 0.49411764705882355, 1.0: 0.18, 2.0: 0.17647058823529413, 3.0: 0.14941176470588236}\n",
      "MCI fractions across subtypes : \n",
      " {0.0: 0.4665841584158416, 1.0: 0.1905940594059406, 2.0: 0.17202970297029702, 3.0: 0.1707920792079208}\n"
     ]
    }
   ],
   "source": [
    "n_cnad = ml_subtype_cnad.shape[0]\n",
    "n_mci = ml_subtype_mci.shape[0]\n",
    "unique_cnad, counts_cnad = np.unique(ml_subtype_cnad, return_counts=True)\n",
    "unique_mci, counts_mci = np.unique(ml_subtype_mci, return_counts=True)\n",
    "\n",
    "fraction_cnad = {}\n",
    "dict_cnad = dict(zip(unique_cnad, counts_cnad))\n",
    "for k, v in dict_cnad.items():\n",
    "    fraction_cnad[k] = v/n_cnad\n",
    "    \n",
    "fraction_mci = {}\n",
    "dict_mci = dict(zip(unique_mci, counts_mci))\n",
    "for k, v in dict_mci.items():\n",
    "    fraction_mci[k] = v/n_mci\n",
    "    \n",
    "print(\"CN/AD fractions across subtypes : \\n\", fraction_cnad)\n",
    "print(\"MCI fractions across subtypes : \\n\", fraction_mci)"
   ]
  },
  {
   "cell_type": "markdown",
   "id": "e8ed0f7e",
   "metadata": {},
   "source": [
    "### Get subjects for a givensubtype"
   ]
  },
  {
   "cell_type": "markdown",
   "id": "7284479f",
   "metadata": {},
   "source": [
    "### Prepare final dataframe which has subtype, stage, PTID, DX, and EXAMDATE for all subjects"
   ]
  },
  {
   "cell_type": "code",
   "execution_count": 19,
   "id": "c0e7ba89",
   "metadata": {},
   "outputs": [],
   "source": [
    "# DataFrame for CN/AD subjects\n",
    "array_subtype_stage_cnad = np.hstack([ml_subtype_cnad, ml_stage_cnad, y.values.reshape(-1,1)])\n",
    "cnad_solved = pd.DataFrame(data=array_subtype_stage_cnad, columns=[\"subtype\", \"stage\", \"DX\"])\n",
    "cnad_solved[[\"PTID\", \"EXAMDATE\", \"VISCODE\"]] = df_cnad[[\"PTID\", \"EXAMDATE\", \"VISCODE\"]]"
   ]
  },
  {
   "cell_type": "code",
   "execution_count": 20,
   "id": "d0fd62f4",
   "metadata": {},
   "outputs": [],
   "source": [
    "# DataFrame for MCI subjects\n",
    "array_subtype_stage_mci = np.hstack([ml_subtype_mci, ml_stage_mci])\n",
    "mci_solved = pd.DataFrame(data=array_subtype_stage_mci, columns=[\"subtype\", \"stage\"])\n",
    "mci_solved[\"DX\"] = 2.0\n",
    "mci_solved[[\"PTID\", \"EXAMDATE\", \"VISCODE\"]] = df_mci[[\"PTID\", \"EXAMDATE\", \"VISCODE\"]]\n",
    "final_df = pd.concat([cnad_solved, mci_solved], axis=0)"
   ]
  },
  {
   "cell_type": "code",
   "execution_count": 21,
   "id": "54002be1",
   "metadata": {},
   "outputs": [],
   "source": [
    "final_df[\"DX\"] = final_df[\"DX\"].map({0.0:\"Controls\", 1.0:\"AD\", 2.0:\"MCI\"})"
   ]
  },
  {
   "cell_type": "markdown",
   "id": "c9a7a6e5",
   "metadata": {},
   "source": [
    "# Prepare final_df (Add RID)"
   ]
  },
  {
   "cell_type": "code",
   "execution_count": 22,
   "id": "f5426f5d",
   "metadata": {},
   "outputs": [],
   "source": [
    "final_df[\"RID\"] = final_df[\"PTID\"].apply(lambda x: int(x.split(\"_\")[-1]))"
   ]
  },
  {
   "cell_type": "markdown",
   "id": "94e0c7f8",
   "metadata": {},
   "source": [
    "# Process data for filtering operations / StatsModel"
   ]
  },
  {
   "cell_type": "code",
   "execution_count": 23,
   "id": "203e87fe",
   "metadata": {},
   "outputs": [],
   "source": [
    "def process_df(df, fld, keep=\"first\"):\n",
    "    df_fld = df.dropna(subset=[fld])\n",
    "    df_fld.sort_values([\"sid\", \"EXAMDATE\"], inplace=True)\n",
    "    df_fld.drop_duplicates(\"sid\", keep=keep, inplace=True)\n",
    "    return df_fld\n",
    "\n",
    "def regress_score(df, field, covariates, examdate=\"EXAMDATE\", n_subtypes=4):\n",
    "    subtypes = list(range(n_subtypes))\n",
    "    df_fld = df.dropna(subset=[field])\n",
    "    df_fld.sort_values([\"sid\", examdate], inplace=True)\n",
    "    df_fld.drop_duplicates(\"sid\", keep=\"first\", inplace=True)\n",
    "    one_hot_cols = pd.get_dummies(df_fld[\"subtype\"])\n",
    "    one_hot_cols = one_hot_cols[subtypes]\n",
    "    new_cols = [\"st{}\".format(_) for _ in subtypes]\n",
    "    one_hot_cols.columns = new_cols\n",
    "    df_one_hot = pd.concat([df_fld[covariates+[field]], one_hot_cols], axis=1)\n",
    "    return df_one_hot\n",
    "\n",
    "def regress_OLS(df, fld, cov):\n",
    "    model = sm.OLS(df[[fld]], sm.add_constant(df[cov]))\n",
    "    results = model.fit()\n",
    "    stats_df = pd.concat([results.pvalues,results.params, results.bse, results.conf_int()],axis=1)\n",
    "    stats_df.columns = [\"p-vals\", \"coef\",\"std-err\",\"conf-int-lower95\", \"conf-int-upper95\"]\n",
    "    stats_df[\"fld\"] = fld\n",
    "    stats_df[\"r-sq-adj\"] = results.rsquared_adj\n",
    "    stats_df[\"f-pvalue\"] = results.f_pvalue\n",
    "    return stats_df\n",
    "\n",
    "def regress_Logit(df, fld, cov):\n",
    "    model = sm.Logit(df[[fld]], sm.add_constant(df[cov]))\n",
    "    results = model.fit()\n",
    "    stats_df = pd.concat([results.pvalues,results.params, results.bse, results.conf_int()],axis=1)\n",
    "    stats_df.columns = [\"p-vals\", \"coef\",\"std-err\",\"conf-int-lower95\", \"conf-int-upper95\"]\n",
    "    stats_df[\"fld\"] = fld\n",
    "    stats_df[\"psuedo-r-sq\"] = results.prsquared\n",
    "    stats_df[\"llr_pvalue\"] = results.llr_pvalue\n",
    "    return stats_df\n",
    "\n",
    "def regress_OLS_logodds(df, fld, cov):\n",
    "    model = sm.OLS(np.log(df[[fld]]/(1 - df[[fld]])), sm.add_constant(df[cov]))\n",
    "    results = model.fit()\n",
    "    stats_df = pd.concat([results.pvalues,results.params, results.bse, results.conf_int()],axis=1)\n",
    "    stats_df.columns = [\"p-vals\", \"coef\",\"std-err\",\"conf-int-lower95\", \"conf-int-upper95\"]\n",
    "    stats_df[\"fld\"] = fld\n",
    "    stats_df[\"r-sq-adj\"] = results.rsquared_adj\n",
    "    stats_df[\"f-pvalue\"] = results.f_pvalue\n",
    "    return stats_df"
   ]
  },
  {
   "cell_type": "code",
   "execution_count": 24,
   "id": "1e3351d4",
   "metadata": {},
   "outputs": [
    {
     "data": {
      "text/html": [
       "<div>\n",
       "<style scoped>\n",
       "    .dataframe tbody tr th:only-of-type {\n",
       "        vertical-align: middle;\n",
       "    }\n",
       "\n",
       "    .dataframe tbody tr th {\n",
       "        vertical-align: top;\n",
       "    }\n",
       "\n",
       "    .dataframe thead th {\n",
       "        text-align: right;\n",
       "    }\n",
       "</style>\n",
       "<table border=\"1\" class=\"dataframe\">\n",
       "  <thead>\n",
       "    <tr style=\"text-align: right;\">\n",
       "      <th></th>\n",
       "      <th>subtype</th>\n",
       "      <th>stage</th>\n",
       "      <th>DX</th>\n",
       "      <th>PTID</th>\n",
       "      <th>EXAMDATE</th>\n",
       "      <th>VISCODE</th>\n",
       "      <th>RID</th>\n",
       "    </tr>\n",
       "  </thead>\n",
       "  <tbody>\n",
       "    <tr>\n",
       "      <th>0</th>\n",
       "      <td>1.0</td>\n",
       "      <td>1.0</td>\n",
       "      <td>Controls</td>\n",
       "      <td>002_S_0295</td>\n",
       "      <td>2006-05-09</td>\n",
       "      <td>bl</td>\n",
       "      <td>295</td>\n",
       "    </tr>\n",
       "    <tr>\n",
       "      <th>1</th>\n",
       "      <td>0.0</td>\n",
       "      <td>1.0</td>\n",
       "      <td>Controls</td>\n",
       "      <td>002_S_0413</td>\n",
       "      <td>2007-06-01</td>\n",
       "      <td>m12</td>\n",
       "      <td>413</td>\n",
       "    </tr>\n",
       "    <tr>\n",
       "      <th>2</th>\n",
       "      <td>0.0</td>\n",
       "      <td>0.0</td>\n",
       "      <td>Controls</td>\n",
       "      <td>002_S_0559</td>\n",
       "      <td>2006-06-20</td>\n",
       "      <td>bl</td>\n",
       "      <td>559</td>\n",
       "    </tr>\n",
       "    <tr>\n",
       "      <th>3</th>\n",
       "      <td>3.0</td>\n",
       "      <td>2.0</td>\n",
       "      <td>AD</td>\n",
       "      <td>002_S_0619</td>\n",
       "      <td>2006-12-13</td>\n",
       "      <td>m06</td>\n",
       "      <td>619</td>\n",
       "    </tr>\n",
       "    <tr>\n",
       "      <th>4</th>\n",
       "      <td>3.0</td>\n",
       "      <td>2.0</td>\n",
       "      <td>Controls</td>\n",
       "      <td>002_S_0685</td>\n",
       "      <td>2010-07-15</td>\n",
       "      <td>m48</td>\n",
       "      <td>685</td>\n",
       "    </tr>\n",
       "    <tr>\n",
       "      <th>...</th>\n",
       "      <td>...</td>\n",
       "      <td>...</td>\n",
       "      <td>...</td>\n",
       "      <td>...</td>\n",
       "      <td>...</td>\n",
       "      <td>...</td>\n",
       "      <td>...</td>\n",
       "    </tr>\n",
       "    <tr>\n",
       "      <th>803</th>\n",
       "      <td>3.0</td>\n",
       "      <td>2.0</td>\n",
       "      <td>MCI</td>\n",
       "      <td>941_S_4100</td>\n",
       "      <td>2015-08-28</td>\n",
       "      <td>m48</td>\n",
       "      <td>4100</td>\n",
       "    </tr>\n",
       "    <tr>\n",
       "      <th>804</th>\n",
       "      <td>0.0</td>\n",
       "      <td>1.0</td>\n",
       "      <td>MCI</td>\n",
       "      <td>941_S_4187</td>\n",
       "      <td>2011-08-25</td>\n",
       "      <td>bl</td>\n",
       "      <td>4187</td>\n",
       "    </tr>\n",
       "    <tr>\n",
       "      <th>805</th>\n",
       "      <td>1.0</td>\n",
       "      <td>3.0</td>\n",
       "      <td>MCI</td>\n",
       "      <td>941_S_4377</td>\n",
       "      <td>2012-02-14</td>\n",
       "      <td>bl</td>\n",
       "      <td>4377</td>\n",
       "    </tr>\n",
       "    <tr>\n",
       "      <th>806</th>\n",
       "      <td>0.0</td>\n",
       "      <td>2.0</td>\n",
       "      <td>MCI</td>\n",
       "      <td>941_S_4420</td>\n",
       "      <td>2012-04-03</td>\n",
       "      <td>bl</td>\n",
       "      <td>4420</td>\n",
       "    </tr>\n",
       "    <tr>\n",
       "      <th>807</th>\n",
       "      <td>2.0</td>\n",
       "      <td>4.0</td>\n",
       "      <td>MCI</td>\n",
       "      <td>941_S_4764</td>\n",
       "      <td>2012-06-11</td>\n",
       "      <td>bl</td>\n",
       "      <td>4764</td>\n",
       "    </tr>\n",
       "  </tbody>\n",
       "</table>\n",
       "<p>1658 rows × 7 columns</p>\n",
       "</div>"
      ],
      "text/plain": [
       "     subtype  stage        DX        PTID   EXAMDATE VISCODE   RID\n",
       "0        1.0    1.0  Controls  002_S_0295 2006-05-09      bl   295\n",
       "1        0.0    1.0  Controls  002_S_0413 2007-06-01     m12   413\n",
       "2        0.0    0.0  Controls  002_S_0559 2006-06-20      bl   559\n",
       "3        3.0    2.0        AD  002_S_0619 2006-12-13     m06   619\n",
       "4        3.0    2.0  Controls  002_S_0685 2010-07-15     m48   685\n",
       "..       ...    ...       ...         ...        ...     ...   ...\n",
       "803      3.0    2.0       MCI  941_S_4100 2015-08-28     m48  4100\n",
       "804      0.0    1.0       MCI  941_S_4187 2011-08-25      bl  4187\n",
       "805      1.0    3.0       MCI  941_S_4377 2012-02-14      bl  4377\n",
       "806      0.0    2.0       MCI  941_S_4420 2012-04-03      bl  4420\n",
       "807      2.0    4.0       MCI  941_S_4764 2012-06-11      bl  4764\n",
       "\n",
       "[1658 rows x 7 columns]"
      ]
     },
     "execution_count": 24,
     "metadata": {},
     "output_type": "execute_result"
    }
   ],
   "source": [
    "final_df"
   ]
  },
  {
   "cell_type": "markdown",
   "id": "abae70f9",
   "metadata": {},
   "source": [
    "## Directory path"
   ]
  },
  {
   "cell_type": "code",
   "execution_count": 26,
   "id": "649e7bbe",
   "metadata": {},
   "outputs": [],
   "source": [
    "dir_path = \"/nethome/rtandon32/ebm/s-SuStain-outputs/sim_tadpole33_mixture_GMM/figures_4/neurobattery_run33_adj\""
   ]
  },
  {
   "cell_type": "markdown",
   "id": "0e374d39",
   "metadata": {},
   "source": [
    "## PHS (Polygenic Hazard Scores)"
   ]
  },
  {
   "cell_type": "code",
   "execution_count": 27,
   "id": "0873954e",
   "metadata": {},
   "outputs": [],
   "source": [
    "# Read PRS scores from the Desikan Lab - (Ignore for now)"
   ]
  },
  {
   "cell_type": "code",
   "execution_count": 28,
   "id": "24850d56",
   "metadata": {},
   "outputs": [],
   "source": [
    "mh_dir = \"/nethome/rtandon32/ebm/ebm_experiments/experiment_scripts/real_data/medical_history/\"\n",
    "# \"/nethome/rtandon32/ebm/ebm_experiments/experiment_scripts/real_data/medical_history/DESIKANLAB_31May2024.csv\"\n",
    "file_name_prs = \"DESIKANLAB_31May2024.csv\"\n",
    "df_prs = pd.read_csv(os.path.join(mh_dir, file_name_prs))\n",
    "df_prs.drop_duplicates(\"RID\", inplace=True)\n",
    "# df_prs = pd.merge(final_df, df_prs, on=[\"RID\"], how=\"inner\", suffixes=[None, \"_y\"])\n",
    "df_prs2 = pd.merge(final_df, df_prs, on=[\"RID\"], how=\"inner\", suffixes=[None, \"_y\"])\n",
    "df_prs2[\"subtype\"] += 1"
   ]
  },
  {
   "cell_type": "code",
   "execution_count": 29,
   "id": "8ae3c1bd",
   "metadata": {},
   "outputs": [
    {
     "name": "stdout",
     "output_type": "stream",
     "text": [
      "                            OLS Regression Results                            \n",
      "==============================================================================\n",
      "Dep. Variable:                  stage   R-squared:                       0.000\n",
      "Model:                            OLS   Adj. R-squared:                 -0.000\n",
      "Method:                 Least Squares   F-statistic:                    0.4141\n",
      "Date:                Mon, 29 Jul 2024   Prob (F-statistic):              0.520\n",
      "Time:                        21:36:12   Log-Likelihood:                -2343.9\n",
      "No. Observations:                1453   AIC:                             4692.\n",
      "Df Residuals:                    1451   BIC:                             4702.\n",
      "Df Model:                           1                                         \n",
      "Covariance Type:            nonrobust                                         \n",
      "==============================================================================\n",
      "                 coef    std err          t      P>|t|      [0.025      0.975]\n",
      "------------------------------------------------------------------------------\n",
      "const          2.4974      0.036     69.763      0.000       2.427       2.568\n",
      "PHS            0.0253      0.039      0.643      0.520      -0.052       0.102\n",
      "==============================================================================\n",
      "Omnibus:                      166.419   Durbin-Watson:                   1.726\n",
      "Prob(Omnibus):                  0.000   Jarque-Bera (JB):               45.890\n",
      "Skew:                           0.019   Prob(JB):                     1.08e-10\n",
      "Kurtosis:                       2.130   Cond. No.                         1.65\n",
      "==============================================================================\n",
      "\n",
      "Notes:\n",
      "[1] Standard Errors assume that the covariance matrix of the errors is correctly specified.\n"
     ]
    }
   ],
   "source": [
    "# df_prs2_mci = df_prs2[df_prs2[\"DX\"].isin([\"MCI\"])]\n",
    "df_prs2_st = df_prs2[df_prs2[\"subtype\"].isin([1,2,3,4])]\n",
    "model_phs = sm.OLS(df_prs2_st[\"stage\"], sm.add_constant(df_prs2_st[\"PHS\"]))\n",
    "results_phs = model_phs.fit()\n",
    "print(results_phs.summary())"
   ]
  },
  {
   "cell_type": "code",
   "execution_count": 30,
   "id": "f4593625",
   "metadata": {},
   "outputs": [
    {
     "data": {
      "text/plain": [
       "const    0.000000\n",
       "PHS      0.520021\n",
       "dtype: float64"
      ]
     },
     "execution_count": 30,
     "metadata": {},
     "output_type": "execute_result"
    }
   ],
   "source": [
    "results_phs.pvalues"
   ]
  },
  {
   "cell_type": "code",
   "execution_count": 31,
   "id": "9e5829ae",
   "metadata": {},
   "outputs": [],
   "source": [
    "# df_phs_resid = df_prs2[[\"PHS\", \"APOE4\"]]\n",
    "# model_phs = sm.OLS(df_prs2[\"PHS\"], sm.add_constant(df_prs2[\"AGE\"]))\n",
    "# results_phs = model_phs.fit()\n",
    "# df_prs2[\"residual\"] = results_phs.resid\n",
    "# df_prs2[\"subtypes\"] = pd.from_dummies(df_prs2[[\"st0\", \"st1\", \"st2\", \"st3\"]])\n",
    "# kruskal(*[group[\"PHS\"].values for name, group in df_prs2.groupby(\"stage\")])"
   ]
  },
  {
   "cell_type": "code",
   "execution_count": 32,
   "id": "50ed5971",
   "metadata": {},
   "outputs": [
    {
     "data": {
      "text/plain": [
       "KruskalResult(statistic=3.345097548269223, pvalue=0.3414150662414195)"
      ]
     },
     "execution_count": 32,
     "metadata": {},
     "output_type": "execute_result"
    }
   ],
   "source": [
    "kruskal(*[group[\"PHS\"].values for name, group in df_prs2.groupby(\"subtype\")])"
   ]
  },
  {
   "cell_type": "code",
   "execution_count": 33,
   "id": "bea177ab",
   "metadata": {},
   "outputs": [
    {
     "data": {
      "text/plain": [
       "<AxesSubplot: xlabel='subtype', ylabel='PHS'>"
      ]
     },
     "execution_count": 33,
     "metadata": {},
     "output_type": "execute_result"
    },
    {
     "data": {
      "image/png": "[encoded data removed]",
      "text/plain": [
       "<Figure size 640x480 with 1 Axes>"
      ]
     },
     "metadata": {},
     "output_type": "display_data"
    }
   ],
   "source": [
    "sns.boxenplot(data=df_prs2, x=\"subtype\", y=\"PHS\")"
   ]
  },
  {
   "cell_type": "code",
   "execution_count": 34,
   "id": "1ca2b2ef",
   "metadata": {},
   "outputs": [
    {
     "data": {
      "image/png": "[encoded data removed]",
      "text/plain": [
       "<Figure size 600x300 with 1 Axes>"
      ]
     },
     "metadata": {},
     "output_type": "display_data"
    }
   ],
   "source": [
    "fig, ax = plt.subplots(1,1, sharex=True, sharey=False, figsize=(6,3))\n",
    "test_name = \"PHS\"\n",
    "df_prs2[\"stage\"] = df_prs2[\"stage\"].astype(int)\n",
    "df_prs2[\"subtype\"] = df_prs2[\"subtype\"].astype(int)\n",
    "\n",
    "sns.boxenplot(data=df_prs2[df_prs2[\"DX\"].isin([\"Controls\",\"MCI\",\"AD\"])], \n",
    "              x=\"subtype\", y=\"PHS\", palette=\"YlOrRd\", ax=ax, hue=\"stage\")\n",
    "ax.set_ylabel(\"Polygenic Hazard Score\")\n",
    "# ax.set_title(fld, fontsize=12)\n",
    "ax.spines[['right', 'top']].set_visible(False)\n",
    "ax.ticklabel_format(style='scientific', axis='y', scilimits=(0,0), useMathText=True)\n",
    "ax.legend(bbox_to_anchor=(1.05, 1.00), loc='upper left', borderaxespad=0, ncol=1)\n",
    "fig.savefig(os.path.join(dir_path, \"{}.png\".format(test_name)), dpi=300)"
   ]
  },
  {
   "cell_type": "code",
   "execution_count": 35,
   "id": "4f4aa0ab",
   "metadata": {},
   "outputs": [
    {
     "data": {
      "image/png": "[encoded data removed]",
      "text/plain": [
       "<Figure size 300x300 with 1 Axes>"
      ]
     },
     "metadata": {},
     "output_type": "display_data"
    }
   ],
   "source": [
    "fig, ax = plt.subplots(1,1, sharex=True, sharey=False, figsize=(3,3))\n",
    "test_name = \"PHS\"\n",
    "df_prs2[\"stage\"] = df_prs2[\"stage\"].astype(int)\n",
    "sns.boxenplot(data=df_prs2[df_prs2[\"DX\"].isin([\"Controls\",\"MCI\",\"AD\"])], \n",
    "              x=\"stage\", y=\"PHS\", palette=\"YlOrRd\", ax=ax)\n",
    "ax.set_ylabel(\"Polygenic Hazard Score\")\n",
    "# ax.set_title(fld, fontsize=12)\n",
    "ax.spines[['right', 'top']].set_visible(False)\n",
    "ax.ticklabel_format(style='scientific', axis='y', scilimits=(0,0), useMathText=True)\n",
    "fig.savefig(os.path.join(dir_path, \"{}.png\".format(test_name)), dpi=300)"
   ]
  },
  {
   "cell_type": "code",
   "execution_count": 36,
   "id": "2f0de7dc",
   "metadata": {},
   "outputs": [],
   "source": [
    "ravlt_trials = [-0.16,-0.30, -0.40, -0.51, -0.62, -0.82]"
   ]
  },
  {
   "cell_type": "code",
   "execution_count": 37,
   "id": "7fb2ad59",
   "metadata": {},
   "outputs": [
    {
     "data": {
      "image/png": "[encoded data removed]",
      "text/plain": [
       "<Figure size 900x300 with 2 Axes>"
      ]
     },
     "metadata": {},
     "output_type": "display_data"
    }
   ],
   "source": [
    "fig = plt.figure(figsize=(9, 3), layout=\"constrained\")\n",
    "spec = fig.add_gridspec(1, 3)\n",
    "ax0 = fig.add_subplot(spec[0])\n",
    "ax10 = fig.add_subplot(spec[1:])\n",
    "sns.boxenplot(data=df_prs2[df_prs2[\"DX\"].isin([\"Controls\",\"MCI\",\"AD\"])], \n",
    "              x=\"stage\", y=\"PHS\", palette=\"YlOrRd\", ax=ax0)\n",
    "sns.boxenplot(data=df_prs2[df_prs2[\"DX\"].isin([\"Controls\",\"MCI\",\"AD\"])], \n",
    "              x=\"subtype\", y=\"PHS\", palette=\"YlOrRd\", ax=ax10, hue=\"stage\")\n",
    "ax0.set_ylabel(\"Polygenic Hazard Score\", fontsize=12)\n",
    "ax10.set_ylabel(\"\", fontsize=12)\n",
    "ax0.spines[['right', 'top']].set_visible(False)\n",
    "ax10.spines[['right', 'top']].set_visible(False)\n",
    "# ax.ticklabel_format(style='scientific', axis='y', scilimits=(0,0), useMathText=True)\n",
    "ax10.legend(bbox_to_anchor=(1.0, 0.8), loc='upper left', borderaxespad=0, ncol=1, title=\"stage\")\n",
    "fig.savefig(os.path.join(dir_path, \"{}.png\".format(test_name)), dpi=300)"
   ]
  },
  {
   "cell_type": "code",
   "execution_count": 38,
   "id": "bbc07078",
   "metadata": {},
   "outputs": [
    {
     "ename": "NameError",
     "evalue": "name 'df_xx' is not defined",
     "output_type": "error",
     "traceback": [
      "\u001b[0;31m---------------------------------------------------------------------------\u001b[0m",
      "\u001b[0;31mNameError\u001b[0m                                 Traceback (most recent call last)",
      "Cell \u001b[0;32mIn[38], line 1\u001b[0m\n\u001b[0;32m----> 1\u001b[0m chi2_contingency(\u001b[43mdf_xx\u001b[49m\u001b[38;5;241m.\u001b[39mgroupby([\u001b[38;5;124m\"\u001b[39m\u001b[38;5;124mstage\u001b[39m\u001b[38;5;124m\"\u001b[39m, \u001b[38;5;124m\"\u001b[39m\u001b[38;5;124mAPOE4\u001b[39m\u001b[38;5;124m\"\u001b[39m])\u001b[38;5;241m.\u001b[39msize()\u001b[38;5;241m.\u001b[39munstack(level\u001b[38;5;241m=\u001b[39m\u001b[38;5;241m1\u001b[39m)\u001b[38;5;241m.\u001b[39mfillna(\u001b[38;5;241m0\u001b[39m))\n",
      "\u001b[0;31mNameError\u001b[0m: name 'df_xx' is not defined"
     ]
    }
   ],
   "source": [
    "chi2_contingency(df_xx.groupby([\"stage\", \"APOE4\"]).size().unstack(level=1).fillna(0))"
   ]
  },
  {
   "cell_type": "code",
   "execution_count": 39,
   "id": "05926ac7",
   "metadata": {},
   "outputs": [
    {
     "name": "stdout",
     "output_type": "stream",
     "text": [
      "                            OLS Regression Results                            \n",
      "==============================================================================\n",
      "Dep. Variable:                  stage   R-squared:                       0.000\n",
      "Model:                            OLS   Adj. R-squared:                 -0.000\n",
      "Method:                 Least Squares   F-statistic:                    0.4141\n",
      "Date:                Mon, 29 Jul 2024   Prob (F-statistic):              0.520\n",
      "Time:                        21:37:08   Log-Likelihood:                -2343.9\n",
      "No. Observations:                1453   AIC:                             4692.\n",
      "Df Residuals:                    1451   BIC:                             4702.\n",
      "Df Model:                           1                                         \n",
      "Covariance Type:            nonrobust                                         \n",
      "==============================================================================\n",
      "                 coef    std err          t      P>|t|      [0.025      0.975]\n",
      "------------------------------------------------------------------------------\n",
      "const          2.4974      0.036     69.763      0.000       2.427       2.568\n",
      "PHS            0.0253      0.039      0.643      0.520      -0.052       0.102\n",
      "==============================================================================\n",
      "Omnibus:                      166.419   Durbin-Watson:                   1.726\n",
      "Prob(Omnibus):                  0.000   Jarque-Bera (JB):               45.890\n",
      "Skew:                           0.019   Prob(JB):                     1.08e-10\n",
      "Kurtosis:                       2.130   Cond. No.                         1.65\n",
      "==============================================================================\n",
      "\n",
      "Notes:\n",
      "[1] Standard Errors assume that the covariance matrix of the errors is correctly specified.\n"
     ]
    }
   ],
   "source": [
    "print(results_phs.summary())"
   ]
  },
  {
   "cell_type": "code",
   "execution_count": 40,
   "id": "466e1f12",
   "metadata": {},
   "outputs": [
    {
     "data": {
      "text/html": [
       "<div>\n",
       "<style scoped>\n",
       "    .dataframe tbody tr th:only-of-type {\n",
       "        vertical-align: middle;\n",
       "    }\n",
       "\n",
       "    .dataframe tbody tr th {\n",
       "        vertical-align: top;\n",
       "    }\n",
       "\n",
       "    .dataframe thead th {\n",
       "        text-align: right;\n",
       "    }\n",
       "</style>\n",
       "<table border=\"1\" class=\"dataframe\">\n",
       "  <thead>\n",
       "    <tr style=\"text-align: right;\">\n",
       "      <th></th>\n",
       "      <th>subtype</th>\n",
       "      <th>stage</th>\n",
       "      <th>DX</th>\n",
       "      <th>PTID</th>\n",
       "      <th>EXAMDATE</th>\n",
       "      <th>VISCODE</th>\n",
       "    </tr>\n",
       "  </thead>\n",
       "  <tbody>\n",
       "    <tr>\n",
       "      <th>0</th>\n",
       "      <td>0.0</td>\n",
       "      <td>3.0</td>\n",
       "      <td>2.0</td>\n",
       "      <td>002_S_0729</td>\n",
       "      <td>2007-02-22</td>\n",
       "      <td>m06</td>\n",
       "    </tr>\n",
       "    <tr>\n",
       "      <th>1</th>\n",
       "      <td>2.0</td>\n",
       "      <td>2.0</td>\n",
       "      <td>2.0</td>\n",
       "      <td>002_S_0782</td>\n",
       "      <td>2007-03-28</td>\n",
       "      <td>m06</td>\n",
       "    </tr>\n",
       "    <tr>\n",
       "      <th>2</th>\n",
       "      <td>1.0</td>\n",
       "      <td>4.0</td>\n",
       "      <td>2.0</td>\n",
       "      <td>002_S_0954</td>\n",
       "      <td>2007-05-03</td>\n",
       "      <td>m06</td>\n",
       "    </tr>\n",
       "    <tr>\n",
       "      <th>3</th>\n",
       "      <td>2.0</td>\n",
       "      <td>3.0</td>\n",
       "      <td>2.0</td>\n",
       "      <td>002_S_1070</td>\n",
       "      <td>2006-12-11</td>\n",
       "      <td>bl</td>\n",
       "    </tr>\n",
       "    <tr>\n",
       "      <th>4</th>\n",
       "      <td>3.0</td>\n",
       "      <td>4.0</td>\n",
       "      <td>2.0</td>\n",
       "      <td>002_S_1155</td>\n",
       "      <td>2011-12-23</td>\n",
       "      <td>m60</td>\n",
       "    </tr>\n",
       "    <tr>\n",
       "      <th>...</th>\n",
       "      <td>...</td>\n",
       "      <td>...</td>\n",
       "      <td>...</td>\n",
       "      <td>...</td>\n",
       "      <td>...</td>\n",
       "      <td>...</td>\n",
       "    </tr>\n",
       "    <tr>\n",
       "      <th>803</th>\n",
       "      <td>3.0</td>\n",
       "      <td>2.0</td>\n",
       "      <td>2.0</td>\n",
       "      <td>941_S_4100</td>\n",
       "      <td>2015-08-28</td>\n",
       "      <td>m48</td>\n",
       "    </tr>\n",
       "    <tr>\n",
       "      <th>804</th>\n",
       "      <td>0.0</td>\n",
       "      <td>1.0</td>\n",
       "      <td>2.0</td>\n",
       "      <td>941_S_4187</td>\n",
       "      <td>2011-08-25</td>\n",
       "      <td>bl</td>\n",
       "    </tr>\n",
       "    <tr>\n",
       "      <th>805</th>\n",
       "      <td>1.0</td>\n",
       "      <td>3.0</td>\n",
       "      <td>2.0</td>\n",
       "      <td>941_S_4377</td>\n",
       "      <td>2012-02-14</td>\n",
       "      <td>bl</td>\n",
       "    </tr>\n",
       "    <tr>\n",
       "      <th>806</th>\n",
       "      <td>0.0</td>\n",
       "      <td>2.0</td>\n",
       "      <td>2.0</td>\n",
       "      <td>941_S_4420</td>\n",
       "      <td>2012-04-03</td>\n",
       "      <td>bl</td>\n",
       "    </tr>\n",
       "    <tr>\n",
       "      <th>807</th>\n",
       "      <td>2.0</td>\n",
       "      <td>4.0</td>\n",
       "      <td>2.0</td>\n",
       "      <td>941_S_4764</td>\n",
       "      <td>2012-06-11</td>\n",
       "      <td>bl</td>\n",
       "    </tr>\n",
       "  </tbody>\n",
       "</table>\n",
       "<p>808 rows × 6 columns</p>\n",
       "</div>"
      ],
      "text/plain": [
       "     subtype  stage   DX        PTID   EXAMDATE VISCODE\n",
       "0        0.0    3.0  2.0  002_S_0729 2007-02-22     m06\n",
       "1        2.0    2.0  2.0  002_S_0782 2007-03-28     m06\n",
       "2        1.0    4.0  2.0  002_S_0954 2007-05-03     m06\n",
       "3        2.0    3.0  2.0  002_S_1070 2006-12-11      bl\n",
       "4        3.0    4.0  2.0  002_S_1155 2011-12-23     m60\n",
       "..       ...    ...  ...         ...        ...     ...\n",
       "803      3.0    2.0  2.0  941_S_4100 2015-08-28     m48\n",
       "804      0.0    1.0  2.0  941_S_4187 2011-08-25      bl\n",
       "805      1.0    3.0  2.0  941_S_4377 2012-02-14      bl\n",
       "806      0.0    2.0  2.0  941_S_4420 2012-04-03      bl\n",
       "807      2.0    4.0  2.0  941_S_4764 2012-06-11      bl\n",
       "\n",
       "[808 rows x 6 columns]"
      ]
     },
     "execution_count": 40,
     "metadata": {},
     "output_type": "execute_result"
    }
   ],
   "source": [
    "mci_solved"
   ]
  },
  {
   "cell_type": "markdown",
   "id": "2653af22",
   "metadata": {},
   "source": [
    "### Directory path"
   ]
  },
  {
   "cell_type": "markdown",
   "id": "1e5608d1",
   "metadata": {},
   "source": [
    "# Prepare Longitudinal Data  with subtypes and stages"
   ]
  },
  {
   "cell_type": "code",
   "execution_count": 59,
   "id": "1311059d",
   "metadata": {},
   "outputs": [],
   "source": [
    "# Functions for reading longitudinal data and subtyping/staging\n",
    "def read_long(df_cnad, df_mci, k):\n",
    "    long_path = \"/nethome/rtandon32/ebm/ebm_experiments/experiment_scripts/real_data/TADPOLE_all_aligned/df_all_long_no_5_ventricle_adj.csv\"\n",
    "    df_long = pd.read_csv(long_path)\n",
    "    df_long[\"EXAMDATE\"] = pd.to_datetime(df_long[\"EXAMDATE\"])\n",
    "    assert all(df_long.columns[:k] == df_cnad.columns[:k])\n",
    "    cnad_ptid = df_cnad[\"PTID\"].tolist()\n",
    "    mci_ptid = df_mci[\"PTID\"].tolist()\n",
    "    df_long_cnad = df_long[df_long[\"sid\"].isin(cnad_ptid)]\n",
    "    df_long_mci = df_long[df_long[\"sid\"].isin(mci_ptid)]\n",
    "    return df_long, df_long_cnad, df_long_mci\n",
    "\n",
    "def subtype_stage(L_yes, L_no, pkl, n_stages, last_N=1000000, N_samples=1000):\n",
    "    sustainData_mci_long = sEBMSustainData(L_yes, L_no, n_stages)\n",
    "    samples_sequence = pkl[\"samples_sequence\"][:,:,-last_N:]\n",
    "    samples_f = pkl[\"samples_f\"][:,-last_N:]\n",
    "    shape_seq = pkl[\"shape_seq\"]\n",
    "    temp_mean_f = np.mean(samples_f, axis=1)\n",
    "    ix = np.argsort(temp_mean_f)[::-1]\n",
    "\n",
    "    ml_subtype, \\\n",
    "    prob_ml_subtype, \\\n",
    "    ml_stage, \\\n",
    "    prob_ml_stage, \\\n",
    "    prob_subtype, \\\n",
    "    prob_stage, \\\n",
    "    prob_subtype_stage,_ = sustain.subtype_and_stage_individuals(sustainData_mci_long, shape_seq, samples_sequence, samples_f, N_samples)\n",
    "    return ml_subtype, prob_ml_subtype, ml_stage, prob_ml_stage, prob_subtype, prob_stage, prob_subtype_stage\n",
    "\n",
    "# Read the long df (MCI and CNAD)\n",
    "k = 118\n",
    "df_long, df_long_cnad, df_long_mci = read_long(df_cnad, df_mci, k)\n",
    "\n",
    "# Get the prob_mat for MCI\n",
    "prob_mat_mci_long = mixture_model.get_prob_mat(df_long_mci.iloc[:,:k].values, mixture_models)\n",
    "L_no_mci_long = prob_mat_mci_long[:,:,0]\n",
    "L_yes_mci_long = prob_mat_mci_long[:,:,1]\n",
    "L_yes_mci_long = process_L(L_yes_mci_long)\n",
    "L_no_mci_long = process_L(L_no_mci_long)\n",
    "\n",
    "# Subtype and Stage the MCI subjects and subset them for the relevant columns\n",
    "ml_subtype_mci, prob_ml_subtype_mci, ml_stage_mci, \\\n",
    "prob_ml_stage_mci, prob_subtype_mci, prob_stage_mci, prob_subtype_stage_mci = subtype_stage(L_yes_mci_long, L_no_mci_long, pkl, n_stages)\n",
    "df_long_mci[\"subtype\"] = ml_subtype_mci\n",
    "df_long_mci[\"stage\"] = ml_stage_mci\n",
    "df_long_mci[\"RID\"] = df_long_mci[\"sid\"].apply(lambda x: int(x.split(\"_\")[-1]))\n",
    "df_long_mci[\"PTGENDER\"] = df_long_mci[\"PTGENDER\"].map({\"Female\":0, \"Male\":1})\n",
    "mci_subset = [\"subtype\", \"stage\", \"VISCODE\", \"EXAMDATE\", \"DX\", \"sid\", \"RID\", \"AGE\", \"PTGENDER\", \"PTEDUCAT\", \"APOE4\"]\n",
    "df_long_mci_subset = df_long_mci[mci_subset]"
   ]
  },
  {
   "cell_type": "code",
   "execution_count": 60,
   "id": "230e1a31",
   "metadata": {},
   "outputs": [
    {
     "ename": "ValueError",
     "evalue": "zero-size array to reduction operation minimum which has no identity",
     "output_type": "error",
     "traceback": [
      "\u001b[0;31m---------------------------------------------------------------------------\u001b[0m",
      "\u001b[0;31mValueError\u001b[0m                                Traceback (most recent call last)",
      "Cell \u001b[0;32mIn[60], line 4\u001b[0m\n\u001b[1;32m      2\u001b[0m L_no_cnad_long \u001b[38;5;241m=\u001b[39m prob_mat_cnad_long[:,:,\u001b[38;5;241m0\u001b[39m]\n\u001b[1;32m      3\u001b[0m L_yes_cnad_long \u001b[38;5;241m=\u001b[39m prob_mat_cnad_long[:,:,\u001b[38;5;241m1\u001b[39m]\n\u001b[0;32m----> 4\u001b[0m L_yes_cnad_long \u001b[38;5;241m=\u001b[39m \u001b[43mprocess_L\u001b[49m\u001b[43m(\u001b[49m\u001b[43mL_yes_cnad_long\u001b[49m\u001b[43m)\u001b[49m\n\u001b[1;32m      5\u001b[0m L_no_cnad_long \u001b[38;5;241m=\u001b[39m process_L(L_no_cnad_long)\n\u001b[1;32m      6\u001b[0m \u001b[38;5;66;03m# Subtype and Stage the CN/AD subjects and subset them for the relevant columns\u001b[39;00m\n",
      "Cell \u001b[0;32mIn[4], line 3\u001b[0m, in \u001b[0;36mprocess_L\u001b[0;34m(L, min_val)\u001b[0m\n\u001b[1;32m      1\u001b[0m \u001b[38;5;28;01mdef\u001b[39;00m \u001b[38;5;21mprocess_L\u001b[39m(L, min_val\u001b[38;5;241m=\u001b[39m\u001b[38;5;241m0\u001b[39m):\n\u001b[1;32m      2\u001b[0m     mx \u001b[38;5;241m=\u001b[39m ma\u001b[38;5;241m.\u001b[39mmasked_less_equal(L,min_val)\n\u001b[0;32m----> 3\u001b[0m     min_masked \u001b[38;5;241m=\u001b[39m \u001b[43mmx\u001b[49m\u001b[38;5;241;43m.\u001b[39;49m\u001b[43mmin\u001b[49m\u001b[43m(\u001b[49m\u001b[43maxis\u001b[49m\u001b[38;5;241;43m=\u001b[39;49m\u001b[38;5;241;43m0\u001b[39;49m\u001b[43m)\u001b[49m\n\u001b[1;32m      4\u001b[0m     L_new \u001b[38;5;241m=\u001b[39m mx\u001b[38;5;241m.\u001b[39mfilled(fill_value\u001b[38;5;241m=\u001b[39mmin_masked)\n\u001b[1;32m      5\u001b[0m     \u001b[38;5;28;01mreturn\u001b[39;00m L_new\n",
      "File \u001b[0;32m~/.conda/envs/sustain/lib/python3.9/site-packages/numpy/ma/core.py:5703\u001b[0m, in \u001b[0;36mMaskedArray.min\u001b[0;34m(self, axis, out, fill_value, keepdims)\u001b[0m\n\u001b[1;32m   5701\u001b[0m \u001b[38;5;66;03m# No explicit output\u001b[39;00m\n\u001b[1;32m   5702\u001b[0m \u001b[38;5;28;01mif\u001b[39;00m out \u001b[38;5;129;01mis\u001b[39;00m \u001b[38;5;28;01mNone\u001b[39;00m:\n\u001b[0;32m-> 5703\u001b[0m     result \u001b[38;5;241m=\u001b[39m \u001b[38;5;28;43mself\u001b[39;49m\u001b[38;5;241;43m.\u001b[39;49m\u001b[43mfilled\u001b[49m\u001b[43m(\u001b[49m\u001b[43mfill_value\u001b[49m\u001b[43m)\u001b[49m\u001b[38;5;241;43m.\u001b[39;49m\u001b[43mmin\u001b[49m\u001b[43m(\u001b[49m\n\u001b[1;32m   5704\u001b[0m \u001b[43m        \u001b[49m\u001b[43maxis\u001b[49m\u001b[38;5;241;43m=\u001b[39;49m\u001b[43maxis\u001b[49m\u001b[43m,\u001b[49m\u001b[43m \u001b[49m\u001b[43mout\u001b[49m\u001b[38;5;241;43m=\u001b[39;49m\u001b[43mout\u001b[49m\u001b[43m,\u001b[49m\u001b[43m \u001b[49m\u001b[38;5;241;43m*\u001b[39;49m\u001b[38;5;241;43m*\u001b[39;49m\u001b[43mkwargs\u001b[49m\u001b[43m)\u001b[49m\u001b[38;5;241m.\u001b[39mview(\u001b[38;5;28mtype\u001b[39m(\u001b[38;5;28mself\u001b[39m))\n\u001b[1;32m   5705\u001b[0m     \u001b[38;5;28;01mif\u001b[39;00m result\u001b[38;5;241m.\u001b[39mndim:\n\u001b[1;32m   5706\u001b[0m         \u001b[38;5;66;03m# Set the mask\u001b[39;00m\n\u001b[1;32m   5707\u001b[0m         result\u001b[38;5;241m.\u001b[39m__setmask__(newmask)\n",
      "File \u001b[0;32m~/.conda/envs/sustain/lib/python3.9/site-packages/numpy/core/_methods.py:44\u001b[0m, in \u001b[0;36m_amin\u001b[0;34m(a, axis, out, keepdims, initial, where)\u001b[0m\n\u001b[1;32m     42\u001b[0m \u001b[38;5;28;01mdef\u001b[39;00m \u001b[38;5;21m_amin\u001b[39m(a, axis\u001b[38;5;241m=\u001b[39m\u001b[38;5;28;01mNone\u001b[39;00m, out\u001b[38;5;241m=\u001b[39m\u001b[38;5;28;01mNone\u001b[39;00m, keepdims\u001b[38;5;241m=\u001b[39m\u001b[38;5;28;01mFalse\u001b[39;00m,\n\u001b[1;32m     43\u001b[0m           initial\u001b[38;5;241m=\u001b[39m_NoValue, where\u001b[38;5;241m=\u001b[39m\u001b[38;5;28;01mTrue\u001b[39;00m):\n\u001b[0;32m---> 44\u001b[0m     \u001b[38;5;28;01mreturn\u001b[39;00m \u001b[43mumr_minimum\u001b[49m\u001b[43m(\u001b[49m\u001b[43ma\u001b[49m\u001b[43m,\u001b[49m\u001b[43m \u001b[49m\u001b[43maxis\u001b[49m\u001b[43m,\u001b[49m\u001b[43m \u001b[49m\u001b[38;5;28;43;01mNone\u001b[39;49;00m\u001b[43m,\u001b[49m\u001b[43m \u001b[49m\u001b[43mout\u001b[49m\u001b[43m,\u001b[49m\u001b[43m \u001b[49m\u001b[43mkeepdims\u001b[49m\u001b[43m,\u001b[49m\u001b[43m \u001b[49m\u001b[43minitial\u001b[49m\u001b[43m,\u001b[49m\u001b[43m \u001b[49m\u001b[43mwhere\u001b[49m\u001b[43m)\u001b[49m\n",
      "\u001b[0;31mValueError\u001b[0m: zero-size array to reduction operation minimum which has no identity"
     ]
    }
   ],
   "source": [
    "prob_mat_cnad_long = mixture_model.get_prob_mat(df_long_cnad.iloc[:,:k].values, mixture_models)\n",
    "L_no_cnad_long = prob_mat_cnad_long[:,:,0]\n",
    "L_yes_cnad_long = prob_mat_cnad_long[:,:,1]\n",
    "L_yes_cnad_long = process_L(L_yes_cnad_long)\n",
    "L_no_cnad_long = process_L(L_no_cnad_long)\n",
    "# Subtype and Stage the CN/AD subjects and subset them for the relevant columns\n",
    "ml_subtype_cnad, prob_ml_subtype_cnad, ml_stage_cnad, \\\n",
    "prob_ml_stage_cnad, prob_subtype_cnad, prob_stage_cnad, prob_subtype_stage_cnad = subtype_stage(L_yes_cnad_long, L_no_cnad_long, pkl, n_stages)\n",
    "df_long_cnad[\"subtype\"] = ml_subtype_cnad\n",
    "df_long_cnad[\"stage\"] = ml_stage_cnad\n",
    "df_long_cnad[\"RID\"] = df_long_cnad[\"sid\"].apply(lambda x: int(x.split(\"_\")[-1]))\n",
    "df_long_cnad[\"PTGENDER\"] = df_long_cnad[\"PTGENDER\"].map({\"Female\":0, \"Male\":1})\n",
    "cnad_subset = [\"subtype\", \"stage\", \"VISCODE\", \"EXAMDATE\", \"DX\", \"sid\", \"RID\", \"AGE\", \"PTGENDER\", \"PTEDUCAT\", \"APOE4\"]\n",
    "df_long_cnad_subset = df_long_cnad[cnad_subset]"
   ]
  },
  {
   "cell_type": "code",
   "execution_count": 43,
   "id": "d544ce51",
   "metadata": {},
   "outputs": [],
   "source": [
    "df_long_all = pd.concat([df_long_cnad, df_long_mci], axis=0)"
   ]
  },
  {
   "cell_type": "markdown",
   "id": "73f92426",
   "metadata": {},
   "source": [
    "## Read the ADNIMERGE file "
   ]
  },
  {
   "cell_type": "code",
   "execution_count": 44,
   "id": "b9b2bab9",
   "metadata": {},
   "outputs": [],
   "source": [
    "# Read the ADNIMERGE file     \n",
    "adnimerge_path = \"/nethome/rtandon32/ebm/ebm_experiments/experiment_scripts/real_data/ADNIMERGE.csv\"\n",
    "df_adnimerge =pd.read_csv(adnimerge_path)\n",
    "df_adnimerge[\"EXAMDATE\"] = pd.to_datetime(df_adnimerge[\"EXAMDATE\"])"
   ]
  },
  {
   "cell_type": "code",
   "execution_count": 45,
   "id": "7794361b",
   "metadata": {},
   "outputs": [],
   "source": [
    "df_adnimerge[\"ABETA\"] = df_adnimerge[\"ABETA\"].replace([\">1700\",\"<200\"],[1700,200])\n",
    "df_adnimerge[\"ABETA\"] = df_adnimerge[\"ABETA\"].astype(float)\n",
    "df_adnimerge[\"TAU\"] = df_adnimerge[\"TAU\"].replace([\"<80\",\">1300\"],[80,1300])\n",
    "df_adnimerge[\"TAU\"] = df_adnimerge[\"TAU\"].astype(float)\n",
    "df_adnimerge[\"PTAU\"] = df_adnimerge[\"PTAU\"].replace([\"<8\", \">120\"],[8,120])\n",
    "df_adnimerge[\"PTAU\"] = df_adnimerge[\"PTAU\"].astype(float)"
   ]
  },
  {
   "cell_type": "code",
   "execution_count": 46,
   "id": "2d56a68e",
   "metadata": {},
   "outputs": [],
   "source": [
    "df_long_adnimerge = pd.merge(df_long_mci, df_adnimerge, on=[\"PTID\", \"EXAMDATE\"], how=\"inner\", suffixes=[None,\"_\"])\n",
    "df_long_adnimerge.sort_values(by=[\"PTID\", \"EXAMDATE\"], inplace=True)\n",
    "df_long_adnimerge[\"stage\"] = df_long_adnimerge[\"stage\"].astype(int)"
   ]
  },
  {
   "cell_type": "code",
   "execution_count": 47,
   "id": "cb2cc829",
   "metadata": {},
   "outputs": [],
   "source": [
    "df_long_all_adnimerge = pd.merge(df_long_all, df_adnimerge, on=[\"PTID\", \"EXAMDATE\"], how=\"inner\", suffixes=[None,\"_\"])\n",
    "df_long_all_adnimerge.sort_values(by=[\"PTID\", \"EXAMDATE\"], inplace=True)\n",
    "df_long_all_adnimerge[\"stage\"] = df_long_all_adnimerge[\"stage\"].astype(int)"
   ]
  },
  {
   "cell_type": "code",
   "execution_count": 48,
   "id": "0fbd03fa",
   "metadata": {},
   "outputs": [],
   "source": [
    "palette_color1=\"YlOrRd\"\n",
    "palette_subtype=\"hls\""
   ]
  },
  {
   "cell_type": "code",
   "execution_count": 49,
   "id": "ce7c2b5b",
   "metadata": {
    "scrolled": false
   },
   "outputs": [
    {
     "ename": "ValueError",
     "evalue": "Missing x value(s) `\"0\", \"3\", \"4\", \"5\"` in stage (specified in `pairs`) in data",
     "output_type": "error",
     "traceback": [
      "\u001b[0;31m---------------------------------------------------------------------------\u001b[0m",
      "\u001b[0;31mValueError\u001b[0m                                Traceback (most recent call last)",
      "Cell \u001b[0;32mIn[49], line 11\u001b[0m\n\u001b[1;32m      9\u001b[0m c \u001b[38;5;241m=\u001b[39m _\u001b[38;5;241m%\u001b[39m\u001b[38;5;241m3\u001b[39m\n\u001b[1;32m     10\u001b[0m sns\u001b[38;5;241m.\u001b[39mboxenplot(data\u001b[38;5;241m=\u001b[39mdf_mh_fld, x\u001b[38;5;241m=\u001b[39m\u001b[38;5;124m\"\u001b[39m\u001b[38;5;124mstage\u001b[39m\u001b[38;5;124m\"\u001b[39m, y\u001b[38;5;241m=\u001b[39mfld, ax\u001b[38;5;241m=\u001b[39max[r,c], palette\u001b[38;5;241m=\u001b[39mpalette_color1)\n\u001b[0;32m---> 11\u001b[0m annotator \u001b[38;5;241m=\u001b[39m \u001b[43mAnnotator\u001b[49m\u001b[43m(\u001b[49m\u001b[43max\u001b[49m\u001b[43m[\u001b[49m\u001b[43mr\u001b[49m\u001b[43m,\u001b[49m\u001b[43mc\u001b[49m\u001b[43m]\u001b[49m\u001b[43m,\u001b[49m\u001b[43m \u001b[49m\u001b[43mpairs\u001b[49m\u001b[43m,\u001b[49m\u001b[43m \u001b[49m\u001b[43mdata\u001b[49m\u001b[38;5;241;43m=\u001b[39;49m\u001b[43mdf_mh_fld\u001b[49m\u001b[43m,\u001b[49m\u001b[43m \u001b[49m\u001b[43mx\u001b[49m\u001b[38;5;241;43m=\u001b[39;49m\u001b[38;5;124;43m\"\u001b[39;49m\u001b[38;5;124;43mstage\u001b[39;49m\u001b[38;5;124;43m\"\u001b[39;49m\u001b[43m,\u001b[49m\u001b[43m \u001b[49m\u001b[43my\u001b[49m\u001b[38;5;241;43m=\u001b[39;49m\u001b[43mfld\u001b[49m\u001b[43m)\u001b[49m\n\u001b[1;32m     12\u001b[0m annotator\u001b[38;5;241m.\u001b[39m_pvalue_format\u001b[38;5;241m.\u001b[39mpvalue_thresholds \u001b[38;5;241m=\u001b[39m  [[\u001b[38;5;241m5e-2\u001b[39m, \u001b[38;5;124m'\u001b[39m\u001b[38;5;124m*\u001b[39m\u001b[38;5;124m'\u001b[39m], [\u001b[38;5;241m5e-3\u001b[39m, \u001b[38;5;124m'\u001b[39m\u001b[38;5;124m**\u001b[39m\u001b[38;5;124m'\u001b[39m], [\u001b[38;5;241m5e-4\u001b[39m, \u001b[38;5;124m'\u001b[39m\u001b[38;5;124m***\u001b[39m\u001b[38;5;124m'\u001b[39m], [\u001b[38;5;241m5e-5\u001b[39m, \u001b[38;5;124m'\u001b[39m\u001b[38;5;124m****\u001b[39m\u001b[38;5;124m'\u001b[39m], [\u001b[38;5;241m1\u001b[39m, \u001b[38;5;124m'\u001b[39m\u001b[38;5;124mns\u001b[39m\u001b[38;5;124m'\u001b[39m]]\n\u001b[1;32m     13\u001b[0m annotator\u001b[38;5;241m.\u001b[39mconfigure(test\u001b[38;5;241m=\u001b[39m\u001b[38;5;124m'\u001b[39m\u001b[38;5;124mMann-Whitney\u001b[39m\u001b[38;5;124m'\u001b[39m, text_format\u001b[38;5;241m=\u001b[39m\u001b[38;5;124m'\u001b[39m\u001b[38;5;124mstar\u001b[39m\u001b[38;5;124m'\u001b[39m, \n\u001b[1;32m     14\u001b[0m                     loc\u001b[38;5;241m=\u001b[39m\u001b[38;5;124m'\u001b[39m\u001b[38;5;124minside\u001b[39m\u001b[38;5;124m'\u001b[39m,comparisons_correction\u001b[38;5;241m=\u001b[39m\u001b[38;5;124m\"\u001b[39m\u001b[38;5;124mBenjamini-Hochberg\u001b[39m\u001b[38;5;124m\"\u001b[39m)\n",
      "File \u001b[0;32m~/.conda/envs/sustain/lib/python3.9/site-packages/statannotations/Annotator.py:108\u001b[0m, in \u001b[0;36mAnnotator.__init__\u001b[0;34m(self, ax, pairs, plot, data, x, y, hue, order, hue_order, engine, verbose, **plot_params)\u001b[0m\n\u001b[1;32m    106\u001b[0m     \u001b[38;5;28mself\u001b[39m\u001b[38;5;241m.\u001b[39m_plotter \u001b[38;5;241m=\u001b[39m \u001b[38;5;28;01mNone\u001b[39;00m\n\u001b[1;32m    107\u001b[0m \u001b[38;5;28;01melse\u001b[39;00m:\n\u001b[0;32m--> 108\u001b[0m     \u001b[38;5;28mself\u001b[39m\u001b[38;5;241m.\u001b[39m_plotter \u001b[38;5;241m=\u001b[39m \u001b[38;5;28;43mself\u001b[39;49m\u001b[38;5;241;43m.\u001b[39;49m\u001b[43m_get_plotter\u001b[49m\u001b[43m(\u001b[49m\u001b[43mengine\u001b[49m\u001b[43m,\u001b[49m\u001b[43m \u001b[49m\u001b[43max\u001b[49m\u001b[43m,\u001b[49m\u001b[43m \u001b[49m\u001b[43mpairs\u001b[49m\u001b[43m,\u001b[49m\u001b[43m \u001b[49m\u001b[43mplot\u001b[49m\u001b[43m,\u001b[49m\u001b[43m \u001b[49m\u001b[43mdata\u001b[49m\u001b[43m,\u001b[49m\n\u001b[1;32m    109\u001b[0m \u001b[43m                                      \u001b[49m\u001b[43mx\u001b[49m\u001b[43m,\u001b[49m\u001b[43m \u001b[49m\u001b[43my\u001b[49m\u001b[43m,\u001b[49m\u001b[43m \u001b[49m\u001b[43mhue\u001b[49m\u001b[43m,\u001b[49m\u001b[43m \u001b[49m\u001b[43morder\u001b[49m\u001b[43m,\u001b[49m\u001b[43m \u001b[49m\u001b[43mhue_order\u001b[49m\u001b[43m,\u001b[49m\n\u001b[1;32m    110\u001b[0m \u001b[43m                                      \u001b[49m\u001b[43mverbose\u001b[49m\u001b[38;5;241;43m=\u001b[39;49m\u001b[43mverbose\u001b[49m\u001b[43m,\u001b[49m\u001b[43m \u001b[49m\u001b[38;5;241;43m*\u001b[39;49m\u001b[38;5;241;43m*\u001b[39;49m\u001b[43mplot_params\u001b[49m\u001b[43m)\u001b[49m\n\u001b[1;32m    112\u001b[0m \u001b[38;5;28mself\u001b[39m\u001b[38;5;241m.\u001b[39m_test \u001b[38;5;241m=\u001b[39m \u001b[38;5;28;01mNone\u001b[39;00m\n\u001b[1;32m    113\u001b[0m \u001b[38;5;28mself\u001b[39m\u001b[38;5;241m.\u001b[39mperform_stat_test \u001b[38;5;241m=\u001b[39m \u001b[38;5;28;01mNone\u001b[39;00m\n",
      "File \u001b[0;32m~/.conda/envs/sustain/lib/python3.9/site-packages/statannotations/Annotator.py:784\u001b[0m, in \u001b[0;36mAnnotator._get_plotter\u001b[0;34m(engine, *args, **kwargs)\u001b[0m\n\u001b[1;32m    782\u001b[0m \u001b[38;5;28;01mif\u001b[39;00m engine_plotter \u001b[38;5;129;01mis\u001b[39;00m \u001b[38;5;28;01mNone\u001b[39;00m:\n\u001b[1;32m    783\u001b[0m     \u001b[38;5;28;01mraise\u001b[39;00m \u001b[38;5;167;01mNotImplementedError\u001b[39;00m(\u001b[38;5;124mf\u001b[39m\u001b[38;5;124m\"\u001b[39m\u001b[38;5;132;01m{\u001b[39;00mengine\u001b[38;5;132;01m}\u001b[39;00m\u001b[38;5;124m engine not implemented.\u001b[39m\u001b[38;5;124m\"\u001b[39m)\n\u001b[0;32m--> 784\u001b[0m \u001b[38;5;28;01mreturn\u001b[39;00m \u001b[43mengine_plotter\u001b[49m\u001b[43m(\u001b[49m\u001b[38;5;241;43m*\u001b[39;49m\u001b[43margs\u001b[49m\u001b[43m,\u001b[49m\u001b[43m \u001b[49m\u001b[38;5;241;43m*\u001b[39;49m\u001b[38;5;241;43m*\u001b[39;49m\u001b[43mkwargs\u001b[49m\u001b[43m)\u001b[49m\n",
      "File \u001b[0;32m~/.conda/envs/sustain/lib/python3.9/site-packages/statannotations/_Plotter.py:82\u001b[0m, in \u001b[0;36m_SeabornPlotter.__init__\u001b[0;34m(self, ax, pairs, plot, data, x, y, hue, order, hue_order, verbose, **plot_params)\u001b[0m\n\u001b[1;32m     78\u001b[0m \u001b[38;5;28;01mdef\u001b[39;00m \u001b[38;5;21m__init__\u001b[39m(\u001b[38;5;28mself\u001b[39m, ax, pairs, plot\u001b[38;5;241m=\u001b[39m\u001b[38;5;124m'\u001b[39m\u001b[38;5;124mboxplot\u001b[39m\u001b[38;5;124m'\u001b[39m, data\u001b[38;5;241m=\u001b[39m\u001b[38;5;28;01mNone\u001b[39;00m, x\u001b[38;5;241m=\u001b[39m\u001b[38;5;28;01mNone\u001b[39;00m,\n\u001b[1;32m     79\u001b[0m              y\u001b[38;5;241m=\u001b[39m\u001b[38;5;28;01mNone\u001b[39;00m, hue\u001b[38;5;241m=\u001b[39m\u001b[38;5;28;01mNone\u001b[39;00m, order\u001b[38;5;241m=\u001b[39m\u001b[38;5;28;01mNone\u001b[39;00m, hue_order\u001b[38;5;241m=\u001b[39m\u001b[38;5;28;01mNone\u001b[39;00m, verbose\u001b[38;5;241m=\u001b[39m\u001b[38;5;28;01mFalse\u001b[39;00m,\n\u001b[1;32m     80\u001b[0m              \u001b[38;5;241m*\u001b[39m\u001b[38;5;241m*\u001b[39mplot_params):\n\u001b[0;32m---> 82\u001b[0m     \u001b[43m_Plotter\u001b[49m\u001b[38;5;241;43m.\u001b[39;49m\u001b[38;5;21;43m__init__\u001b[39;49m\u001b[43m(\u001b[49m\u001b[38;5;28;43mself\u001b[39;49m\u001b[43m,\u001b[49m\u001b[43m \u001b[49m\u001b[43max\u001b[49m\u001b[43m,\u001b[49m\u001b[43m \u001b[49m\u001b[43mpairs\u001b[49m\u001b[43m,\u001b[49m\u001b[43m \u001b[49m\u001b[43mdata\u001b[49m\u001b[43m,\u001b[49m\u001b[43m \u001b[49m\u001b[43mx\u001b[49m\u001b[43m,\u001b[49m\u001b[43m \u001b[49m\u001b[43my\u001b[49m\u001b[43m,\u001b[49m\u001b[43m \u001b[49m\u001b[43mhue\u001b[49m\u001b[43m,\u001b[49m\u001b[43m \u001b[49m\u001b[43morder\u001b[49m\u001b[43m,\u001b[49m\u001b[43m \u001b[49m\u001b[43mhue_order\u001b[49m\u001b[43m,\u001b[49m\n\u001b[1;32m     83\u001b[0m \u001b[43m                      \u001b[49m\u001b[43mverbose\u001b[49m\u001b[43m,\u001b[49m\u001b[43m \u001b[49m\u001b[38;5;241;43m*\u001b[39;49m\u001b[38;5;241;43m*\u001b[39;49m\u001b[43mplot_params\u001b[49m\u001b[43m)\u001b[49m\n\u001b[1;32m     85\u001b[0m     \u001b[38;5;28mself\u001b[39m\u001b[38;5;241m.\u001b[39mcheck_plot_is_implemented(plot)\n\u001b[1;32m     86\u001b[0m     \u001b[38;5;28mself\u001b[39m\u001b[38;5;241m.\u001b[39mplot \u001b[38;5;241m=\u001b[39m plot\n",
      "File \u001b[0;32m~/.conda/envs/sustain/lib/python3.9/site-packages/statannotations/_Plotter.py:28\u001b[0m, in \u001b[0;36m_Plotter.__init__\u001b[0;34m(self, ax, pairs, data, x, y, hue, order, hue_order, verbose, **plot_params)\u001b[0m\n\u001b[1;32m     26\u001b[0m group_coord \u001b[38;5;241m=\u001b[39m y \u001b[38;5;28;01mif\u001b[39;00m plot_params\u001b[38;5;241m.\u001b[39mget(\u001b[38;5;124m\"\u001b[39m\u001b[38;5;124morient\u001b[39m\u001b[38;5;124m\"\u001b[39m) \u001b[38;5;241m==\u001b[39m \u001b[38;5;124m\"\u001b[39m\u001b[38;5;124mh\u001b[39m\u001b[38;5;124m\"\u001b[39m \u001b[38;5;28;01melse\u001b[39;00m x\n\u001b[1;32m     27\u001b[0m check_order_in_data(data, group_coord, order)\n\u001b[0;32m---> 28\u001b[0m \u001b[43mcheck_pairs_in_data\u001b[49m\u001b[43m(\u001b[49m\u001b[43mpairs\u001b[49m\u001b[43m,\u001b[49m\u001b[43m \u001b[49m\u001b[43mdata\u001b[49m\u001b[43m,\u001b[49m\u001b[43m \u001b[49m\u001b[43mgroup_coord\u001b[49m\u001b[43m,\u001b[49m\u001b[43m \u001b[49m\u001b[43mhue\u001b[49m\u001b[43m,\u001b[49m\u001b[43m \u001b[49m\u001b[43mhue_order\u001b[49m\u001b[43m)\u001b[49m\n\u001b[1;32m     29\u001b[0m \u001b[38;5;28mself\u001b[39m\u001b[38;5;241m.\u001b[39mpairs \u001b[38;5;241m=\u001b[39m pairs\n\u001b[1;32m     30\u001b[0m \u001b[38;5;28mself\u001b[39m\u001b[38;5;241m.\u001b[39m_struct_pairs \u001b[38;5;241m=\u001b[39m \u001b[38;5;28;01mNone\u001b[39;00m\n",
      "File \u001b[0;32m~/.conda/envs/sustain/lib/python3.9/site-packages/statannotations/utils.py:130\u001b[0m, in \u001b[0;36mcheck_pairs_in_data\u001b[0;34m(pairs, data, coord, hue, hue_order)\u001b[0m\n\u001b[1;32m    125\u001b[0m \u001b[38;5;250m\u001b[39m\u001b[38;5;124;03m\"\"\"\u001b[39;00m\n\u001b[1;32m    126\u001b[0m \u001b[38;5;124;03mChecks that values referred to in `order` and `pairs` exist in data.\u001b[39;00m\n\u001b[1;32m    127\u001b[0m \u001b[38;5;124;03m\"\"\"\u001b[39;00m\n\u001b[1;32m    129\u001b[0m \u001b[38;5;28;01mif\u001b[39;00m hue \u001b[38;5;129;01mis\u001b[39;00m \u001b[38;5;28;01mNone\u001b[39;00m \u001b[38;5;129;01mand\u001b[39;00m hue_order \u001b[38;5;129;01mis\u001b[39;00m \u001b[38;5;28;01mNone\u001b[39;00m:\n\u001b[0;32m--> 130\u001b[0m     \u001b[43m_check_pairs_in_data_no_hue\u001b[49m\u001b[43m(\u001b[49m\u001b[43mpairs\u001b[49m\u001b[43m,\u001b[49m\u001b[43m \u001b[49m\u001b[43mdata\u001b[49m\u001b[43m,\u001b[49m\u001b[43m \u001b[49m\u001b[43mcoord\u001b[49m\u001b[43m)\u001b[49m\n\u001b[1;32m    131\u001b[0m \u001b[38;5;28;01melse\u001b[39;00m:\n\u001b[1;32m    132\u001b[0m     hue_values \u001b[38;5;241m=\u001b[39m _check_pairs_in_data_with_hue(pairs, data, coord, hue)\n",
      "File \u001b[0;32m~/.conda/envs/sustain/lib/python3.9/site-packages/statannotations/utils.py:77\u001b[0m, in \u001b[0;36m_check_pairs_in_data_no_hue\u001b[0;34m(pairs, data, x)\u001b[0m\n\u001b[1;32m     75\u001b[0m unmatched_x_values \u001b[38;5;241m=\u001b[39m pairs_x_values \u001b[38;5;241m-\u001b[39m x_values\n\u001b[1;32m     76\u001b[0m \u001b[38;5;28;01mif\u001b[39;00m unmatched_x_values:\n\u001b[0;32m---> 77\u001b[0m     \u001b[38;5;28;01mraise\u001b[39;00m \u001b[38;5;167;01mValueError\u001b[39;00m(\u001b[38;5;124mf\u001b[39m\u001b[38;5;124m\"\u001b[39m\u001b[38;5;124mMissing x value(s) \u001b[39m\u001b[38;5;124m\"\u001b[39m\n\u001b[1;32m     78\u001b[0m                      \u001b[38;5;124mf\u001b[39m\u001b[38;5;124m\"\u001b[39m\u001b[38;5;124m`\u001b[39m\u001b[38;5;132;01m{\u001b[39;00mrender_collection(unmatched_x_values)\u001b[38;5;132;01m}\u001b[39;00m\u001b[38;5;124m` in \u001b[39m\u001b[38;5;132;01m{\u001b[39;00mx\u001b[38;5;132;01m}\u001b[39;00m\u001b[38;5;124m\"\u001b[39m\n\u001b[1;32m     79\u001b[0m                      \u001b[38;5;124mf\u001b[39m\u001b[38;5;124m\"\u001b[39m\u001b[38;5;124m (specified in `pairs`) in data\u001b[39m\u001b[38;5;124m\"\u001b[39m)\n",
      "\u001b[0;31mValueError\u001b[0m: Missing x value(s) `\"0\", \"3\", \"4\", \"5\"` in stage (specified in `pairs`) in data"
     ]
    },
    {
     "data": {
      "image/png": "[encoded data removed]",
      "text/plain": [
       "<Figure size 600x400 with 6 Axes>"
      ]
     },
     "metadata": {},
     "output_type": "display_data"
    }
   ],
   "source": [
    "flds = [\"CDRSB\", \"ADAS11\", \"ADAS13\", \"MOCA\", \"MMSE\", \"mPACCtrailsB\"]\n",
    "\n",
    "pairs = [(0,1),(1,2),(2,3),(3,4),(4,5)]\n",
    "fig, ax = plt.subplots(2,3, sharex=True, sharey=False, figsize=(6,4))\n",
    "test_name = \"composite_neuropsych_score_stat_annotator\"\n",
    "for _,fld in enumerate(flds):\n",
    "    df_mh_fld = process_df(df_long_adnimerge, fld)\n",
    "    r = _//3\n",
    "    c = _%3\n",
    "    sns.boxenplot(data=df_mh_fld, x=\"stage\", y=fld, ax=ax[r,c], palette=palette_color1)\n",
    "    annotator = Annotator(ax[r,c], pairs, data=df_mh_fld, x=\"stage\", y=fld)\n",
    "    annotator._pvalue_format.pvalue_thresholds =  [[5e-2, '*'], [5e-3, '**'], [5e-4, '***'], [5e-5, '****'], [1, 'ns']]\n",
    "    annotator.configure(test='Mann-Whitney', text_format='star', \n",
    "                        loc='inside',comparisons_correction=\"Benjamini-Hochberg\")\n",
    "    annotator.apply_and_annotate()\n",
    "    ax[r,c].set_ylabel(\"\")\n",
    "    ax[r,c].set_title(fld, fontsize=12)\n",
    "    ax[r,c].spines[['right', 'top']].set_visible(False)\n",
    "    ax[r,c].ticklabel_format(style='scientific', axis='y', scilimits=(0,0), useMathText=True)\n",
    "fig.tight_layout()\n",
    "fig.savefig(os.path.join(dir_path, \"{}.png\".format(test_name)), dpi=300)"
   ]
  },
  {
   "cell_type": "code",
   "execution_count": 50,
   "id": "65879499",
   "metadata": {},
   "outputs": [],
   "source": [
    "box_props = dict(edgecolor=\"red\")"
   ]
  },
  {
   "cell_type": "markdown",
   "id": "6e162305",
   "metadata": {},
   "source": [
    "# Individual fields (MOCA)"
   ]
  },
  {
   "cell_type": "code",
   "execution_count": 51,
   "id": "8db90d11",
   "metadata": {},
   "outputs": [
    {
     "data": {
      "text/plain": [
       "'0.10.1'"
      ]
     },
     "execution_count": 51,
     "metadata": {},
     "output_type": "execute_result"
    }
   ],
   "source": [
    "sns.__version__"
   ]
  },
  {
   "cell_type": "code",
   "execution_count": 52,
   "id": "365f28c7",
   "metadata": {},
   "outputs": [
    {
     "data": {
      "image/png": "[encoded data removed]",
      "text/plain": [
       "<Figure size 600x400 with 6 Axes>"
      ]
     },
     "metadata": {},
     "output_type": "display_data"
    }
   ],
   "source": [
    "flds = [\"CDRSB\", \"ADAS11\", \"ADAS13\", \"MOCA\", \"MMSE\", \"mPACCtrailsB\"]\n",
    "fig, ax = plt.subplots(2,3, sharex=True, sharey=False, figsize=(6,4))\n",
    "test_name = \"composite_neuropsych_score\"\n",
    "for _,fld in enumerate(flds):\n",
    "    df_mh_fld = process_df(df_long_adnimerge, fld)\n",
    "    r = _//3\n",
    "    c = _%3\n",
    "    sns.boxenplot(data=df_mh_fld, x=\"stage\", y=fld, ax=ax[r,c], palette=palette_color1)\n",
    "    ax[r,c].set_ylabel(\"\")\n",
    "    ax[r,c].set_title(fld, fontsize=12)\n",
    "    ax[r,c].spines[['right', 'top']].set_visible(False)\n",
    "    ax[r,c].ticklabel_format(style='scientific', axis='y', scilimits=(0,0), useMathText=True)\n",
    "fig.tight_layout()\n",
    "fig.savefig(os.path.join(dir_path, \"{}.png\".format(test_name)), dpi=300)"
   ]
  },
  {
   "cell_type": "code",
   "execution_count": 53,
   "id": "e1d41025",
   "metadata": {},
   "outputs": [
    {
     "ename": "KeyError",
     "evalue": "'[0, 1, 2] not in index'",
     "output_type": "error",
     "traceback": [
      "\u001b[0;31m---------------------------------------------------------------------------\u001b[0m",
      "\u001b[0;31mKeyError\u001b[0m                                  Traceback (most recent call last)",
      "Cell \u001b[0;32mIn[53], line 6\u001b[0m\n\u001b[1;32m      4\u001b[0m stats_df_list \u001b[38;5;241m=\u001b[39m []\n\u001b[1;32m      5\u001b[0m \u001b[38;5;28;01mfor\u001b[39;00m fld \u001b[38;5;129;01min\u001b[39;00m flds:\n\u001b[0;32m----> 6\u001b[0m     df_xx \u001b[38;5;241m=\u001b[39m \u001b[43mregress_score\u001b[49m\u001b[43m(\u001b[49m\u001b[43mdf_long_adnimerge\u001b[49m\u001b[43m,\u001b[49m\u001b[43m \u001b[49m\u001b[43mfld\u001b[49m\u001b[43m,\u001b[49m\u001b[43m \u001b[49m\u001b[43m[\u001b[49m\u001b[38;5;124;43m\"\u001b[39;49m\u001b[38;5;124;43mAGE\u001b[39;49m\u001b[38;5;124;43m\"\u001b[39;49m\u001b[43m,\u001b[49m\u001b[43m \u001b[49m\u001b[38;5;124;43m\"\u001b[39;49m\u001b[38;5;124;43mPTGENDER\u001b[39;49m\u001b[38;5;124;43m\"\u001b[39;49m\u001b[43m,\u001b[49m\u001b[43m \u001b[49m\u001b[38;5;124;43m\"\u001b[39;49m\u001b[38;5;124;43mPTEDUCAT\u001b[39;49m\u001b[38;5;124;43m\"\u001b[39;49m\u001b[43m,\u001b[49m\u001b[43m \u001b[49m\u001b[38;5;124;43m\"\u001b[39;49m\u001b[38;5;124;43mAPOE4\u001b[39;49m\u001b[38;5;124;43m\"\u001b[39;49m\u001b[43m,\u001b[49m\u001b[38;5;124;43m\"\u001b[39;49m\u001b[38;5;124;43mstage\u001b[39;49m\u001b[38;5;124;43m\"\u001b[39;49m\u001b[43m,\u001b[49m\u001b[43m \u001b[49m\u001b[38;5;124;43m\"\u001b[39;49m\u001b[38;5;124;43mRID\u001b[39;49m\u001b[38;5;124;43m\"\u001b[39;49m\u001b[43m]\u001b[49m\u001b[43m)\u001b[49m\n\u001b[1;32m      7\u001b[0m     df_xx\u001b[38;5;241m.\u001b[39mdropna(inplace\u001b[38;5;241m=\u001b[39m\u001b[38;5;28;01mTrue\u001b[39;00m)\n\u001b[1;32m      8\u001b[0m     stats_df1 \u001b[38;5;241m=\u001b[39m regress_OLS(df_xx, fld, cov1)\n",
      "Cell \u001b[0;32mIn[23], line 13\u001b[0m, in \u001b[0;36mregress_score\u001b[0;34m(df, field, covariates, examdate, n_subtypes)\u001b[0m\n\u001b[1;32m     11\u001b[0m df_fld\u001b[38;5;241m.\u001b[39mdrop_duplicates(\u001b[38;5;124m\"\u001b[39m\u001b[38;5;124msid\u001b[39m\u001b[38;5;124m\"\u001b[39m, keep\u001b[38;5;241m=\u001b[39m\u001b[38;5;124m\"\u001b[39m\u001b[38;5;124mfirst\u001b[39m\u001b[38;5;124m\"\u001b[39m, inplace\u001b[38;5;241m=\u001b[39m\u001b[38;5;28;01mTrue\u001b[39;00m)\n\u001b[1;32m     12\u001b[0m one_hot_cols \u001b[38;5;241m=\u001b[39m pd\u001b[38;5;241m.\u001b[39mget_dummies(df_fld[\u001b[38;5;124m\"\u001b[39m\u001b[38;5;124msubtype\u001b[39m\u001b[38;5;124m\"\u001b[39m])\n\u001b[0;32m---> 13\u001b[0m one_hot_cols \u001b[38;5;241m=\u001b[39m \u001b[43mone_hot_cols\u001b[49m\u001b[43m[\u001b[49m\u001b[43msubtypes\u001b[49m\u001b[43m]\u001b[49m\n\u001b[1;32m     14\u001b[0m new_cols \u001b[38;5;241m=\u001b[39m [\u001b[38;5;124m\"\u001b[39m\u001b[38;5;124mst\u001b[39m\u001b[38;5;132;01m{}\u001b[39;00m\u001b[38;5;124m\"\u001b[39m\u001b[38;5;241m.\u001b[39mformat(_) \u001b[38;5;28;01mfor\u001b[39;00m _ \u001b[38;5;129;01min\u001b[39;00m subtypes]\n\u001b[1;32m     15\u001b[0m one_hot_cols\u001b[38;5;241m.\u001b[39mcolumns \u001b[38;5;241m=\u001b[39m new_cols\n",
      "File \u001b[0;32m~/.conda/envs/sustain/lib/python3.9/site-packages/pandas/core/frame.py:3811\u001b[0m, in \u001b[0;36mDataFrame.__getitem__\u001b[0;34m(self, key)\u001b[0m\n\u001b[1;32m   3809\u001b[0m     \u001b[38;5;28;01mif\u001b[39;00m is_iterator(key):\n\u001b[1;32m   3810\u001b[0m         key \u001b[38;5;241m=\u001b[39m \u001b[38;5;28mlist\u001b[39m(key)\n\u001b[0;32m-> 3811\u001b[0m     indexer \u001b[38;5;241m=\u001b[39m \u001b[38;5;28;43mself\u001b[39;49m\u001b[38;5;241;43m.\u001b[39;49m\u001b[43mcolumns\u001b[49m\u001b[38;5;241;43m.\u001b[39;49m\u001b[43m_get_indexer_strict\u001b[49m\u001b[43m(\u001b[49m\u001b[43mkey\u001b[49m\u001b[43m,\u001b[49m\u001b[43m \u001b[49m\u001b[38;5;124;43m\"\u001b[39;49m\u001b[38;5;124;43mcolumns\u001b[39;49m\u001b[38;5;124;43m\"\u001b[39;49m\u001b[43m)\u001b[49m[\u001b[38;5;241m1\u001b[39m]\n\u001b[1;32m   3813\u001b[0m \u001b[38;5;66;03m# take() does not accept boolean indexers\u001b[39;00m\n\u001b[1;32m   3814\u001b[0m \u001b[38;5;28;01mif\u001b[39;00m \u001b[38;5;28mgetattr\u001b[39m(indexer, \u001b[38;5;124m\"\u001b[39m\u001b[38;5;124mdtype\u001b[39m\u001b[38;5;124m\"\u001b[39m, \u001b[38;5;28;01mNone\u001b[39;00m) \u001b[38;5;241m==\u001b[39m \u001b[38;5;28mbool\u001b[39m:\n",
      "File \u001b[0;32m~/.conda/envs/sustain/lib/python3.9/site-packages/pandas/core/indexes/base.py:6113\u001b[0m, in \u001b[0;36mIndex._get_indexer_strict\u001b[0;34m(self, key, axis_name)\u001b[0m\n\u001b[1;32m   6110\u001b[0m \u001b[38;5;28;01melse\u001b[39;00m:\n\u001b[1;32m   6111\u001b[0m     keyarr, indexer, new_indexer \u001b[38;5;241m=\u001b[39m \u001b[38;5;28mself\u001b[39m\u001b[38;5;241m.\u001b[39m_reindex_non_unique(keyarr)\n\u001b[0;32m-> 6113\u001b[0m \u001b[38;5;28;43mself\u001b[39;49m\u001b[38;5;241;43m.\u001b[39;49m\u001b[43m_raise_if_missing\u001b[49m\u001b[43m(\u001b[49m\u001b[43mkeyarr\u001b[49m\u001b[43m,\u001b[49m\u001b[43m \u001b[49m\u001b[43mindexer\u001b[49m\u001b[43m,\u001b[49m\u001b[43m \u001b[49m\u001b[43maxis_name\u001b[49m\u001b[43m)\u001b[49m\n\u001b[1;32m   6115\u001b[0m keyarr \u001b[38;5;241m=\u001b[39m \u001b[38;5;28mself\u001b[39m\u001b[38;5;241m.\u001b[39mtake(indexer)\n\u001b[1;32m   6116\u001b[0m \u001b[38;5;28;01mif\u001b[39;00m \u001b[38;5;28misinstance\u001b[39m(key, Index):\n\u001b[1;32m   6117\u001b[0m     \u001b[38;5;66;03m# GH 42790 - Preserve name from an Index\u001b[39;00m\n",
      "File \u001b[0;32m~/.conda/envs/sustain/lib/python3.9/site-packages/pandas/core/indexes/base.py:6176\u001b[0m, in \u001b[0;36mIndex._raise_if_missing\u001b[0;34m(self, key, indexer, axis_name)\u001b[0m\n\u001b[1;32m   6173\u001b[0m     \u001b[38;5;28;01mraise\u001b[39;00m \u001b[38;5;167;01mKeyError\u001b[39;00m(\u001b[38;5;124mf\u001b[39m\u001b[38;5;124m\"\u001b[39m\u001b[38;5;124mNone of [\u001b[39m\u001b[38;5;132;01m{\u001b[39;00mkey\u001b[38;5;132;01m}\u001b[39;00m\u001b[38;5;124m] are in the [\u001b[39m\u001b[38;5;132;01m{\u001b[39;00maxis_name\u001b[38;5;132;01m}\u001b[39;00m\u001b[38;5;124m]\u001b[39m\u001b[38;5;124m\"\u001b[39m)\n\u001b[1;32m   6175\u001b[0m not_found \u001b[38;5;241m=\u001b[39m \u001b[38;5;28mlist\u001b[39m(ensure_index(key)[missing_mask\u001b[38;5;241m.\u001b[39mnonzero()[\u001b[38;5;241m0\u001b[39m]]\u001b[38;5;241m.\u001b[39munique())\n\u001b[0;32m-> 6176\u001b[0m \u001b[38;5;28;01mraise\u001b[39;00m \u001b[38;5;167;01mKeyError\u001b[39;00m(\u001b[38;5;124mf\u001b[39m\u001b[38;5;124m\"\u001b[39m\u001b[38;5;132;01m{\u001b[39;00mnot_found\u001b[38;5;132;01m}\u001b[39;00m\u001b[38;5;124m not in index\u001b[39m\u001b[38;5;124m\"\u001b[39m)\n",
      "\u001b[0;31mKeyError\u001b[0m: '[0, 1, 2] not in index'"
     ]
    }
   ],
   "source": [
    "test_name = \"composite_neuropsych_score_stat\"\n",
    "cov1 = [\"PTGENDER\", \"APOE4\", \"PTEDUCAT\",\"AGE\",\"stage\",\"st1\", \"st2\", \"st3\"]\n",
    "cov2 = [\"PTGENDER\", \"APOE4\", \"PTEDUCAT\",\"AGE\"]\n",
    "stats_df_list = []\n",
    "for fld in flds:\n",
    "    df_xx = regress_score(df_long_adnimerge, fld, [\"AGE\", \"PTGENDER\", \"PTEDUCAT\", \"APOE4\",\"stage\", \"RID\"])\n",
    "    df_xx.dropna(inplace=True)\n",
    "    stats_df1 = regress_OLS(df_xx, fld, cov1)\n",
    "    stats_df1[\"n-cov\"] = \"incl-sustain\"\n",
    "    stats_df2 = regress_OLS(df_xx, fld, cov2)\n",
    "    stats_df2[\"n-cov\"] = \"excl-sustain\"\n",
    "    stats_df_list += [stats_df1, stats_df2]\n",
    "stats_df_all = pd.concat(stats_df_list, axis=0)\n",
    "stats_df_all.to_csv(os.path.join(dir_path,\"stats_{}.csv\".format(test_name)))"
   ]
  },
  {
   "cell_type": "code",
   "execution_count": 54,
   "id": "d9c0cf18",
   "metadata": {},
   "outputs": [
    {
     "ename": "NameError",
     "evalue": "name 'stats_df_all' is not defined",
     "output_type": "error",
     "traceback": [
      "\u001b[0;31m---------------------------------------------------------------------------\u001b[0m",
      "\u001b[0;31mNameError\u001b[0m                                 Traceback (most recent call last)",
      "Cell \u001b[0;32mIn[54], line 1\u001b[0m\n\u001b[0;32m----> 1\u001b[0m \u001b[43mstats_df_all\u001b[49m[\u001b[38;5;124m\"\u001b[39m\u001b[38;5;124mr-sq-adj\u001b[39m\u001b[38;5;124m\"\u001b[39m] \u001b[38;5;241m*\u001b[39m\u001b[38;5;241m=\u001b[39m \u001b[38;5;241m100\u001b[39m\n\u001b[1;32m      2\u001b[0m fig, ax \u001b[38;5;241m=\u001b[39m plt\u001b[38;5;241m.\u001b[39msubplots(\u001b[38;5;241m1\u001b[39m,\u001b[38;5;241m1\u001b[39m,figsize\u001b[38;5;241m=\u001b[39m(\u001b[38;5;241m6\u001b[39m,\u001b[38;5;241m3\u001b[39m))\n\u001b[1;32m      3\u001b[0m sns\u001b[38;5;241m.\u001b[39mbarplot(data\u001b[38;5;241m=\u001b[39mstats_df_all, x\u001b[38;5;241m=\u001b[39m\u001b[38;5;124m\"\u001b[39m\u001b[38;5;124mfld\u001b[39m\u001b[38;5;124m\"\u001b[39m, y\u001b[38;5;241m=\u001b[39m\u001b[38;5;124m\"\u001b[39m\u001b[38;5;124mr-sq-adj\u001b[39m\u001b[38;5;124m\"\u001b[39m, hue\u001b[38;5;241m=\u001b[39m\u001b[38;5;124m\"\u001b[39m\u001b[38;5;124mn-cov\u001b[39m\u001b[38;5;124m\"\u001b[39m, \n\u001b[1;32m      4\u001b[0m             hue_order \u001b[38;5;241m=\u001b[39m [\u001b[38;5;124m\"\u001b[39m\u001b[38;5;124mexcl-sustain\u001b[39m\u001b[38;5;124m\"\u001b[39m, \u001b[38;5;124m\"\u001b[39m\u001b[38;5;124mincl-sustain\u001b[39m\u001b[38;5;124m\"\u001b[39m], ax\u001b[38;5;241m=\u001b[39max,\n\u001b[1;32m      5\u001b[0m            palette\u001b[38;5;241m=\u001b[39m\u001b[38;5;124m\"\u001b[39m\u001b[38;5;124mdeep\u001b[39m\u001b[38;5;124m\"\u001b[39m, edgecolor\u001b[38;5;241m=\u001b[39m\u001b[38;5;124m'\u001b[39m\u001b[38;5;124mk\u001b[39m\u001b[38;5;124m'\u001b[39m)\n",
      "\u001b[0;31mNameError\u001b[0m: name 'stats_df_all' is not defined"
     ]
    }
   ],
   "source": [
    "stats_df_all[\"r-sq-adj\"] *= 100\n",
    "fig, ax = plt.subplots(1,1,figsize=(6,3))\n",
    "sns.barplot(data=stats_df_all, x=\"fld\", y=\"r-sq-adj\", hue=\"n-cov\", \n",
    "            hue_order = [\"excl-sustain\", \"incl-sustain\"], ax=ax,\n",
    "           palette=\"deep\", edgecolor='k')\n",
    "ax.spines[['right', 'top']].set_visible(False)\n",
    "ax.tick_params(axis='y', labelsize=12)\n",
    "ax.tick_params(axis='x', labelsize=10,rotation=0)\n",
    "ax.set_ylabel(r'$R^{2}$ (adj)', fontsize=12)\n",
    "ax.set_xlabel(\"\")\n",
    "ax.yaxis.set_major_formatter(mtick.PercentFormatter())\n",
    "leg = ax.get_legend()\n",
    "leg.set_title(\"\")\n",
    "new_labels = [r'Demographics and APOE $\\varepsilon$4', ' + Stage & Subtype']\n",
    "for t, l in zip(leg.texts, new_labels):\n",
    "    t.set_text(l)\n",
    "fig.tight_layout()\n",
    "fig.savefig(os.path.join(dir_path, \"{}_bar.png\".format(test_name)), dpi=300)"
   ]
  },
  {
   "cell_type": "code",
   "execution_count": 55,
   "id": "35362007",
   "metadata": {},
   "outputs": [
    {
     "ename": "NameError",
     "evalue": "name 'df_xx' is not defined",
     "output_type": "error",
     "traceback": [
      "\u001b[0;31m---------------------------------------------------------------------------\u001b[0m",
      "\u001b[0;31mNameError\u001b[0m                                 Traceback (most recent call last)",
      "Cell \u001b[0;32mIn[55], line 1\u001b[0m\n\u001b[0;32m----> 1\u001b[0m \u001b[43mdf_xx\u001b[49m\n",
      "\u001b[0;31mNameError\u001b[0m: name 'df_xx' is not defined"
     ]
    }
   ],
   "source": [
    "df_xx"
   ]
  },
  {
   "cell_type": "code",
   "execution_count": 56,
   "id": "6bf43b08",
   "metadata": {},
   "outputs": [
    {
     "data": {
      "image/png": "[encoded data removed]",
      "text/plain": [
       "<Figure size 500x400 with 1 Axes>"
      ]
     },
     "metadata": {},
     "output_type": "display_data"
    }
   ],
   "source": [
    "fld = \"MOCA\"\n",
    "fig, ax = plt.subplots(1,1, sharex=True, sharey=False, figsize=(5,4))\n",
    "test_name = \"MOCA_test\"\n",
    "df_mh_fld = process_df(df_long_adnimerge, fld)\n",
    "sns.boxenplot(data=df_mh_fld, x=\"stage\", y=fld, ax=ax,palette=palette_color1)\n",
    "ax.set_ylabel(\"\")\n",
    "ax.set_title(fld, fontsize=15)\n",
    "ax.spines[['right', 'top']].set_visible(False)\n",
    "ax.ticklabel_format(style='scientific', axis='y', scilimits=(0,0), useMathText=True)\n",
    "fig.tight_layout()\n",
    "fig.savefig(os.path.join(dir_path, \"{}.png\".format(test_name)), dpi=300)"
   ]
  },
  {
   "cell_type": "code",
   "execution_count": 58,
   "id": "3a1517b4",
   "metadata": {},
   "outputs": [
    {
     "data": {
      "text/plain": [
       "0       2\n",
       "1       2\n",
       "2       2\n",
       "3       2\n",
       "4       2\n",
       "       ..\n",
       "2958    2\n",
       "2959    2\n",
       "2960    2\n",
       "2961    2\n",
       "2962    2\n",
       "Name: stage, Length: 2963, dtype: int64"
      ]
     },
     "execution_count": 58,
     "metadata": {},
     "output_type": "execute_result"
    }
   ],
   "source": [
    "df_long_adnimerge[\"stage\"]"
   ]
  },
  {
   "cell_type": "code",
   "execution_count": null,
   "id": "a132d3e3",
   "metadata": {},
   "outputs": [],
   "source": [
    "fld = \"MOCA\"\n",
    "cov1 = [\"PTGENDER\", \"APOE4\", \"PTEDUCAT\",\"AGE\",\"stage\",\"st1\", \"st2\", \"st3\"]\n",
    "df_xx = regress_score(df_long_adnimerge, fld, [\"AGE\", \"PTGENDER\", \"PTEDUCAT\", \"APOE4\",\"stage\"])\n",
    "df_xx.dropna(inplace=True)\n",
    "model = sm.OLS(df_xx[[fld]], sm.add_constant(df_xx[cov1]))\n",
    "results = model.fit()"
   ]
  },
  {
   "cell_type": "code",
   "execution_count": null,
   "id": "db760e65",
   "metadata": {},
   "outputs": [],
   "source": [
    "cnad_ptid = df_cnad[\"PTID\"].unique().tolist()\n",
    "mci_ptid = df_mci[\"PTID\"].unique().tolist()\n",
    "cn_ptid = df_cnad[df_cnad[\"DX\"].isin([\"CN\"])][\"PTID\"].unique().tolist()\n",
    "ad_ptid = df_cnad[df_cnad[\"DX\"].isin([\"Dementia\"])][\"PTID\"].unique().tolist()"
   ]
  },
  {
   "cell_type": "markdown",
   "id": "a9937a7f",
   "metadata": {},
   "source": [
    "## Median Regression (example)"
   ]
  },
  {
   "cell_type": "code",
   "execution_count": null,
   "id": "7573ba8b",
   "metadata": {},
   "outputs": [],
   "source": [
    "model = smf.quantreg(\"MOCA ~ AGE + PTGENDER + APOE4 + PTEDUCAT + stage + st1 + st2 + st3\", df_xx)\n",
    "fld = \"TAU\"\n",
    "df_xx = regress_score(df_long_adnimerge, fld, [\"AGE\", \"PTGENDER\", \"PTEDUCAT\", \"APOE4\",\"stage\"])\n",
    "model = smf.quantreg(\"TAU ~ AGE + PTGENDER + APOE4 + PTEDUCAT + stage + st1 + st2 + st3\", df_xx)\n",
    "res = model.fit(q=0.5)\n",
    "print(res.summary())"
   ]
  },
  {
   "cell_type": "code",
   "execution_count": null,
   "id": "8ece3fdd",
   "metadata": {},
   "outputs": [],
   "source": [
    "1 - np.square(df_xx[fld] - np.ceil(results.predict(sm.add_constant(df_xx[cov1])))).sum()/(np.var(df_xx[[fld]])*(df_xx.shape[0]-1))\n"
   ]
  },
  {
   "cell_type": "code",
   "execution_count": null,
   "id": "dedafd13",
   "metadata": {},
   "outputs": [],
   "source": [
    "np.var(df_xx[[fld]])"
   ]
  },
  {
   "cell_type": "code",
   "execution_count": null,
   "id": "f73e718f",
   "metadata": {},
   "outputs": [],
   "source": [
    "results.predict()"
   ]
  },
  {
   "cell_type": "markdown",
   "id": "4d0d70bc",
   "metadata": {},
   "source": [
    "## EcogPT/SP scores"
   ]
  },
  {
   "cell_type": "markdown",
   "id": "95cc94a1",
   "metadata": {},
   "source": [
    "### Study Partner (SP) and Patient (Pt)"
   ]
  },
  {
   "cell_type": "code",
   "execution_count": null,
   "id": "79ecbe33",
   "metadata": {},
   "outputs": [],
   "source": [
    "flds = [\"EcogSPMem\", \"EcogSPLang\", \"EcogSPVisspat\"] + [\"EcogPtMem\", \"EcogPtLang\", \"EcogPtVisspat\"] + \\\n",
    "[\"EcogSPPlan\",\"EcogSPOrgan\", \"EcogSPDivatt\"] + [\"EcogPtPlan\",\"EcogPtOrgan\", \"EcogPtDivatt\"]\n",
    "\n",
    "flds_title = {\"EcogSPMem\":\"Memory (SP)\", \"EcogSPLang\":\"Language (SP)\", \"EcogSPVisspat\":\"Visuospatial (SP)\", \n",
    "              \"EcogPtMem\":\"Memory (Pt)\", \"EcogPtLang\":\"Language (Pt)\", \"EcogPtVisspat\":\"Visuospatial (Pt)\",\n",
    "             \"EcogPtPlan\":\"Planning (Pt)\",\"EcogPtOrgan\": \"Organizing (Pt)\", \"EcogPtDivatt\":\"Divided attention (Pt)\", \n",
    "             \"EcogSPPlan\":\"Planning (SP)\",\"EcogSPOrgan\": \"Organizing (SP)\", \"EcogSPDivatt\":\"Divided attention (SP)\"}\n",
    "fig, ax = plt.subplots(4,3, sharex=True, sharey=True, figsize=(6,8))\n",
    "test_name = \"Everyday-Cognition-sub-items\"\n",
    "for _,fld in enumerate(flds):\n",
    "    df_mh_fld = process_df(df_long_adnimerge, fld)\n",
    "    r = _//3\n",
    "    c = _%3\n",
    "    sns.boxenplot(data=df_mh_fld, x=\"stage\", y=fld, ax=ax[r,c], palette=palette_color1)\n",
    "    ax[r,c].set_ylabel(\"\")\n",
    "    ax[r,c].set_title(flds_title[fld], fontsize=12)\n",
    "    ax[r,c].spines[['right', 'top']].set_visible(False)\n",
    "    ax[r,c].ticklabel_format(style='scientific', axis='y', scilimits=(0,0), useMathText=True)\n",
    "fig.tight_layout()\n",
    "fig.savefig(os.path.join(dir_path, \"{}.png\".format(test_name)), dpi=300)"
   ]
  },
  {
   "cell_type": "code",
   "execution_count": null,
   "id": "6710b963",
   "metadata": {},
   "outputs": [],
   "source": [
    "test_name = \"EcogSP_summary_test\"\n",
    "cov1 = [\"PTGENDER\", \"APOE4\", \"PTEDUCAT\",\"AGE\",\"stage\",\"st1\", \"st2\", \"st3\"]\n",
    "cov2 = [\"PTGENDER\", \"APOE4\", \"PTEDUCAT\",\"AGE\"]\n",
    "stats_df_list = []\n",
    "for fld in flds:\n",
    "    df_xx = regress_score(df_long_adnimerge, fld, [\"AGE\", \"PTGENDER\", \"PTEDUCAT\", \"APOE4\",\"stage\"])\n",
    "    df_xx.dropna(inplace=True)\n",
    "    stats_df1 = regress_OLS(df_xx, fld, cov1)\n",
    "    stats_df1[\"n-cov\"] = \"incl-sustain\"\n",
    "    stats_df2 = regress_OLS(df_xx, fld, cov2)\n",
    "    stats_df2[\"n-cov\"] = \"excl-sustain\"\n",
    "    stats_df_list += [stats_df1, stats_df2]\n",
    "stats_df_all = pd.concat(stats_df_list, axis=0)\n",
    "stats_df_all.to_csv(os.path.join(dir_path,\"stats_{}.csv\".format(test_name)))"
   ]
  },
  {
   "cell_type": "code",
   "execution_count": null,
   "id": "f6ee1a51",
   "metadata": {},
   "outputs": [],
   "source": [
    "flds = [\"EcogSPTotal\", \"EcogPtTotal\", \"FAQ\"]\n",
    "\n",
    "\n",
    "flds_title = {\"EcogSPTotal\":\"Ecog (SP)\", \n",
    "              \"EcogPtTotal\":\"Ecog (Pt)\",\n",
    "              \"FAQ\":\"FAQ\"}\n",
    "fig, ax = plt.subplots(1,3, sharex=True, sharey=False, figsize=(6,2))\n",
    "test_name = \"Ecog_FAQ\"\n",
    "for _,fld in enumerate(flds):\n",
    "    df_mh_fld = process_df(df_long_adnimerge, fld)\n",
    "    r = _//3\n",
    "    c = _%3\n",
    "    sns.boxenplot(data=df_mh_fld, x=\"stage\", y=fld, ax=ax[c], palette=palette_color1)\n",
    "    ax[c].set_ylabel(\"\")\n",
    "    ax[c].set_title(flds_title[fld], fontsize=12)\n",
    "    ax[c].spines[['right', 'top']].set_visible(False)\n",
    "    ax[c].ticklabel_format(style='scientific', axis='y', scilimits=(0,0), useMathText=True)\n",
    "fig.tight_layout()\n",
    "fig.savefig(os.path.join(dir_path, \"{}.png\".format(test_name)), dpi=300)"
   ]
  },
  {
   "cell_type": "code",
   "execution_count": null,
   "id": "a3bd0e83",
   "metadata": {},
   "outputs": [],
   "source": []
  },
  {
   "cell_type": "markdown",
   "id": "b96f3869",
   "metadata": {},
   "source": [
    "### Study Participant (Pt)"
   ]
  },
  {
   "cell_type": "code",
   "execution_count": null,
   "id": "614d6a36",
   "metadata": {},
   "outputs": [],
   "source": [
    "flds = [\"EcogPtMem\", \"EcogPtLang\", \"EcogPtVisspat\", \"EcogPtPlan\",\n",
    "        \"EcogPtOrgan\", \"EcogPtDivatt\", \"EcogPtTotal\"]\n",
    "\n",
    "pairs = [(0,1),(1,2),(2,3),(3,4),(4,5)]\n",
    "fig, ax = plt.subplots(2,4, sharex=True, sharey=False, figsize=(10,6))\n",
    "test_name = \"EcogPT\"\n",
    "for _,fld in enumerate(flds):\n",
    "    df_mh_fld = process_df(df_long_adnimerge, fld)\n",
    "    r = _//4\n",
    "    c = _%4\n",
    "    sns.boxenplot(data=df_mh_fld, x=\"stage\", y=fld, ax=ax[r,c])\n",
    "#     annotator = Annotator(ax[r,c], pairs, data=df_mh_fld, x=\"stage\", y=fld)\n",
    "#     annotator._pvalue_format.pvalue_thresholds =  [[5e-2, '*'], [5e-3, '**'], [5e-4, '***'], [5e-5, '****'], [1, 'ns']]\n",
    "#     annotator.configure(test='Mann-Whitney', text_format='star', \n",
    "#                         loc='inside',comparisons_correction=\"Benjamini-Hochberg\")\n",
    "#     annotator.apply_and_annotate()\n",
    "    ax[r,c].set_ylabel(\"\")\n",
    "    ax[r,c].set_title(fld, fontsize=15)\n",
    "    ax[r,c].spines[['right', 'top']].set_visible(False)\n",
    "    ax[r,c].ticklabel_format(style='scientific', axis='y', scilimits=(0,0), useMathText=True)\n",
    "fig.tight_layout()\n",
    "fig.savefig(os.path.join(dir_path, \"{}.png\".format(test_name)), dpi=300)"
   ]
  },
  {
   "cell_type": "code",
   "execution_count": null,
   "id": "b73741f4",
   "metadata": {},
   "outputs": [],
   "source": [
    "test_name = \"EcogPT_summary_test\"\n",
    "cov1 = [\"PTGENDER\", \"APOE4\", \"PTEDUCAT\",\"AGE\",\"stage\",\"st1\", \"st2\", \"st3\"]\n",
    "cov2 = [\"PTGENDER\", \"APOE4\", \"PTEDUCAT\",\"AGE\"]\n",
    "stats_df_list = []\n",
    "for fld in flds:\n",
    "    df_xx = regress_score(df_long_adnimerge, fld, [\"AGE\", \"PTGENDER\", \"PTEDUCAT\", \"APOE4\",\"stage\"])\n",
    "    df_xx.dropna(inplace=True)\n",
    "    stats_df1 = regress_OLS(df_xx, fld, cov1)\n",
    "    stats_df1[\"n-cov\"] = \"incl-sustain\"\n",
    "    stats_df2 = regress_OLS(df_xx, fld, cov2)\n",
    "    stats_df2[\"n-cov\"] = \"excl-sustain\"\n",
    "    stats_df_list += [stats_df1, stats_df2]\n",
    "stats_df_all = pd.concat(stats_df_list, axis=0)\n",
    "stats_df_all.to_csv(os.path.join(dir_path,\"stats_{}.csv\".format(test_name)))"
   ]
  },
  {
   "cell_type": "markdown",
   "id": "5422e2f5",
   "metadata": {},
   "source": [
    "## CSF markers"
   ]
  },
  {
   "cell_type": "code",
   "execution_count": null,
   "id": "92772982",
   "metadata": {},
   "outputs": [],
   "source": [
    "flds = [\"ABETA\",\"FDG\",\"TAU\",\"PTAU\",\"PIB\",\"AV45\"]\n",
    "fig, ax = plt.subplots(3,2, sharex=True, sharey=False, figsize=(6,8))\n",
    "test_name = \"CSF_markers_annotation\"\n",
    "for _,fld in enumerate(flds):\n",
    "    df_mh_fld = process_df(df_long_adnimerge, fld)\n",
    "    r = _//2\n",
    "    c = _%2\n",
    "    sns.boxenplot(data=df_mh_fld, x=\"stage\", y=fld, ax=ax[r,c])\n",
    "    annotator = Annotator(ax[r,c], pairs, data=df_mh_fld, x=\"stage\", y=fld)\n",
    "    annotator._pvalue_format.pvalue_thresholds =  [[5e-2, '*'], [5e-3, '**'], [5e-4, '***'], [5e-5, '****'], [1, 'ns']]\n",
    "    annotator.configure(test='Mann-Whitney', text_format='star', \n",
    "                        loc='inside',comparisons_correction=\"Benjamini-Hochberg\")\n",
    "    annotator.apply_and_annotate()\n",
    "    ax[r,c].set_ylabel(\"\")\n",
    "    ax[r,c].set_title(fld, fontsize=15)\n",
    "    ax[r,c].spines[['right', 'top']].set_visible(False)\n",
    "    ax[r,c].ticklabel_format(style='scientific', axis='y', scilimits=(0,0), useMathText=True)\n",
    "fig.tight_layout()\n",
    "fig.savefig(os.path.join(dir_path, \"{}.png\".format(test_name)), dpi=300)"
   ]
  },
  {
   "cell_type": "code",
   "execution_count": null,
   "id": "9b44a50b",
   "metadata": {},
   "outputs": [],
   "source": [
    "flds = [\"ABETA\",\"FDG\",\"TAU\",\"PTAU\"]\n",
    "fld_titles = {\"ABETA\":r'A$\\beta_{42}$', \"FDG\":\"FDG\", \"PTAU\":\"p-Tau\", \"TAU\":\"t-Tau\"}\n",
    "fig, ax = plt.subplots(2,2, sharex=True, sharey=False, figsize=(4,4))\n",
    "test_name = \"CSF_markers\"\n",
    "for _,fld in enumerate(flds):\n",
    "    df_mh_fld = process_df(df_long_adnimerge, fld)\n",
    "    r = _//2\n",
    "    c = _%2\n",
    "    sns.boxenplot(data=df_mh_fld, x=\"stage\", y=fld, ax=ax[r,c], palette=palette_color1)\n",
    "    ax[r,c].set_ylabel(\"\")\n",
    "    ax[r,c].set_title(fld_titles[fld], fontsize=12)\n",
    "    ax[r,c].spines[['right', 'top']].set_visible(False)\n",
    "    ax[r,c].ticklabel_format(style='scientific', axis='y', scilimits=(0,0), useMathText=True)\n",
    "fig.tight_layout()\n",
    "fig.savefig(os.path.join(dir_path, \"{}.png\".format(test_name)), dpi=300)"
   ]
  },
  {
   "cell_type": "code",
   "execution_count": null,
   "id": "e6ea0e57",
   "metadata": {},
   "outputs": [],
   "source": [
    "flds = [\"ABETA\", \"FDG\"]\n",
    "fld_titles = {\"ABETA\":r'A$\\beta_{42}$', \"FDG\":\"FDG\", \"PTAU\":\"p-Tau\", \"TAU\":\"t-Tau\"}\n",
    "fig, ax = plt.subplots(1,2, sharex=True, sharey=False, figsize=(4,2))\n",
    "test_name = \"csf-subtypes\"\n",
    "for _,fld in enumerate(flds):\n",
    "    df_mh_fld = process_df(df_long_adnimerge, fld)\n",
    "    df_mh_fld[\"subtype\"] += 1\n",
    "    df_mh_fld[\"subtype\"] = df_mh_fld[\"subtype\"].astype(int)\n",
    "    c = _%2\n",
    "    sns.boxenplot(data=df_mh_fld, y=fld, ax=ax[c], x=\"subtype\",\n",
    "                  palette=palette_subtype)\n",
    "    ax[c].set_ylabel(\"\")\n",
    "    ax[c].set_title(fld_titles[fld], fontsize=12)\n",
    "    ax[c].spines[['right', 'top']].set_visible(False)\n",
    "    ax[c].ticklabel_format(style='scientific', axis='y', scilimits=(0,0), useMathText=True)\n",
    "fig.tight_layout()\n",
    "fig.savefig(os.path.join(dir_path, \"{}.png\".format(test_name)), dpi=300)"
   ]
  },
  {
   "cell_type": "code",
   "execution_count": null,
   "id": "49585fe0",
   "metadata": {},
   "outputs": [],
   "source": [
    "# Adjusting FDG levels for age, gender, educat, apoe4 and stage\n",
    "fld = \"ABETA\"\n",
    "df_xx = regress_score(df_long_adnimerge,\n",
    "                      fld, [\"RID\",\"AGE\", \"PTGENDER\", \"PTEDUCAT\", \"APOE4\", \"stage\"])\n",
    "df_xx.dropna(inplace=True)\n",
    "df_xx.reset_index(drop=True, inplace=True)\n",
    "model = sm.OLS(df_xx[[fld]], sm.add_constant(df_xx[[\"AGE\", \"PTGENDER\", \"PTEDUCAT\", \"APOE4\", \"stage\"]]))\n",
    "results = model.fit()\n",
    "\n"
   ]
  },
  {
   "cell_type": "code",
   "execution_count": null,
   "id": "5924592f",
   "metadata": {},
   "outputs": [],
   "source": [
    "df_xx[\"subtype\"] = pd.from_dummies(df_xx[[\"st0\",\"st1\",\"st2\",\"st3\"]])\n",
    "df_xx[\"subtype\"] = df_xx[\"subtype\"].map({\"st0\":0,\"st1\":1,\"st2\":2,\"st3\":3})\n",
    "df_xx[\"subtype\"] += 1"
   ]
  },
  {
   "cell_type": "code",
   "execution_count": null,
   "id": "f3c724bd",
   "metadata": {},
   "outputs": [],
   "source": [
    "df_xx[\"resid\"] = results.resid\n",
    "fig, ax = plt.subplots(1,1,figsize=(3,3))\n",
    "test_name = \"abeta-adj-subtypes\"\n",
    "sns.boxenplot(data=df_xx, y=\"resid\", x=\"subtype\", \n",
    "              palette=palette_subtype, ax=ax)\n",
    "ax.set_ylabel(\"\")\n",
    "ax.set_title(r'A$\\beta$', fontsize=12)\n",
    "ax.spines[['right', 'top']].set_visible(False)\n",
    "ax.ticklabel_format(style='scientific', axis='y', scilimits=(0,0), useMathText=True)\n",
    "fig.tight_layout()\n",
    "fig.savefig(os.path.join(dir_path, \"{}.png\".format(test_name)), dpi=300)\n",
    "kruskal(*[group[\"resid\"].values for name, group in df_xx.groupby(\"subtype\")])"
   ]
  },
  {
   "cell_type": "code",
   "execution_count": null,
   "id": "200623e2",
   "metadata": {},
   "outputs": [],
   "source": [
    "df_xx[\"resid\"] = results.resid\n",
    "pairs = [(1,2),(2,3),(3,4),(2,4),(1,3),(1,4)]\n",
    "fig, ax = plt.subplots(1,1,figsize=(3,3))\n",
    "test_name = \"abeta-adj-subtypes-annotat\"\n",
    "sns.boxenplot(data=df_xx, y=\"resid\", x=\"subtype\", \n",
    "              palette=palette_subtype, ax=ax)\n",
    "annotator = Annotator(ax, pairs, data=df_xx, x=\"subtype\", y=fld)\n",
    "annotator._pvalue_format.pvalue_thresholds =  [[5e-2, '*'], [5e-3, '**'], [5e-4, '***'], [5e-5, '****'], [1, 'ns']]\n",
    "annotator.configure(test='Kruskal', text_format='star', \n",
    "                    loc='inside',comparisons_correction=\"Benjamini-Hochberg\")\n",
    "annotator.apply_and_annotate()\n",
    "\n",
    "ax.set_ylabel(\"\")\n",
    "ax.set_title(r'A$\\beta_{42}$ (p=0.1)', fontsize=12)\n",
    "ax.spines[['right', 'top']].set_visible(False)\n",
    "ax.ticklabel_format(style='scientific', axis='y', scilimits=(0,0), useMathText=True)\n",
    "# ax.set_ylim([-1,1])\n",
    "fig.tight_layout()\n",
    "fig.savefig(os.path.join(dir_path, \"{}.png\".format(test_name)), dpi=300)\n",
    "kruskal(*[group[\"resid\"].values for name, group in df_xx.groupby(\"subtype\")])"
   ]
  },
  {
   "cell_type": "code",
   "execution_count": null,
   "id": "441af343",
   "metadata": {},
   "outputs": [],
   "source": [
    "# Adjusting FDG levels for age, gender, educat, apoe4 and stage\n",
    "fld = \"FDG\"\n",
    "df_xx = regress_score(df_long_adnimerge,\n",
    "                      fld, [\"AGE\", \"PTGENDER\", \"PTEDUCAT\", \"APOE4\", \"stage\"])\n",
    "df_xx.dropna(inplace=True)\n",
    "df_xx.reset_index(drop=True, inplace=True)\n",
    "model = sm.OLS(df_xx[[fld]], sm.add_constant(df_xx[[\"AGE\", \"PTGENDER\", \"PTEDUCAT\", \"APOE4\", \"stage\"]]))\n",
    "results = model.fit()\n"
   ]
  },
  {
   "cell_type": "code",
   "execution_count": null,
   "id": "57120e35",
   "metadata": {},
   "outputs": [],
   "source": [
    "df_xx[\"subtype\"] = pd.from_dummies(df_xx[[\"st0\",\"st1\",\"st2\",\"st3\"]])\n",
    "df_xx[\"subtype\"] = df_xx[\"subtype\"].map({\"st0\":0,\"st1\":1,\"st2\":2,\"st3\":3})\n",
    "df_xx[\"subtype\"] += 1"
   ]
  },
  {
   "cell_type": "code",
   "execution_count": null,
   "id": "6d386d9f",
   "metadata": {},
   "outputs": [],
   "source": [
    "df_xx[\"resid\"] = results.resid\n",
    "pairs = [(1,2),(2,3),(3,4),(2,4),(1,3),(1,4)]\n",
    "fig, ax = plt.subplots(1,1,figsize=(3,3))\n",
    "test_name = \"fgd-adj-subtypes-annotat\"\n",
    "sns.boxenplot(data=df_xx, y=\"resid\", x=\"subtype\", \n",
    "              palette=palette_subtype, ax=ax)\n",
    "annotator = Annotator(ax, pairs, data=df_xx, x=\"subtype\", y=fld)\n",
    "annotator._pvalue_format.pvalue_thresholds =  [[5e-2, '*'], [5e-3, '**'], [5e-4, '***'], [5e-5, '****'], [1, 'ns']]\n",
    "annotator.configure(test='Mann-Whitney', text_format='star', \n",
    "                    loc='inside',comparisons_correction=\"Benjamini-Hochberg\")\n",
    "annotator.apply_and_annotate()\n",
    "\n",
    "ax.set_ylabel(\"\")\n",
    "ax.set_title(r'FDG', fontsize=12)\n",
    "ax.spines[['right', 'top']].set_visible(False)\n",
    "ax.ticklabel_format(style='scientific', axis='y', scilimits=(0,0), useMathText=True)\n",
    "# ax.set_ylim([-1,1])\n",
    "fig.tight_layout()\n",
    "fig.savefig(os.path.join(dir_path, \"{}.png\".format(test_name)), dpi=300)\n",
    "kruskal(*[group[\"resid\"].values for name, group in df_xx.groupby(\"subtype\")])"
   ]
  },
  {
   "cell_type": "code",
   "execution_count": null,
   "id": "c009e644",
   "metadata": {},
   "outputs": [],
   "source": [
    "ucb_fdg_path = \"/nethome/rtandon32/ebm/ebm_experiments/experiment_scripts/real_data/biospecimens/UPENNBIOMK_ROCHE_ELECSYS_17May2024.csv\"\n",
    "ucb_fdg_df = pd.read_csv(ucb_fdg_path)\n",
    "ucb_fdg_df.replace(\"sc\",\"bl\",inplace=True)\n",
    "ucb_fdg_df2 = pd.merge(df_long_mci, ucb_fdg_df, left_on=[\"RID\", \"VISCODE\"], right_on=[\"RID\", \"VISCODE2\"],\n",
    "         how=\"inner\", suffixes=[None,\"_\"])\n",
    "ucb_fdg_df2.sort_values(by=[\"RID\", \"EXAMDATE\"], inplace=True)\n",
    "ucb_fdg_df2.drop_duplicates(\"RID\", inplace=True)\n"
   ]
  },
  {
   "cell_type": "code",
   "execution_count": null,
   "id": "0c2970fc",
   "metadata": {},
   "outputs": [],
   "source": [
    "ucb_fdg_df2[[\"ABETA42\",\"RID\"]]"
   ]
  },
  {
   "cell_type": "code",
   "execution_count": null,
   "id": "021d8880",
   "metadata": {},
   "outputs": [],
   "source": [
    "xyz = pd.merge(df_xx[[\"RID\",\"ABETA\"]],ucb_fdg_df2[[\"ABETA42\",\"RID\"]],on=\"RID\")\n",
    "xyz[xyz[\"ABETA\"] != xyz[\"ABETA42\"]]"
   ]
  },
  {
   "cell_type": "code",
   "execution_count": null,
   "id": "6bc205d4",
   "metadata": {},
   "outputs": [],
   "source": [
    "fld = \"ABETA42\"\n",
    "df_xx = regress_score(ucb_fdg_df2,\n",
    "                      fld, [\"RID\",\"AGE\", \"PTGENDER\", \"PTEDUCAT\", \"APOE4\", \"stage\"])\n",
    "df_xx.dropna(inplace=True)\n",
    "df_xx.reset_index(drop=True, inplace=True)\n",
    "model = sm.OLS(df_xx[[fld]], sm.add_constant(df_xx[[\"AGE\", \"PTGENDER\", \"PTEDUCAT\", \"APOE4\", \"stage\"]]))\n",
    "results = model.fit()"
   ]
  },
  {
   "cell_type": "code",
   "execution_count": null,
   "id": "1ea839fa",
   "metadata": {},
   "outputs": [],
   "source": [
    "df_xx[\"subtype\"] = pd.from_dummies(df_xx[[\"st0\",\"st1\",\"st2\",\"st3\"]])\n",
    "df_xx[\"subtype\"] = df_xx[\"subtype\"].map({\"st0\":0,\"st1\":1,\"st2\":2,\"st3\":3})\n",
    "df_xx[\"subtype\"] += 1"
   ]
  },
  {
   "cell_type": "code",
   "execution_count": null,
   "id": "37e86ee5",
   "metadata": {},
   "outputs": [],
   "source": [
    "print(results.summary())"
   ]
  },
  {
   "cell_type": "code",
   "execution_count": null,
   "id": "00e92fef",
   "metadata": {},
   "outputs": [],
   "source": [
    "df_xx[\"resid\"] = results.resid\n",
    "fig, ax = plt.subplots(1,1,figsize=(3,3))\n",
    "test_name = \"abeta-upenn-adj-subtypes\"\n",
    "sns.boxenplot(data=df_xx, y=\"resid\", x=\"subtype\", \n",
    "              palette=palette_subtype, ax=ax)\n",
    "ax.set_ylabel(\"\")\n",
    "# ax.set_title(r'F (p=0.01)', fontsize=12)\n",
    "ax.spines[['right', 'top']].set_visible(False)\n",
    "ax.ticklabel_format(style='scientific', axis='y', scilimits=(0,0), useMathText=True)\n",
    "# ax.set_ylim([-.3,.3])\n",
    "fig.tight_layout()\n",
    "fig.savefig(os.path.join(dir_path, \"{}.png\".format(test_name)), dpi=300)\n",
    "kruskal(*[group[\"resid\"].values for name, group in df_xx.groupby(\"subtype\")])"
   ]
  },
  {
   "cell_type": "code",
   "execution_count": null,
   "id": "d1d1d085",
   "metadata": {},
   "outputs": [],
   "source": [
    "# UC Berkely  (FDG data)"
   ]
  },
  {
   "cell_type": "code",
   "execution_count": null,
   "id": "e5f74dca",
   "metadata": {},
   "outputs": [],
   "source": [
    "ucb_fdg_path = \"/nethome/rtandon32/ebm/ebm_experiments/experiment_scripts/real_data/biospecimens/UCBERKELEYFDG_03_25_22_17May2024.csv\"\n",
    "ucb_fdg_df = pd.read_csv(ucb_fdg_path)\n",
    "ucb_fdg_df.replace(\"sc\",\"bl\",inplace=True)\n",
    "ucb_fdg_df2 = pd.merge(df_long_mci, ucb_fdg_df, left_on=[\"RID\", \"VISCODE\"], right_on=[\"RID\", \"VISCODE2\"],\n",
    "         how=\"inner\", suffixes=[None,\"_\"])\n",
    "ucb_fdg_df2.sort_values(by=[\"RID\", \"EXAMDATE\"], inplace=True)\n",
    "ucb_fdg_df2_meta = ucb_fdg_df2[ucb_fdg_df2[\"ROINAME\"]==\"metaroi\"]\n",
    "ucb_fdg_df2_pons = ucb_fdg_df2[ucb_fdg_df2[\"ROINAME\"]==\"pons-vermis\"]"
   ]
  },
  {
   "cell_type": "code",
   "execution_count": null,
   "id": "2e25686d",
   "metadata": {},
   "outputs": [],
   "source": [
    "ucb_fdg_df2_meta.drop_duplicates(\"RID\", inplace=True)\n",
    "ucb_fdg_df2_pons.drop_duplicates(\"RID\", inplace=True)\n"
   ]
  },
  {
   "cell_type": "code",
   "execution_count": null,
   "id": "00adfd31",
   "metadata": {},
   "outputs": [],
   "source": [
    "ucb_fdg_df2_pons.shape"
   ]
  },
  {
   "cell_type": "markdown",
   "id": "83aa8ca3",
   "metadata": {},
   "source": [
    "# ANOVA for studying effects from stages and subtypes"
   ]
  },
  {
   "cell_type": "code",
   "execution_count": null,
   "id": "dc0aca13",
   "metadata": {},
   "outputs": [],
   "source": [
    "from statsmodels.formula.api import ols\n",
    "# model_anova = ols('resid ~ C(stage) + C(subtype) + C(stage):C(subtype)', data=df_xx).fit()\n",
    "model_anova = ols('resid ~ C(stage) + C(subtype)', data=df_xx).fit()"
   ]
  },
  {
   "cell_type": "code",
   "execution_count": null,
   "id": "924038ad",
   "metadata": {},
   "outputs": [],
   "source": [
    "sm.stats.anova_lm(model_anova, typ=2)"
   ]
  },
  {
   "cell_type": "code",
   "execution_count": null,
   "id": "d93d4b0f",
   "metadata": {},
   "outputs": [],
   "source": [
    "test_name = \"CSF_test\"\n",
    "groupby_var = \"stage\"\n",
    "neurobat_dict = {}\n",
    "ratio_df = pd.DataFrame()\n",
    "for fld in flds:\n",
    "    df_mh_fld = process_df(df_long_adnimerge, fld)\n",
    "    n_samples = df_mh_fld.shape[0]\n",
    "    print(\"Shape\", fld, df_mh_fld.shape)\n",
    "    chi2_table = df_mh_fld.groupby([groupby_var, fld]).size().unstack(level=1).fillna(0)\n",
    "    chi2_stats = chi2_contingency(chi2_table)\n",
    "    chi2_pval = chi2_stats[1]\n",
    "    spearmanr_obj = spearmanr(df_mh_fld[\"stage\"], df_mh_fld[fld])\n",
    "    spearman_corr = spearmanr_obj.correlation\n",
    "    spearman_pval = spearmanr_obj.pvalue\n",
    "    \n",
    "    neurobat_dict[fld] = [chi2_pval, spearman_corr, spearman_pval, n_samples]\n",
    "\n",
    "# dir_path = \"/nethome/rtandon32/ebm/s-SuStain-outputs/sim_tadpole19_mixture_GMM/figures_4/neurobattery2\"\n",
    "neurobat_df = pd.DataFrame.from_dict(neurobat_dict, orient=\"index\", \n",
    "                                     columns = [\"chi-2-pval\", \"spearmanr\", \"spearmanp\", \"n_samples\"])\n",
    "neurobat_df.to_csv(os.path.join(dir_path, \"{}_df.csv\".format(test_name)))"
   ]
  },
  {
   "cell_type": "code",
   "execution_count": null,
   "id": "2b3992a6",
   "metadata": {},
   "outputs": [],
   "source": [
    "test_name = \"CSF_test\"\n",
    "cov1 = [\"PTGENDER\", \"APOE4\", \"PTEDUCAT\",\"AGE\",\"stage\",\"st1\", \"st2\", \"st3\"]\n",
    "cov2 = [\"PTGENDER\", \"APOE4\", \"PTEDUCAT\",\"AGE\"]\n",
    "stats_df_list = []\n",
    "for fld in flds:\n",
    "    df_xx = regress_score(df_long_adnimerge, fld, [\"AGE\", \"PTGENDER\", \"PTEDUCAT\", \"APOE4\",\"stage\"])\n",
    "    df_xx.dropna(inplace=True)\n",
    "    stats_df1 = regress_OLS(df_xx, fld, cov1)\n",
    "    stats_df1[\"n-cov\"] = \"incl-sustain\"\n",
    "    stats_df2 = regress_OLS(df_xx, fld, cov2)\n",
    "    stats_df2[\"n-cov\"] = \"excl-sustain\"\n",
    "    stats_df_list += [stats_df1, stats_df2]\n",
    "stats_df_all = pd.concat(stats_df_list, axis=0)\n",
    "# dir_path = \"/nethome/rtandon32/ebm/s-SuStain-outputs/sim_tadpole19_mixture_GMM/figures_4/neurobattery2\"\n",
    "stats_df_all.to_csv(os.path.join(dir_path,\"stats_{}.csv\".format(test_name)))"
   ]
  },
  {
   "cell_type": "markdown",
   "id": "28e39971",
   "metadata": {},
   "source": [
    "# Brain region volumes"
   ]
  },
  {
   "cell_type": "code",
   "execution_count": null,
   "id": "f2345ec7",
   "metadata": {},
   "outputs": [],
   "source": [
    "test_name = \"Vol_test\"\n",
    "flds =  [\"Entorhinal\", \"Fusiform\", \"MidTemp\", \"Ventricles\", \"Hippocampus\", \"WholeBrain\"]\n",
    "fig, ax = plt.subplots(2,3, sharex=True, sharey=False, figsize=(6,4))\n",
    "for _,fld in enumerate(flds):\n",
    "    df_mh_fld = process_df(df_long_adnimerge, fld)\n",
    "    r = _//3\n",
    "    c = _%3\n",
    "    sns.boxenplot(data=df_mh_fld, x=\"stage\", y=fld, ax=ax[r,c], \n",
    "                  palette=palette_color1)\n",
    "    ax[r,c].set_ylabel(\"\")\n",
    "    ax[r,c].set_title(fld, fontsize=13)\n",
    "    ax[r,c].spines[['right', 'top']].set_visible(False)\n",
    "    ax[r,c].ticklabel_format(style='scientific', axis='y', scilimits=(0,0), useMathText=True)\n",
    "# fig.supylabel(\"Volume\", fontsize=15)\n",
    "fig.tight_layout()\n",
    "fig.savefig(os.path.join(dir_path, \"{}.png\".format(test_name)), dpi=300)"
   ]
  },
  {
   "cell_type": "code",
   "execution_count": null,
   "id": "4b0ebf53",
   "metadata": {},
   "outputs": [],
   "source": [
    "test_name = \"vol_test_bar\"\n",
    "cov1 = [\"PTGENDER\", \"APOE4\", \"PTEDUCAT\",\"AGE\",\"stage\",\"st1\", \"st2\", \"st3\"]\n",
    "cov2 = [\"PTGENDER\", \"APOE4\", \"PTEDUCAT\",\"AGE\"]\n",
    "stats_df_list = []\n",
    "for fld in flds:\n",
    "    df_xx = regress_score(df_long_adnimerge, fld, [\"AGE\", \"PTGENDER\", \"PTEDUCAT\", \"APOE4\",\"stage\"])\n",
    "    df_xx.dropna(inplace=True)\n",
    "    stats_df1 = regress_OLS(df_xx, fld, cov1)\n",
    "    stats_df1[\"n-cov\"] = \"incl-sustain\"\n",
    "    stats_df2 = regress_OLS(df_xx, fld, cov2)\n",
    "    stats_df2[\"n-cov\"] = \"excl-sustain\"\n",
    "    stats_df_list += [stats_df1, stats_df2]\n",
    "stats_df_all = pd.concat(stats_df_list, axis=0)\n",
    "# dir_path = \"/nethome/rtandon32/ebm/s-SuStain-outputs/sim_tadpole19_mixture_GMM/figures_4/neurobattery2\"\n",
    "stats_df_all.to_csv(os.path.join(dir_path,\"stats_{}.csv\".format(test_name)))"
   ]
  },
  {
   "cell_type": "code",
   "execution_count": null,
   "id": "4c3345ef",
   "metadata": {},
   "outputs": [],
   "source": [
    "stats_df_all[\"r-sq-adj\"] *= 100\n",
    "fig, ax = plt.subplots(1,1,figsize=(6,3))\n",
    "sns.barplot(data=stats_df_all, x=\"fld\", y=\"r-sq-adj\", hue=\"n-cov\", \n",
    "            hue_order = [\"excl-sustain\", \"incl-sustain\"], ax=ax,\n",
    "           palette=\"deep\", edgecolor='k', \n",
    "            order=[\"Entorhinal\", \"Fusiform\", \"MidTemp\", \"Ventricles\", \"Hippocampus\", \"WholeBrain\"])\n",
    "ax.spines[['right', 'top']].set_visible(False)\n",
    "ax.tick_params(axis='y', labelsize=12)\n",
    "ax.tick_params(axis='x', labelsize=12,rotation=15)\n",
    "ax.set_ylabel(r'$R^{2}$ (adj)', fontsize=12)\n",
    "ax.set_xlabel(\"\")\n",
    "ax.yaxis.set_major_formatter(mtick.PercentFormatter())\n",
    "leg = ax.get_legend()\n",
    "leg.set_title(\"\")\n",
    "new_labels = [r'Demographics and APOE $\\varepsilon$4', ' + Stage & Subtype']\n",
    "for t, l in zip(leg.texts, new_labels):\n",
    "    t.set_text(l)\n",
    "fig.tight_layout()\n",
    "fig.savefig(os.path.join(dir_path, \"{}.png\".format(test_name)), dpi=300)"
   ]
  },
  {
   "cell_type": "code",
   "execution_count": null,
   "id": "3d4a46eb",
   "metadata": {},
   "outputs": [],
   "source": [
    "test_name = \"adnimerge_cog\"\n",
    "flds = [\"CDRSB\", \"ADAS11\", \"ADAS13\"] + [\"RAVLT_immediate\",\"RAVLT_learning\",\n",
    "        \"RAVLT_forgetting\"] + [\"MOCA\", \"FAQ\",\"MMSE\"] + [\"LDELTOTAL\", \"mPACCtrailsB\", \"mPACCdigit\"]\n",
    "fig, ax = plt.subplots(4,3, sharex=True, sharey=False, figsize=(8,10))\n",
    "for _,fld in enumerate(flds):\n",
    "    df_mh_fld = process_df(df_long_adnimerge, fld)\n",
    "#     if fld in [\"RAVLT_forgetting\"]:\n",
    "#         df_mh_fld = df_mh_fld[fld]\n",
    "    r = _//3\n",
    "    c = _%3\n",
    "    sns.boxenplot(data=df_mh_fld, x=\"stage\", y=fld, ax=ax[r,c],\n",
    "                 palette=palette_color1)\n",
    "    ax[r,c].set_ylabel(\"\")\n",
    "    ax[r,c].spines[['right', 'top']].set_visible(False)\n",
    "    ax[r,c].set_title(fld, fontsize=15)\n",
    "fig.tight_layout()\n",
    "# fig.savefig(os.path.join(dir_path, \"{}.png\".format(test_name)), dpi=300)"
   ]
  },
  {
   "cell_type": "code",
   "execution_count": null,
   "id": "d2fccdf5",
   "metadata": {},
   "outputs": [],
   "source": [
    "test_name = \"adnimerge_cog_test\"\n",
    "cov1 = [\"PTGENDER\", \"APOE4\", \"PTEDUCAT\",\"AGE\",\"stage\",\"st1\", \"st2\", \"st3\"]\n",
    "cov2 = [\"PTGENDER\", \"APOE4\", \"PTEDUCAT\",\"AGE\"]\n",
    "stats_df_list = []\n",
    "for fld in flds:\n",
    "    df_xx = regress_score(df_long_adnimerge, fld, [\"AGE\", \"PTGENDER\", \"PTEDUCAT\", \"APOE4\",\"stage\"])\n",
    "    df_xx.dropna(inplace=True)\n",
    "    stats_df1 = regress_OLS(df_xx, fld, cov1)\n",
    "    stats_df1[\"n-cov\"] = \"incl-sustain\"\n",
    "    stats_df2 = regress_OLS(df_xx, fld, cov2)\n",
    "    stats_df2[\"n-cov\"] = \"excl-sustain\"\n",
    "    stats_df_list += [stats_df1, stats_df2]\n",
    "stats_df_all = pd.concat(stats_df_list, axis=0)\n",
    "dir_path = \"/nethome/rtandon32/ebm/s-SuStain-outputs/sim_tadpole19_mixture_GMM/figures_4/neurobattery2\"\n",
    "stats_df_all.to_csv(os.path.join(dir_path,\"stats_{}.csv\".format(test_name)))"
   ]
  },
  {
   "cell_type": "code",
   "execution_count": null,
   "id": "15c75eab",
   "metadata": {},
   "outputs": [],
   "source": [
    "stats_df_all[\"r-sq-adj\"] *= 100\n",
    "fig, ax = plt.subplots(1,1,figsize=(8,4))\n",
    "sns.barplot(data=stats_df_all, x=\"fld\", y=\"r-sq-adj\", hue=\"n-cov\", \n",
    "            hue_order = [\"excl-sustain\", \"incl-sustain\"], ax=ax,\n",
    "           palette=\"deep\", edgecolor='k')\n",
    "ax.spines[['right', 'top']].set_visible(False)\n",
    "ax.tick_params(axis='y', labelsize=12)\n",
    "ax.tick_params(axis='x', labelsize=10,rotation=45)\n",
    "ax.set_ylabel(r'$R^{2}$ (adj)', fontsize=15)\n",
    "ax.set_xlabel(\"\")\n",
    "ax.yaxis.set_major_formatter(mtick.PercentFormatter())\n",
    "leg = ax.get_legend()\n",
    "leg.set_title(\"\")\n",
    "new_labels = ['Exclude Stage & Subtype', 'Include Stage & Subtype']\n",
    "for t, l in zip(leg.texts, new_labels):\n",
    "    t.set_text(l)\n",
    "fig.tight_layout()\n",
    "fig.savefig(os.path.join(dir_path, \"{}_bar.png\".format(test_name)), dpi=300)"
   ]
  },
  {
   "cell_type": "markdown",
   "id": "553dae6d",
   "metadata": {},
   "source": [
    "# Relations between subtypes and Ethnicity, Race, Marry etc"
   ]
  },
  {
   "cell_type": "code",
   "execution_count": null,
   "id": "13124abb",
   "metadata": {},
   "outputs": [],
   "source": [
    "# PTGENDER, #PTMARRY\n",
    "fld = \"PTMARRY\"\n",
    "df_mh_fld = process_df(df_long_all_adnimerge, fld,\"first\")\n",
    "chi2_table = df_mh_fld.groupby([\"subtype\", fld]).size().unstack(level=1).fillna(0)\n",
    "chi2_contingency(chi2_table)"
   ]
  },
  {
   "cell_type": "code",
   "execution_count": null,
   "id": "e4ad5fef",
   "metadata": {},
   "outputs": [],
   "source": [
    "chi2_table"
   ]
  },
  {
   "cell_type": "code",
   "execution_count": null,
   "id": "22bea77a",
   "metadata": {},
   "outputs": [],
   "source": [
    "chi2_table.sum().sum()"
   ]
  },
  {
   "cell_type": "code",
   "execution_count": null,
   "id": "8d0f4ce0",
   "metadata": {},
   "outputs": [],
   "source": [
    "df_mh_fld"
   ]
  },
  {
   "cell_type": "code",
   "execution_count": null,
   "id": "b0a2db7f",
   "metadata": {},
   "outputs": [],
   "source": [
    "df_mh_fld[\"APOE4\"]"
   ]
  },
  {
   "cell_type": "markdown",
   "id": "67b0ede7",
   "metadata": {},
   "source": [
    "# Demographics (Age, gender, education APOE4)"
   ]
  },
  {
   "cell_type": "code",
   "execution_count": null,
   "id": "913d69c5",
   "metadata": {},
   "outputs": [],
   "source": [
    "df_mci_demo = pd.merge(mci_solved, df_mci[[\"PTID\", \"APOE4\", \"PTGENDER\", \"PTEDUCAT\", \"AGE\"]], left_on=\"PTID\", right_on=\"PTID\", how=\"inner\")\n",
    "df_cnad_demo = pd.merge(cnad_solved, df_cnad[[\"PTID\", \"APOE4\", \"PTGENDER\", \"PTEDUCAT\", \"AGE\"]], left_on=\"PTID\", right_on=\"PTID\", how=\"inner\")\n",
    "df_demo = pd.concat([df_cnad_demo, df_mci_demo], axis=0)         "
   ]
  },
  {
   "cell_type": "code",
   "execution_count": null,
   "id": "de263fe5",
   "metadata": {},
   "outputs": [],
   "source": [
    "df_demo"
   ]
  },
  {
   "cell_type": "code",
   "execution_count": null,
   "id": "c0fd0b29",
   "metadata": {},
   "outputs": [],
   "source": [
    "df_cnad"
   ]
  },
  {
   "cell_type": "code",
   "execution_count": null,
   "id": "71f6f90f",
   "metadata": {},
   "outputs": [],
   "source": [
    "df_demo.groupby([\"subtype\", \"APOE4\"]).size().unstack(level=1) "
   ]
  },
  {
   "cell_type": "markdown",
   "id": "695e59ba",
   "metadata": {},
   "source": [
    "# APOE4 allele frequency"
   ]
  },
  {
   "cell_type": "code",
   "execution_count": null,
   "id": "a5852893",
   "metadata": {},
   "outputs": [],
   "source": [
    "np.dot(df_demo.groupby([\"subtype\", \"APOE4\"]).size().unstack(level=1), [0,1,2])/(2*df_demo.groupby([\"subtype\", \"APOE4\"]).size().unstack(level=1).sum(axis=1))"
   ]
  },
  {
   "cell_type": "code",
   "execution_count": null,
   "id": "12fee4be",
   "metadata": {},
   "outputs": [],
   "source": [
    "chi2_table = df_demo.groupby([\"subtype\", \"APOE4\"]).size().unstack(level=1).fillna(0)\n",
    "chi2_contingency(chi2_table)"
   ]
  },
  {
   "cell_type": "markdown",
   "id": "ac540cdd",
   "metadata": {},
   "source": [
    "## Education and Age"
   ]
  },
  {
   "cell_type": "code",
   "execution_count": null,
   "id": "4b2ff370",
   "metadata": {},
   "outputs": [],
   "source": [
    "[(name, group[\"AGE\"].std()) for name, group in df_demo.groupby(\"subtype\")]"
   ]
  },
  {
   "cell_type": "code",
   "execution_count": null,
   "id": "6add216c",
   "metadata": {},
   "outputs": [],
   "source": [
    "kruskal(*[group[\"AGE\"].values for name, group in df_demo.groupby(\"subtype\")])"
   ]
  },
  {
   "cell_type": "code",
   "execution_count": null,
   "id": "24cafcc0",
   "metadata": {},
   "outputs": [],
   "source": [
    "sns.boxenplot(data=df_demo, x=\"subtype\",y=\"PTEDUCAT\")"
   ]
  },
  {
   "cell_type": "code",
   "execution_count": null,
   "id": "21ddbfcc",
   "metadata": {},
   "outputs": [],
   "source": [
    "df_st0 = df_demo[df_demo[\"subtype\"]==0]\n",
    "df_st1 = df_demo[df_demo[\"subtype\"]==1]\n",
    "df_st2 = df_demo[df_demo[\"subtype\"]==2]\n",
    "df_st3 = df_demo[df_demo[\"subtype\"]==3]"
   ]
  },
  {
   "cell_type": "code",
   "execution_count": null,
   "id": "e1ee478d",
   "metadata": {},
   "outputs": [],
   "source": [
    "demo_x = \"PTEDUCAT\"\n",
    "kruskal(df_st0[demo_x], df_st1[demo_x], df_st2[demo_x],df_st3[demo_x])"
   ]
  },
  {
   "cell_type": "markdown",
   "id": "c7046c3a",
   "metadata": {},
   "source": [
    "# Prepare data for StatsModel"
   ]
  },
  {
   "cell_type": "code",
   "execution_count": null,
   "id": "3f6049fa",
   "metadata": {},
   "outputs": [],
   "source": [
    "def regress_score(df, field, covariates, examdate=\"EXAMDATE\", n_subtypes=4):\n",
    "    subtypes = list(range(n_subtypes))\n",
    "    df_fld = df.dropna(subset=[field])\n",
    "    df_fld.sort_values([\"sid\", examdate], inplace=True)\n",
    "    df_fld.drop_duplicates(\"sid\", keep=\"first\", inplace=True)\n",
    "    one_hot_cols = pd.get_dummies(df_fld[\"subtype\"])\n",
    "    one_hot_cols = one_hot_cols[subtypes]\n",
    "    new_cols = [\"st{}\".format(_) for _ in subtypes]\n",
    "    one_hot_cols.columns = new_cols\n",
    "    df_one_hot = pd.concat([df_fld[covariates+[field]], one_hot_cols], axis=1)\n",
    "    return df_one_hot\n",
    "\n",
    "def process_df(df, fld, examdate=\"EXAMDATE\"):\n",
    "    df_fld = df.dropna(subset=[fld])\n",
    "    df_fld.sort_values([\"sid\", examdate], inplace=True)\n",
    "    df_fld.drop_duplicates(\"sid\", keep=\"first\", inplace=True)\n",
    "    return df_fld\n",
    "\n",
    "def regress_OLS(df, fld, cov):\n",
    "    model = sm.OLS(df[[fld]], sm.add_constant(df[cov]))\n",
    "    results = model.fit()\n",
    "    stats_df = pd.concat([results.pvalues,results.params, results.bse, results.conf_int()],axis=1)\n",
    "    stats_df.columns = [\"p-vals\", \"coef\",\"std-err\",\"conf-int-lower95\", \"conf-int-upper95\"]\n",
    "    stats_df[\"fld\"] = fld\n",
    "    stats_df[\"r-sq-adj\"] = results.rsquared_adj\n",
    "    stats_df[\"f-pvalue\"] = results.f_pvalue\n",
    "    return stats_df\n",
    "\n",
    "def regress_Logit(df, fld, cov):\n",
    "    model = sm.Logit(df[[fld]], sm.add_constant(df[cov]))\n",
    "    results = model.fit()\n",
    "    stats_df = pd.concat([results.pvalues,results.params, results.bse, results.conf_int()],axis=1)\n",
    "    stats_df.columns = [\"p-vals\", \"coef\",\"std-err\",\"conf-int-lower95\", \"conf-int-upper95\"]\n",
    "    stats_df[\"fld\"] = fld\n",
    "    stats_df[\"psuedo-r-sq\"] = results.prsquared\n",
    "    stats_df[\"llr_pvalue\"] = results.llr_pvalue\n",
    "    return stats_df"
   ]
  },
  {
   "cell_type": "markdown",
   "id": "00f57eda",
   "metadata": {},
   "source": [
    "# Process data for filtering operations"
   ]
  },
  {
   "cell_type": "markdown",
   "id": "410b762b",
   "metadata": {},
   "source": [
    "## OLS regression function"
   ]
  },
  {
   "cell_type": "code",
   "execution_count": null,
   "id": "362e9fa5",
   "metadata": {},
   "outputs": [],
   "source": [
    "def regress_OLS(df, fld, cov):\n",
    "    model = sm.OLS(df[[fld]], sm.add_constant(df[cov]))\n",
    "    results = model.fit()\n",
    "    stats_df = pd.concat([results.pvalues,results.params, results.bse, results.conf_int()],axis=1)\n",
    "    stats_df.columns = [\"p-vals\", \"coef\",\"std-err\",\"conf-int-lower95\", \"conf-int-upper95\"]\n",
    "    stats_df[\"fld\"] = fld\n",
    "    stats_df[\"r-sq-adj\"] = results.rsquared_adj\n",
    "    stats_df[\"f-pvalue\"] = results.f_pvalue\n",
    "    return stats_df"
   ]
  },
  {
   "cell_type": "markdown",
   "id": "9053451e",
   "metadata": {},
   "source": [
    "## Logistic regression function"
   ]
  },
  {
   "cell_type": "code",
   "execution_count": null,
   "id": "f263a9c4",
   "metadata": {},
   "outputs": [],
   "source": [
    "def regress_Logit(df, fld, cov):\n",
    "    model = sm.Logit(df[[fld]], sm.add_constant(df[cov]))\n",
    "    results = model.fit()\n",
    "    stats_df = pd.concat([results.pvalues,results.params, results.bse, results.conf_int()],axis=1)\n",
    "    stats_df.columns = [\"p-vals\", \"coef\",\"std-err\",\"conf-int-lower95\", \"conf-int-upper95\"]\n",
    "    stats_df[\"fld\"] = fld\n",
    "    stats_df[\"psuedo-r-sq\"] = results.prsquared\n",
    "    stats_df[\"llr_pvalue\"] = results.llr_pvalue\n",
    "    return stats_df"
   ]
  },
  {
   "cell_type": "markdown",
   "id": "cb40531b",
   "metadata": {},
   "source": [
    "# NeuroBAT"
   ]
  },
  {
   "cell_type": "code",
   "execution_count": null,
   "id": "25b592df",
   "metadata": {},
   "outputs": [],
   "source": [
    "mh_dir = \"/nethome/rtandon32/ebm/ebm_experiments/experiment_scripts/real_data/assessments/\"\n",
    "file_name = \"NEUROBAT_15Apr2024.csv\"\n",
    "df_assess = pd.read_csv(os.path.join(mh_dir, file_name))\n",
    "df_assess[\"EXAMDATE\"] = pd.to_datetime(df_assess[\"EXAMDATE\"])\n",
    "df_assess.sort_values([\"RID\", \"EXAMDATE\"], inplace=True)\n",
    "df_assess[\"VISCODE2\"].replace(\"sc\", \"bl\", inplace=True)\n",
    "df_mh = pd.merge(df_long_mci_subset, df_assess, left_on=[\"sid\", \"VISCODE\"], \n",
    "         right_on=[\"PTID\", \"VISCODE2\"], how=\"inner\", suffixes=[None, \"_y\"])\n",
    "df_mh.replace([-4,-1],np.nan, inplace=True)\n",
    "df_mh[\"stage\"] = df_mh[\"stage\"].astype(int)"
   ]
  },
  {
   "cell_type": "markdown",
   "id": "cf379113",
   "metadata": {},
   "source": [
    "# Trail Tests"
   ]
  },
  {
   "cell_type": "markdown",
   "id": "b1fa0643",
   "metadata": {},
   "source": [
    "### Regression Models"
   ]
  },
  {
   "cell_type": "code",
   "execution_count": null,
   "id": "f5ee5be9",
   "metadata": {},
   "outputs": [],
   "source": [
    "flds = [\"TRAASCOR\",\"TRAAERRCOM\",\"TRAAERROM\",\"TRABSCOR\",\"TRABERRCOM\",\"TRABERROM\"]\n",
    "test_name = \"trail_test\"\n",
    "cov1 = [\"PTGENDER\", \"APOE4\", \"PTEDUCAT\",\"AGE\",\"stage\",\"st1\", \"st2\", \"st3\"]\n",
    "cov2 = [\"PTGENDER\", \"APOE4\", \"PTEDUCAT\",\"AGE\"]\n",
    "stats_df_list = []\n",
    "for fld in flds:\n",
    "    df_xx = regress_score(df_mh, fld, [\"AGE\", \"PTGENDER\", \"PTEDUCAT\", \"APOE4\",\"stage\"])\n",
    "    df_xx.dropna(inplace=True)\n",
    "    stats_df1 = regress_OLS(df_xx, fld, cov1)\n",
    "    stats_df1[\"n-cov\"] = \"incl-sustain\"\n",
    "    stats_df2 = regress_OLS(df_xx, fld, cov2)\n",
    "    stats_df2[\"n-cov\"] = \"excl-sustain\"\n",
    "    stats_df_list += [stats_df1, stats_df2]\n",
    "stats_df_all = pd.concat(stats_df_list, axis=0)\n",
    "dir_path = \"/nethome/rtandon32/ebm/s-SuStain-outputs/sim_tadpole19_mixture_GMM/figures_4/neurobattery2\"\n",
    "stats_df_all.to_csv(os.path.join(dir_path,\"stats_{}.csv\".format(test_name)))"
   ]
  },
  {
   "cell_type": "code",
   "execution_count": null,
   "id": "ec528904",
   "metadata": {},
   "outputs": [],
   "source": [
    "flds = [\"TRAASCOR\",\"TRAAERRCOM\",\"TRAAERROM\",\"TRABSCOR\",\"TRABERRCOM\",\"TRABERROM\"]\n",
    "test_name = \"trail_test\"\n",
    "groupby_var = \"stage\"\n",
    "neurobat_dict = {}\n",
    "ratio_df = pd.DataFrame()\n",
    "for fld in flds:\n",
    "    df_mh_fld = process_df(df_mh, fld)\n",
    "    n_samples = df_mh_fld.shape[0]\n",
    "    print(\"Shape\", fld, df_mh_fld.shape)\n",
    "    chi2_table = df_mh_fld.groupby([groupby_var, fld]).size().unstack(level=1).fillna(0)\n",
    "    chi2_stats = chi2_contingency(chi2_table)\n",
    "    chi2_pval = chi2_stats[1]\n",
    "    spearmanr_corr = spearmanr(df_mh_fld[\"stage\"], df_mh_fld[fld]).correlation\n",
    "    neurobat_dict[fld] = [chi2_pval, spearmanr_corr, n_samples]\n",
    "\n",
    "dir_path = \"/nethome/rtandon32/ebm/s-SuStain-outputs/sim_tadpole19_mixture_GMM/figures_4/neurobattery2\"\n",
    "neurobat_df = pd.DataFrame.from_dict(neurobat_dict, orient=\"index\", \n",
    "                                     columns = [\"chi-2-pval\", \"spearmanr\", \"n_samples\"])\n",
    "neurobat_df.to_csv(os.path.join(dir_path, \"{}_df.csv\".format(test_name)))"
   ]
  },
  {
   "cell_type": "code",
   "execution_count": null,
   "id": "41036049",
   "metadata": {},
   "outputs": [],
   "source": [
    "nrows=2\n",
    "ncols=3\n",
    "fig, ax = plt.subplots(nrows,ncols, sharex=True, sharey=False, figsize=(6,4))\n",
    "for _,fld in enumerate(flds):\n",
    "    df_mh_fld = process_df(df_mh, fld)\n",
    "    r = _//ncols\n",
    "    c = _%ncols\n",
    "    sns.boxenplot(data=df_mh_fld, x=\"stage\", y=fld, ax=ax[r,c], \n",
    "                  palette=palette_color1)\n",
    "    ax[r, c].set_ylabel(\"\")\n",
    "    ax[r, c].set_title(fld, fontsize=12)\n",
    "    ax[r,c].spines[['right', 'top']].set_visible(False)\n",
    "    ax[r,c].ticklabel_format(style='scientific', axis='y', scilimits=(0,0), useMathText=True)\n",
    "fig.tight_layout()\n",
    "fig.savefig(os.path.join(dir_path, \"{}.png\".format(test_name)), dpi=300)"
   ]
  },
  {
   "cell_type": "code",
   "execution_count": null,
   "id": "ca63fdc6",
   "metadata": {},
   "outputs": [],
   "source": [
    "flds = [\"TRAASCOR\",\"TRABSCOR\"]\n",
    "fld_title = {\"TRAASCOR\":\"Trail A Score\", \"TRABSCOR\":\"Trail B Score\"}\n",
    "test_name = \"trail_A_B_test\"\n",
    "nrows=1\n",
    "ncols=2\n",
    "fig, ax = plt.subplots(nrows,ncols, sharex=True, sharey=False, figsize=(4,2))\n",
    "for _,fld in enumerate(flds):\n",
    "    df_mh_fld = process_df(df_mh, fld)\n",
    "    c = _%ncols\n",
    "    sns.boxenplot(data=df_mh_fld, x=\"stage\", y=fld, ax=ax[c], \n",
    "                  palette=palette_color1)\n",
    "    ax[c].set_ylabel(\"\")\n",
    "    ax[c].set_title(fld_title[fld], fontsize=12)\n",
    "    ax[c].spines[['right', 'top']].set_visible(False)\n",
    "    ax[c].ticklabel_format(style='scientific', axis='y', scilimits=(0,0), useMathText=True)\n",
    "ax[0].set_ylabel(\"Time (s)\", fontsize=12)\n",
    "fig.tight_layout()\n",
    "fig.savefig(os.path.join(dir_path, \"{}.png\".format(test_name)), dpi=300)"
   ]
  },
  {
   "cell_type": "markdown",
   "id": "ae20c1cd",
   "metadata": {},
   "source": [
    "### RAVLT"
   ]
  },
  {
   "cell_type": "code",
   "execution_count": null,
   "id": "72adcae7",
   "metadata": {},
   "outputs": [],
   "source": [
    "flds = [\"AVTOT1\",\"AVTOT2\",\"AVTOT3\",\"AVTOT4\",\"AVTOT5\",\"AVTOT6\",\"AVTOTB\",\n",
    "        \"AVERR1\",\"AVERR2\",\"AVERR3\",\"AVERR4\",\"AVERR5\",\"AVERR6\",\"AVERRB\"]\n",
    "test_name = \"RAVLT_test\"\n",
    "groupby_var = \"stage\"\n",
    "neurobat_dict = {}\n",
    "ratio_df = pd.DataFrame()\n",
    "for fld in flds:\n",
    "    df_mh_fld = df_mh.dropna(subset=[fld])\n",
    "    df_mh_fld.sort_values([\"sid\", \"EXAMDATE\"], inplace=True)\n",
    "    df_mh_fld.drop_duplicates(\"sid\", keep=\"first\", inplace=True)\n",
    "    n_samples = df_mh_fld.shape[0]\n",
    "    print(\"Shape\", fld, df_mh_fld.shape)\n",
    "    chi2_table = df_mh_fld.groupby([groupby_var, fld]).size().unstack(level=1).fillna(0)\n",
    "    chi2_stats = chi2_contingency(chi2_table)\n",
    "    chi2_pval = chi2_stats[1]\n",
    "    spearmanr_corr = spearmanr(df_mh_fld[\"stage\"], df_mh_fld[fld]).correlation\n",
    "    neurobat_dict[fld] = [chi2_pval, spearmanr_corr, n_samples]\n",
    "\n",
    "dir_path = \"/nethome/rtandon32/ebm/s-SuStain-outputs/sim_tadpole19_mixture_GMM/figures_4/neurobattery2\"\n",
    "neurobat_df = pd.DataFrame.from_dict(neurobat_dict, orient=\"index\", columns = [\"chi-2-pval\", \"spearmanr\", \"n_samples\"])\n",
    "neurobat_df.to_csv(os.path.join(dir_path, \"{}_df.csv\".format(test_name)))"
   ]
  },
  {
   "cell_type": "code",
   "execution_count": null,
   "id": "baa62ca2",
   "metadata": {},
   "outputs": [],
   "source": [
    "rows = 2; cols=7;\n",
    "fig, ax = plt.subplots(rows,cols, sharex=True, sharey=False, figsize=(15,5))\n",
    "for _,fld in enumerate(flds):\n",
    "    df_mh_fld = process_df(df_mh, fld)\n",
    "    r = _//cols\n",
    "    c = _%cols\n",
    "    sns.boxenplot(data=df_mh_fld, x=\"stage\", y=fld, ax=ax[r,c])\n",
    "    ax[r, c].set_ylabel(\"\")\n",
    "    ax[r, c].set_title(fld, fontsize=15)\n",
    "fig.tight_layout()\n",
    "fig.savefig(os.path.join(dir_path, \"{}.png\".format(test_name)), dpi=300)"
   ]
  },
  {
   "cell_type": "markdown",
   "id": "dde377a4",
   "metadata": {},
   "source": [
    "### Regression"
   ]
  },
  {
   "cell_type": "code",
   "execution_count": null,
   "id": "bae06eca",
   "metadata": {},
   "outputs": [],
   "source": [
    "flds = [\"AVTOT1\",\"AVTOT2\",\"AVTOT3\",\"AVTOT4\",\"AVTOT5\",\"AVTOT6\",\"AVTOTB\",\n",
    "        \"AVERR1\",\"AVERR2\",\"AVERR3\",\"AVERR4\",\"AVERR5\",\"AVERR6\",\"AVERRB\"]\n",
    "test_name = \"RAVLT_test\"\n",
    "stats_df_list = []\n",
    "for fld in flds:\n",
    "    df_xx = regress_score(df_mh, fld, [\"AGE\", \"PTGENDER\", \"PTEDUCAT\", \"APOE4\",\"stage\"])\n",
    "    df_xx.dropna(inplace=True)\n",
    "    model = sm.OLS(df_xx[[fld]], \n",
    "                   sm.add_constant(df_xx[[\"PTGENDER\", \"APOE4\", \"PTEDUCAT\",\"AGE\",\"stage\",\"st1\", \"st2\", \"st3\"]]))\n",
    "    results = model.fit()\n",
    "    stats_df = pd.concat([results.pvalues,results.params],axis=1)\n",
    "    stats_df.columns = [\"p-vals\", \"coef\"]\n",
    "    stats_df[\"fld\"] = fld\n",
    "    stats_df[\"r-sq-adj\"] = results.rsquared_adj\n",
    "    stats_df_list.append(stats_df)\n",
    "stats_df_all = pd.concat(stats_df_list, axis=0)\n",
    "dir_path = \"/nethome/rtandon32/ebm/s-SuStain-outputs/sim_tadpole19_mixture_GMM/figures_4/neurobattery2\"\n",
    "stats_df_all.to_csv(os.path.join(dir_path,\"stats_{}.csv\".format(test_name)))"
   ]
  },
  {
   "cell_type": "code",
   "execution_count": null,
   "id": "968d700b",
   "metadata": {},
   "outputs": [],
   "source": [
    "flds = [\"AVTOT1\",\"AVTOT2\",\"AVTOT3\",\"AVTOT4\",\"AVTOT5\",\"AVTOT6\",\"AVTOTB\",\n",
    "        \"AVERR1\",\"AVERR2\",\"AVERR3\",\"AVERR4\",\"AVERR5\",\"AVERR6\",\"AVERRB\"]\n",
    "test_name = \"RAVLT_test\"\n",
    "cov1 = [\"PTGENDER\", \"APOE4\", \"PTEDUCAT\",\"AGE\",\"stage\",\"st1\", \"st2\", \"st3\"]\n",
    "cov2 = [\"PTGENDER\", \"APOE4\", \"PTEDUCAT\",\"AGE\"]\n",
    "stats_df_list = []\n",
    "for fld in flds:\n",
    "    df_xx = regress_score(df_mh, fld, [\"AGE\", \"PTGENDER\", \"PTEDUCAT\", \"APOE4\",\"stage\"])\n",
    "    df_xx.dropna(inplace=True)\n",
    "    stats_df1 = regress_OLS(df_xx, fld, cov1)\n",
    "    stats_df1[\"n-cov\"] = \"incl-sustain\"\n",
    "    stats_df2 = regress_OLS(df_xx, fld, cov2)\n",
    "    stats_df2[\"n-cov\"] = \"excl-sustain\"\n",
    "    stats_df_list += [stats_df1, stats_df2]\n",
    "stats_df_all = pd.concat(stats_df_list, axis=0)\n",
    "dir_path = \"/nethome/rtandon32/ebm/s-SuStain-outputs/sim_tadpole19_mixture_GMM/figures_4/neurobattery2\"\n",
    "stats_df_all.to_csv(os.path.join(dir_path,\"stats_{}.csv\".format(test_name)))"
   ]
  },
  {
   "cell_type": "markdown",
   "id": "974932f2",
   "metadata": {},
   "source": [
    "### RAVLT delayed"
   ]
  },
  {
   "cell_type": "code",
   "execution_count": null,
   "id": "7aecd870",
   "metadata": {},
   "outputs": [],
   "source": [
    "flds = [\"AVDEL30MIN\", \"AVDELERR1\", \"AVDELTOT\", \"AVDELERR2\"]\n",
    "test_name = \"RAVLT_delayed\"\n",
    "groupby_var = \"stage\"\n",
    "neurobat_dict = {}\n",
    "ratio_df = pd.DataFrame()\n",
    "for fld in flds:\n",
    "    df_mh_fld = df_mh.dropna(subset=[fld])\n",
    "    df_mh_fld.sort_values([\"sid\", \"EXAMDATE\"], inplace=True)\n",
    "    df_mh_fld.drop_duplicates(\"sid\", keep=\"first\", inplace=True)\n",
    "    n_samples = df_mh_fld.shape[0]\n",
    "    print(\"Shape\", fld, df_mh_fld.shape)\n",
    "    chi2_table = df_mh_fld.groupby([groupby_var, fld]).size().unstack(level=1).fillna(0)\n",
    "    chi2_stats = chi2_contingency(chi2_table)\n",
    "    chi2_pval = chi2_stats[1]\n",
    "    spearmanr_corr = spearmanr(df_mh_fld[\"stage\"], df_mh_fld[fld]).correlation\n",
    "    neurobat_dict[fld] = [chi2_pval, spearmanr_corr, n_samples]\n",
    "\n",
    "dir_path = \"/nethome/rtandon32/ebm/s-SuStain-outputs/sim_tadpole19_mixture_GMM/figures_4/neurobattery2\"\n",
    "neurobat_df = pd.DataFrame.from_dict(neurobat_dict, orient=\"index\", columns = [\"chi-2-pval\", \"spearmanr\", \"n_samples\"])\n",
    "neurobat_df.to_csv(os.path.join(dir_path, \"{}_df.csv\".format(test_name)))"
   ]
  },
  {
   "cell_type": "code",
   "execution_count": null,
   "id": "47d7b472",
   "metadata": {},
   "outputs": [],
   "source": [
    "rows = 2; cols=2;\n",
    "fig, ax = plt.subplots(rows,cols, sharex=True, sharey=False, figsize=(8,8))\n",
    "for _,fld in enumerate(flds):\n",
    "    df_mh_fld = process_df(df_mh, fld)\n",
    "    r = _//cols\n",
    "    c = _%cols\n",
    "    sns.boxenplot(data=df_mh_fld, x=\"stage\", y=fld, ax=ax[r,c])\n",
    "    ax[r, c].set_ylabel(\"\")\n",
    "    ax[r, c].set_title(fld, fontsize=15)\n",
    "fig.tight_layout()\n",
    "fig.savefig(os.path.join(dir_path, \"{}.png\".format(test_name)), dpi=300)"
   ]
  },
  {
   "cell_type": "code",
   "execution_count": null,
   "id": "661d577b",
   "metadata": {},
   "outputs": [],
   "source": [
    "flds = [\"AVTOT1\",\"AVTOT2\",\"AVTOT3\",\"AVTOT4\",\"AVTOT5\",\"AVTOTB\", \"AVTOT6\", \"AVDEL30MIN\", \"AVDELTOT\"]\n",
    "flds_title = {\"AVTOT1\":\"Trial 1\", \"AVTOT2\":\"Trial 2\", \"AVTOT3\":\"Trial 3\",\n",
    "             \"AVTOT4\":\"Trial 4\", \"AVTOT5\":\"Trial 5\", \"AVTOTB\":\"Trial B\",\n",
    "             \"AVTOT6\":\"Trial 6\", \"AVDEL30MIN\":\"Delayed (30 min)\", \"AVDELTOT\":\"Recognition\"}\n",
    "rows = 3; cols=3;\n",
    "test_name = \"RAVLT_delayed_final\"\n",
    "fig, ax = plt.subplots(rows,cols, sharex=True, sharey=True, figsize=(6,6))\n",
    "for _,fld in enumerate(flds):\n",
    "    df_mh_fld = process_df(df_mh, fld)\n",
    "    r = _//cols\n",
    "    c = _%cols\n",
    "    sns.boxenplot(data=df_mh_fld, x=\"stage\", y=fld, ax=ax[r,c], palette=palette_color1)\n",
    "    ax[r, c].set_ylabel(\"\")\n",
    "    ax[r, c].set_title(flds_title[fld], fontsize=12)\n",
    "    ax[r, c].spines[['right', 'top']].set_visible(False)\n",
    "    ax[r, c].ticklabel_format(style='scientific', axis='y', \n",
    "                              scilimits=(0,0), useMathText=True)\n",
    "fig.tight_layout()\n",
    "fig.savefig(os.path.join(dir_path, \"{}.png\".format(test_name)), dpi=300)"
   ]
  },
  {
   "cell_type": "code",
   "execution_count": null,
   "id": "85b0723b",
   "metadata": {},
   "outputs": [],
   "source": [
    "flds = [\"AVTOT1\",\"AVTOT2\",\"AVTOT3\",\"AVTOT4\",\"AVTOT5\"]\n",
    "flds_title = {\"AVTOT1\":\"Trial 1\", \"AVTOT2\":\"Trial 2\", \"AVTOT3\":\"Trial 3\",\n",
    "             \"AVTOT4\":\"Trial 4\", \"AVTOT5\":\"Trial 5\", \"AVTOTB\":\"Trial B\",\n",
    "             \"AVTOT6\":\"Trial 6\", \"AVDEL30MIN\":\"Delayed (30 min)\", \"AVDELTOT\":\"Recognition\"}\n",
    "rows = 1; cols=5;\n",
    "test_name = \"RAVLT_trials_1_5\"\n",
    "fig, ax = plt.subplots(rows,cols, sharex=True, sharey=True, figsize=(10,2))\n",
    "for _,fld in enumerate(flds):\n",
    "    df_mh_fld = process_df(df_mh, fld)\n",
    "    r = _//cols\n",
    "    c = _%cols\n",
    "    sns.boxenplot(data=df_mh_fld, x=\"stage\", y=fld, ax=ax[c], palette=palette_color1)\n",
    "    ax[c].set_ylabel(\"\")\n",
    "    ax[c].set_title(flds_title[fld], fontsize=12)\n",
    "    ax[c].spines[['right', 'top']].set_visible(False)\n",
    "#     ax[c].ticklabel_format(style='scientific', axis='y', \n",
    "#                               scilimits=(0,0), useMathText=True)\n",
    "ax[0].set_ylabel(\"Score\", fontsize=12)\n",
    "fig.tight_layout()\n",
    "fig.savefig(os.path.join(dir_path, \"{}.png\".format(test_name)), dpi=300)"
   ]
  },
  {
   "cell_type": "code",
   "execution_count": null,
   "id": "766c9858",
   "metadata": {},
   "outputs": [],
   "source": [
    "flds = [\"AVTOTB\",\"AVERRB\"]\n",
    "flds_title = {\"AVTOTB\":\"Trial B\",\"AVERRB\":\"Intrusion Err.\"}\n",
    "rows = 1; cols=2;\n",
    "test_name = \"RAVLT_trials_B\"\n",
    "fig, ax = plt.subplots(rows,cols, sharex=True, sharey=True, figsize=(4,2))\n",
    "for _,fld in enumerate(flds):\n",
    "    df_mh_fld = process_df(df_mh, fld)\n",
    "    r = _//cols\n",
    "    c = _%cols\n",
    "    sns.boxenplot(data=df_mh_fld, x=\"stage\", y=fld, ax=ax[c], palette=palette_color1)\n",
    "    ax[c].set_ylabel(\"\")\n",
    "    ax[c].set_title(flds_title[fld], fontsize=12)\n",
    "    ax[c].spines[['right', 'top']].set_visible(False)\n",
    "#     ax[c].ticklabel_format(style='scientific', axis='y', \n",
    "#                               scilimits=(0,0), useMathText=True)\n",
    "ax[0].set_ylabel(\"Score\", fontsize=12)\n",
    "fig.tight_layout()\n",
    "fig.savefig(os.path.join(dir_path, \"{}.png\".format(test_name)), dpi=300)"
   ]
  },
  {
   "cell_type": "code",
   "execution_count": null,
   "id": "af1b8c3c",
   "metadata": {},
   "outputs": [],
   "source": [
    "flds = [\"AVTOT6\",\"AVERR6\"]\n",
    "flds_title = {\"AVTOT6\":\"Trial 6\",\"AVERR6\":\"Intrusion Err.\"}\n",
    "rows = 1; cols=2;\n",
    "test_name = \"RAVLT_trials_6\"\n",
    "fig, ax = plt.subplots(rows,cols, sharex=True, sharey=True, figsize=(4,2))\n",
    "for _,fld in enumerate(flds):\n",
    "    df_mh_fld = process_df(df_mh, fld)\n",
    "    r = _//cols\n",
    "    c = _%cols\n",
    "    sns.boxenplot(data=df_mh_fld, x=\"stage\", y=fld, ax=ax[c], palette=palette_color1)\n",
    "    ax[c].set_ylabel(\"\")\n",
    "    ax[c].set_title(flds_title[fld], fontsize=12)\n",
    "    ax[c].spines[['right', 'top']].set_visible(False)\n",
    "#     ax[c].ticklabel_format(style='scientific', axis='y', \n",
    "#                               scilimits=(0,0), useMathText=True)\n",
    "ax[0].set_ylabel(\"Score\", fontsize=12)\n",
    "fig.tight_layout()\n",
    "fig.savefig(os.path.join(dir_path, \"{}.png\".format(test_name)), dpi=300)"
   ]
  },
  {
   "cell_type": "code",
   "execution_count": null,
   "id": "17e6eb06",
   "metadata": {},
   "outputs": [],
   "source": [
    "flds = [\"AVDEL30MIN\",\"AVERRB\"]\n",
    "flds_title = {\"AVDEL30MIN\":\"Delayed (30 min)\",\"AVERRB\":\"Intrusion Err.\"}\n",
    "rows = 1; cols=2;\n",
    "test_name = \"RAVLT_trials_B\"\n",
    "fig, ax = plt.subplots(rows,cols, sharex=True, sharey=True, figsize=(4,2))\n",
    "for _,fld in enumerate(flds):\n",
    "    df_mh_fld = process_df(df_mh, fld)\n",
    "    r = _//cols\n",
    "    c = _%cols\n",
    "    sns.boxenplot(data=df_mh_fld, x=\"stage\", y=fld, ax=ax[c], palette=palette_color1)\n",
    "    ax[c].set_ylabel(\"\")\n",
    "    ax[c].set_title(flds_title[fld], fontsize=12)\n",
    "    ax[c].spines[['right', 'top']].set_visible(False)\n",
    "#     ax[c].ticklabel_format(style='scientific', axis='y', \n",
    "#                               scilimits=(0,0), useMathText=True)\n",
    "ax[0].set_ylabel(\"Score\", fontsize=12)\n",
    "fig.tight_layout()\n",
    "fig.savefig(os.path.join(dir_path, \"{}.png\".format(test_name)), dpi=300)"
   ]
  },
  {
   "cell_type": "markdown",
   "id": "a90090ae",
   "metadata": {},
   "source": [
    "### Regression"
   ]
  },
  {
   "cell_type": "code",
   "execution_count": null,
   "id": "c7884bb7",
   "metadata": {},
   "outputs": [],
   "source": [
    "flds = [\"AVTOT1\",\"AVTOT2\",\"AVTOT3\",\"AVTOT4\",\"AVTOT5\",\"AVTOT6\",\"AVTOTB\",\n",
    "        \"AVERR1\",\"AVERR2\",\"AVERR3\",\"AVERR4\",\"AVERR5\",\"AVERR6\",\"AVERRB\"] + [\"AVDEL30MIN\", \"AVDELERR1\", \"AVDELTOT\", \"AVDELERR2\"]\n",
    "test_name = \"RAVLT_delayed\"\n",
    "cov1 = [\"PTGENDER\", \"APOE4\", \"PTEDUCAT\",\"AGE\",\"stage\",\"st1\", \"st2\", \"st3\"]\n",
    "cov2 = [\"PTGENDER\", \"APOE4\", \"PTEDUCAT\",\"AGE\"]\n",
    "stats_df_list = []\n",
    "for fld in flds:\n",
    "    df_xx = regress_score(df_mh, fld, [\"AGE\", \"PTGENDER\", \"PTEDUCAT\", \"APOE4\",\"stage\"])\n",
    "    df_xx.dropna(inplace=True)\n",
    "    stats_df1 = regress_OLS(df_xx, fld, cov1)\n",
    "    stats_df1[\"n-cov\"] = \"incl-sustain\"\n",
    "    stats_df2 = regress_OLS(df_xx, fld, cov2)\n",
    "    stats_df2[\"n-cov\"] = \"excl-sustain\"\n",
    "    stats_df_list += [stats_df1, stats_df2]\n",
    "stats_df_all = pd.concat(stats_df_list, axis=0)\n",
    "dir_path = \"/nethome/rtandon32/ebm/s-SuStain-outputs/sim_tadpole19_mixture_GMM/figures_4/neurobattery2\"\n",
    "stats_df_all.to_csv(os.path.join(dir_path,\"stats_{}.csv\".format(test_name)))"
   ]
  },
  {
   "cell_type": "markdown",
   "id": "f0e37937",
   "metadata": {},
   "source": [
    "# CLOCK tests"
   ]
  },
  {
   "cell_type": "code",
   "execution_count": null,
   "id": "ff7f525b",
   "metadata": {},
   "outputs": [],
   "source": [
    "mh_dir = \"/nethome/rtandon32/ebm/ebm_experiments/experiment_scripts/real_data/assessments/\"\n",
    "file_name = \"NEUROBAT_15Apr2024.csv\"\n",
    "df_assess = pd.read_csv(os.path.join(mh_dir, file_name))\n",
    "df_assess[\"EXAMDATE\"] = pd.to_datetime(df_assess[\"EXAMDATE\"])\n",
    "df_assess.sort_values([\"RID\", \"EXAMDATE\"], inplace=True)\n",
    "df_assess[\"VISCODE2\"].replace(\"sc\", \"bl\", inplace=True)\n",
    "df_mh = pd.merge(df_long_mci_subset, df_assess, left_on=[\"sid\", \"VISCODE\"], \n",
    "         right_on=[\"PTID\", \"VISCODE2\"], how=\"inner\", suffixes=[None, \"_y\"])\n",
    "df_mh.replace([-4,-1],np.nan, inplace=True)\n",
    "df_mh[\"stage\"] = df_mh[\"stage\"].astype(int)"
   ]
  },
  {
   "cell_type": "code",
   "execution_count": null,
   "id": "188f4de6",
   "metadata": {},
   "outputs": [],
   "source": [
    "flds = [\"CLOCKCIRC\",\"CLOCKSYM\",\"CLOCKNUM\",\"CLOCKHAND\",\"CLOCKTIME\",\n",
    "        \"COPYCIRC\",\"COPYSYM\",\"COPYNUM\",\"COPYHAND\",\"COPYTIME\",\"LDELCUE\"]\n",
    "test_name = \"clock_test\"\n",
    "cov1 = [\"PTGENDER\", \"APOE4\", \"PTEDUCAT\",\"AGE\",\"stage\",\"st1\", \"st2\", \"st3\"]\n",
    "cov2 = [\"PTGENDER\", \"APOE4\", \"PTEDUCAT\",\"AGE\"]\n",
    "stats_df_list = []\n",
    "for fld in flds:\n",
    "    df_xx = regress_score(df_mh, fld, [\"AGE\", \"PTGENDER\", \"PTEDUCAT\", \"APOE4\",\"stage\"])\n",
    "    df_xx.dropna(inplace=True)\n",
    "    stats_df1 = regress_Logit(df_xx, fld, cov1)\n",
    "    stats_df1[\"n-cov\"] = \"incl-sustain\"\n",
    "    stats_df2 = regress_Logit(df_xx, fld, cov2)\n",
    "    stats_df2[\"n-cov\"] = \"excl-sustain\"\n",
    "    stats_df_list += [stats_df1, stats_df2]\n",
    "stats_df_all = pd.concat(stats_df_list, axis=0)\n",
    "dir_path = \"/nethome/rtandon32/ebm/s-SuStain-outputs/sim_tadpole19_mixture_GMM/figures_4/neurobattery2\"\n",
    "stats_df_all.to_csv(os.path.join(dir_path,\"stats_{}.csv\".format(test_name)))"
   ]
  },
  {
   "cell_type": "code",
   "execution_count": null,
   "id": "90ad7a32",
   "metadata": {},
   "outputs": [],
   "source": [
    "flds = [\"CLOCKSCOR\", \"COPYSCOR\"]\n",
    "test_name = \"clock_test\"\n",
    "rows = 2; cols=1;\n",
    "fig, ax = plt.subplots(rows,cols, sharex=True, sharey=False, figsize=(8,8))\n",
    "for _,fld in enumerate(flds):\n",
    "    df_mh_fld = process_df(df_mh, fld)\n",
    "    sns.boxenplot(data=df_mh_fld, x=\"stage\", y=fld, ax=ax[_])\n",
    "    ax[_].set_ylabel(\"\")\n",
    "    ax[_].set_title(fld, fontsize=15)\n",
    "fig.tight_layout()\n",
    "fig.savefig(os.path.join(dir_path, \"{}.png\".format(test_name)), dpi=300)"
   ]
  },
  {
   "cell_type": "markdown",
   "id": "4ba35b42",
   "metadata": {},
   "source": [
    "# Line plots to show odds of failing a clock test as a fn of stage"
   ]
  },
  {
   "cell_type": "code",
   "execution_count": null,
   "id": "da8d863d",
   "metadata": {},
   "outputs": [],
   "source": [
    "# flds = [\"CLOCKCIRC\",\"CLOCKSYM\",\"CLOCKNUM\",\"CLOCKHAND\",\"CLOCKTIME\"]\n",
    "# flds = [\"COPYCIRC\",\"COPYSYM\",\"COPYNUM\",\"COPYHAND\",\"COPYTIME\"]\n",
    "flds = [\"CLOCKTIME\", \"CLOCKSYM\", \"COPYTIME\",\"CLOCKHAND\"]\n",
    "binary = flds\n",
    "test_name = \"clock_ratio_test\"\n",
    "neurobat_dict = {}\n",
    "ratio_df = pd.DataFrame()\n",
    "for fld in flds:\n",
    "    df_mh_fld = df_mh.dropna(subset=[fld])\n",
    "    df_mh_fld.sort_values([\"sid\", \"EXAMDATE\"], inplace=True)\n",
    "    df_mh_fld.drop_duplicates(\"sid\", keep=\"first\", inplace=True)\n",
    "    chi2_table = df_mh_fld.groupby([\"stage\", fld]).size().unstack(level=1).fillna(0)\n",
    "    chi2_stats = chi2_contingency(chi2_table)\n",
    "    chi2_pval = chi2_stats[1]\n",
    "    if fld in binary:\n",
    "        ratio = chi2_table[0]/chi2_table[1]\n",
    "        ratio_df[fld] = ratio\n",
    "    spearmanr_corr = spearmanr(df_mh_fld[\"stage\"], df_mh_fld[fld]).correlation\n",
    "    neurobat_dict[fld] = [chi2_pval, spearmanr_corr]\n",
    "\n",
    "dir_path = \"/nethome/rtandon32/ebm/s-SuStain-outputs/sim_tadpole19_mixture_GMM/figures_4/neurobattery2\"\n",
    "neurobat_df = pd.DataFrame.from_dict(neurobat_dict, orient=\"index\", columns = [\"chi-2-pval\", \"spearmanr\"])\n",
    "fig, ax = plt.subplots(1,1,figsize=(5,4))\n",
    "markers = ['${}$'.format(_+1) for _ in range(len(binary))]\n",
    "sns.lineplot(data=ratio_df, ax = ax, dashes=False, markers=markers, markersize=12, mec=\"k\")\n",
    "\n",
    "plt.legend(bbox_to_anchor=(0.05, 1.00), loc='upper left', borderaxespad=0, ncol=1)\n",
    "neurobat_df.to_csv(os.path.join(dir_path, \"{}_df.csv\".format(test_name)))\n",
    "ax.spines[['right', 'top']].set_visible(False)\n",
    "ax.set_ylabel('odds (incorrect)', fontsize=12)\n",
    "ax.set_xlabel('stage', fontsize=12)\n",
    "leg = ax.get_legend()\n",
    "\n",
    "flds_text = {\"CLOCKTIME\":r'Clock Time (p = 1x$10^{-4}$)',\n",
    "             \"CLOCKSYM\":r'Clock Symmetry (p = 8x$10^{-4}$)',\n",
    "            \"COPYTIME\":r'Copy Time (p = 0.015)',\n",
    "             \"CLOCKHAND\":r'Two hands (p = 0.03)'}\n",
    "for t, l in zip(leg.texts, flds):\n",
    "    t.set_text(flds_text[l])\n",
    "\n",
    "fig.tight_layout()\n",
    "fig.savefig(os.path.join(dir_path, \"{}.png\").format(test_name), dpi=300)\n"
   ]
  },
  {
   "cell_type": "markdown",
   "id": "5560c27a",
   "metadata": {},
   "source": [
    "# Neurobat others"
   ]
  },
  {
   "cell_type": "markdown",
   "id": "0c751892",
   "metadata": {},
   "source": [
    "### Logical Memory"
   ]
  },
  {
   "cell_type": "code",
   "execution_count": null,
   "id": "187d4a62",
   "metadata": {},
   "outputs": [],
   "source": [
    "flds = [\"LIMMTOTAL\", \"LDELTOTAL\"]\n",
    "fld_title = {\"LIMMTOTAL\":\"Immediate Recall\",\"LDELTOTAL\":\"Delayed Recall\"}\n",
    "rows = 1; cols=2;\n",
    "test_name = \"logical_memory\"\n",
    "fig, ax = plt.subplots(rows,cols, sharex=True, sharey=False, figsize=(4,2))\n",
    "for _,fld in enumerate(flds):\n",
    "    df_mh_fld = process_df(df_mh, fld)\n",
    "    sns.boxenplot(data=df_mh_fld, x=\"stage\", y=fld, ax=ax[_],\n",
    "                palette=palette_color1)\n",
    "    ax[_].set_ylabel(\"\")\n",
    "    ax[_].set_title(fld, fontsize=12)\n",
    "    ax[_].spines[['right', 'top']].set_visible(False)\n",
    "    ax[_].ticklabel_format(style='scientific', axis='y', \n",
    "                              scilimits=(0,0), useMathText=True)\n",
    "    ax[_].set_title(fld_title[fld],fontsize=12)\n",
    "fig.tight_layout()\n",
    "fig.savefig(os.path.join(dir_path, \"{}.png\".format(test_name)), dpi=300)"
   ]
  },
  {
   "cell_type": "code",
   "execution_count": null,
   "id": "769a0eed",
   "metadata": {},
   "outputs": [],
   "source": [
    "flds = [\"LIMMTOTAL\", \"LDELTOTAL\"]\n",
    "fld_title = {\"LIMMTOTAL\":\"Immediate Recall\",\"LDELTOTAL\":\"Delayed Recall\"}\n",
    "rows = 1; cols=1;\n",
    "test_name = \"logical_memory\"\n",
    "for _,fld in enumerate(flds):\n",
    "    fig, ax = plt.subplots(rows,cols, sharex=True, sharey=False, figsize=(2,2))\n",
    "    df_mh_fld = process_df(df_mh, fld)\n",
    "    sns.boxenplot(data=df_mh_fld, x=\"stage\", y=fld, ax=ax,\n",
    "                palette=palette_color1)\n",
    "    ax.set_ylabel(\"\")\n",
    "    ax.set_title(fld, fontsize=12)\n",
    "    ax.spines[['right', 'top']].set_visible(False)\n",
    "    ax.ticklabel_format(style='scientific', axis='y', \n",
    "                              scilimits=(0,0), useMathText=True)\n",
    "    ax.set_title(fld_title[fld],fontsize=12)\n",
    "    fig.tight_layout()\n",
    "    fig.savefig(os.path.join(dir_path, \"{}.png\".format(fld)), dpi=300)"
   ]
  },
  {
   "cell_type": "markdown",
   "id": "6508797c",
   "metadata": {},
   "source": [
    "# LDELCUE"
   ]
  },
  {
   "cell_type": "code",
   "execution_count": null,
   "id": "0bacc902",
   "metadata": {},
   "outputs": [],
   "source": [
    "flds = [\"LDELCUE\"]\n",
    "# flds = [\"COPYCIRC\",\"COPYSYM\",\"COPYNUM\",\"COPYHAND\",\"COPYTIME\"]\n",
    "binary = flds\n",
    "test_name = \"LDELCUE_test\"\n",
    "neurobat_dict = {}\n",
    "ratio_df = pd.DataFrame()\n",
    "for fld in flds:\n",
    "    df_mh_fld = df_mh.dropna(subset=[fld])\n",
    "    df_mh_fld.sort_values([\"sid\", \"EXAMDATE\"], inplace=True)\n",
    "    df_mh_fld.drop_duplicates(\"sid\", keep=\"first\", inplace=True)\n",
    "    chi2_table = df_mh_fld.groupby([\"stage\", fld]).size().unstack(level=1).fillna(0)\n",
    "    chi2_stats = chi2_contingency(chi2_table)\n",
    "    chi2_pval = chi2_stats[1]\n",
    "    if fld in binary:\n",
    "        ratio = chi2_table[1]/chi2_table[0]\n",
    "        ratio_df[fld] = ratio\n",
    "    spearmanr_corr = spearmanr(df_mh_fld[\"stage\"], df_mh_fld[fld]).correlation\n",
    "    neurobat_dict[fld] = [chi2_pval, spearmanr_corr]\n",
    "\n",
    "dir_path = \"/nethome/rtandon32/ebm/s-SuStain-outputs/sim_tadpole19_mixture_GMM/figures_4/neurobattery2\"\n",
    "neurobat_df = pd.DataFrame.from_dict(neurobat_dict, orient=\"index\", columns = [\"chi-2-pval\", \"spearmanr\"])\n",
    "fig, ax = plt.subplots(1,1,figsize=(2,2))\n",
    "markers = ['${}$'.format(\"*\") for _ in range(len(binary))]\n",
    "sns.lineplot(data=ratio_df, ax = ax, dashes=False, markers=markers, markersize=12,mec=\"b\")\n",
    "\n",
    "# plt.legend(bbox_to_anchor=(0.05, 1.00), loc='upper left', borderaxespad=0, ncol=1, fontsize=12)\n",
    "neurobat_df.to_csv(os.path.join(dir_path, \"{}_df.csv\".format(test_name)))\n",
    "ax.spines[['right', 'top']].set_visible(False)\n",
    "ax.set_ylabel('odds', fontsize=12)\n",
    "ax.set_xlabel('stage', fontsize=12)\n",
    "leg = ax.get_legend()\n",
    "flds_text = {\"LDELCUE\":'Cue given?\\n(p = 1x$10^{-7}$)'}\n",
    "# for t, l in zip(leg.texts, flds):\n",
    "#     t.set_text(flds_text[l])\n",
    "ax.set_title(\"Cue given?\",fontsize=12)\n",
    "ax.get_legend().remove()\n",
    "ax.set_ylim([0,0.75])\n",
    "ax.set_xticks([0,1,2,3,4,5])\n",
    "ax.ticklabel_format(style='scientific', axis='y', \n",
    "                          scilimits=(0,0), useMathText=True)\n",
    "fig.tight_layout()\n",
    "fig.savefig(os.path.join(dir_path, \"{}.png\").format(test_name), dpi=300)\n"
   ]
  },
  {
   "cell_type": "code",
   "execution_count": null,
   "id": "4416fdbd",
   "metadata": {},
   "outputs": [],
   "source": [
    "flds = [\"LDELCUE\"]\n",
    "test_name = \"ldelcue_test\"\n",
    "cov1 = [\"PTGENDER\", \"APOE4\", \"PTEDUCAT\",\"AGE\",\"stage\",\"st1\", \"st2\", \"st3\"]\n",
    "cov2 = [\"PTGENDER\", \"APOE4\", \"PTEDUCAT\",\"AGE\"]\n",
    "stats_df_list = []\n",
    "for fld in flds:\n",
    "    df_xx = regress_score(df_mh, fld, [\"AGE\", \"PTGENDER\", \"PTEDUCAT\", \"APOE4\",\"stage\"])\n",
    "    df_xx.dropna(inplace=True)\n",
    "    stats_df1 = regress_Logit(df_xx, fld, cov1)\n",
    "    stats_df1[\"n-cov\"] = \"incl-sustain\"\n",
    "    stats_df2 = regress_Logit(df_xx, fld, cov2)\n",
    "    stats_df2[\"n-cov\"] = \"excl-sustain\"\n",
    "    stats_df_list += [stats_df1, stats_df2]\n",
    "stats_df_all = pd.concat(stats_df_list, axis=0)\n",
    "dir_path = \"/nethome/rtandon32/ebm/s-SuStain-outputs/sim_tadpole19_mixture_GMM/figures_4/neurobattery2\"\n",
    "stats_df_all.to_csv(os.path.join(dir_path,\"stats_{}.csv\".format(test_name)))"
   ]
  },
  {
   "cell_type": "code",
   "execution_count": null,
   "id": "82eb1624",
   "metadata": {},
   "outputs": [],
   "source": [
    "flds = [\"LIMMTOTAL\", \"LDELTOTAL\", ]\n",
    "fld_title = {\"LIMMTOTAL\":\"Immediate Recall\",\"LDELTOTAL\":\"Delayed Recall\",\"LDELCUE\":\"Cue given?\"}\n",
    "rows = 1; cols=3;\n",
    "test_name = \"logical_memory\"\n",
    "fig, ax = plt.subplots(rows,cols, sharex=True, sharey=False, figsize=(4,2))\n",
    "for _,fld in enumerate(flds):\n",
    "    df_mh_fld = process_df(df_mh, fld)\n",
    "    sns.boxenplot(data=df_mh_fld, x=\"stage\", y=fld, ax=ax[_],\n",
    "                palette=palette_color1)\n",
    "    ax[_].set_ylabel(\"\")\n",
    "    ax[_].set_title(fld, fontsize=12)\n",
    "    ax[_].spines[['right', 'top']].set_visible(False)\n",
    "    ax[_].ticklabel_format(style='scientific', axis='y', \n",
    "                              scilimits=(0,0), useMathText=True)\n",
    "    ax[_].set_title(fld_title[fld],fontsize=12)\n",
    "fig.tight_layout()\n",
    "fig.savefig(os.path.join(dir_path, \"{}.png\".format(test_name)), dpi=300)"
   ]
  },
  {
   "cell_type": "markdown",
   "id": "670db91d",
   "metadata": {},
   "source": [
    "# DigitSpan test"
   ]
  },
  {
   "cell_type": "code",
   "execution_count": null,
   "id": "10448662",
   "metadata": {},
   "outputs": [],
   "source": [
    "flds = [\"DSPANFOR\", \"DSPANFLTH\", \"DSPANBAC\", \"DSPANBLTH\", \"DIGITSCOR\"]\n",
    "rows = 1; cols=5;\n",
    "test_name = \"digit_span\"\n",
    "fig, ax = plt.subplots(rows,cols, sharex=True, sharey=False, figsize=(10,3))\n",
    "for _,fld in enumerate(flds):\n",
    "    df_mh_fld = process_df(df_mh, fld)\n",
    "    r = _//cols\n",
    "    c = _%cols\n",
    "    sns.boxenplot(data=df_mh_fld, x=\"stage\", y=fld, ax=ax[_])\n",
    "    ax[_].set_ylabel(\"\")\n",
    "    ax[_].set_title(fld, fontsize=15)\n",
    "fig.tight_layout()\n",
    "fig.savefig(os.path.join(dir_path, \"{}.png\".format(test_name)), dpi=300)"
   ]
  },
  {
   "cell_type": "code",
   "execution_count": null,
   "id": "cd302e94",
   "metadata": {},
   "outputs": [],
   "source": [
    "# Category Fluency Test"
   ]
  },
  {
   "cell_type": "code",
   "execution_count": null,
   "id": "f3561694",
   "metadata": {},
   "outputs": [],
   "source": [
    "flds = [\"CATANIMSC\", \"CATANPERS\", \"CATANINTR\", \"CATVEGESC\", \"CATVGPERS\", \"CATVGINTR\"]\n",
    "flds_title = {\"CATANIMSC\":\"Total correct\", \"CATANPERS\":\"Perseverations\", \"CATANINTR\":\"Intrusions\",\n",
    "             \"CATVEGESC\":\"\", \"CATVGPERS\":\"\", \"CATVGINTR\":\"\"}\n",
    "rows = 2; cols=3;\n",
    "fig, ax = plt.subplots(rows,cols, sharex=True, sharey=False, figsize=(6,4))\n",
    "test_name = \"cat_test\"\n",
    "for _,fld in enumerate(flds):\n",
    "    df_mh_fld = process_df(df_mh, fld)\n",
    "    r = _//cols\n",
    "    c = _%cols\n",
    "    sns.boxenplot(data=df_mh_fld, x=\"stage\", y=fld, ax=ax[r,c],palette=palette_color1)\n",
    "    ax[r, c].set_ylabel(\"\")\n",
    "    ax[r, c].set_title(flds_title[fld], fontsize=12)\n",
    "    ax[r, c].spines[['right', 'top']].set_visible(False)\n",
    "ax[0,0].set_ylabel(\"Animals\", fontsize=12)\n",
    "ax[1,0].set_ylabel(\"Vegetables\", fontsize=12)\n",
    "fig.supylabel(\"Category\", fontsize=12)\n",
    "fig.tight_layout()\n",
    "fig.savefig(os.path.join(dir_path, \"{}.png\".format(test_name)), dpi=300)"
   ]
  },
  {
   "cell_type": "code",
   "execution_count": null,
   "id": "901549b5",
   "metadata": {},
   "outputs": [],
   "source": [
    "flds = [\"BNTSPONT\", \"BNTSTIM\", \"BNTCSTIM\", \"BNTTOTAL\", \"BNTPHON\", \"BNTCPHON\"]\n",
    "flds_title = {\"BNTSPONT\":\"Correct without cue\", \"BNTSTIM\": \"Semantic cues\",\n",
    "             \"BNTCSTIM\":\"Correct after \\n semantic cue\", \"BNTPHON\":\"Phonemic cues\",\n",
    "             \"BNTCPHON\":\"Correct after \\n phonemic cues\", \"BNTTOTAL\":\"Total correct\"}\n",
    "rows = 2; cols=3;\n",
    "fig, ax = plt.subplots(rows,cols, sharex=True, sharey=False, figsize=(6,4))\n",
    "test_name = \"bnt_test\"\n",
    "for _,fld in enumerate(flds):\n",
    "    df_mh_fld = process_df(df_mh, fld)\n",
    "    r = _//cols\n",
    "    c = _%cols\n",
    "    sns.boxenplot(data=df_mh_fld, x=\"stage\", y=fld, ax=ax[r,c], palette=palette_color1)\n",
    "    ax[r, c].set_ylabel(\"\")\n",
    "    ax[r, c].set_title(flds_title[fld], fontsize=12)\n",
    "    ax[r, c].spines[['right', 'top']].set_visible(False)\n",
    "fig.tight_layout()\n",
    "fig.savefig(os.path.join(dir_path, \"{}.png\".format(test_name)), dpi=300)"
   ]
  },
  {
   "cell_type": "markdown",
   "id": "58e8ad75",
   "metadata": {},
   "source": [
    "# American National Adult Reading Test"
   ]
  },
  {
   "cell_type": "code",
   "execution_count": null,
   "id": "7c3aa364",
   "metadata": {},
   "outputs": [],
   "source": [
    "flds = [\"ANARTERR\"]\n",
    "rows = 1; cols=1;\n",
    "fig, ax = plt.subplots(rows,cols, sharex=True, sharey=False, figsize=(3,3))\n",
    "test_name = \"anart_test\"\n",
    "for _,fld in enumerate(flds):\n",
    "    df_mh_fld = process_df(df_mh, fld)\n",
    "    r = _//cols\n",
    "    c = _%cols\n",
    "    sns.boxenplot(data=df_mh_fld, x=\"stage\", y=fld, ax=ax, palette=palette_color1)\n",
    "    ax.set_ylabel(\"\")\n",
    "    ax.set_title(\"ANART score\", fontsize=12)\n",
    "fig.tight_layout()\n",
    "ax.spines[['right', 'top']].set_visible(False)\n",
    "fig.savefig(os.path.join(dir_path, \"{}.png\".format(test_name)), dpi=300)"
   ]
  },
  {
   "cell_type": "code",
   "execution_count": null,
   "id": "7b9c40e1",
   "metadata": {},
   "outputs": [],
   "source": [
    "neuro_sc = \"ANARTERR\"\n",
    "df_xx = regress_score(df_mh_fld, neuro_sc, [\"AGE\", \"PTGENDER\", \"PTEDUCAT\", \"APOE4\", \"stage\"])\n",
    "df_xx.dropna(inplace=True)\n",
    "model = sm.OLS(df_xx[[neuro_sc]], \n",
    "               sm.add_constant(df_xx[[\"PTGENDER\", \"APOE4\", \"PTEDUCAT\",\"AGE\"]]))\n",
    "results = model.fit()\n",
    "print(results.summary())"
   ]
  },
  {
   "cell_type": "code",
   "execution_count": null,
   "id": "8eb3c069",
   "metadata": {},
   "outputs": [],
   "source": [
    "fig, ax = plt.subplots(rows,cols, sharex=True, sharey=False, figsize=(3,3))\n",
    "test_name = \"anart_test_resid\"\n",
    "sns.boxenplot(data=pd.concat([results.resid, df_xx[\"stage\"]], axis=1),  x=\"stage\", y=0, palette=palette_color1)\n",
    "ax.set_ylabel(\"\")\n",
    "ax.set_title(r'Adjusted ANART score', fontsize=12)\n",
    "fig.tight_layout()\n",
    "ax.spines[['right', 'top']].set_visible(False)\n",
    "fig.savefig(os.path.join(dir_path, \"{}.png\".format(test_name)), dpi=300)\n"
   ]
  },
  {
   "cell_type": "code",
   "execution_count": null,
   "id": "ff7b75ca",
   "metadata": {},
   "outputs": [],
   "source": []
  },
  {
   "cell_type": "code",
   "execution_count": null,
   "id": "b7acf258",
   "metadata": {},
   "outputs": [],
   "source": [
    "df_mh_fld[\"ANARTERR\"]"
   ]
  },
  {
   "cell_type": "markdown",
   "id": "551a2cda",
   "metadata": {},
   "source": [
    "# Regression stats for all neurobattery tests (clock, BNT, CATegory etc)"
   ]
  },
  {
   "cell_type": "code",
   "execution_count": null,
   "id": "34b8663f",
   "metadata": {},
   "outputs": [],
   "source": [
    "flds = [\"CLOCKSCOR\", \"COPYSCOR\"] + [\"LIMMTOTAL\", \"DSPANFOR\", \"DSPANFLTH\", \n",
    "        \"DSPANBAC\", \"DSPANBLTH\", \"DIGITSCOR\", \"CATANIMSC\", \"CATANPERS\", \"CATANINTR\",\n",
    "        \"CATVEGESC\", \"CATVGPERS\", \"CATVGINTR\"] + [\"LDELTOTAL\", \"BNTSPONT\", \"BNTSTIM\",\n",
    "        \"BNTCSTIM\", \"BNTPHON\", \"BNTCPHON\", \"BNTTOTAL\", \"ANARTERR\"]\n",
    "test_name = \"neurobat_ols_test\"\n",
    "cov1 = [\"PTGENDER\", \"APOE4\", \"PTEDUCAT\",\"AGE\",\"stage\",\"st1\", \"st2\", \"st3\"]\n",
    "cov2 = [\"PTGENDER\", \"APOE4\", \"PTEDUCAT\",\"AGE\"]\n",
    "stats_df_list = []\n",
    "for fld in flds:\n",
    "    df_xx = regress_score(df_mh, fld, [\"AGE\", \"PTGENDER\", \"PTEDUCAT\", \"APOE4\",\"stage\"])\n",
    "    df_xx.dropna(inplace=True)\n",
    "    stats_df1 = regress_OLS(df_xx, fld, cov1)\n",
    "    stats_df1[\"n-cov\"] = \"incl-sustain\"\n",
    "    stats_df2 = regress_OLS(df_xx, fld, cov2)\n",
    "    stats_df2[\"n-cov\"] = \"excl-sustain\"\n",
    "    stats_df_list += [stats_df1, stats_df2]\n",
    "stats_df_all = pd.concat(stats_df_list, axis=0)\n",
    "dir_path = \"/nethome/rtandon32/ebm/s-SuStain-outputs/sim_tadpole19_mixture_GMM/figures_4/neurobattery2\"\n",
    "stats_df_all.to_csv(os.path.join(dir_path,\"stats_{}.csv\".format(test_name)))"
   ]
  },
  {
   "cell_type": "code",
   "execution_count": null,
   "id": "36110403",
   "metadata": {},
   "outputs": [],
   "source": [
    "df_xx = regress_score(df_mh, \"ANARTERR\", [\"AGE\", \"PTGENDER\", \"PTEDUCAT\", \"APOE4\",\"stage\"])\n",
    "df_xx.dropna(inplace=True)\n",
    "stats_df1 = regress_OLS(df_xx, \"ANARTERR\", cov1)"
   ]
  },
  {
   "cell_type": "code",
   "execution_count": null,
   "id": "9ce04a2c",
   "metadata": {},
   "outputs": [],
   "source": [
    "stats_df1"
   ]
  },
  {
   "cell_type": "markdown",
   "id": "65963f01",
   "metadata": {},
   "source": [
    "# MMSE"
   ]
  },
  {
   "cell_type": "code",
   "execution_count": null,
   "id": "73143085",
   "metadata": {},
   "outputs": [],
   "source": [
    "mh_dir = \"/nethome/rtandon32/ebm/ebm_experiments/experiment_scripts/real_data/assessments/\"\n",
    "file_name = \"MMSE_15Apr2024.csv\"\n",
    "df_assess = pd.read_csv(os.path.join(mh_dir, file_name))\n",
    "df_assess[\"VISDATE\"] = pd.to_datetime(df_assess[\"VISDATE\"])\n",
    "df_assess.sort_values([\"PTID\", \"VISDATE\"], inplace=True)\n",
    "df_assess[\"VISCODE2\"].replace(\"sc\", \"bl\", inplace=True)\n",
    "df_mh = pd.merge(df_long_mci_subset, df_assess, left_on=[\"sid\", \"VISCODE\"], \n",
    "         right_on=[\"PTID\", \"VISCODE2\"], how=\"inner\", suffixes=[None, \"_y\"])\n",
    "df_mh.replace([-4,-1],np.nan, inplace=True)\n",
    "df_mh[\"stage\"] = df_mh[\"stage\"].astype(int)"
   ]
  },
  {
   "cell_type": "code",
   "execution_count": null,
   "id": "554cda53",
   "metadata": {},
   "outputs": [],
   "source": [
    "flds = [\"MMDATE\",\"MMYEAR\",\"MMMONTH\",\"MMDAY\",\"MMSEASON\",\"MMHOSPIT\",\"MMFLOOR\",\"MMCITY\",\"MMAREA\",\"MMSTATE\",\n",
    "       \"WORD1\",\"WORD2\",\"WORD3\",\"MMTRIALS\",\"MMD\",\"MML\",\"MMR\",\"MMO\",\"MMW\",\n",
    "        \"WORD1DL\",\"WORD2DL\",\"WORD3DL\",\"MMWATCH\",\"MMPENCIL\",\"MMREPEAT\",\"MMHAND\",\"MMFOLD\",\n",
    "        \"MMONFLR\",\"MMREAD\",\"MMWRITE\",\"MMDRAW\",\"MMSCORE\"]\n",
    "# binary = [\"MMDATE\",\"MMYEAR\",\"MMMONTH\",\"MMDAY\",\"MMSEASON\",\"MMHOSPIT\",\"MMFLOOR\",\"MMCITY\",\"MMAREA\",\"MMSTATE\",\n",
    "#        \"WORD1\",\"WORD2\",\"WORD3\",\"MMD\",\"MML\",\"MMR\",\"MMO\",\"MMW\",\n",
    "#         \"WORD1DL\",\"WORD2DL\",\"WORD3DL\",\"MMWATCH\",\"MMPENCIL\",\"MMREPEAT\",\"MMHAND\",\"MMFOLD\",\n",
    "#         \"MMONFLR\",\"MMREAD\",\"MMWRITE\",\"MMDRAW\"]\n",
    "binary = [\"WORD1DL\", \"WORD2DL\", \"WORD3DL\", \"MMDATE\", \"MMFLOOR\", \"MMDAY\", \"MMDRAW\", \"MMAREA\", \"MMW\"]\n",
    "test_name = \"mmse_test\"\n",
    "neurobat_dict = {}\n",
    "ratio_df = pd.DataFrame()\n",
    "for fld in flds:\n",
    "    df_mh_fld = df_mh.dropna(subset=[fld])\n",
    "    df_mh_fld.sort_values([\"sid\", \"EXAMDATE\"], inplace=True)\n",
    "    df_mh_fld.drop_duplicates(\"sid\", keep=\"first\", inplace=True)\n",
    "    chi2_table = df_mh_fld.groupby([\"stage\", fld]).size().unstack(level=1).fillna(0)\n",
    "    chi2_stats = chi2_contingency(chi2_table)\n",
    "    chi2_pval = chi2_stats[1]\n",
    "    if fld in binary:\n",
    "        ratio = chi2_table[0]/chi2_table[1]\n",
    "        ratio_df[fld] = ratio\n",
    "    spearmanr_corr = spearmanr(df_mh_fld[\"stage\"], df_mh_fld[fld]).correlation\n",
    "    neurobat_dict[fld] = [chi2_pval, spearmanr_corr]\n",
    "\n",
    "dir_path = \"/nethome/rtandon32/ebm/s-SuStain-outputs/sim_tadpole19_mixture_GMM/figures_4/neurobattery2\"\n",
    "neurobat_df = pd.DataFrame.from_dict(neurobat_dict, orient=\"index\", columns = [\"chi-2-pval\", \"spearmanr\"])\n",
    "fig, ax = plt.subplots(figsize=(8,6))\n",
    "markers = ['${}$'.format(_+1) for _ in range(len(binary))]\n",
    "sns.lineplot(data=ratio_df[binary], ax = ax, dashes=False, markers=markers, markersize=15, mec=\"k\")\n",
    "\n",
    "lgnd = plt.legend(bbox_to_anchor=(0.02, 0.95), loc='upper left', borderaxespad=0, ncol=2)\n",
    "for m_ in range(len(markers)):\n",
    "    lgnd.legendHandles[m_].set_markersize(15)\n",
    "    \n",
    "neurobat_df.to_csv(os.path.join(dir_path, \"{}_df.csv\".format(test_name)))\n",
    "ax.spines[['right', 'top']].set_visible(False)\n",
    "ax.set_ylabel(\"odds (incorrect)\", fontsize=15)\n",
    "ax.set_xlabel(\"stage\", fontsize=15)\n",
    "fig.tight_layout()\n",
    "fig.savefig(os.path.join(dir_path, \"{}.png\").format(test_name), dpi=300)\n"
   ]
  },
  {
   "cell_type": "code",
   "execution_count": null,
   "id": "aa4f5bab",
   "metadata": {},
   "outputs": [],
   "source": [
    "mmdraw = ratio_df[\"MMDRAW\"]"
   ]
  },
  {
   "cell_type": "code",
   "execution_count": null,
   "id": "0d076bb5",
   "metadata": {},
   "outputs": [],
   "source": [
    "neuro_sc = \"MMSCORE\"\n",
    "df_xx = regress_score(df_mh, neuro_sc, [\"AGE\", \"PTGENDER\", \"PTEDUCAT\", \"APOE4\",\"stage\"])\n",
    "df_xx.dropna(inplace=True)\n",
    "model = sm.OLS(df_xx[[neuro_sc]], \n",
    "               sm.add_constant(df_xx[[\"PTGENDER\", \"APOE4\", \"PTEDUCAT\",\"AGE\",\"stage\",\"st1\", \"st2\", \"st3\"]]))\n",
    "results = model.fit()\n",
    "print(results.summary())"
   ]
  },
  {
   "cell_type": "code",
   "execution_count": null,
   "id": "8b483807",
   "metadata": {},
   "outputs": [],
   "source": [
    "fig, ax = plt.subplots(1,1, sharex=True, sharey=False, figsize=(4, 4))\n",
    "sns.boxenplot(data=df_mh_fld, x=\"stage\", y=\"MMSCORE\")\n",
    "ax.spines[['right', 'top']].set_visible(False)\n",
    "fig.tight_layout()\n",
    "fig.savefig(os.path.join(dir_path, \"MMSCORE_boxen.png\"), dpi=300)\n"
   ]
  },
  {
   "cell_type": "code",
   "execution_count": null,
   "id": "a3a01dae",
   "metadata": {},
   "outputs": [],
   "source": [
    "fld = \"WORLDSCORE\"\n",
    "df_mh_fld = process_df(df_mh, fld)\n",
    "sns.boxenplot(data=df_mh_fld, x=\"stage\", y=fld)"
   ]
  },
  {
   "cell_type": "code",
   "execution_count": null,
   "id": "50a78759",
   "metadata": {},
   "outputs": [],
   "source": [
    "df_mh[\"WORLDSCORE\"]"
   ]
  },
  {
   "cell_type": "markdown",
   "id": "ca1644bb",
   "metadata": {},
   "source": [
    "## Logistic regression - MMSE"
   ]
  },
  {
   "cell_type": "code",
   "execution_count": null,
   "id": "76133174",
   "metadata": {},
   "outputs": [],
   "source": [
    "flds = [\"MMDATE\",\"MMYEAR\",\"MMMONTH\",\"MMDAY\",\"MMSEASON\",\"MMHOSPIT\",\"MMFLOOR\",\"MMCITY\",\"MMAREA\",\"MMSTATE\",\n",
    "       \"WORD1\",\"WORD2\",\"MMD\",\"MML\",\"MMR\",\"MMO\",\"MMW\",\n",
    "        \"WORD1DL\",\"WORD2DL\",\"WORD3DL\",\"MMWATCH\",\"MMPENCIL\",\"MMREPEAT\",\"MMHAND\",\"MMFOLD\",\n",
    "        \"MMONFLR\",\"MMREAD\",\"MMWRITE\",\"MMDRAW\"]\n",
    "test_name = \"mmse_test\"\n",
    "cov1 = [\"PTGENDER\", \"APOE4\", \"PTEDUCAT\",\"AGE\",\"stage\",\"st1\", \"st2\", \"st3\"]\n",
    "cov2 = [\"PTGENDER\", \"APOE4\", \"PTEDUCAT\",\"AGE\"]\n",
    "stats_df_list = []\n",
    "for fld in flds:\n",
    "    df_xx = regress_score(df_mh, fld, [\"AGE\", \"PTGENDER\", \"PTEDUCAT\", \"APOE4\",\"stage\"])\n",
    "    df_xx.dropna(inplace=True)\n",
    "    stats_df1 = regress_Logit(df_xx, fld, cov1)\n",
    "    stats_df1[\"n-cov\"] = \"incl-sustain\"\n",
    "    stats_df2 = regress_Logit(df_xx, fld, cov2)\n",
    "    stats_df2[\"n-cov\"] = \"excl-sustain\"\n",
    "    stats_df_list += [stats_df1, stats_df2]\n",
    "stats_df_all = pd.concat(stats_df_list, axis=0)\n",
    "dir_path = \"/nethome/rtandon32/ebm/s-SuStain-outputs/sim_tadpole19_mixture_GMM/figures_4/neurobattery2\"\n",
    "stats_df_all.to_csv(os.path.join(dir_path,\"stats_{}.csv\".format(test_name)))"
   ]
  },
  {
   "cell_type": "markdown",
   "id": "17c0efeb",
   "metadata": {},
   "source": [
    "# EMBIC"
   ]
  },
  {
   "cell_type": "code",
   "execution_count": null,
   "id": "708972a2",
   "metadata": {},
   "outputs": [],
   "source": [
    "mh_dir = \"/nethome/rtandon32/ebm/ebm_experiments/experiment_scripts/real_data/assessments/\"\n",
    "file_name = \"EMBICqCP_15Apr2024.csv\"\n",
    "df_assess = pd.read_csv(os.path.join(mh_dir, file_name))\n",
    "df_assess[\"EXAMDATE\"] = pd.to_datetime(df_assess[\"EXAMDATE\"])\n",
    "df_assess.sort_values([\"RID\", \"EXAMDATE\"], inplace=True)\n",
    "df_assess[\"VISCODE2\"].replace(\"sc\", \"bl\", inplace=True)\n",
    "df_mh = pd.merge(df_long_mci_subset, df_assess, left_on=[\"RID\", \"VISCODE\"], \n",
    "         right_on=[\"RID\", \"VISCODE2\"], how=\"inner\", suffixes=[None, \"_y\"])\n",
    "df_mh.replace([-4,-1],np.nan, inplace=True)\n",
    "df_mh[\"stage\"] = df_mh[\"stage\"].astype(int)"
   ]
  },
  {
   "cell_type": "code",
   "execution_count": null,
   "id": "80ad20f7",
   "metadata": {},
   "outputs": [],
   "source": [
    "flds = [\"N1M\",\"N1SD\",\"N2M\",\"N2SD\",\"N3M\",\"N3SD\",\"N4M\",\"N4SD\",\"R1M\",\"R1SD\",\"R2M\",\"R2SD\",\"R3M\",\"R3SD\",\"MIFR1M\",\"MIFR1SD\",\n",
    "        \"MIFR2M\",\"MIFR2SD\",\"MIFR3M\",\"MIFR3SD\",\"MDFR1M\",\"MDFR1SD\",\"MTranM\",\"MTranSD\",\"MDuraM\",\"MDuraSD\"]\n",
    "test_name = \"embic_test\"\n",
    "neurobat_dict = {}\n",
    "ratio_df = pd.DataFrame()\n",
    "for fld in flds:\n",
    "    df_mh_fld = process_df(df_mh, fld)\n",
    "    print(\"Shape\", df_mh_fld.shape)\n",
    "    kruskal_stats = kruskal(*[group[fld].values for name, group in df_mh_fld.groupby(\"stage\")])\n",
    "    kruskal_pval = kruskal_stats.pvalue\n",
    "    spearmanr_corr = spearmanr(df_mh_fld[\"stage\"], df_mh_fld[fld]).correlation\n",
    "    neurobat_dict[fld] = [kruskal_pval, spearmanr_corr]\n",
    "\n",
    "dir_path = \"/nethome/rtandon32/ebm/s-SuStain-outputs/sim_tadpole19_mixture_GMM/figures_4/neurobattery2\"\n",
    "neurobat_df = pd.DataFrame.from_dict(neurobat_dict, orient=\"index\", columns = [\"kruskal-pval\", \"spearmanr\"])\n",
    "neurobat_df.to_csv(os.path.join(dir_path, \"{}_df.csv\".format(test_name)))\n"
   ]
  },
  {
   "cell_type": "markdown",
   "id": "37415142",
   "metadata": {},
   "source": [
    "### Regression"
   ]
  },
  {
   "cell_type": "code",
   "execution_count": null,
   "id": "13aa91da",
   "metadata": {},
   "outputs": [],
   "source": [
    "df_xx"
   ]
  },
  {
   "cell_type": "code",
   "execution_count": null,
   "id": "9418d24e",
   "metadata": {},
   "outputs": [],
   "source": [
    "flds = [\"N1M\",\"N1SD\",\"N2M\",\"N2SD\",\"N3M\",\"N3SD\",\"N4M\",\"N4SD\",\"R1M\",\"R1SD\",\"R2M\",\"R2SD\",\"R3M\",\"R3SD\",\"MIFR1M\",\"MIFR1SD\",\n",
    "        \"MIFR2M\",\"MIFR2SD\",\"MIFR3M\",\"MIFR3SD\",\"MDFR1M\",\"MDFR1SD\",\"MTranM\",\"MTranSD\",\"MDuraM\",\"MDuraSD\"]\n",
    "test_name = \"embic_test_logodds\"\n",
    "cov1 = [\"PTGENDER\", \"APOE4\", \"PTEDUCAT\",\"AGE\",\"stage\",\"st1\", \"st2\", \"st3\"]\n",
    "cov2 = [\"PTGENDER\", \"APOE4\", \"PTEDUCAT\",\"AGE\"]\n",
    "stats_df_list = []\n",
    "for fld in flds:\n",
    "    df_xx = regress_score(df_mh, fld, [\"AGE\", \"PTGENDER\", \"PTEDUCAT\", \"APOE4\",\"stage\"])\n",
    "    df_xx.dropna(inplace=True)\n",
    "    stats_df1 = regress_OLS_logodds(df_xx, fld, cov1)\n",
    "    stats_df1[\"n-cov\"] = \"incl-sustain\"\n",
    "    stats_df2 = regress_OLS_logodds(df_xx, fld, cov2)\n",
    "    stats_df2[\"n-cov\"] = \"excl-sustain\"\n",
    "    stats_df_list += [stats_df1, stats_df2]\n",
    "stats_df_all = pd.concat(stats_df_list, axis=0)\n",
    "dir_path = \"/nethome/rtandon32/ebm/s-SuStain-outputs/sim_tadpole19_mixture_GMM/figures_4/neurobattery2\"\n",
    "stats_df_all.to_csv(os.path.join(dir_path,\"stats_{}.csv\".format(test_name)))"
   ]
  },
  {
   "cell_type": "code",
   "execution_count": null,
   "id": "7b242e5e",
   "metadata": {},
   "outputs": [],
   "source": [
    "flds = [\"N1M\",\"N1SD\",\"N2M\",\"N2SD\",\"N3M\",\"N3SD\",\"N4M\",\"N4SD\",\"R1M\",\"R1SD\",\"R2M\",\"R2SD\",\"R3M\",\"R3SD\",\"MIFR1M\",\"MIFR1SD\",\n",
    "        \"MIFR2M\",\"MIFR2SD\",\"MIFR3M\",\"MIFR3SD\",\"MDFR1M\",\"MDFR1SD\",\"MTranM\",\"MTranSD\",\"MDuraM\",\"MDuraSD\"]\n",
    "test_name = \"embic_test\"\n",
    "cov1 = [\"PTGENDER\", \"APOE4\", \"PTEDUCAT\",\"AGE\",\"stage\",\"st1\", \"st2\", \"st3\"]\n",
    "cov2 = [\"PTGENDER\", \"APOE4\", \"PTEDUCAT\",\"AGE\"]\n",
    "stats_df_list = []\n",
    "for fld in flds:\n",
    "    df_xx = regress_score(df_mh, fld, [\"AGE\", \"PTGENDER\", \"PTEDUCAT\", \"APOE4\",\"stage\"])\n",
    "    df_xx.dropna(inplace=True)\n",
    "    stats_df1 = regress_OLS(df_xx, fld, cov1)\n",
    "    stats_df1[\"n-cov\"] = \"incl-sustain\"\n",
    "    stats_df2 = regress_OLS(df_xx, fld, cov2)\n",
    "    stats_df2[\"n-cov\"] = \"excl-sustain\"\n",
    "    stats_df_list += [stats_df1, stats_df2]\n",
    "stats_df_all = pd.concat(stats_df_list, axis=0)\n",
    "dir_path = \"/nethome/rtandon32/ebm/s-SuStain-outputs/sim_tadpole19_mixture_GMM/figures_4/neurobattery2\"\n",
    "stats_df_all.to_csv(os.path.join(dir_path,\"stats_{}.csv\".format(test_name)))"
   ]
  },
  {
   "cell_type": "code",
   "execution_count": null,
   "id": "d38d5811",
   "metadata": {},
   "outputs": [],
   "source": [
    "fmt = '%.2f'\n",
    "yticks = mtick.FormatStrFormatter(fmt)\n",
    "fig, ax = plt.subplots(6,5, figsize=(10,12), sharex=True)\n",
    "for i, fld in enumerate(flds):\n",
    "    df_mh_fld = df_mh.dropna(subset=[fld])\n",
    "    df_mh_fld.sort_values([\"sid\", \"EXAMDATE\"], inplace=True)\n",
    "    df_mh_fld.drop_duplicates(\"sid\", keep=\"first\", inplace=True)\n",
    "    r = i // 5\n",
    "    c = i % 5\n",
    "    sns.boxenplot(data=df_mh_fld,x=\"stage\", y=fld, ax=ax[r,c],\n",
    "                 palette=palette_color1)\n",
    "    ax[r,c].spines[['right', 'top']].set_visible(False)\n",
    "    ax[r,c].set_ylabel(\"\")\n",
    "    ax[r,c].yaxis.set_major_formatter(yticks)\n",
    "    ax[r,c].set_title(fld, fontsize=12)\n",
    "\n",
    "for _ in range(1,5):\n",
    "    ax[5,_].set_axis_off()\n",
    "    \n",
    "fig.tight_layout()\n",
    "fig.savefig(os.path.join(dir_path, \"{}.png\".format(test_name)), dpi=300)"
   ]
  },
  {
   "cell_type": "markdown",
   "id": "ba73844a",
   "metadata": {},
   "source": [
    "# ADAS - ADNI GO, 2, 3"
   ]
  },
  {
   "cell_type": "code",
   "execution_count": null,
   "id": "4606c79e",
   "metadata": {},
   "outputs": [],
   "source": [
    "mh_dir = \"/nethome/rtandon32/ebm/ebm_experiments/experiment_scripts/real_data/assessments/\"\n",
    "file_name = \"ADAS_ADNIGO23_15Apr2024.csv\"\n",
    "df_assess = pd.read_csv(os.path.join(mh_dir, file_name))\n",
    "df_assess[\"VISDATE\"] = pd.to_datetime(df_assess[\"VISDATE\"])\n",
    "df_assess.sort_values([\"RID\", \"VISDATE\"], inplace=True)\n",
    "df_assess[\"VISCODE2\"].replace(\"sc\", \"bl\", inplace=True)\n",
    "df_mh = pd.merge(df_long_mci_subset, df_assess, left_on=[\"RID\", \"VISCODE\"], \n",
    "         right_on=[\"RID\", \"VISCODE2\"], how=\"inner\", suffixes=[None, \"_y\"])\n",
    "df_mh.replace([-4,-1],np.nan, inplace=True)\n",
    "df_mh[\"stage\"] = df_mh[\"stage\"].astype(int)"
   ]
  },
  {
   "cell_type": "code",
   "execution_count": null,
   "id": "004cc00e",
   "metadata": {},
   "outputs": [],
   "source": [
    "flds = [\"Q3TASK1\", \"Q3TASK2\", \"Q3TASK3\", \"Q3TASK4\", \"TOTSCORE\", \"TOTAL13\"]\n",
    "binary = []\n",
    "test_name = \"adas_go23_test\"\n",
    "neurobat_dict = {}\n",
    "ratio_df = pd.DataFrame()\n",
    "for fld in flds:\n",
    "    df_mh_fld = df_mh.dropna(subset=[fld])\n",
    "    df_mh_fld.sort_values([\"sid\", \"EXAMDATE\"], inplace=True)\n",
    "    df_mh_fld.drop_duplicates(\"sid\", keep=\"first\", inplace=True)\n",
    "    print(\"Shape\", df_mh_fld.shape)\n",
    "    chi2_table = df_mh_fld.groupby([\"stage\", fld]).size().unstack(level=1).fillna(0)\n",
    "    chi2_stats = chi2_contingency(chi2_table)\n",
    "    chi2_pval = chi2_stats[1]\n",
    "    if fld in binary:\n",
    "        ratio = chi2_table[0]/chi2_table[1]\n",
    "        ratio_df[fld] = ratio\n",
    "    spearmanr_corr = spearmanr(df_mh_fld[\"stage\"], df_mh_fld[fld]).correlation\n",
    "    neurobat_dict[fld] = [chi2_pval, spearmanr_corr]\n",
    "\n",
    "dir_path = \"/nethome/rtandon32/ebm/s-SuStain-outputs/sim_tadpole19_mixture_GMM/figures_4/neurobattery2\"\n",
    "neurobat_df = pd.DataFrame.from_dict(neurobat_dict, orient=\"index\", columns = [\"chi-2-pval\", \"spearmanr\"])\n",
    "neurobat_df.to_csv(os.path.join(dir_path, \"{}_df.csv\".format(test_name)))\n"
   ]
  },
  {
   "cell_type": "markdown",
   "id": "a5737b78",
   "metadata": {},
   "source": [
    "# Logistic regression for the cube test"
   ]
  },
  {
   "cell_type": "code",
   "execution_count": null,
   "id": "8aeebee8",
   "metadata": {},
   "outputs": [],
   "source": [
    "fld = \"Q3TASK4\"\n",
    "test_name = \"adas_go23_test\"\n",
    "df_xx = regress_score(df_mh, fld, [\"AGE\", \"PTGENDER\", \"PTEDUCAT\", \"APOE4\",\"stage\"])\n",
    "df_xx.dropna(inplace=True)\n",
    "df_xx[fld] = df_xx[fld].map({1:1,2:0,3:0})\n",
    "stats_df1 = regress_Logit(df_xx, fld, cov1)\n",
    "stats_df1"
   ]
  },
  {
   "cell_type": "code",
   "execution_count": null,
   "id": "c09f17dd",
   "metadata": {},
   "outputs": [],
   "source": [
    "df_xx"
   ]
  },
  {
   "cell_type": "code",
   "execution_count": null,
   "id": "7d280236",
   "metadata": {},
   "outputs": [],
   "source": [
    "fld = \"Q3TASK4\"\n",
    "test_name = \"adas_go23_test\"\n",
    "\n",
    "ratio_df = pd.DataFrame()\n",
    "df_mh_fld = process_df(df_mh, fld)\n",
    "print(\"Shape\", df_mh_fld.shape)\n",
    "chi2_table = df_mh_fld.groupby([\"stage\", fld]).size().unstack(level=1).fillna(0)\n",
    "chi2_stats = chi2_contingency(chi2_table)\n",
    "chi2_pval = chi2_stats[1]\n",
    "ratio = chi2_table[2]/chi2_table[1]\n",
    "# ratio_df[fld] = ratio\n",
    "spearmanr_corr = spearmanr(df_mh_fld[\"stage\"], df_mh_fld[fld]).correlation\n",
    "plt.plot(ratio)\n"
   ]
  },
  {
   "cell_type": "code",
   "execution_count": null,
   "id": "ae331f93",
   "metadata": {},
   "outputs": [],
   "source": [
    "chi2_table, spearmanr_corr"
   ]
  },
  {
   "cell_type": "code",
   "execution_count": null,
   "id": "09408c0f",
   "metadata": {},
   "outputs": [],
   "source": [
    "flds = [\"Q1SCORE\", \"Q2SCORE\", \"Q3SCORE\", \"Q4SCORE\", \"Q5SCORE\",\n",
    "        \"Q6SCORE\", \"Q7SCORE\", \"Q8SCORE\", \"Q9SCORE\", \"Q10SCORE\",\n",
    "       \"Q11SCORE\", \"TOTSCORE\", \"Q12SCORE\", \"Q13SCORE\", \"TOTAL13\"]\n",
    "fig, ax = plt.subplots(5,3, figsize=(6,12), sharex=True)\n",
    "for i, fld in enumerate(flds):\n",
    "    df_mh_fld = df_mh.dropna(subset=[fld])\n",
    "    df_mh_fld.sort_values([\"sid\", \"EXAMDATE\"], inplace=True)\n",
    "    df_mh_fld.drop_duplicates(\"sid\", keep=\"first\", inplace=True)\n",
    "    r = i // 3\n",
    "    c = i % 3\n",
    "    sns.boxenplot(data=df_mh_fld,x=\"stage\", y=fld, ax=ax[r,c])\n",
    "    ax[r,c].set_title(fld, fontsize=15)\n",
    "    ax[r,c].spines[['right', 'top']].set_visible(False)\n",
    "    ax[r,c].set_ylabel(\"\")\n",
    "fig.tight_layout()\n",
    "fig.savefig(os.path.join(dir_path, \"{}.png\".format(test_name)), dpi=300)"
   ]
  },
  {
   "cell_type": "code",
   "execution_count": null,
   "id": "366d5404",
   "metadata": {},
   "outputs": [],
   "source": [
    "stats_df_list = []\n",
    "for fld in flds:\n",
    "    df_xx = regress_score(df_mh, fld, [\"AGE\", \"PTGENDER\", \"PTEDUCAT\", \"APOE4\",\"stage\"])\n",
    "    df_xx.dropna(inplace=True)\n",
    "    model = sm.OLS(df_xx[[fld]], \n",
    "                   sm.add_constant(df_xx[[\"PTGENDER\", \"APOE4\", \"PTEDUCAT\", \"AGE\", \n",
    "                                          \"stage\",\"st1\", \"st2\", \"st3\"]]))\n",
    "    results = model.fit()\n",
    "    stats_df = pd.concat([results.pvalues,results.params],axis=1)\n",
    "    stats_df.columns = [\"p-vals\", \"coef\"]\n",
    "    stats_df[\"fld\"] = fld\n",
    "    stats_df[\"r-sq-adj\"] = results.rsquared_adj\n",
    "    \n",
    "    stats_df_list.append(stats_df)\n",
    "stats_df_all = pd.concat(stats_df_list, axis=0)\n",
    "dir_path = \"/nethome/rtandon32/ebm/s-SuStain-outputs/sim_tadpole19_mixture_GMM/figures_4/neurobattery2\"\n",
    "stats_df_all.to_csv(os.path.join(dir_path,\"stats_{}.csv\".format(test_name)))"
   ]
  },
  {
   "cell_type": "code",
   "execution_count": null,
   "id": "3afac119",
   "metadata": {},
   "outputs": [],
   "source": [
    "stats_df_all"
   ]
  },
  {
   "cell_type": "markdown",
   "id": "1f4b2a00",
   "metadata": {},
   "source": [
    "# ADAS - ADNI 1"
   ]
  },
  {
   "cell_type": "code",
   "execution_count": null,
   "id": "a758930c",
   "metadata": {},
   "outputs": [],
   "source": [
    "mh_dir = \"/nethome/rtandon32/ebm/ebm_experiments/experiment_scripts/real_data/assessments/\"\n",
    "file_name = \"ADAS_ADNI1_15Apr2024.csv\"\n",
    "df_assess = pd.read_csv(os.path.join(mh_dir, file_name))\n",
    "df_assess[\"EXAMDATE\"] = pd.to_datetime(df_assess[\"EXAMDATE\"])\n",
    "df_assess.sort_values([\"RID\", \"EXAMDATE\"], inplace=True)\n",
    "df_assess[\"VISCODE\"].replace(\"sc\", \"bl\", inplace=True)\n",
    "df_mh = pd.merge(df_long_mci_subset, df_assess, left_on=[\"RID\", \"VISCODE\"], \n",
    "         right_on=[\"RID\", \"VISCODE\"], how=\"inner\", suffixes=[None, \"_y\"])\n",
    "df_mh.replace([-4,-1],np.nan, inplace=True)\n",
    "df_mh[\"stage\"] = df_mh[\"stage\"].astype(int)"
   ]
  },
  {
   "cell_type": "code",
   "execution_count": null,
   "id": "dbf252a9",
   "metadata": {},
   "outputs": [],
   "source": [
    "df_mh_fld = process_df(df_mh, \"COCONSTR\")"
   ]
  },
  {
   "cell_type": "code",
   "execution_count": null,
   "id": "298e0813",
   "metadata": {},
   "outputs": [],
   "source": [
    "def harmonize_coconstr(x):\n",
    "    l = x.split(\":\")\n",
    "    int_l =[int(_) for _ in l]\n",
    "    int_l.sort()\n",
    "    res_list = []\n",
    "    res_list = [1*(_ in int_l) for _ in range(1,6)]\n",
    "    return res_list"
   ]
  },
  {
   "cell_type": "code",
   "execution_count": null,
   "id": "16555d4d",
   "metadata": {},
   "outputs": [],
   "source": [
    "s = df_mh_fld[\"COCONSTR\"].apply(lambda x: harmonize_coconstr(x))\n",
    "df_coconstr = pd.DataFrame(np.vstack(s))\n",
    "df_coconstr.columns = [\"no-shape\", \"circ\", \"rectangles\", \"rhombus\", \"cube\"]\n",
    "df_coconstr2 = pd.concat([df_mh_fld, df_coconstr], axis=1)"
   ]
  },
  {
   "cell_type": "code",
   "execution_count": null,
   "id": "6eff91af",
   "metadata": {
    "scrolled": true
   },
   "outputs": [],
   "source": [
    "fld = \"rectangles\"\n",
    "test_name = \"adas_1_test\"\n",
    "ratio_df = pd.DataFrame()\n",
    "print(\"Shape\", df_coconstr2.shape)\n",
    "chi2_table = df_coconstr2.groupby([\"stage\", fld]).size().unstack(level=1).fillna(0)\n",
    "chi2_stats = chi2_contingency(chi2_table)\n",
    "chi2_pval = chi2_stats[1]\n",
    "ratio = chi2_table[0]/chi2_table[1]\n",
    "# ratio_df[fld] = ratio\n",
    "# spearmanr_corr = spearmanr(df_coconstr[\"stage\"], df_coconstr[fld]).correlation\n",
    "plt.plot(ratio)\n"
   ]
  },
  {
   "cell_type": "code",
   "execution_count": null,
   "id": "e8843cbb",
   "metadata": {},
   "outputs": [],
   "source": [
    "flds = [\"COT1SCOR\", \"COT2SCOR\", \"COT3SCOR\", \"COT4TOTL\",\n",
    "        \"COINSTRC\", \"COCOMPRE\", \"COWRDFND\", \"COLANG\", \"CONMCXLA\",\n",
    "        \"CONMCXLB\", \"CONMCXLC\"]\n",
    "test_name = \"ADAS1_test\"\n",
    "fig, ax = plt.subplots(6,2, figsize=(6,12), sharex=True)\n",
    "for i, fld in enumerate(flds):\n",
    "    df_mh_fld = df_mh.dropna(subset=[fld])\n",
    "    df_mh_fld.sort_values([\"sid\", \"EXAMDATE\"], inplace=True)\n",
    "    df_mh_fld.drop_duplicates(\"sid\", keep=\"first\", inplace=True)\n",
    "    r = i // 2\n",
    "    c = i % 2\n",
    "    sns.boxenplot(data=df_mh_fld,x=\"stage\", y=fld, ax=ax[r,c])\n",
    "    ax[r,c].set_title(fld, fontsize=15)\n",
    "    ax[r,c].spines[['right', 'top']].set_visible(False)\n",
    "    ax[r,c].set_ylabel(\"\")\n",
    "fig.tight_layout()\n",
    "fig.savefig(os.path.join(dir_path, \"{}.png\".format(test_name)), dpi=300)"
   ]
  },
  {
   "cell_type": "code",
   "execution_count": null,
   "id": "055cac7d",
   "metadata": {},
   "outputs": [],
   "source": [
    "stats_df_list = []\n",
    "for fld in flds:\n",
    "    df_xx = regress_score(df_mh, fld, [\"AGE\", \"PTGENDER\", \"PTEDUCAT\", \"APOE4\",\"stage\"])\n",
    "    df_xx.dropna(inplace=True)\n",
    "    model = sm.OLS(df_xx[[fld]], \n",
    "                   sm.add_constant(df_xx[[\"PTGENDER\", \"APOE4\", \"PTEDUCAT\", \"AGE\", \n",
    "                                          \"stage\",\"st1\", \"st2\", \"st3\"]]))\n",
    "    results = model.fit()\n",
    "    stats_df = pd.concat([results.pvalues,results.params],axis=1)\n",
    "    stats_df.columns = [\"p-vals\", \"coef\"]\n",
    "    stats_df[\"fld\"] = fld\n",
    "    stats_df[\"r-sq-adj\"] = results.rsquared_adj\n",
    "    \n",
    "    stats_df_list.append(stats_df)\n",
    "stats_df_all = pd.concat(stats_df_list, axis=0)\n",
    "dir_path = \"/nethome/rtandon32/ebm/s-SuStain-outputs/sim_tadpole19_mixture_GMM/figures_4/neurobattery2\"\n",
    "stats_df_all.to_csv(os.path.join(dir_path,\"stats_{}.csv\".format(test_name)))"
   ]
  },
  {
   "cell_type": "code",
   "execution_count": null,
   "id": "bbe4f330",
   "metadata": {},
   "outputs": [],
   "source": [
    "stats_df_all"
   ]
  },
  {
   "cell_type": "markdown",
   "id": "32064a67",
   "metadata": {},
   "source": [
    "# CDR"
   ]
  },
  {
   "cell_type": "code",
   "execution_count": null,
   "id": "4176b1a8",
   "metadata": {},
   "outputs": [],
   "source": [
    "mh_dir = \"/nethome/rtandon32/ebm/ebm_experiments/experiment_scripts/real_data/assessments/\"\n",
    "file_name = \"CDR_15Apr2024.csv\"\n",
    "df_assess = pd.read_csv(os.path.join(mh_dir, file_name))\n",
    "df_assess[\"VISDATE\"] = pd.to_datetime(df_assess[\"VISDATE\"])\n",
    "df_assess.sort_values([\"RID\", \"VISDATE\"], inplace=True)\n",
    "df_assess[\"VISCODE2\"].replace(\"sc\", \"bl\", inplace=True)\n",
    "df_mh = pd.merge(df_long_mci_subset, df_assess, left_on=[\"RID\", \"VISCODE\"], \n",
    "         right_on=[\"RID\", \"VISCODE2\"], how=\"inner\", suffixes=[None, \"_y\"])\n",
    "df_mh.replace([-4,-1],np.nan, inplace=True)\n",
    "df_mh[\"stage\"] = df_mh[\"stage\"].astype(int)"
   ]
  },
  {
   "cell_type": "code",
   "execution_count": null,
   "id": "5e226ff0",
   "metadata": {},
   "outputs": [],
   "source": [
    "flds = [\"CDMEMORY\",\"CDORIENT\",\"CDJUDGE\",\"CDCOMMUN\",\"CDHOME\",\"CDCARE\",\"CDGLOBAL\",\"CDRSB\"]\n",
    "binary = []\n",
    "test_name = \"cdrsb_test\"\n",
    "neurobat_dict = {}\n",
    "ratio_df = pd.DataFrame()\n",
    "for fld in flds:\n",
    "    df_mh_fld = df_mh.dropna(subset=[fld])\n",
    "    df_mh_fld.sort_values([\"sid\", \"EXAMDATE\"], inplace=True)\n",
    "    df_mh_fld.drop_duplicates(\"sid\", keep=\"first\", inplace=True)\n",
    "    print(\"Shape\", df_mh_fld.shape)\n",
    "    chi2_table = df_mh_fld.groupby([\"stage\", fld]).size().unstack(level=1).fillna(0)\n",
    "    chi2_stats = chi2_contingency(chi2_table)\n",
    "    chi2_pval = chi2_stats[1]\n",
    "    if fld in binary:\n",
    "        ratio = chi2_table[0]/chi2_table[1]\n",
    "        ratio_df[fld] = ratio\n",
    "    spearmanr_corr = spearmanr(df_mh_fld[\"stage\"], df_mh_fld[fld]).correlation\n",
    "    neurobat_dict[fld] = [chi2_pval, spearmanr_corr]\n",
    "\n",
    "dir_path = \"/nethome/rtandon32/ebm/s-SuStain-outputs/sim_tadpole19_mixture_GMM/figures_4/neurobattery\"\n",
    "neurobat_df = pd.DataFrame.from_dict(neurobat_dict, orient=\"index\", columns = [\"chi-2-pval\", \"spearmanr\"])\n",
    "neurobat_df.to_csv(os.path.join(dir_path, \"{}_df.csv\".format(test_name)))\n",
    "# fig.savefig(os.path.join(dir_path, \"{}.png\").format(test_name), dpi=300)\n",
    "\n"
   ]
  },
  {
   "cell_type": "code",
   "execution_count": null,
   "id": "d8ef1d95",
   "metadata": {},
   "outputs": [],
   "source": [
    "fig, ax = plt.subplots(2,4, figsize=(9,6), sharex=True)\n",
    "for i, fld in enumerate(flds):\n",
    "    df_mh_fld = df_mh.dropna(subset=[fld])\n",
    "    df_mh_fld.sort_values([\"sid\", \"EXAMDATE\"], inplace=True)\n",
    "    df_mh_fld.drop_duplicates(\"sid\", keep=\"first\", inplace=True)\n",
    "    r = i // 4\n",
    "    c = i % 4\n",
    "    sns.boxenplot(data=df_mh_fld,x=\"stage\", y=fld, ax=ax[r,c])\n",
    "    ax[r,c].set_title(fld, fontsize=15)\n",
    "fig.tight_layout()\n",
    "fig.savefig(os.path.join(dir_path, \"CDR.png\"), dpi=300)"
   ]
  },
  {
   "cell_type": "code",
   "execution_count": null,
   "id": "4b032534",
   "metadata": {},
   "outputs": [],
   "source": [
    "neurobat_df"
   ]
  },
  {
   "cell_type": "code",
   "execution_count": null,
   "id": "f068cf86",
   "metadata": {},
   "outputs": [],
   "source": [
    "flds = [\"CDMEMORY\",\"CDORIENT\",\"CDJUDGE\",\"CDCOMMUN\",\"CDHOME\",\"CDCARE\",\"CDGLOBAL\",\"CDRSB\"]\n",
    "test_name = \"cdr_test\"\n",
    "stats_df_list = []\n",
    "for fld in flds:\n",
    "    df_xx = regress_score(df_mh, fld, [\"AGE\", \"PTGENDER\", \"PTEDUCAT\", \"APOE4\",\"stage\"])\n",
    "    df_xx.dropna(inplace=True)\n",
    "    model = sm.OLS(df_xx[[fld]], \n",
    "                   sm.add_constant(df_xx[[\"PTGENDER\", \"APOE4\", \"PTEDUCAT\",\"AGE\", \"stage\", \"st1\", \"st2\", \"st3\"]]))\n",
    "    results = model.fit()\n",
    "    stats_df = pd.concat([results.pvalues,results.params],axis=1)\n",
    "    stats_df.columns = [\"p-vals\", \"coef\"]\n",
    "    stats_df[\"fld\"] = fld\n",
    "    stats_df[\"r-sq-adj\"] = results.rsquared_adj\n",
    "    \n",
    "    stats_df_list.append(stats_df)\n",
    "stats_df_all = pd.concat(stats_df_list, axis=0)\n",
    "dir_path = \"/nethome/rtandon32/ebm/s-SuStain-outputs/sim_tadpole19_mixture_GMM/figures_4/neurobattery2\"\n",
    "stats_df_all.to_csv(os.path.join(dir_path,\"stats_{}.csv\".format(test_name)))"
   ]
  },
  {
   "cell_type": "code",
   "execution_count": null,
   "id": "267e4974",
   "metadata": {},
   "outputs": [],
   "source": [
    "stats_df_all"
   ]
  },
  {
   "cell_type": "markdown",
   "id": "25f6d709",
   "metadata": {},
   "source": [
    "# GDSCALE"
   ]
  },
  {
   "cell_type": "code",
   "execution_count": null,
   "id": "2300a7a2",
   "metadata": {},
   "outputs": [],
   "source": [
    "mh_dir = \"/nethome/rtandon32/ebm/ebm_experiments/experiment_scripts/real_data/assessments/\"\n",
    "file_name = \"GDSCALE_15Apr2024.csv\"\n",
    "df_assess = pd.read_csv(os.path.join(mh_dir, file_name))\n",
    "df_assess[\"VISDATE\"] = pd.to_datetime(df_assess[\"VISDATE\"])\n",
    "df_assess.sort_values([\"RID\", \"VISDATE\"], inplace=True)\n",
    "df_assess[\"VISCODE2\"].replace(\"sc\", \"bl\", inplace=True)\n",
    "df_mh = pd.merge(df_long_mci_subset, df_assess, left_on=[\"RID\", \"VISCODE\"], \n",
    "         right_on=[\"RID\", \"VISCODE2\"], how=\"inner\", suffixes=[None, \"_y\"])\n",
    "df_mh.replace([-4,-1],np.nan, inplace=True)\n",
    "df_mh[\"stage\"] = df_mh[\"stage\"].astype(int)\n",
    "df_mh[\"GDDROP\"] = df_mh[\"GDDROP\"].map({0:1, 1:0})"
   ]
  },
  {
   "cell_type": "code",
   "execution_count": null,
   "id": "caf6da7d",
   "metadata": {},
   "outputs": [],
   "source": [
    "flds = [\"GDUNABL\", \"GDSATIS\", \"GDDROP\", \"GDEMPTY\", \"GDBORED\", \"GDSPIRIT\", \"GDAFRAID\", \"GDHAPPY\", \"GDHELP\", \"GDHOME\", \"GDMEMORY\",\n",
    "        \"GDALIVE\", \"GDWORTH\", \"GDENERGY\", \"GDHOPE\", \"GDBETTER\", \"GDTOTAL\"]\n",
    "# binary = [\"GDSATIS\", \"GDDROP\", \"GDEMPTY\", \"GDBORED\", \"GDSPIRIT\", \"GDAFRAID\", \"GDHAPPY\", \"GDHELP\", \"GDHOME\", \"GDMEMORY\",\n",
    "#         \"GDALIVE\", \"GDWORTH\", \"GDENERGY\", \"GDHOPE\"]\n",
    "binary = [\"GDSATIS\", \"GDDROP\"]\n",
    "test_name = \"gdscale_test\"\n",
    "neurobat_dict = {}\n",
    "ratio_df = pd.DataFrame()\n",
    "for fld in flds:\n",
    "    df_mh_fld = process_df(df_mh, fld)\n",
    "    print(\"Shape\", df_mh_fld.shape)\n",
    "    chi2_table = df_mh_fld.groupby([\"stage\", fld]).size().unstack(level=1).fillna(0)\n",
    "    chi2_stats = chi2_contingency(chi2_table)\n",
    "    chi2_pval = chi2_stats[1]\n",
    "    if fld in binary:\n",
    "        ratio = chi2_table[1]/chi2_table[0]\n",
    "        ratio_df[fld] = ratio\n",
    "    spearmanr_corr = spearmanr(df_mh_fld[\"stage\"], df_mh_fld[fld]).correlation\n",
    "    neurobat_dict[fld] = [chi2_pval, spearmanr_corr]\n",
    "\n",
    "fig, ax = plt.subplots(figsize=(4,4))\n",
    "markers = ['${}$'.format(_+1) for _ in range(len(binary))]\n",
    "sns.lineplot(data=ratio_df[binary], ax = ax, dashes=False, markers=markers, markersize=12, mec=\"k\")\n",
    "\n",
    "lgnd = plt.legend(borderaxespad=0, ncol=1)\n",
    "for m_ in range(len(markers)):\n",
    "    lgnd.legendHandles[m_].set_markersize(12)\n",
    "\n",
    "dir_path = \"/nethome/rtandon32/ebm/s-SuStain-outputs/sim_tadpole19_mixture_GMM/figures_4/neurobattery2\"\n",
    "ax.spines[['right', 'top']].set_visible(False)\n",
    "ax.set_ylabel(\"odds\", fontsize=12)\n",
    "ax.set_xlabel(\"stage\", fontsize=12)\n",
    "ax.set_xticks([0,1,2,3,4,5])\n",
    "ax.set_ylim([0,30])\n",
    "lgnd = plt.legend(bbox_to_anchor=(0.1, 1.), loc='upper left', borderaxespad=0, ncol=1)\n",
    "# for m_ in range(len(markers)):\n",
    "#     lgnd.legendHandles[m_].set_markersize(12)\n",
    "flds_text = {\"GDSATIS\":\"Satisfied with life?\",\"GDDROP\":\"Did not drop\\nactivities recently?\"}\n",
    "for t, l in zip(lgnd.texts, binary):\n",
    "    t.set_text(flds_text[l])\n",
    "fig.tight_layout()\n",
    "fig.savefig(os.path.join(dir_path, \"{}.png\").format(test_name), dpi=300)\n",
    "neurobat_df = pd.DataFrame.from_dict(neurobat_dict, orient=\"index\", columns = [\"chi-2-pval\", \"spearmanr\"])\n",
    "neurobat_df.to_csv(os.path.join(dir_path, \"{}_df.csv\".format(test_name)))\n"
   ]
  },
  {
   "cell_type": "code",
   "execution_count": null,
   "id": "f21b2f41",
   "metadata": {},
   "outputs": [],
   "source": [
    "flds = [\"GDSATIS\", \"GDDROP\", \"GDEMPTY\", \"GDBORED\", \"GDSPIRIT\", \"GDAFRAID\", \"GDHAPPY\", \"GDHELP\", \"GDHOME\", \"GDMEMORY\",\n",
    "        \"GDALIVE\", \"GDWORTH\", \"GDENERGY\", \"GDHOPE\"]\n",
    "cov1 = [\"PTGENDER\", \"APOE4\", \"PTEDUCAT\",\"AGE\",\"stage\",\"st1\", \"st2\", \"st3\"]\n",
    "cov2 = [\"PTGENDER\", \"APOE4\", \"PTEDUCAT\",\"AGE\"]\n",
    "stats_df_list = []\n",
    "for fld in flds:\n",
    "    df_xx = regress_score(df_mh, fld, [\"AGE\", \"PTGENDER\", \"PTEDUCAT\", \"APOE4\",\"stage\"])\n",
    "    df_xx.dropna(inplace=True)\n",
    "    stats_df1 = regress_Logit(df_xx, fld, cov1)\n",
    "    stats_df1[\"n-cov\"] = \"incl-sustain\"\n",
    "    stats_df2 = regress_Logit(df_xx, fld, cov2)\n",
    "    stats_df2[\"n-cov\"] = \"excl-sustain\"\n",
    "    stats_df_list += [stats_df1, stats_df2]\n",
    "stats_df_all = pd.concat(stats_df_list, axis=0)\n",
    "dir_path = \"/nethome/rtandon32/ebm/s-SuStain-outputs/sim_tadpole19_mixture_GMM/figures_4/neurobattery2\"\n",
    "stats_df_all.to_csv(os.path.join(dir_path,\"stats_{}.csv\".format(test_name)))"
   ]
  },
  {
   "cell_type": "code",
   "execution_count": null,
   "id": "6aeefb7d",
   "metadata": {},
   "outputs": [],
   "source": [
    "neuro_sc = \"GDTOTAL\"\n",
    "df_xx = regress_score(df_mh, neuro_sc, [\"AGE\", \"PTGENDER\", \"PTEDUCAT\", \"APOE4\",\"stage\"])\n",
    "df_xx.dropna(inplace=True)\n",
    "model = sm.OLS(df_xx[[neuro_sc]], \n",
    "               sm.add_constant(df_xx[[\"PTGENDER\", \"APOE4\", \"PTEDUCAT\",\"AGE\",\"stage\",\"st1\", \"st2\", \"st3\"]]))\n",
    "results = model.fit()\n",
    "print(results.summary())"
   ]
  },
  {
   "cell_type": "code",
   "execution_count": null,
   "id": "b3e0e1ee",
   "metadata": {},
   "outputs": [],
   "source": [
    "fig, ax = plt.subplots(1,1, sharex=True, sharey=False, figsize=(4, 3))\n",
    "df_mh_fld = process_df(df_mh, \"GDTOTAL\")\n",
    "sns.boxenplot(data=df_mh_fld, x=\"stage\", y=\"GDTOTAL\")\n",
    "ax.spines[['right', 'top']].set_visible(False)\n",
    "fig.savefig(os.path.join(dir_path, \"GDTOTAL_boxen.png\"), dpi=300)\n"
   ]
  },
  {
   "cell_type": "markdown",
   "id": "a904e6fa",
   "metadata": {},
   "source": [
    "# FAQ Test"
   ]
  },
  {
   "cell_type": "code",
   "execution_count": null,
   "id": "bc911f3c",
   "metadata": {},
   "outputs": [],
   "source": [
    "mh_dir = \"/nethome/rtandon32/ebm/ebm_experiments/experiment_scripts/real_data/assessments/\"\n",
    "file_name = \"FAQ_15Apr2024.csv\"\n",
    "df_assess = pd.read_csv(os.path.join(mh_dir, file_name))\n",
    "df_assess[\"VISDATE\"] = pd.to_datetime(df_assess[\"VISDATE\"])\n",
    "df_assess.sort_values([\"RID\", \"VISDATE\"], inplace=True)\n",
    "df_assess[\"VISCODE2\"].replace(\"sc\", \"bl\", inplace=True)\n",
    "df_mh = pd.merge(df_long_mci_subset, df_assess, left_on=[\"RID\", \"VISCODE\"], \n",
    "         right_on=[\"RID\", \"VISCODE2\"], how=\"inner\", suffixes=[None, \"_y\"])\n",
    "df_mh.replace([-4,-1],np.nan, inplace=True)\n",
    "df_mh[\"stage\"] = df_mh[\"stage\"].astype(int)"
   ]
  },
  {
   "cell_type": "code",
   "execution_count": null,
   "id": "48415d1c",
   "metadata": {},
   "outputs": [],
   "source": [
    "flds = [\"FAQFINAN\", \"FAQFORM\", \"FAQSHOP\", \"FAQGAME\", \"FAQBEVG\", \"FAQMEAL\", \"FAQEVENT\",\n",
    "        \"FAQTV\", \"FAQREM\", \"FAQTRAVL\", \"FAQTOTAL\"]\n",
    "binary = []\n",
    "test_name = \"FAQ_test\"\n",
    "neurobat_dict = {}\n",
    "ratio_df = pd.DataFrame()\n",
    "for fld in flds:\n",
    "    df_mh_fld = df_mh.dropna(subset=[fld])\n",
    "    df_mh_fld.sort_values([\"sid\", \"EXAMDATE\"], inplace=True)\n",
    "    df_mh_fld.drop_duplicates(\"sid\", keep=\"first\", inplace=True)\n",
    "    print(fld, \"Shape\", df_mh_fld.shape)\n",
    "    chi2_table = df_mh_fld.groupby([\"stage\", fld]).size().unstack(level=1).fillna(0)\n",
    "    chi2_stats = chi2_contingency(chi2_table)\n",
    "    chi2_pval = chi2_stats[1]\n",
    "    if fld in binary:\n",
    "        ratio = chi2_table[0]/chi2_table[1]\n",
    "        ratio_df[fld] = ratio\n",
    "    spearmanr_corr = spearmanr(df_mh_fld[\"stage\"], df_mh_fld[fld]).correlation\n",
    "    neurobat_dict[fld] = [chi2_pval, spearmanr_corr]\n",
    "\n",
    "dir_path = \"/nethome/rtandon32/ebm/s-SuStain-outputs/sim_tadpole19_mixture_GMM/figures_4/neurobattery2\"\n",
    "neurobat_df = pd.DataFrame.from_dict(neurobat_dict, orient=\"index\", columns = [\"chi-2-pval\", \"spearmanr\"])\n",
    "neurobat_df.to_csv(os.path.join(dir_path, \"{}_df.csv\".format(test_name)))\n",
    "\n"
   ]
  },
  {
   "cell_type": "code",
   "execution_count": null,
   "id": "3f0d8751",
   "metadata": {},
   "outputs": [],
   "source": [
    "fig, ax = plt.subplots(4,3, figsize=(6,8), sharex=True)\n",
    "for i, fld in enumerate(flds):\n",
    "    df_mh_fld = df_mh.dropna(subset=[fld])\n",
    "    df_mh_fld.sort_values([\"sid\", \"EXAMDATE\"], inplace=True)\n",
    "    df_mh_fld.drop_duplicates(\"sid\", keep=\"first\", inplace=True)\n",
    "    r = i // 3\n",
    "    c = i % 3\n",
    "    sns.boxenplot(data=df_mh_fld,x=\"stage\", y=fld, ax=ax[r,c], palette=palette_color1)\n",
    "    ax[r,c].set_title(fld, fontsize=12)\n",
    "    ax[r,c].set_ylabel(\"\")\n",
    "    ax[r,c].spines[['right', 'top']].set_visible(False)\n",
    "ax[3,2].set_axis_off()\n",
    "fig.tight_layout()\n",
    "fig.savefig(os.path.join(dir_path, \"FAQ_test.png\"), dpi=300)"
   ]
  },
  {
   "cell_type": "code",
   "execution_count": null,
   "id": "618e5a04",
   "metadata": {},
   "outputs": [],
   "source": [
    "cov1 = [\"PTGENDER\", \"APOE4\", \"PTEDUCAT\",\"AGE\",\"stage\",\"st1\", \"st2\", \"st3\"]\n",
    "cov2 = [\"PTGENDER\", \"APOE4\", \"PTEDUCAT\",\"AGE\"]\n",
    "stats_df_list = []\n",
    "for fld in flds:\n",
    "    df_xx = regress_score(df_mh, fld, [\"AGE\", \"PTGENDER\", \"PTEDUCAT\", \"APOE4\",\"stage\"])\n",
    "    df_xx.dropna(inplace=True)\n",
    "    stats_df1 = regress_OLS(df_xx, fld, cov1)\n",
    "    stats_df1[\"n-cov\"] = \"incl-sustain\"\n",
    "    stats_df2 = regress_OLS(df_xx, fld, cov2)\n",
    "    stats_df2[\"n-cov\"] = \"excl-sustain\"\n",
    "    stats_df_list += [stats_df1, stats_df2]\n",
    "stats_df_all = pd.concat(stats_df_list, axis=0)\n",
    "dir_path = \"/nethome/rtandon32/ebm/s-SuStain-outputs/sim_tadpole19_mixture_GMM/figures_4/neurobattery2\"\n",
    "stats_df_all.to_csv(os.path.join(dir_path,\"stats_{}.csv\".format(test_name)))"
   ]
  },
  {
   "cell_type": "code",
   "execution_count": null,
   "id": "05b7486b",
   "metadata": {},
   "outputs": [],
   "source": [
    "fld = \"FAQTOTAL\"\n",
    "fig, ax = plt.subplots(1,1, figsize=(2,2), sharex=True)\n",
    "df_mh_fld = df_mh.dropna(subset=[fld])\n",
    "df_mh_fld.sort_values([\"sid\", \"EXAMDATE\"], inplace=True)\n",
    "df_mh_fld.drop_duplicates(\"sid\", keep=\"first\", inplace=True)\n",
    "sns.boxenplot(data=df_mh_fld,x=\"stage\", y=fld, ax=ax, palette=palette_color1)\n",
    "ax.set_title(\"FAQ total\", fontsize=12)\n",
    "ax.set_ylabel(\"\")\n",
    "ax.spines[['right', 'top']].set_visible(False)\n",
    "fig.tight_layout()\n",
    "fig.savefig(os.path.join(dir_path, \"FAQ_total_test.png\"), dpi=300)"
   ]
  },
  {
   "cell_type": "markdown",
   "id": "11d4a5ea",
   "metadata": {},
   "source": [
    "# UWNPSYCHSUM"
   ]
  },
  {
   "cell_type": "code",
   "execution_count": null,
   "id": "63474f41",
   "metadata": {},
   "outputs": [],
   "source": [
    "mh_dir = \"/nethome/rtandon32/ebm/ebm_experiments/experiment_scripts/real_data/assessments/\"\n",
    "file_name = \"UWNPSYCHSUM_15Apr2024.csv\"\n",
    "df_assess = pd.read_csv(os.path.join(mh_dir, file_name))\n",
    "df_assess[\"EXAMDATE\"] = pd.to_datetime(df_assess[\"EXAMDATE\"])\n",
    "df_assess.sort_values([\"RID\", \"EXAMDATE\"], inplace=True)\n",
    "df_assess[\"VISCODE2\"].replace(\"sc\", \"bl\", inplace=True)\n",
    "df_mh = pd.merge(df_long_mci_subset, df_assess, left_on=[\"RID\", \"VISCODE\"], \n",
    "         right_on=[\"RID\", \"VISCODE2\"], how=\"inner\", suffixes=[None, \"_y\"])\n",
    "df_mh.replace([-4,-1],np.nan, inplace=True)\n",
    "df_mh[\"stage\"] = df_mh[\"stage\"].astype(int)"
   ]
  },
  {
   "cell_type": "code",
   "execution_count": null,
   "id": "513ca907",
   "metadata": {},
   "outputs": [],
   "source": [
    "test_name=\"uwnpsych_test\"\n",
    "flds = [\"ADNI_MEM\", \"ADNI_EF\", \"ADNI_LAN\", \"ADNI_VS\"]\n",
    "flds_dict = {\"ADNI_MEM\":\"Memory\", \"ADNI_EF\":\"Executive Funtion\", \"ADNI_EF2\":r'$Executive Function^{2}$', \n",
    "             \"ADNI_LAN\":\"Language\", \"ADNI_VS\":\"Visuospatial\"}\n",
    "fig, ax = plt.subplots(1,4, figsize=(8,2), sharex=True, sharey=True)\n",
    "for i, fld in enumerate(flds):\n",
    "    df_mh_fld = df_mh.dropna(subset=[fld])\n",
    "    df_mh_fld.sort_values([\"sid\", \"EXAMDATE\"], inplace=True)\n",
    "    df_mh_fld.drop_duplicates(\"sid\", keep=\"first\", inplace=True)\n",
    "    sns.boxenplot(data=df_mh_fld,x=\"stage\", y=fld, ax=ax[i], palette=palette_color1)\n",
    "    ax[i].set_title(flds_dict[fld], fontsize=12)\n",
    "    ax[i].set_ylabel(\"\")\n",
    "    ax[i].spines[['right', 'top']].set_visible(False)\n",
    "fig.tight_layout()\n",
    "fig.savefig(os.path.join(dir_path, \"{}.png\".format(test_name)), dpi=300)"
   ]
  },
  {
   "cell_type": "code",
   "execution_count": null,
   "id": "569f7e7d",
   "metadata": {},
   "outputs": [],
   "source": [
    "test_name = \"uwnpsych_test\"\n",
    "cov1 = [\"PTGENDER\", \"APOE4\", \"PTEDUCAT\",\"AGE\",\"stage\",\"st1\", \"st2\", \"st3\"]\n",
    "cov2 = [\"PTGENDER\", \"APOE4\", \"PTEDUCAT\",\"AGE\"]\n",
    "stats_df_list = []\n",
    "for fld in flds:\n",
    "    df_xx = regress_score(df_mh, fld, [\"AGE\", \"PTGENDER\", \"PTEDUCAT\", \"APOE4\",\"stage\"])\n",
    "    df_xx.dropna(inplace=True)\n",
    "    stats_df1 = regress_OLS(df_xx, fld, cov1)\n",
    "    stats_df1[\"n-cov\"] = \"incl-sustain\"\n",
    "    stats_df2 = regress_OLS(df_xx, fld, cov2)\n",
    "    stats_df2[\"n-cov\"] = \"excl-sustain\"\n",
    "    stats_df_list += [stats_df1, stats_df2]\n",
    "stats_df_all = pd.concat(stats_df_list, axis=0)\n",
    "dir_path = \"/nethome/rtandon32/ebm/s-SuStain-outputs/sim_tadpole19_mixture_GMM/figures_4/neurobattery2\"\n",
    "stats_df_all.to_csv(os.path.join(dir_path,\"stats_{}.csv\".format(test_name)))"
   ]
  },
  {
   "cell_type": "code",
   "execution_count": null,
   "id": "32f5832e",
   "metadata": {},
   "outputs": [],
   "source": []
  },
  {
   "cell_type": "markdown",
   "id": "1ede4cf4",
   "metadata": {},
   "source": [
    "# ADAS scores"
   ]
  },
  {
   "cell_type": "code",
   "execution_count": null,
   "id": "05951b7a",
   "metadata": {},
   "outputs": [],
   "source": [
    "mh_dir = \"/nethome/rtandon32/ebm/ebm_experiments/experiment_scripts/real_data/assessments/\"\n",
    "file_name = \"ADASSCORES_15Apr2024.csv\"\n",
    "df_assess = pd.read_csv(os.path.join(mh_dir, file_name))\n",
    "df_assess[\"EXAMDATE\"] = pd.to_datetime(df_assess[\"EXAMDATE\"])\n",
    "df_assess.sort_values([\"RID\", \"EXAMDATE\"], inplace=True)\n",
    "df_assess[\"VISCODE\"].replace(\"sc\", \"bl\", inplace=True)\n",
    "df_mh = pd.merge(df_long_mci_subset, df_assess, left_on=[\"RID\", \"VISCODE\"], \n",
    "         right_on=[\"RID\", \"VISCODE\"], how=\"inner\", suffixes=[None, \"_y\"])\n",
    "df_mh.replace([-4,-1],np.nan, inplace=True)"
   ]
  },
  {
   "cell_type": "code",
   "execution_count": null,
   "id": "f06c6d5e",
   "metadata": {},
   "outputs": [],
   "source": [
    "test_name=\"adas_scores_test\"\n",
    "flds = [\"Q1\", \"Q2\", \"Q3\", \"Q4\", \"Q5\", \"Q6\", \"Q7\", \"Q8\", \"Q9\",\n",
    "        \"Q10\", \"Q11\", \"Q12\", \"Q14\", \"TOTAL11\", \"TOTALMOD\"]\n",
    "fig, ax = plt.subplots(5,3, figsize=(6,10), sharex=True)\n",
    "for i, fld in enumerate(flds):\n",
    "    r = i // 3\n",
    "    c = i % 3\n",
    "    df_mh_fld = df_mh.dropna(subset=[fld])\n",
    "    df_mh_fld.sort_values([\"sid\", \"EXAMDATE\"], inplace=True)\n",
    "    df_mh_fld.drop_duplicates(\"sid\", keep=\"first\", inplace=True)\n",
    "    sns.boxenplot(data=df_mh_fld,x=\"stage\", y=fld, ax=ax[r,c])\n",
    "    ax[r,c].set_title(fld, fontsize=15)\n",
    "fig.tight_layout()\n",
    "fig.savefig(os.path.join(dir_path, \"{}.png\".format(test_name)), dpi=300)"
   ]
  },
  {
   "cell_type": "code",
   "execution_count": null,
   "id": "c23eedf8",
   "metadata": {},
   "outputs": [],
   "source": [
    "cov1 = [\"PTGENDER\", \"APOE4\", \"PTEDUCAT\",\"AGE\",\"stage\",\"st1\", \"st2\", \"st3\"]\n",
    "cov2 = [\"PTGENDER\", \"APOE4\", \"PTEDUCAT\",\"AGE\"]\n",
    "stats_df_list = []\n",
    "for fld in flds:\n",
    "    df_xx = regress_score(df_mh, fld, [\"AGE\", \"PTGENDER\", \"PTEDUCAT\", \"APOE4\",\"stage\"])\n",
    "    df_xx.dropna(inplace=True)\n",
    "    stats_df1 = regress_OLS(df_xx, fld, cov1)\n",
    "    stats_df1[\"n-cov\"] = \"incl-sustain\"\n",
    "    stats_df2 = regress_OLS(df_xx, fld, cov2)\n",
    "    stats_df2[\"n-cov\"] = \"excl-sustain\"\n",
    "    stats_df_list += [stats_df1, stats_df2]\n",
    "stats_df_all = pd.concat(stats_df_list, axis=0)\n",
    "dir_path = \"/nethome/rtandon32/ebm/s-SuStain-outputs/sim_tadpole19_mixture_GMM/figures_4/neurobattery2\"\n",
    "stats_df_all.to_csv(os.path.join(dir_path,\"stats_{}.csv\".format(test_name)))"
   ]
  },
  {
   "cell_type": "markdown",
   "id": "6a6ed750",
   "metadata": {},
   "source": [
    "# FCI"
   ]
  },
  {
   "cell_type": "markdown",
   "id": "c01d9b3d",
   "metadata": {},
   "source": [
    "### The data is only after 2017 so there are no matches"
   ]
  },
  {
   "cell_type": "markdown",
   "id": "da796430",
   "metadata": {},
   "source": [
    "# ADNI-CBBRESULTS"
   ]
  },
  {
   "cell_type": "markdown",
   "id": "1277fdd7",
   "metadata": {},
   "source": [
    "### The data does not have viscode making it harder to align.\n",
    "### Also, it was only started to be measured around 2015, so there is not much data."
   ]
  },
  {
   "cell_type": "markdown",
   "id": "5fc00de3",
   "metadata": {},
   "source": [
    "# ECOGSP"
   ]
  },
  {
   "cell_type": "code",
   "execution_count": null,
   "id": "ed0d9341",
   "metadata": {},
   "outputs": [],
   "source": [
    "mh_dir = \"/nethome/rtandon32/ebm/ebm_experiments/experiment_scripts/real_data/assessments/\"\n",
    "file_name = \"ECOGSP_15Apr2024.csv\"\n",
    "df_assess = pd.read_csv(os.path.join(mh_dir, file_name))\n",
    "df_assess[\"VISDATE\"] = pd.to_datetime(df_assess[\"VISDATE\"])\n",
    "df_assess.sort_values([\"RID\", \"VISDATE\"], inplace=True)\n",
    "df_assess[\"VISCODE2\"].replace(\"sc\", \"bl\", inplace=True)\n",
    "df_mh = pd.merge(df_long_mci_subset, df_assess, left_on=[\"RID\", \"VISCODE\"], \n",
    "         right_on=[\"RID\", \"VISCODE2\"], how=\"inner\", suffixes=[None, \"_y\"])\n",
    "df_mh.replace([-4,-1,9],np.nan, inplace=True)\n",
    "df_mh[\"stage\"] = df_mh[\"stage\"].astype(int)"
   ]
  },
  {
   "cell_type": "code",
   "execution_count": null,
   "id": "795461c4",
   "metadata": {},
   "outputs": [],
   "source": [
    "test_name=\"ecogsp_test\"\n",
    "flds = [\"VISSPAT1\", \"VISSPAT2\", \"VISSPAT3\", \"VISSPAT4\", \"VISSPAT5\", \"VISSPAT6\", \"VISSPAT7\", \"VISSPAT8\",\n",
    "        \"LANG1\", \"LANG2\", \"LANG3\",\"LANG4\",\"LANG5\",\"LANG6\",\"LANG7\",\"LANG8\",\"LANG9\",\n",
    "        \"MEMORY1\", \"MEMORY2\", \"MEMORY3\", \"MEMORY4\", \"MEMORY5\", \"MEMORY6\", \"MEMORY7\", \"MEMORY8\"]\n",
    "fig, ax = plt.subplots(5,5, figsize=(10,10), sharex=True)\n",
    "for i, fld in enumerate(flds):\n",
    "    r = i // 5\n",
    "    c = i % 5\n",
    "    df_mh_fld = df_mh.dropna(subset=[fld])\n",
    "    df_mh_fld.sort_values([\"sid\", \"EXAMDATE\"], inplace=True)\n",
    "    df_mh_fld.drop_duplicates(\"sid\", keep=\"first\", inplace=True)\n",
    "    sns.boxenplot(data=df_mh_fld,x=\"stage\", y=fld, ax=ax[r,c])\n",
    "    ax[r,c].set_title(fld, fontsize=15)\n",
    "fig.tight_layout()\n",
    "fig.savefig(os.path.join(dir_path, \"{}.png\".format(test_name)), dpi=300)"
   ]
  },
  {
   "cell_type": "code",
   "execution_count": null,
   "id": "8f1dbd01",
   "metadata": {},
   "outputs": [],
   "source": [
    "cov1 = [\"PTGENDER\", \"APOE4\", \"PTEDUCAT\",\"AGE\",\"stage\",\"st1\", \"st2\", \"st3\"]\n",
    "cov2 = [\"PTGENDER\", \"APOE4\", \"PTEDUCAT\",\"AGE\"]\n",
    "stats_df_list = []\n",
    "for fld in flds:\n",
    "    df_xx = regress_score(df_mh, fld, [\"AGE\", \"PTGENDER\", \"PTEDUCAT\", \"APOE4\",\"stage\"])\n",
    "    df_xx.dropna(inplace=True)\n",
    "    stats_df1 = regress_OLS(df_xx, fld, cov1)\n",
    "    stats_df1[\"n-cov\"] = \"incl-sustain\"\n",
    "    stats_df2 = regress_OLS(df_xx, fld, cov2)\n",
    "    stats_df2[\"n-cov\"] = \"excl-sustain\"\n",
    "    stats_df_list += [stats_df1, stats_df2]\n",
    "stats_df_all = pd.concat(stats_df_list, axis=0)\n",
    "dir_path = \"/nethome/rtandon32/ebm/s-SuStain-outputs/sim_tadpole19_mixture_GMM/figures_4/neurobattery2\"\n",
    "stats_df_all.to_csv(os.path.join(dir_path,\"stats_{}.csv\".format(test_name)))"
   ]
  },
  {
   "cell_type": "markdown",
   "id": "122a14d3",
   "metadata": {},
   "source": [
    "# ECOGSP2 - PLANNING, ORGANIZING, DIVATT "
   ]
  },
  {
   "cell_type": "code",
   "execution_count": null,
   "id": "0bb44512",
   "metadata": {},
   "outputs": [],
   "source": [
    "test_name = \"ecogsp2_test\"\n",
    "flds = [\"PLAN1\", \"PLAN2\", \"PLAN3\", \"PLAN4\", \"PLAN5\", \"ORGAN1\", \"ORGAN2\", \"ORGAN3\", \n",
    "        \"ORGAN4\", \"ORGAN5\", \"ORGAN6\", \"DIVATT1\", \"DIVATT2\", \"DIVATT3\", \"DIVATT4\"]\n",
    "fig, ax = plt.subplots(5,3, figsize=(8,12), sharex=True)\n",
    "for i, fld in enumerate(flds):\n",
    "    r = i // 3\n",
    "    c = i % 3\n",
    "    df_mh_fld = df_mh.dropna(subset=[fld])\n",
    "    df_mh_fld.sort_values([\"sid\", \"EXAMDATE\"], inplace=True)\n",
    "    df_mh_fld.drop_duplicates(\"sid\", keep=\"first\", inplace=True)\n",
    "    sns.boxenplot(data=df_mh_fld,x=\"stage\", y=fld, ax=ax[r,c])\n",
    "    ax[r,c].set_title(fld, fontsize=15)\n",
    "fig.tight_layout()\n",
    "fig.savefig(os.path.join(dir_path, \"{}.png\".format(test_name)), dpi=300)"
   ]
  },
  {
   "cell_type": "code",
   "execution_count": null,
   "id": "a3a87907",
   "metadata": {},
   "outputs": [],
   "source": [
    "cov1 = [\"PTGENDER\", \"APOE4\", \"PTEDUCAT\",\"AGE\",\"stage\",\"st1\", \"st2\", \"st3\"]\n",
    "cov2 = [\"PTGENDER\", \"APOE4\", \"PTEDUCAT\",\"AGE\"]\n",
    "stats_df_list = []\n",
    "for fld in flds:\n",
    "    df_xx = regress_score(df_mh, fld, [\"AGE\", \"PTGENDER\", \"PTEDUCAT\", \"APOE4\",\"stage\"])\n",
    "    df_xx.dropna(inplace=True)\n",
    "    stats_df1 = regress_OLS(df_xx, fld, cov1)\n",
    "    stats_df1[\"n-cov\"] = \"incl-sustain\"\n",
    "    stats_df2 = regress_OLS(df_xx, fld, cov2)\n",
    "    stats_df2[\"n-cov\"] = \"excl-sustain\"\n",
    "    stats_df_list += [stats_df1, stats_df2]\n",
    "stats_df_all = pd.concat(stats_df_list, axis=0)\n",
    "dir_path = \"/nethome/rtandon32/ebm/s-SuStain-outputs/sim_tadpole19_mixture_GMM/figures_4/neurobattery2\"\n",
    "stats_df_all.to_csv(os.path.join(dir_path,\"stats_{}.csv\".format(test_name)))"
   ]
  },
  {
   "cell_type": "markdown",
   "id": "6368ae0b",
   "metadata": {},
   "source": [
    "# ECOGPT"
   ]
  },
  {
   "cell_type": "code",
   "execution_count": null,
   "id": "f9f986d2",
   "metadata": {},
   "outputs": [],
   "source": [
    "mh_dir = \"/nethome/rtandon32/ebm/ebm_experiments/experiment_scripts/real_data/assessments/\"\n",
    "file_name = \"ECOGPT_15Apr2024.csv\"\n",
    "df_assess = pd.read_csv(os.path.join(mh_dir, file_name))\n",
    "df_assess[\"VISDATE\"] = pd.to_datetime(df_assess[\"VISDATE\"])\n",
    "df_assess.sort_values([\"RID\", \"VISDATE\"], inplace=True)\n",
    "df_assess[\"VISCODE2\"].replace(\"sc\", \"bl\", inplace=True)\n",
    "df_mh = pd.merge(df_long_mci_subset, df_assess, left_on=[\"RID\", \"VISCODE\"], \n",
    "         right_on=[\"RID\", \"VISCODE2\"], how=\"inner\", suffixes=[None, \"_y\"])\n",
    "df_mh.replace([-4,-1,9],np.nan, inplace=True)\n",
    "df_mh[\"stage\"] = df_mh[\"stage\"].astype(int)"
   ]
  },
  {
   "cell_type": "code",
   "execution_count": null,
   "id": "09a24d46",
   "metadata": {},
   "outputs": [],
   "source": [
    "test_name=\"ecogpt_test\"\n",
    "flds = [\"VISSPAT1\", \"VISSPAT2\", \"VISSPAT3\", \"VISSPAT4\", \"VISSPAT5\", \"VISSPAT6\", \"VISSPAT7\", \"VISSPAT8\",\n",
    "        \"LANG1\", \"LANG2\", \"LANG3\",\"LANG4\",\"LANG5\",\"LANG6\",\"LANG7\",\"LANG8\", \"LANG9\",\n",
    "        \"MEMORY1\", \"MEMORY2\", \"MEMORY3\", \"MEMORY4\", \"MEMORY5\", \"MEMORY6\", \"MEMORY7\", \"MEMORY8\"]\n",
    "fig, ax = plt.subplots(5,5, figsize=(10,10), sharex=True)\n",
    "for i, fld in enumerate(flds):\n",
    "    r = i // 5\n",
    "    c = i % 5\n",
    "    df_mh_fld = df_mh.dropna(subset=[fld])\n",
    "    df_mh_fld.sort_values([\"sid\", \"EXAMDATE\"], inplace=True)\n",
    "    df_mh_fld.drop_duplicates(\"sid\", keep=\"first\", inplace=True)\n",
    "    sns.boxenplot(data=df_mh_fld,x=\"stage\", y=fld, ax=ax[r,c])\n",
    "    ax[r,c].set_title(fld, fontsize=15)\n",
    "fig.tight_layout()\n",
    "fig.savefig(os.path.join(dir_path, \"{}.png\".format(test_name)), dpi=300)"
   ]
  },
  {
   "cell_type": "code",
   "execution_count": null,
   "id": "db457cf7",
   "metadata": {},
   "outputs": [],
   "source": [
    "cov1 = [\"PTGENDER\", \"APOE4\", \"PTEDUCAT\",\"AGE\",\"stage\",\"st1\", \"st2\", \"st3\"]\n",
    "cov2 = [\"PTGENDER\", \"APOE4\", \"PTEDUCAT\",\"AGE\"]\n",
    "stats_df_list = []\n",
    "for fld in flds:\n",
    "    df_xx = regress_score(df_mh, fld, [\"AGE\", \"PTGENDER\", \"PTEDUCAT\", \"APOE4\",\"stage\"])\n",
    "    df_xx.dropna(inplace=True)\n",
    "    stats_df1 = regress_OLS(df_xx, fld, cov1)\n",
    "    stats_df1[\"n-cov\"] = \"incl-sustain\"\n",
    "    stats_df2 = regress_OLS(df_xx, fld, cov2)\n",
    "    stats_df2[\"n-cov\"] = \"excl-sustain\"\n",
    "    stats_df_list += [stats_df1, stats_df2]\n",
    "stats_df_all = pd.concat(stats_df_list, axis=0)\n",
    "dir_path = \"/nethome/rtandon32/ebm/s-SuStain-outputs/sim_tadpole19_mixture_GMM/figures_4/neurobattery2\"\n",
    "stats_df_all.to_csv(os.path.join(dir_path,\"stats_{}.csv\".format(test_name)))"
   ]
  },
  {
   "cell_type": "markdown",
   "id": "5d4b385d",
   "metadata": {},
   "source": [
    "# ECOGPT2 - PLANNING, ORGANIZING, DIVATT"
   ]
  },
  {
   "cell_type": "code",
   "execution_count": null,
   "id": "697dce1f",
   "metadata": {},
   "outputs": [],
   "source": [
    "test_name = \"ecogpt2_test\"\n",
    "flds = [\"PLAN1\", \"PLAN2\", \"PLAN3\", \"PLAN4\", \"PLAN5\", \"ORGAN1\", \"ORGAN2\", \"ORGAN3\", \n",
    "        \"ORGAN4\", \"ORGAN5\", \"ORGAN6\", \"DIVATT1\", \"DIVATT2\", \"DIVATT3\", \"DIVATT4\"]\n",
    "fig, ax = plt.subplots(5,3, figsize=(8,12), sharex=True)\n",
    "for i, fld in enumerate(flds):\n",
    "    r = i // 3\n",
    "    c = i % 3\n",
    "    df_mh_fld = df_mh.dropna(subset=[fld])\n",
    "    df_mh_fld.sort_values([\"sid\", \"EXAMDATE\"], inplace=True)\n",
    "    df_mh_fld.drop_duplicates(\"sid\", keep=\"first\", inplace=True)\n",
    "    sns.boxenplot(data=df_mh_fld,x=\"stage\", y=fld, ax=ax[r,c])\n",
    "    ax[r,c].set_title(fld, fontsize=15)\n",
    "fig.tight_layout()\n",
    "fig.savefig(os.path.join(dir_path, \"{}.png\".format(test_name)), dpi=300)"
   ]
  },
  {
   "cell_type": "code",
   "execution_count": null,
   "id": "d52ffeb2",
   "metadata": {},
   "outputs": [],
   "source": [
    "cov1 = [\"PTGENDER\", \"APOE4\", \"PTEDUCAT\",\"AGE\",\"stage\",\"st1\", \"st2\", \"st3\"]\n",
    "cov2 = [\"PTGENDER\", \"APOE4\", \"PTEDUCAT\",\"AGE\"]\n",
    "stats_df_list = []\n",
    "for fld in flds:\n",
    "    df_xx = regress_score(df_mh, fld, [\"AGE\", \"PTGENDER\", \"PTEDUCAT\", \"APOE4\",\"stage\"])\n",
    "    df_xx.dropna(inplace=True)\n",
    "    stats_df1 = regress_OLS(df_xx, fld, cov1)\n",
    "    stats_df1[\"n-cov\"] = \"incl-sustain\"\n",
    "    stats_df2 = regress_OLS(df_xx, fld, cov2)\n",
    "    stats_df2[\"n-cov\"] = \"excl-sustain\"\n",
    "    stats_df_list += [stats_df1, stats_df2]\n",
    "stats_df_all = pd.concat(stats_df_list, axis=0)\n",
    "dir_path = \"/nethome/rtandon32/ebm/s-SuStain-outputs/sim_tadpole19_mixture_GMM/figures_4/neurobattery2\"\n",
    "stats_df_all.to_csv(os.path.join(dir_path,\"stats_{}.csv\".format(test_name)))"
   ]
  },
  {
   "cell_type": "markdown",
   "id": "4b335ef0",
   "metadata": {},
   "source": [
    "# NPI testing"
   ]
  },
  {
   "cell_type": "code",
   "execution_count": null,
   "id": "783256d3",
   "metadata": {},
   "outputs": [],
   "source": [
    "mh_dir = \"/nethome/rtandon32/ebm/ebm_experiments/experiment_scripts/real_data/assessments/\"\n",
    "file_name = \"NPI_15Apr2024.csv\"\n",
    "df_assess = pd.read_csv(os.path.join(mh_dir, file_name))\n",
    "df_assess[\"VISDATE\"] = pd.to_datetime(df_assess[\"VISDATE\"])\n",
    "df_assess.sort_values([\"RID\", \"VISDATE\"], inplace=True)\n",
    "df_assess[\"VISCODE2\"].replace(\"sc\", \"bl\", inplace=True)\n",
    "df_mh = pd.merge(df_long_mci_subset, df_assess, left_on=[\"RID\", \"VISCODE\"], \n",
    "         right_on=[\"RID\", \"VISCODE2\"], how=\"inner\", suffixes=[None, \"_y\"])\n",
    "df_mh.replace([-4,-1],np.nan, inplace=True)\n",
    "df_mh[\"stage\"] = df_mh[\"stage\"].astype(int)"
   ]
  },
  {
   "cell_type": "code",
   "execution_count": null,
   "id": "af6375ed",
   "metadata": {},
   "outputs": [],
   "source": [
    "test_name=\"NPI_test\"\n",
    "flds = [\"NPIATOT\",\"NPIBTOT\",\"NPICTOT\",\"NPIDTOT\",\"NPIETOT\",\"NPIFTOT\",\"NPIGTOT\",\"NPIHTOT\",\n",
    "        \"NPIITOT\",\"NPIJTOT\",\"NPIKTOT\",\"NPILTOT\",\"NPITOTAL\"]\n",
    "fig, ax = plt.subplots(5,3, figsize=(6,10), sharex=True)\n",
    "for i, fld in enumerate(flds):\n",
    "    r = i // 3\n",
    "    c = i % 3\n",
    "    df_mh_fld = df_mh.dropna(subset=[fld])\n",
    "    df_mh_fld.sort_values([\"sid\", \"EXAMDATE\"], inplace=True)\n",
    "    df_mh_fld.drop_duplicates(\"sid\", keep=\"first\", inplace=True)\n",
    "    sns.boxenplot(data=df_mh_fld,x=\"stage\", y=fld, ax=ax[r,c])\n",
    "    ax[r,c].set_title(fld, fontsize=15)\n",
    "fig.tight_layout()\n",
    "dir_path = \"/nethome/rtandon32/ebm/s-SuStain-outputs/sim_tadpole19_mixture_GMM/figures_4/neurobattery2\"\n",
    "fig.savefig(os.path.join(dir_path, \"{}.png\".format(test_name)), dpi=300)"
   ]
  },
  {
   "cell_type": "code",
   "execution_count": null,
   "id": "c6e86135",
   "metadata": {},
   "outputs": [],
   "source": [
    "dir_path"
   ]
  },
  {
   "cell_type": "code",
   "execution_count": null,
   "id": "b39eb7ab",
   "metadata": {},
   "outputs": [],
   "source": [
    "binary = []\n",
    "test_name = \"NPI_test\"\n",
    "neurobat_dict = {}\n",
    "ratio_df = pd.DataFrame()\n",
    "for fld in flds:\n",
    "    df_mh_fld = df_mh.dropna(subset=[fld])\n",
    "    df_mh_fld.sort_values([\"sid\", \"EXAMDATE\"], inplace=True)\n",
    "    df_mh_fld.drop_duplicates(\"sid\", keep=\"first\", inplace=True)\n",
    "    print(fld, \"Shape\", df_mh_fld.shape)\n",
    "    chi2_table = df_mh_fld.groupby([\"subtype\", fld]).size().unstack(level=1).fillna(0)\n",
    "    chi2_stats = chi2_contingency(chi2_table)\n",
    "    chi2_pval = chi2_stats[1]\n",
    "    if fld in binary:\n",
    "        ratio = chi2_table[0]/chi2_table[1]\n",
    "        ratio_df[fld] = ratio\n",
    "    spearmanr_corr = spearmanr(df_mh_fld[\"stage\"], df_mh_fld[fld]).correlation\n",
    "    neurobat_dict[fld] = [chi2_pval, spearmanr_corr]\n",
    "\n",
    "dir_path = \"/nethome/rtandon32/ebm/s-SuStain-outputs/sim_tadpole19_mixture_GMM/figures_4/neurobattery2\"\n",
    "neurobat_df = pd.DataFrame.from_dict(neurobat_dict, orient=\"index\", columns = [\"chi-2-pval\", \"spearmanr\"])\n",
    "neurobat_df.to_csv(os.path.join(dir_path, \"{}_df.csv\".format(test_name)))\n",
    "\n"
   ]
  },
  {
   "cell_type": "code",
   "execution_count": null,
   "id": "cdca0a55",
   "metadata": {},
   "outputs": [],
   "source": [
    "neurobat_df"
   ]
  },
  {
   "cell_type": "code",
   "execution_count": null,
   "id": "53734814",
   "metadata": {},
   "outputs": [],
   "source": [
    "fld = \"NPIITOT\"\n",
    "chi2_table = df_mh_fld.groupby([\"subtype\", fld]).size().unstack(level=1).fillna(0)\n",
    "chi2_table.div(chi2_table.sum(axis=1), axis=0)"
   ]
  },
  {
   "cell_type": "code",
   "execution_count": null,
   "id": "ac013bf5",
   "metadata": {},
   "outputs": [],
   "source": [
    "stats_df_list = []\n",
    "for fld in flds:\n",
    "    df_xx = regress_score(df_mh, fld, [\"AGE\", \"PTGENDER\", \"PTEDUCAT\", \"APOE4\",\"stage\"])\n",
    "    df_xx.dropna(inplace=True)\n",
    "    model = sm.OLS(df_xx[[fld]], \n",
    "                   sm.add_constant(df_xx[[\"PTGENDER\", \"APOE4\", \"PTEDUCAT\",\"AGE\", \"stage\", \"st1\", \"st2\", \"st3\"]]))\n",
    "    results = model.fit()\n",
    "    stats_df = pd.concat([results.pvalues,results.params],axis=1)\n",
    "    stats_df.columns = [\"p-vals\", \"coef\"]\n",
    "    stats_df[\"fld\"] = fld\n",
    "    stats_df[\"r-sq-adj\"] = results.rsquared_adj\n",
    "    \n",
    "    stats_df_list.append(stats_df)\n",
    "stats_df_all = pd.concat(stats_df_list, axis=0)\n",
    "dir_path = \"/nethome/rtandon32/ebm/s-SuStain-outputs/sim_tadpole19_mixture_GMM/figures_4/neurobattery2\"\n",
    "stats_df_all.to_csv(os.path.join(dir_path,\"stats_{}.csv\".format(test_name)))"
   ]
  },
  {
   "cell_type": "markdown",
   "id": "0e74ed79",
   "metadata": {},
   "source": [
    "# NPIQ"
   ]
  },
  {
   "cell_type": "code",
   "execution_count": null,
   "id": "23b80c90",
   "metadata": {},
   "outputs": [],
   "source": [
    "mh_dir = \"/nethome/rtandon32/ebm/ebm_experiments/experiment_scripts/real_data/assessments/\"\n",
    "file_name = \"NPIQ_15Apr2024.csv\"\n",
    "df_assess = pd.read_csv(os.path.join(mh_dir, file_name))\n",
    "df_assess[\"VISDATE\"] = pd.to_datetime(df_assess[\"VISDATE\"])\n",
    "df_assess.sort_values([\"RID\", \"VISDATE\"], inplace=True)\n",
    "df_assess[\"VISCODE2\"].replace(\"sc\", \"bl\", inplace=True)\n",
    "df_mh = pd.merge(df_long_mci_subset, df_assess, left_on=[\"RID\", \"VISCODE\"], \n",
    "         right_on=[\"RID\", \"VISCODE2\"], how=\"inner\", suffixes=[None, \"_y\"])\n",
    "df_mh.replace([-4,-1],np.nan, inplace=True)\n",
    "df_mh[\"stage\"] = df_mh[\"stage\"].astype(int)"
   ]
  },
  {
   "cell_type": "code",
   "execution_count": null,
   "id": "3cca0140",
   "metadata": {},
   "outputs": [],
   "source": [
    "test_name=\"NPIQ_test\"\n",
    "flds = \"NPISCORE\"\n",
    "fig, ax = plt.subplots(1,1, figsize=(4,4), sharex=True)\n",
    "df_mh_fld = df_mh.dropna(subset=[flds])\n",
    "df_mh_fld.sort_values([\"sid\", \"EXAMDATE\"], inplace=True)\n",
    "df_mh_fld.drop_duplicates(\"sid\", keep=\"first\", inplace=True)\n",
    "sns.boxenplot(data=df_mh_fld,x=\"stage\", y=flds, ax=ax)\n",
    "ax.set_title(fld, fontsize=15)\n",
    "fig.tight_layout()\n",
    "fig.savefig(os.path.join(dir_path, \"{}.png\".format(test_name)), dpi=300)"
   ]
  },
  {
   "cell_type": "code",
   "execution_count": null,
   "id": "60f4cdd4",
   "metadata": {},
   "outputs": [],
   "source": [
    "flds = [\"NPIA\",\"NPIB\",\"NPIC\",\"NPID\",\"NPIE\",\"NPIF\",\"NPIG\",\"NPIH\",\n",
    "        \"NPII\",\"NPIJ\",\"NPIK\",\"NPIL\"]\n",
    "binary = []\n",
    "test_name = \"NPIQ_test\"\n",
    "neurobat_dict = {}\n",
    "ratio_df = pd.DataFrame()\n",
    "for fld in flds:\n",
    "    df_mh_fld = df_mh.dropna(subset=[fld])\n",
    "    df_mh_fld.sort_values([\"sid\", \"EXAMDATE\"], inplace=True)\n",
    "    df_mh_fld.drop_duplicates(\"sid\", keep=\"first\", inplace=True)\n",
    "    print(fld, \"Shape\", df_mh_fld.shape)\n",
    "    chi2_table = df_mh_fld.groupby([\"subtype\", fld]).size().unstack(level=1).fillna(0)\n",
    "    chi2_stats = chi2_contingency(chi2_table)\n",
    "    chi2_pval = chi2_stats[1]\n",
    "    if fld in binary:\n",
    "        ratio = chi2_table[0]/chi2_table[1]\n",
    "        ratio_df[fld] = ratio\n",
    "    spearmanr_corr = spearmanr(df_mh_fld[\"stage\"], df_mh_fld[fld]).correlation\n",
    "    neurobat_dict[fld] = [chi2_pval, spearmanr_corr]\n",
    "\n",
    "dir_path = \"/nethome/rtandon32/ebm/s-SuStain-outputs/sim_tadpole19_mixture_GMM/figures_4/neurobattery2\"\n",
    "neurobat_df = pd.DataFrame.from_dict(neurobat_dict, orient=\"index\", columns = [\"chi-2-pval\", \"spearmanr\"])\n",
    "neurobat_df.to_csv(os.path.join(dir_path, \"{}_df.csv\".format(test_name)))\n",
    "\n"
   ]
  },
  {
   "cell_type": "code",
   "execution_count": null,
   "id": "cd4f398f",
   "metadata": {},
   "outputs": [],
   "source": [
    "neurobat_df"
   ]
  },
  {
   "cell_type": "code",
   "execution_count": null,
   "id": "72221194",
   "metadata": {},
   "outputs": [],
   "source": [
    "fld = \"NPIH\"\n",
    "chi2_table = df_mh_fld.groupby([\"subtype\", fld]).size().unstack(level=1).fillna(0)\n",
    "chi2_table.div(chi2_table.sum(axis=1), axis=0)"
   ]
  },
  {
   "cell_type": "markdown",
   "id": "5712d44d",
   "metadata": {},
   "source": [
    "## Only NPIH differs across subtypes,\n",
    "## NPIH : Aggressive behaviour. More in subtype 2 which has more men."
   ]
  },
  {
   "cell_type": "markdown",
   "id": "abb732d0",
   "metadata": {},
   "source": [
    "# CCI"
   ]
  },
  {
   "cell_type": "markdown",
   "id": "09a22cba",
   "metadata": {},
   "source": [
    "## Very little data (not useful)"
   ]
  },
  {
   "cell_type": "code",
   "execution_count": null,
   "id": "c2e454d9",
   "metadata": {},
   "outputs": [],
   "source": [
    "mh_dir = \"/nethome/rtandon32/ebm/ebm_experiments/experiment_scripts/real_data/assessments/\"\n",
    "file_name = \"CCI_15Apr2024.csv\"\n",
    "df_assess = pd.read_csv(os.path.join(mh_dir, file_name))\n",
    "df_assess[\"VISDATE\"] = pd.to_datetime(df_assess[\"VISDATE\"])\n",
    "df_assess.sort_values([\"RID\", \"VISDATE\"], inplace=True)\n",
    "df_assess[\"VISCODE2\"].replace(\"sc\", \"bl\", inplace=True)\n",
    "df_mh = pd.merge(df_long_mci_subset, df_assess, left_on=[\"RID\", \"VISCODE\"], \n",
    "         right_on=[\"RID\", \"VISCODE2\"], how=\"inner\", suffixes=[None, \"_y\"])\n",
    "df_mh.replace([-4,-1],np.nan, inplace=True)\n",
    "df_mh[\"stage\"] = df_mh[\"stage\"].astype(int)"
   ]
  },
  {
   "cell_type": "code",
   "execution_count": null,
   "id": "27dd2f3b",
   "metadata": {},
   "outputs": [],
   "source": [
    "test_name=\"CCI_test\"\n",
    "flds = [\"CCI1\",\"CCI2\",\"CCI3\",\"CCI4\",\"CCI5\",\"CCI6\",\"CCI7\",\"CCI8\",\"CCI9\",\"CCI10\",\n",
    "        \"CCI11\",\"CCI12\",\"CCI13\",\"CCI14\",\"CCI15\",\"CCI16\",\"CCI17\",\"CCI18\",\"CCI19\",\"CCI20\",\n",
    "        \"CCI12TOT\"]\n",
    "fig, ax = plt.subplots(7,3, figsize=(6,12), sharex=True)\n",
    "for i, fld in enumerate(flds):\n",
    "    r = i // 3\n",
    "    c = i % 3\n",
    "    df_mh_fld = df_mh.dropna(subset=[fld])\n",
    "    df_mh_fld.sort_values([\"sid\", \"EXAMDATE\"], inplace=True)\n",
    "    df_mh_fld.drop_duplicates(\"sid\", keep=\"first\", inplace=True)\n",
    "    sns.boxenplot(data=df_mh_fld,x=\"stage\", y=fld, ax=ax[r,c])\n",
    "    ax[r,c].set_title(fld, fontsize=15)\n",
    "fig.tight_layout()\n",
    "fig.savefig(os.path.join(dir_path, \"{}.png\".format(test_name)), dpi=300)"
   ]
  },
  {
   "cell_type": "markdown",
   "id": "1b6613b3",
   "metadata": {},
   "source": [
    "# MOCA"
   ]
  },
  {
   "cell_type": "code",
   "execution_count": null,
   "id": "fee9cb3e",
   "metadata": {},
   "outputs": [],
   "source": [
    "mh_dir = \"/nethome/rtandon32/ebm/ebm_experiments/experiment_scripts/real_data/assessments/\"\n",
    "file_name = \"MOCA_15Apr2024.csv\"\n",
    "df_assess = pd.read_csv(os.path.join(mh_dir, file_name))\n",
    "df_assess[\"VISDATE\"] = pd.to_datetime(df_assess[\"VISDATE\"])\n",
    "df_assess.sort_values([\"RID\", \"VISDATE\"], inplace=True)\n",
    "df_assess[\"VISCODE2\"].replace(\"sc\", \"bl\", inplace=True)\n",
    "df_mh = pd.merge(df_long_mci_subset, df_assess, left_on=[\"RID\", \"VISCODE\"], \n",
    "         right_on=[\"RID\", \"VISCODE2\"], how=\"inner\", suffixes=[None, \"_y\"])\n",
    "df_mh.replace([-4,-1],np.nan, inplace=True)\n",
    "df_mh[\"stage\"] = df_mh[\"stage\"].astype(int)"
   ]
  },
  {
   "cell_type": "code",
   "execution_count": null,
   "id": "74c3f2e2",
   "metadata": {},
   "outputs": [],
   "source": [
    "# del_cols = [\"DELW1\",\"DELW2\",\"DELW3\",\"DELW4\",\"DELW5\"]\n",
    "# for dc in del_cols:\n",
    "#     df_mh[dc] = df_mh[dc].replace([1,2,3],1)"
   ]
  },
  {
   "cell_type": "code",
   "execution_count": null,
   "id": "39f76e80",
   "metadata": {},
   "outputs": [],
   "source": [
    "flds = [\"TRAILS\",\"CUBE\",\"CLOCKCON\",\"CLOCKNO\",\"CLOCKHAN\",\"LION\",\"RHINO\",\"CAMEL\",\"IMMT1W1\",\n",
    "        \"IMMT1W2\",\"IMMT1W3\",\"IMMT1W4\",\"IMMT1W5\",\"IMMT2W1\",\"IMMT2W2\",\"IMMT2W3\",\"IMMT2W4\",\n",
    "        \"IMMT2W5\",\"DIGFOR\",\"DIGBACK\",\"LETTERS\",\"SERIAL1\",\"SERIAL2\",\"SERIAL3\",\"SERIAL4\",\"SERIAL5\",\n",
    "        \"REPEAT1\",\"REPEAT2\",\"FFLUENCY\",\"ABSTRAN\",\"ABSMEAS\",\"DELW1\",\"DELW2\",\"DELW3\",\"DELW4\",\"DELW5\",\n",
    "        \"DATE\",\"MONTH\",\"YEAR\",\"DAY\",\"PLACE\",\"CITY\"]\n",
    "\n",
    "# binary = [\"TRAILS\",\"CUBE\",\"CLOCKCON\",\"CLOCKNO\",\"CLOCKHAN\",\"LION\",\"RHINO\",\"CAMEL\",\"IMMT1W1\",\n",
    "#         \"IMMT1W2\",\"IMMT1W3\",\"IMMT1W4\",\"IMMT1W5\",\"IMMT2W1\",\"IMMT2W2\",\"IMMT2W3\",\"IMMT2W4\",\n",
    "#         \"IMMT2W5\",\"DIGFOR\",\"DIGBACK\", \"SERIAL1\",\"SERIAL2\",\"SERIAL3\",\"SERIAL4\",\"SERIAL5\",\n",
    "#           \"DELW1\",\"DELW2\",\"DELW3\",\"DELW4\",\"DELW5\",\n",
    "#         \"REPEAT1\",\"REPEAT2\",\"ABSTRAN\",\"ABSMEAS\", \"DATE\",\"MONTH\",\"YEAR\",\"DAY\",\"PLACE\",\"CITY\"]\n",
    "binary = [\"DATE\", \"MONTH\", \"RHINO\", \"TRAILS\", \"CUBE\", \"PLACE\", \"DELW2\", \"DELW4\"]\n",
    "test_name = \"MOCA_test\"\n",
    "neurobat_dict = {}\n",
    "ratio_df = pd.DataFrame()\n",
    "for fld in flds:\n",
    "    df_mh_fld = process_df(df_mh, fld)\n",
    "    print(fld, \"Shape\", df_mh_fld.shape)\n",
    "    chi2_table = df_mh_fld.groupby([\"stage\", fld]).size().unstack(level=1).fillna(0)\n",
    "    chi2_stats = chi2_contingency(chi2_table)\n",
    "    chi2_pval = chi2_stats[1]\n",
    "    if fld in binary:\n",
    "        ratio = chi2_table[0]/chi2_table[1]\n",
    "        ratio_df[fld] = ratio\n",
    "    spearmanr_corr = spearmanr(df_mh_fld[\"stage\"], df_mh_fld[fld]).correlation\n",
    "    neurobat_dict[fld] = [chi2_pval, spearmanr_corr]\n",
    "\n",
    "dir_path = \"/nethome/rtandon32/ebm/s-SuStain-outputs/sim_tadpole19_mixture_GMM/figures_4/neurobattery2\"\n",
    "neurobat_df = pd.DataFrame.from_dict(neurobat_dict, orient=\"index\", columns = [\"chi-2-pval\", \"spearmanr\"])\n",
    "fig, ax = plt.subplots(figsize=(4,3))\n",
    "\n",
    "markers = ['${}$'.format(_+1) for _ in range(len(binary))]\n",
    "sns.lineplot(data=ratio_df[binary], ax = ax, dashes=False, markers=markers, markersize=15, mec=\"k\")\n",
    "lgnd = plt.legend(bbox_to_anchor=(0.02, 0.98), loc='upper left', borderaxespad=0, ncol=2)\n",
    "for m_ in range(len(markers)):\n",
    "    lgnd.legendHandles[m_].set_markersize(15)\n",
    "# ax.set_ylim([0,1])\n",
    "neurobat_df.to_csv(os.path.join(dir_path, \"{}_df.csv\".format(test_name)))\n",
    "ax.spines[['right', 'top']].set_visible(False)\n",
    "ax.set_ylabel(\"odds (incorrect)\", fontsize=15)\n",
    "ax.set_xlabel(\"stage\", fontsize=15)\n",
    "fig.tight_layout()\n",
    "\n",
    "# fig.savefig(os.path.join(dir_path, \"{}.png\").format(test_name), dpi=300)\n",
    "\n"
   ]
  },
  {
   "cell_type": "code",
   "execution_count": null,
   "id": "7e6ca3a0",
   "metadata": {},
   "outputs": [],
   "source": [
    "moca_cube = ratio_df[\"CUBE\"]"
   ]
  },
  {
   "cell_type": "code",
   "execution_count": null,
   "id": "312a9b67",
   "metadata": {},
   "outputs": [],
   "source": [
    "test_name = \"cube_pent\"\n",
    "cube_pent_data = pd.concat([mmdraw,moca_cube],axis=1)\n",
    "cube_pent_data.columns = [\"Interlock-pentagons (MMSE)\", \"Cube (MoCA)\"]\n",
    "fig, ax = plt.subplots(1,1,figsize=(4,4))\n",
    "sns.lineplot(data=cube_pent_data,dashes=False, markers=[\"s\",\"d\"], markersize=12, mec=\"k\",ax=ax)\n",
    "ax.spines[['right', 'top']].set_visible(False)\n",
    "ax.set_ylabel(\"odds (incorrect)\", fontsize=15)\n",
    "ax.set_xlabel(\"stage\", fontsize=15)\n",
    "ax.set_xticks([0,1,2,3,4,5])\n",
    "fig.tight_layout()\n",
    "fig.savefig(os.path.join(dir_path, \"{}.png\").format(test_name), dpi=300)"
   ]
  },
  {
   "cell_type": "code",
   "execution_count": null,
   "id": "c5950d11",
   "metadata": {},
   "outputs": [],
   "source": [
    "dir_path"
   ]
  },
  {
   "cell_type": "code",
   "execution_count": null,
   "id": "42a53230",
   "metadata": {},
   "outputs": [],
   "source": [
    "mmdraw"
   ]
  },
  {
   "cell_type": "code",
   "execution_count": null,
   "id": "9cae779d",
   "metadata": {},
   "outputs": [],
   "source": [
    "fld = \"LETTERS\"\n",
    "df_mh_fld = process_df(df_mh, fld)\n",
    "sns.boxenplot(data=df_mh_fld, x=\"stage\", y=fld)\n",
    "df_xx = regress_score(df_mh, fld, [\"AGE\", \"PTGENDER\", \"PTEDUCAT\", \"APOE4\",\"stage\"])\n",
    "df_xx.dropna(inplace=True)\n",
    "stats_df1 = regress_OLS(df_xx, fld, cov1)\n",
    "stats_df1"
   ]
  },
  {
   "cell_type": "code",
   "execution_count": null,
   "id": "93d8266d",
   "metadata": {},
   "outputs": [],
   "source": [
    "flds = [\"TRAILS\",\"CUBE\",\"CLOCKCON\",\"CLOCKNO\",\"CLOCKHAN\",\"LION\",\"RHINO\",\"CAMEL\",\"IMMT1W1\",\n",
    "        \"IMMT1W2\",\"IMMT1W3\",\"IMMT1W4\",\"IMMT1W5\",\"IMMT2W1\",\"IMMT2W2\",\"IMMT2W3\",\"IMMT2W4\",\n",
    "        \"IMMT2W5\",\"DIGFOR\",\"DIGBACK\", \"SERIAL1\",\"SERIAL2\",\"SERIAL3\",\"SERIAL4\",\"SERIAL5\",\n",
    "        \"DELW1\",\"DELW2\",\"DELW3\",\"DELW4\",\"DELW5\",\n",
    "        \"REPEAT1\",\"REPEAT2\",\"ABSTRAN\",\"ABSMEAS\", \"DATE\",\"MONTH\",\"YEAR\",\"DAY\",\"PLACE\",\"CITY\"]\n",
    "test_name = \"moca_test\"\n",
    "stats_df_list = []\n",
    "for fld in flds:\n",
    "    df_xx = regress_score(df_mh, fld, [\"AGE\", \"PTGENDER\", \"PTEDUCAT\", \"APOE4\",\"stage\"])\n",
    "    df_xx.dropna(inplace=True)\n",
    "    stats_df1 = regress_Logit(df_xx, fld, cov1)\n",
    "    stats_df1[\"n-cov\"] = \"incl-sustain\"\n",
    "    stats_df2 = regress_Logit(df_xx, fld, cov2)\n",
    "    stats_df2[\"n-cov\"] = \"excl-sustain\"\n",
    "    stats_df_list += [stats_df1, stats_df2]\n",
    "stats_df_all = pd.concat(stats_df_list, axis=0)\n",
    "dir_path = \"/nethome/rtandon32/ebm/s-SuStain-outputs/sim_tadpole19_mixture_GMM/figures_4/neurobattery2\"\n",
    "stats_df_all.to_csv(os.path.join(dir_path,\"stats_{}.csv\".format(test_name)))"
   ]
  },
  {
   "cell_type": "code",
   "execution_count": null,
   "id": "5741a390",
   "metadata": {},
   "outputs": [],
   "source": [
    "fld = \"LETTERS\"\n",
    "df_xx = regress_score(df_mh, fld, [\"AGE\", \"PTGENDER\", \"PTEDUCAT\", \"APOE4\",\"stage\"])\n",
    "# df_xx = df_xx[df_xx[fld].isin([0,1])]\n",
    "df_xx.dropna(inplace=True)\n",
    "regress_OLS(df_xx, fld, cov1), regress_OLS(df_xx, fld, cov2) "
   ]
  },
  {
   "cell_type": "code",
   "execution_count": null,
   "id": "38e18250",
   "metadata": {},
   "outputs": [],
   "source": [
    "Counter(df_xx[\"DELW1\"])"
   ]
  },
  {
   "cell_type": "markdown",
   "id": "0988c25b",
   "metadata": {},
   "source": [
    "# PDXCONV"
   ]
  },
  {
   "cell_type": "code",
   "execution_count": null,
   "id": "8ce2b993",
   "metadata": {},
   "outputs": [],
   "source": [
    "mh_dir = \"/nethome/rtandon32/ebm/ebm_experiments/experiment_scripts/real_data/assessments/\"\n",
    "file_name = \"DXSUM_PDXCONV_15Apr2024.csv\"\n",
    "df_assess = pd.read_csv(os.path.join(mh_dir, file_name))\n",
    "df_assess[\"EXAMDATE\"] = pd.to_datetime(df_assess[\"EXAMDATE\"])\n",
    "df_assess.sort_values([\"RID\", \"EXAMDATE\"], inplace=True)\n",
    "df_assess[\"VISCODE2\"].replace(\"sc\", \"bl\", inplace=True)\n",
    "df_mh = pd.merge(df_long_mci_subset, df_assess, left_on=[\"RID\", \"VISCODE\"], \n",
    "         right_on=[\"RID\", \"VISCODE2\"], how=\"inner\", suffixes=[None, \"_y\"])\n",
    "df_mh.replace([-4,-1],np.nan, inplace=True)\n",
    "df_mh[\"stage\"] = df_mh[\"stage\"].astype(int)"
   ]
  },
  {
   "cell_type": "code",
   "execution_count": null,
   "id": "814ca40d",
   "metadata": {},
   "outputs": [],
   "source": [
    "flds = [\"DXMPTR1\",\"DXMPTR2\",\"DXMPTR3\",\"DXMPTR4\",\"DXMPTR5\",\"DXMPTR6\", \"DXMDUE\", \"DXMOTHET\", \"DXDSEV\", \"DXDDUE\",\n",
    "        \"DXAPP\", \"DXAPOSS\", \"DXODES\", \"DXDEP\", \"DXPARK\", \"DXPATYP\"]\n",
    "\n",
    "binary = [\"DXMPTR1\",\"DXMPTR2\",\"DXMPTR3\",\"DXMPTR4\",\"DXMPTR5\",\"DXMPTR6\"]\n",
    "test_name = \"pdxconv\"\n",
    "neurobat_dict = {}\n",
    "ratio_df = pd.DataFrame()\n",
    "for fld in flds:\n",
    "    df_mh_fld = df_mh.dropna(subset=[fld])\n",
    "    df_mh_fld.sort_values([\"sid\", \"EXAMDATE\"], inplace=True)\n",
    "    df_mh_fld.drop_duplicates(\"sid\", keep=\"first\", inplace=True)\n",
    "    print(fld, \"Shape\", df_mh_fld.shape)\n",
    "    chi2_table = df_mh_fld.groupby([\"subtype\", fld]).size().unstack(level=1).fillna(0)\n",
    "    chi2_stats = chi2_contingency(chi2_table)\n",
    "    chi2_pval = chi2_stats[1]\n",
    "    if fld in binary:\n",
    "        ratio = chi2_table[0]/chi2_table[1]\n",
    "        ratio_df[fld] = ratio\n",
    "    spearmanr_corr = spearmanr(df_mh_fld[\"stage\"], df_mh_fld[fld]).correlation\n",
    "    neurobat_dict[fld] = [chi2_pval, spearmanr_corr]\n",
    "\n",
    "dir_path = \"/nethome/rtandon32/ebm/s-SuStain-outputs/sim_tadpole19_mixture_GMM/figures_4/neurobattery2\"\n",
    "neurobat_df = pd.DataFrame.from_dict(neurobat_dict, orient=\"index\", columns = [\"chi-2-pval\", \"spearmanr\"])\n",
    "fig, ax = plt.subplots(figsize=(10,5))\n",
    "\n",
    "markers = ['${}$'.format(_) for _ in range(len(binary))]\n",
    "sns.lineplot(data=ratio_df, ax = ax, dashes=False, markers=markers, markersize=15, mec=\"k\")\n",
    "plt.legend(bbox_to_anchor=(1.02, 1), loc='upper left', borderaxespad=0, ncols=2)\n",
    "# ax.set_ylim([0,1])\n",
    "neurobat_df.to_csv(os.path.join(dir_path, \"{}_df.csv\".format(test_name)))\n",
    "fig.tight_layout()\n",
    "fig.savefig(os.path.join(dir_path, \"{}.png\").format(test_name), dpi=300)\n",
    "\n"
   ]
  },
  {
   "cell_type": "code",
   "execution_count": null,
   "id": "2fef1eab",
   "metadata": {},
   "outputs": [],
   "source": [
    "neurobat_df"
   ]
  },
  {
   "cell_type": "code",
   "execution_count": null,
   "id": "f49f329f",
   "metadata": {},
   "outputs": [],
   "source": [
    "multipletests(neurobat_df[\"chi-2-pval\"],0.05,\"fdr_bh\")"
   ]
  },
  {
   "cell_type": "code",
   "execution_count": null,
   "id": "149b5548",
   "metadata": {},
   "outputs": [],
   "source": [
    "fld = \"DXMPTR1\"\n",
    "df_mh_fld = df_mh.dropna(subset=[fld])\n",
    "df_mh_fld.sort_values([\"sid\", \"EXAMDATE\"], inplace=True)\n",
    "df_mh_fld.drop_duplicates(\"sid\", keep=\"first\", inplace=True)\n",
    "print(fld, \"Shape\", df_mh_fld.shape)\n",
    "chi2_table = df_mh_fld.groupby([\"subtype\", fld]).size().unstack(level=1).fillna(0)\n",
    "chi2_table"
   ]
  },
  {
   "cell_type": "markdown",
   "id": "8434285d",
   "metadata": {},
   "source": [
    "# ECOGPT Results"
   ]
  },
  {
   "cell_type": "code",
   "execution_count": null,
   "id": "f9641fa1",
   "metadata": {},
   "outputs": [],
   "source": [
    "mh_dir = \"/nethome/rtandon32/ebm/ebm_experiments/experiment_scripts/real_data/assessments/\"\n",
    "file_name = \"ECOGPT_15Apr2024.csv\"\n",
    "df_assess = pd.read_csv(os.path.join(mh_dir, file_name))\n",
    "df_assess[\"VISDATE\"] = pd.to_datetime(df_assess[\"VISDATE\"])\n",
    "df_assess.sort_values([\"RID\", \"VISDATE\"], inplace=True)\n",
    "df_assess[\"VISCODE2\"].replace(\"sc\", \"bl\", inplace=True)\n",
    "df_mh = pd.merge(df_long_mci_subset, df_assess, left_on=[\"RID\", \"VISCODE\"], \n",
    "         right_on=[\"RID\", \"VISCODE2\"], how=\"inner\", suffixes=[None, \"_y\"])\n",
    "df_mh.replace([-4,-1],np.nan, inplace=True)\n",
    "df_mh[\"stage\"] = df_mh[\"stage\"].astype(int)"
   ]
  },
  {
   "cell_type": "code",
   "execution_count": null,
   "id": "736ff364",
   "metadata": {},
   "outputs": [],
   "source": [
    "# flds = [\"VISSPAT1\", \"VISSPAT2\", \"VISSPAT3\", \"VISSPAT4\", \"VISSPAT5\", \"VISSPAT6\", \"VISSPAT7\", \"VISSPAT8\"]\n",
    "# flds = [\"LANG1\", \"LANG2\", \"LANG3\",\"LANG4\",\"LANG5\",\"LANG6\",\"LANG7\",\"LANG8\"]\n",
    "# flds = [\"MEMORY1\", \"MEMORY2\", \"MEMORY3\", \"MEMORY4\", \"MEMORY5\", \"MEMORY6\", \"MEMORY7\", \"MEMORY8\"]\n",
    "flds = [\"PLAN1\", \"PLAN2\", \"PLAN3\", \"PLAN4\", \"PLAN5\", \"ORGAN1\", \"ORGAN2\", \"ORGAN3\", \"ORGAN4\", \"ORGAN5\", \"ORGAN6\", \"DIVATT1\",\n",
    " \"DIVATT2\", \"DIVATT3\", \"DIVATT4\"]\n",
    "binary = []\n",
    "test_name = \"ecogpt\"\n",
    "neurobat_dict = {}\n",
    "ratio_df = pd.DataFrame()\n",
    "for fld in flds:\n",
    "    df_mh_fld = df_mh.dropna(subset=[fld])\n",
    "    df_mh_fld.sort_values([\"sid\", \"EXAMDATE\"], inplace=True)\n",
    "    df_mh_fld.drop_duplicates(\"sid\", keep=\"first\", inplace=True)\n",
    "    print(fld, \"Shape\", df_mh_fld.shape)\n",
    "    chi2_table = df_mh_fld.groupby([\"stage\", fld]).size().unstack(level=1).fillna(0)\n",
    "    chi2_stats = chi2_contingency(chi2_table)\n",
    "    chi2_pval = chi2_stats[1]\n",
    "    spearmanr_corr = spearmanr(df_mh_fld[\"stage\"], df_mh_fld[fld]).correlation\n",
    "    neurobat_dict[fld] = [chi2_pval, spearmanr_corr]\n",
    "\n",
    "dir_path = \"/nethome/rtandon32/ebm/s-SuStain-outputs/sim_tadpole19_mixture_GMM/figures_4/neurobattery2\"\n",
    "neurobat_df = pd.DataFrame.from_dict(neurobat_dict, orient=\"index\", columns = [\"chi-2-pval\", \"spearmanr\"])\n",
    "neurobat_df.to_csv(os.path.join(dir_path, \"{}_df.csv\".format(test_name)))\n"
   ]
  },
  {
   "cell_type": "code",
   "execution_count": null,
   "id": "27fa45af",
   "metadata": {},
   "outputs": [],
   "source": [
    "neurobat_df"
   ]
  },
  {
   "cell_type": "code",
   "execution_count": null,
   "id": "2c4a9469",
   "metadata": {},
   "outputs": [],
   "source": [
    "fld = \"ORGAN4\"\n",
    "df_mh_fld = df_mh.dropna(subset=[fld])\n",
    "df_mh_fld.sort_values([\"sid\", \"EXAMDATE\"], inplace=True)\n",
    "df_mh_fld.drop_duplicates(\"sid\", keep=\"first\", inplace=True)\n",
    "print(fld, \"Shape\", df_mh_fld.shape)\n",
    "chi2_table = df_mh_fld.groupby([\"stage\", fld]).size().unstack(level=1).fillna(0)\n",
    "chi2_stats = chi2_contingency(chi2_table)\n",
    "chi2_pval = chi2_stats[1]"
   ]
  },
  {
   "cell_type": "code",
   "execution_count": null,
   "id": "c3cb8578",
   "metadata": {},
   "outputs": [],
   "source": [
    "chi2_table"
   ]
  },
  {
   "cell_type": "code",
   "execution_count": null,
   "id": "776e768e",
   "metadata": {},
   "outputs": [],
   "source": [
    "neurobat_df"
   ]
  },
  {
   "cell_type": "markdown",
   "id": "51afd014",
   "metadata": {},
   "source": [
    "# ADAS"
   ]
  },
  {
   "cell_type": "code",
   "execution_count": null,
   "id": "05815400",
   "metadata": {},
   "outputs": [],
   "source": [
    "mh_dir = \"/nethome/rtandon32/ebm/ebm_experiments/experiment_scripts/real_data/assessments/\"\n",
    "file_name = \"ADAS_ADNI1_15Apr2024.csv\"\n",
    "df_assess = pd.read_csv(os.path.join(mh_dir, file_name))\n",
    "df_assess[\"EXAMDATE\"] = pd.to_datetime(df_assess[\"EXAMDATE\"])\n",
    "df_assess.sort_values([\"RID\", \"EXAMDATE\"], inplace=True)\n",
    "df_assess[\"VISCODE\"].replace(\"sc\", \"bl\", inplace=True)\n",
    "df_mh = pd.merge(df_long_mci_subset, df_assess, left_on=[\"RID\", \"VISCODE\"], \n",
    "         right_on=[\"RID\", \"VISCODE\"], how=\"inner\", suffixes=[None, \"_y\"])\n",
    "df_mh.replace([-4,-1],np.nan, inplace=True)"
   ]
  },
  {
   "cell_type": "code",
   "execution_count": null,
   "id": "50f34e3b",
   "metadata": {},
   "outputs": [],
   "source": [
    "flds = [\"COT1SCOR\", \"COT2SCOR\", \"COT3SCOR\", \"COP7COMP\",\"CO8NURSE\",\"CO8MAGAZ\",\"CO8WIZRD\",\"CO8WIZRR\",\"CO8VAN\",\"CO8VANR\",\"CO8LEPRD\",\"CO8LEPRR\"]\n",
    "binary = []\n",
    "test_name = \"adas\"\n",
    "neurobat_dict = {}\n",
    "ratio_df = pd.DataFrame()\n",
    "for fld in flds:\n",
    "    df_mh_fld = df_mh.dropna(subset=[fld])\n",
    "    df_mh_fld.sort_values([\"sid\", \"EXAMDATE\"], inplace=True)\n",
    "    df_mh_fld.drop_duplicates(\"sid\", keep=\"first\", inplace=True)\n",
    "    print(fld, \"Shape\", df_mh_fld.shape)\n",
    "    chi2_table = df_mh_fld.groupby([\"stage\", fld]).size().unstack(level=1).fillna(0)\n",
    "    chi2_stats = chi2_contingency(chi2_table)\n",
    "    chi2_pval = chi2_stats[1]\n",
    "    if fld in binary:\n",
    "        ratio = chi2_table[0]/chi2_table[1]\n",
    "        ratio_df[fld] = ratio\n",
    "    spearmanr_corr = spearmanr(df_mh_fld[\"stage\"], df_mh_fld[fld]).correlation\n",
    "    neurobat_dict[fld] = [chi2_pval, spearmanr_corr]\n",
    "\n",
    "dir_path = \"/nethome/rtandon32/ebm/s-SuStain-outputs/sim_tadpole19_mixture_GMM/figures_4/neurobattery\"\n",
    "neurobat_df = pd.DataFrame.from_dict(neurobat_dict, orient=\"index\", columns = [\"chi-2-pval\", \"spearmanr\"])\n",
    "fig, ax = plt.subplots(figsize=(10,5))\n",
    "\n",
    "markers = ['${}$'.format(_) for _ in range(len(binary))]\n",
    "sns.lineplot(ratio_df, ax = ax, dashes=False, markers=markers, markersize=15, mec=\"k\")\n",
    "plt.legend(bbox_to_anchor=(1.02, 1), loc='upper left', borderaxespad=0, ncols=2)\n",
    "# ax.set_ylim([0,1])\n",
    "neurobat_df.to_csv(os.path.join(dir_path, \"{}_df.csv\".format(test_name)))\n",
    "fig.tight_layout()\n",
    "fig.savefig(os.path.join(dir_path, \"{}.png\").format(test_name), dpi=300)\n",
    "\n"
   ]
  },
  {
   "cell_type": "code",
   "execution_count": null,
   "id": "b818104b",
   "metadata": {},
   "outputs": [],
   "source": [
    "neurobat_df"
   ]
  },
  {
   "cell_type": "markdown",
   "id": "07dbc477",
   "metadata": {},
   "source": [
    "# Comorbidity Analysis"
   ]
  },
  {
   "cell_type": "markdown",
   "id": "6701367d",
   "metadata": {},
   "source": [
    "## APOE4 genotype across subtypes"
   ]
  },
  {
   "cell_type": "code",
   "execution_count": null,
   "id": "d425adf3",
   "metadata": {},
   "outputs": [],
   "source": [
    "df_apoe4 = df_adnimerge[[\"PTID\", \"APOE4\"]].dropna().sort_values(\"PTID\").drop_duplicates(\"PTID\", keep=\"first\")\n",
    "df_mh = pd.merge(final_df, df_apoe4, on=[\"PTID\"], how=\"inner\", suffixes=[None, \"_y\"])"
   ]
  },
  {
   "cell_type": "code",
   "execution_count": null,
   "id": "1ca92f3f",
   "metadata": {},
   "outputs": [],
   "source": [
    "chi2_table = df_mh.groupby([\"subtype\", \"APOE4\"]).size().unstack(level=1)\n",
    "chi2_contingency(chi2_table.values)\n"
   ]
  },
  {
   "cell_type": "markdown",
   "id": "b1ee5da5",
   "metadata": {},
   "source": [
    "# Medical History"
   ]
  },
  {
   "cell_type": "code",
   "execution_count": null,
   "id": "f98a7343",
   "metadata": {},
   "outputs": [],
   "source": [
    "mh_dir = \"/nethome/rtandon32/ebm/ebm_experiments/experiment_scripts/real_data/medical_history/\"\n",
    "file_name = \"MEDHIST_12Apr2024.csv\"\n",
    "df_assess = pd.read_csv(os.path.join(mh_dir, file_name))\n",
    "df_assess[\"EXAMDATE\"] = pd.to_datetime(df_assess[\"EXAMDATE\"])\n",
    "df_assess.sort_values([\"RID\", \"EXAMDATE\"], inplace=True)\n",
    "df_assess.drop_duplicates(\"RID\", inplace=True)\n",
    "df_mh = pd.merge(final_df, df_assess, on=[\"RID\"], how=\"inner\", suffixes=[None, \"_y\"])\n"
   ]
  },
  {
   "cell_type": "code",
   "execution_count": null,
   "id": "35e7822f",
   "metadata": {},
   "outputs": [],
   "source": [
    "# fields_test = [\"MHPSYCH\", \"MH2NEURL\", \"MH3HEAD\", \"MH4CARD\", \"MH6HEPAT\", \"MH7DERM\", \"MH8MUSCL\", \"MH9ENDO\", \"MH10GAST\", \"MH11HEMA\", \"MH12RENA\", \"MH13ALLE\", \n",
    "#                \"MH14ALCH\", \"MH15DRUG\", \"MH16SMOK\", \"MH17MALI\", \"MH18SURG\"]\n",
    "fields_test = [\"MHPSYCH\", \"MH2NEURL\", \"MH3HEAD\", \"MH4CARD\", \"MH6HEPAT\", \"MH7DERM\", \"MH9ENDO\", \"MH11HEMA\", \"MH12RENA\", \n",
    "               \"MH14ALCH\", \"MH16SMOK\", \"MH17MALI\"]\n",
    "\n",
    "ft = \"MH19OTHR\"\n",
    "chi2_table = df_mh.groupby([\"subtype\", ft]).size().unstack(level=1)\n",
    "print(chi2_table, \"\\n\\n\")\n",
    "print(chi2_contingency(chi2_table.values))\n"
   ]
  },
  {
   "cell_type": "code",
   "execution_count": null,
   "id": "5ea46ef5",
   "metadata": {},
   "outputs": [],
   "source": [
    "# fields_test = [\"MHPSYCH\", \"MH2NEURL\", \"MH3HEAD\", \"MH4CARD\", \"MH6HEPAT\", \"MH7DERM\", \"MH8MUSCL\", \"MH9ENDO\", \"MH10GAST\", \"MH11HEMA\", \"MH12RENA\", \"MH13ALLE\", \n",
    "#                \"MH14ALCH\", \"MH15DRUG\", \"MH16SMOK\", \"MH17MALI\", \"MH18SURG\"]\n",
    "fields_test = [\"MHPSYCH\", \"MH2NEURL\", \"MH3HEAD\", \"MH4CARD\", \"MH6HEPAT\", \"MH7DERM\", \"MH9ENDO\", \"MH11HEMA\", \"MH12RENA\", \n",
    "               \"MH14ALCH\", \"MH16SMOK\", \"MH17MALI\"]\n",
    "mh_dict = {}\n",
    "for ft in fields_test:\n",
    "    \n",
    "    chi2_table = df_mh.groupby([\"subtype\", ft]).size().unstack(level=1)\n",
    "    p_val = chi2_contingency(chi2_table.values)[1]\n",
    "    st_max = (chi2_table[1]/chi2_table[0]).argmax()\n",
    "    st_min = (chi2_table[1]/chi2_table[0]).argmin()\n",
    "    mh_dict[ft] = (p_val, st_max, st_min)\n",
    "    \n",
    "    "
   ]
  },
  {
   "cell_type": "code",
   "execution_count": null,
   "id": "4d153ff6",
   "metadata": {},
   "outputs": [],
   "source": [
    "fig_path = \"/nethome/rtandon32/ebm/s-SuStain-outputs/sim_tadpole19_mixture_GMM/figures_4/\"\n",
    "mh_df = pd.DataFrame.from_dict(mh_dict, orient=\"index\")\n",
    "mh_df.columns = [\"p-vals\", \"st_max\", \"st_min\"]\n",
    "mh_df.sort_values(\"p-vals\", inplace=True)\n",
    "\n",
    "# mh_df.to_csv(os.path.join(fig_path, \"comorbidities_MEDHIST.csv\"))\n"
   ]
  },
  {
   "cell_type": "code",
   "execution_count": null,
   "id": "9375bb89",
   "metadata": {},
   "outputs": [],
   "source": [
    "p_vec1 = mh_df[\"p-vals\"].sort_values()\n",
    "p_vec2 = np.arange(1, p_vec1.shape[0]+1)"
   ]
  },
  {
   "cell_type": "code",
   "execution_count": null,
   "id": "816c6f0b",
   "metadata": {},
   "outputs": [],
   "source": [
    "from statsmodels.stats.multitest import fdrcorrection"
   ]
  },
  {
   "cell_type": "code",
   "execution_count": null,
   "id": "6ee12f66",
   "metadata": {},
   "outputs": [],
   "source": [
    "multipletests(mh_df[\"p-vals\"], method=\"fdr_bh\", alpha=0.1)[1]"
   ]
  },
  {
   "cell_type": "code",
   "execution_count": null,
   "id": "1dcf0979",
   "metadata": {},
   "outputs": [],
   "source": [
    "mh_df[\"adj-p\"] = multipletests(mh_df[\"p-vals\"], method=\"fdr_bh\", alpha=0.1)[1]"
   ]
  },
  {
   "cell_type": "code",
   "execution_count": null,
   "id": "b45bf5a5",
   "metadata": {},
   "outputs": [],
   "source": [
    "mh_df"
   ]
  },
  {
   "cell_type": "code",
   "execution_count": null,
   "id": "7aa0d071",
   "metadata": {},
   "outputs": [],
   "source": [
    "ft = \"MH17MALI\"\n",
    "chi2_table = df_mh.groupby([\"subtype\", ft]).size().unstack(level=1)\n",
    "chi2_table[\"odds\"] = chi2_table[1]/chi2_table[0]\n",
    "chi2_table"
   ]
  },
  {
   "cell_type": "code",
   "execution_count": null,
   "id": "bdaae4c9",
   "metadata": {},
   "outputs": [],
   "source": [
    "chi2_contingency(chi2_table)"
   ]
  },
  {
   "cell_type": "code",
   "execution_count": null,
   "id": "992761f4",
   "metadata": {},
   "outputs": [],
   "source": [
    "df_mh"
   ]
  },
  {
   "cell_type": "code",
   "execution_count": null,
   "id": "4824c168",
   "metadata": {},
   "outputs": [],
   "source": [
    "np.arange(1,10)"
   ]
  },
  {
   "cell_type": "code",
   "execution_count": null,
   "id": "1ede3470",
   "metadata": {},
   "outputs": [],
   "source": [
    "multipletests(mh_df[\"p-vals\"], 0.05, \"fdr_bh\")"
   ]
  },
  {
   "cell_type": "markdown",
   "id": "be704ff9",
   "metadata": {},
   "source": [
    "# Subject Characteristics"
   ]
  },
  {
   "cell_type": "markdown",
   "id": "6ba01d48",
   "metadata": {},
   "source": [
    "## Parents history - not very useful (FAMHXPAR)"
   ]
  },
  {
   "cell_type": "markdown",
   "id": "50f63106",
   "metadata": {},
   "source": [
    "## Sibling History and parent history shows no effects"
   ]
  },
  {
   "cell_type": "markdown",
   "id": "65f9b895",
   "metadata": {},
   "source": [
    "## Patient demographics"
   ]
  },
  {
   "cell_type": "code",
   "execution_count": null,
   "id": "142e5071",
   "metadata": {},
   "outputs": [],
   "source": [
    "final_df"
   ]
  },
  {
   "cell_type": "markdown",
   "id": "458db9e5",
   "metadata": {},
   "source": [
    "## marriage and gender"
   ]
  },
  {
   "cell_type": "code",
   "execution_count": null,
   "id": "c696c01d",
   "metadata": {},
   "outputs": [],
   "source": [
    "mh_dir = \"/nethome/rtandon32/ebm/ebm_experiments/experiment_scripts/real_data/subject_characteristics/\"\n",
    "file_name = \"PTDEMOG_11May2024.csv\"\n",
    "df_assess = pd.read_csv(os.path.join(mh_dir, file_name))\n",
    "df_assess[\"VISDATE\"] = pd.to_datetime(df_assess[\"VISDATE\"])\n",
    "df_assess.sort_values([\"RID\", \"VISDATE\"], inplace=True)\n",
    "df_assess[\"VISCODE2\"].replace(\"sc\", \"bl\", inplace=True)\n",
    "df_mh = pd.merge(final_df, df_assess, left_on=[\"RID\", \"VISCODE\"], \n",
    "         right_on=[\"RID\", \"VISCODE2\"], how=\"inner\", suffixes=[None, \"_y\"])\n",
    "df_mh.replace([-4,-1,9999],np.nan, inplace=True)\n",
    "\n",
    "# df_mh = pd.merge(final_df, df_assess, on=[\"RID\"], how=\"inner\", suffixes=[None, \"_y\"])\n",
    "# df_mh.replace([-4,-1,9999], np.nan, inplace=True)"
   ]
  },
  {
   "cell_type": "code",
   "execution_count": null,
   "id": "e065b6da",
   "metadata": {},
   "outputs": [],
   "source": [
    "# PTMARRY, PTNOTRT\n",
    "fields_test = [\"PTGENDER\", \"PTHAND\", \"PTEDUCAT\", \"PTWORKHS\",\n",
    "               \"PTNOTRT\", \"PTTLANG\", \"PTETHCAT\", \"PTRACCAT\", \"PTMARRY\", \"PTHOME\"]\n",
    "mh_dict = {}\n",
    "for ft in fields_test:\n",
    "    df_mh_fld = df_mh.dropna(subset=ft)\n",
    "    chi2_table = df_mh_fld.groupby([\"subtype\", ft]).size().unstack(level=1).fillna(0)\n",
    "    p_val = chi2_contingency(chi2_table.values)[1]\n",
    "#     st_max = (chi2_table[2]/chi2_table[1]).argmax()\n",
    "#     st_min = (chi2_table[2]/chi2_table[1]).argmin()\n",
    "    mh_dict[ft] = p_val\n",
    "mh_df = pd.DataFrame.from_dict(mh_dict, orient=\"index\")\n",
    "mh_df.columns = [\"p-vals\"]\n",
    "mh_df.sort_values(\"p-vals\", inplace=True)\n",
    "# _ = \"PTNOTRT\"\n",
    "# df_mh_fld = df_mh.dropna(subset=[_])\n",
    "# df_mh_fld.drop_duplicates(\"RID\", keep=\"first\",inplace=True)\n",
    "# chi2_table = df_mh_fld.groupby([\"subtype\", _]).size().unstack(level=1).fillna(0)\n",
    "# p_val = chi2_contingency(chi2_table.values)[1]\n",
    "# chi2_table, p_val"
   ]
  },
  {
   "cell_type": "code",
   "execution_count": null,
   "id": "7b325b99",
   "metadata": {},
   "outputs": [],
   "source": [
    "mh_df[\"adj-pval\"] = multipletests(mh_df[\"p-vals\"], 0.1, \"fdr_bh\")[1]\n",
    "mh_df"
   ]
  },
  {
   "cell_type": "code",
   "execution_count": null,
   "id": "d4e2fa55",
   "metadata": {},
   "outputs": [],
   "source": [
    "ft = \"PTNOTRT\"\n",
    "df_mh_fld = df_mh.dropna(subset=ft)\n",
    "chi2_table = df_mh_fld.groupby([\"subtype\", ft]).size().unstack(level=1).fillna(0)\n",
    "print(chi2_table, \"\\n\\n\")\n",
    "chi2_contingency(chi2_table[[0,1]])\n",
    "# print(chi2_table,\"\\n\\n\")\n",
    "# print(chi2_table.T.div(chi2_table.sum(axis=0), axis=0))"
   ]
  },
  {
   "cell_type": "code",
   "execution_count": null,
   "id": "926545b2",
   "metadata": {},
   "outputs": [],
   "source": [
    "df_mh_fld"
   ]
  },
  {
   "cell_type": "code",
   "execution_count": null,
   "id": "4c4f83e2",
   "metadata": {},
   "outputs": [],
   "source": [
    "ft = \"PTMARRY\"\n",
    "df_mh_fld = df_mh.dropna(subset=ft)\n",
    "chi2_table = df_mh_fld.groupby([\"subtype\", ft]).size().unstack(level=1).fillna(0)\n",
    "# print(chi2_table,\"\\n\\n\")\n",
    "chi2_table[\"no\"] = chi2_table[[2,3,4,5]].sum(axis=1)\n",
    "chi2_marry = chi2_table[[1.0, \"no\"]]\n",
    "chi2_marry.div(chi2_marry.sum(axis=1), axis=0)"
   ]
  },
  {
   "cell_type": "markdown",
   "id": "7bf82b7c",
   "metadata": {},
   "source": [
    "# PTCOGBEG, PTADBEG - beginning of cog decline and AD"
   ]
  },
  {
   "cell_type": "code",
   "execution_count": null,
   "id": "740469e1",
   "metadata": {},
   "outputs": [],
   "source": [
    "mh_dir = \"/nethome/rtandon32/ebm/ebm_experiments/experiment_scripts/real_data/subject_characteristics/\"\n",
    "file_name = \"PTDEMOG_11May2024.csv\"\n",
    "df_assess = pd.read_csv(os.path.join(mh_dir, file_name))\n",
    "df_assess[\"VISDATE\"] = pd.to_datetime(df_assess[\"VISDATE\"])\n",
    "df_assess.sort_values([\"RID\", \"VISDATE\"], inplace=True)\n",
    "df_assess[\"VISCODE2\"].replace(\"sc\", \"bl\", inplace=True)\n",
    "df_mh = pd.merge(final_df, df_assess, on=[\"RID\"], how=\"inner\", suffixes=[None, \"_y\"])\n",
    "df_mh.replace([-4,-1,9999],np.nan, inplace=True)"
   ]
  },
  {
   "cell_type": "code",
   "execution_count": null,
   "id": "73c2910d",
   "metadata": {},
   "outputs": [],
   "source": [
    "df_mh[\"PTADDX\"].fillna(df_mh[\"PTADBEG\"], inplace=True)\n",
    "cnad_ptid = df_cnad[\"PTID\"].unique().tolist()\n",
    "mci_ptid = df_mci[\"PTID\"].unique().tolist()\n",
    "cn_ptid = df_cnad[df_cnad[\"DX\"].isin([\"CN\"])][\"PTID\"].unique().tolist()\n",
    "ad_ptid = df_cnad[df_cnad[\"DX\"].isin([\"Dementia\"])][\"PTID\"].unique().tolist()"
   ]
  },
  {
   "cell_type": "code",
   "execution_count": null,
   "id": "c64d05b2",
   "metadata": {},
   "outputs": [],
   "source": [
    "fld = \"PTCOGBEG\"\n",
    "ptid_list = cnad_ptid + mci_ptid\n",
    "df_mh_subset = df_mh[df_mh[\"PTID\"].isin(ptid_list)]\n",
    "df_mh_subset.dropna(subset=fld, inplace=True)\n",
    "df_mh_subset.sort_values([\"PTID\", \"VISDATE\"], inplace=True)\n",
    "df_mh_subset.drop_duplicates(\"PTID\",keep=\"first\",inplace=True)\n",
    "cogbeg_dict = dict(zip(df_mh_subset[\"PTID\"], df_mh_subset[fld]))\n",
    "\n",
    "fld = \"PTADDX\"\n",
    "df_mh_subset = df_mh[df_mh[\"PTID\"].isin(ptid_list)]\n",
    "df_mh_subset.dropna(subset=fld, inplace=True)\n",
    "df_mh_subset.sort_values([\"PTID\", \"VISDATE\"], inplace=True)\n",
    "df_mh_subset.drop_duplicates(\"PTID\",keep=\"first\",inplace=True)\n",
    "adbeg_dict = dict(zip(df_mh_subset[\"PTID\"], df_mh_subset[fld]))"
   ]
  },
  {
   "cell_type": "code",
   "execution_count": null,
   "id": "71bf1e71",
   "metadata": {},
   "outputs": [],
   "source": [
    "\n",
    "df_temp = final_df.merge(df_long, left_on=[\"PTID\", \"EXAMDATE\"], right_on=[\"PTID\", \"EXAMDATE\"], how=\"inner\", suffixes=[None,\"_y\"])\n",
    "df_temp = df_temp[[\"PTID\", \"subtype\", \"stage\", \"APOE4\", \"PTGENDER\", \"PTEDUCAT\"]]\n",
    "df_temp[\"PTGENDER\"] = df_temp[\"PTGENDER\"].map({\"Male\":1, \"Female\":0})\n",
    "# df_long.sort_valuesdrop_duplicates( [\"APOE4\"]"
   ]
  },
  {
   "cell_type": "code",
   "execution_count": null,
   "id": "292b32f1",
   "metadata": {},
   "outputs": [],
   "source": [
    "cogbeg_df = pd.DataFrame.from_dict(cogbeg_dict, orient=\"index\", columns=[\"cogbeg\"])\n",
    "adbeg_df = pd.DataFrame.from_dict(adbeg_dict, orient=\"index\", columns=[\"adbeg\"])\n",
    "df_beg = cogbeg_df.merge(adbeg_df, left_index=True, right_index=True, how=\"outer\")\n",
    "df_beg = df_beg.merge(df_mh[[\"PTID\", \"PTDOBYY\"]].dropna(subset=\"PTDOBYY\").drop_duplicates(\"PTID\"), \n",
    "             left_index=True, right_on=\"PTID\", how=\"inner\")\n",
    "\n",
    "# df_beg = df_beg.merge(final_df, left_on=\"PTID\", right_on=\"PTID\", how=\"inner\")\n",
    "df_beg = df_beg.merge(df_temp, left_on=\"PTID\", right_on=\"PTID\", how=\"inner\")\n",
    "df_beg[\"subtype\"] = df_beg[\"subtype\"].astype(int)\n",
    "df_beg[\"subtype\"] += 1\n",
    "df_beg[\"AGEADBEG\"] = df_beg[\"adbeg\"] - df_beg[\"PTDOBYY\"]\n",
    "df_beg[\"AGECOGBEG\"] = df_beg[\"cogbeg\"] - df_beg[\"PTDOBYY\"]\n",
    "df_beg_ad = df_beg.dropna(subset=\"AGEADBEG\")\n",
    "df_beg_cog = df_beg.dropna(subset=\"AGECOGBEG\")\n",
    "df_beg_ad.rename(columns={\"AGEADBEG\":\"age\"}, inplace=True)\n",
    "df_beg_ad[\"onset\"] = \"AD onset\"\n",
    "df_beg_cog.rename(columns={\"AGECOGBEG\":\"age\"}, inplace=True)\n",
    "df_beg_cog[\"onset\"] = \"cognitive symptoms\"\n",
    "\n",
    "\n"
   ]
  },
  {
   "cell_type": "code",
   "execution_count": null,
   "id": "931ef1db",
   "metadata": {},
   "outputs": [],
   "source": [
    "df_beg_cog"
   ]
  },
  {
   "cell_type": "code",
   "execution_count": null,
   "id": "92c5be0c",
   "metadata": {},
   "outputs": [],
   "source": [
    "fig, ax = plt.subplots(figsize=(4,4))\n",
    "sns.boxenplot(data=pd.concat([df_beg_cog, df_beg_ad], axis=0), \n",
    "              x=\"subtype\", y=\"age\", hue=\"onset\", orient=\"v\",\n",
    "             palette=palette_color1, linewidth=1.5, color=\"g\")\n",
    "ax.set_xlabel(\"Subtype\", fontsize=12)\n",
    "ax.set_ylabel(\"Age of onset\", fontsize=12)\n",
    "ax.tick_params(axis='both', which='major', labelsize=12)\n",
    "ax.spines[['right', 'top']].set_visible(False)\n",
    "ax.legend(ncols=2, title=\"onset\",loc='upper left', bbox_to_anchor=(-.05, 1.2))\n",
    "fig.tight_layout()\n",
    "fig.savefig(os.path.join(\"/nethome/rtandon32/ebm/s-SuStain-outputs/sim_tadpole19_mixture_GMM/figures_4\",\n",
    "                         \"age-onset.png\"), dpi=300)\n"
   ]
  },
  {
   "cell_type": "markdown",
   "id": "b1f5857b",
   "metadata": {},
   "source": [
    "## Age of cognitive symptom onset adjusted for gender, education, and APOE4 "
   ]
  },
  {
   "cell_type": "code",
   "execution_count": null,
   "id": "6423395a",
   "metadata": {},
   "outputs": [],
   "source": [
    "df_regress = df_beg_cog.dropna(subset=[\"age\", \"APOE4\", \"PTGENDER\", \"PTEDUCAT\"])\n",
    "model = sm.OLS(df_regress[[\"age\"]], sm.add_constant(df_regress[[\"APOE4\", \"PTGENDER\", \"PTEDUCAT\"]]))\n",
    "result = model.fit()\n",
    "df_regress[\"age_adj\"] = result.resid\n",
    "sns.boxenplot(data=df_regress, x=\"subtype\", y=\"age_adj\")\n",
    "kruskal(*[group[\"age_adj\"].values for name, group in df_regress.groupby(\"subtype\")])"
   ]
  },
  {
   "cell_type": "markdown",
   "id": "87fb04ac",
   "metadata": {},
   "source": [
    "## Age of AD diagnosis adjusted for gender, education, and APOE4 "
   ]
  },
  {
   "cell_type": "code",
   "execution_count": null,
   "id": "39a7d50b",
   "metadata": {},
   "outputs": [],
   "source": [
    "df_regress = df_beg_ad.dropna(subset=[\"age\", \"APOE4\", \"PTGENDER\", \"PTEDUCAT\"])\n",
    "model = sm.OLS(df_regress[[\"age\"]], sm.add_constant(df_regress[[\"APOE4\", \"PTGENDER\", \"PTEDUCAT\"]]))\n",
    "result = model.fit()\n",
    "df_regress[\"age_adj\"] = result.resid\n",
    "sns.boxenplot(data=df_regress, x=\"subtype\", y=\"age_adj\")\n",
    "kruskal(*[group[\"age_adj\"].values for name, group in df_regress.groupby(\"subtype\")])"
   ]
  },
  {
   "cell_type": "code",
   "execution_count": null,
   "id": "2605b1aa",
   "metadata": {},
   "outputs": [],
   "source": [
    "df_beg"
   ]
  },
  {
   "cell_type": "code",
   "execution_count": null,
   "id": "f3ad1811",
   "metadata": {},
   "outputs": [],
   "source": [
    "_=\"AGECOGBEG\"\n",
    "pairs = [(1,2),(2,3),(3,4),(1,3),(1,4),(2,4)]\n",
    "fig, ax = plt.subplots(1,1, figsize=(6,3), sharey=True)\n",
    "df_mh_cog = df_beg.dropna(subset=[_])\n",
    "df_mh_cog[\"onset\"] = \"cognitive-decline\"\n",
    "sns.boxenplot(data=df_mh_cog, x=\"subtype\", y=_, ax=ax)\n",
    "annotator = Annotator(ax, pairs, data=df_mh_cog, x=\"subtype\", y=_)\n",
    "annotator._pvalue_format.pvalue_thresholds =  [[1e-4, '*'], [1e-6, '**'], [1e-8, '***'], [1e-10, '****'], [1, 'ns']]\n",
    "annotator.configure(test='Mann-Whitney', text_format='star', \n",
    "                    loc='inside',comparisons_correction=\"Benjamini-Hochberg\")\n",
    "annotator.apply_and_annotate()\n",
    "kruskal(*[group[_].values for name, group in df_mh_cog.groupby(\"subtype\")])"
   ]
  },
  {
   "cell_type": "code",
   "execution_count": null,
   "id": "e8bc8de3",
   "metadata": {},
   "outputs": [],
   "source": [
    "_=\"AGECOGBEG\"\n",
    "fig, ax = plt.subplots(1,2, figsize=(6,3), sharey=True)\n",
    "df_mh_cog = df_beg.dropna(subset=[_])\n",
    "# df_mh_cog.drop_duplicates(\"PTID\",keep=\"first\",inplace=True)\n",
    "df_mh_cog[\"onset\"] = \"cognitive-decline\"\n",
    "sns.boxenplot(data=df_mh_cog, x=\"subtype\", y=_, ax=ax[0])\n",
    "# ax.set_ylim([40,90])\n",
    "kruskal(*[group[_].values for name, group in df_mh_cog.groupby(\"subtype\")])\n",
    "\n",
    "_=\"AGEADBEG\"\n",
    "df_mh_ad = df_beg.dropna(subset=[_])\n",
    "# df_mh_ad.drop_duplicates(\"PTID\",keep=\"first\", inplace=True)\n",
    "df_mh_ad[\"onset\"] = \"AD\"\n",
    "sns.boxenplot(data=df_mh_ad, x=\"subtype\", y=_, ax=ax[1])\n",
    "# ax.set_ylim([40,90])\n",
    "kruskal(*[group[_].values for name, group in df_mh_ad.groupby(\"subtype\")])"
   ]
  },
  {
   "cell_type": "code",
   "execution_count": null,
   "id": "367c8804",
   "metadata": {},
   "outputs": [],
   "source": [
    "df_mh_ad.groupby(\"subtype\")[\"AGEADBEG\"].median() - df_mh_cog.groupby(\"subtype\")[\"AGECOGBEG\"].median()\n"
   ]
  },
  {
   "cell_type": "code",
   "execution_count": null,
   "id": "d14f97ac",
   "metadata": {},
   "outputs": [],
   "source": [
    "df_mh[\"AGEADBEG\"] = df_mh[\"PTADDX\"] - df_mh[\"PTDOBYY\"]\n",
    "df_mh[\"AGECOGBEG\"] = df_mh[\"PTCOGBEG\"] - df_mh[\"PTDOBYY\"]"
   ]
  },
  {
   "cell_type": "code",
   "execution_count": null,
   "id": "185fb224",
   "metadata": {},
   "outputs": [],
   "source": [
    "_=\"AGECOGBEG\"\n",
    "fig, ax = plt.subplots(1,2, sharey=True)\n",
    "df_mh_cog = df_mh.dropna(subset=[_])\n",
    "df_mh_cog.drop_duplicates(\"PTID\",keep=\"first\",inplace=True)\n",
    "df_mh_cog[\"onset\"] = \"cognitive-decline\"\n",
    "sns.boxenplot(data=df_mh_cog, x=\"subtype\", y=_, ax=ax[0])\n",
    "# ax.set_ylim([40,90])\n",
    "kruskal(*[group[_].values for name, group in df_mh_cog.groupby(\"subtype\")])\n",
    "\n",
    "_=\"AGEADBEG\"\n",
    "df_mh_ad = df_mh.dropna(subset=[_])\n",
    "df_mh_ad.drop_duplicates(\"PTID\",keep=\"first\", inplace=True)\n",
    "df_mh_ad[\"onset\"] = \"AD\"\n",
    "sns.boxenplot(data=df_mh_ad, x=\"subtype\", y=_, ax=ax[1])\n",
    "# df_mh_fld_ad[\"onset\"] = \"AD\"\n",
    "# ax.set_ylim([40,90])\n",
    "kruskal(*[group[_].values for name, group in df_mh_ad.groupby(\"subtype\")])"
   ]
  },
  {
   "cell_type": "code",
   "execution_count": null,
   "id": "61e39662",
   "metadata": {},
   "outputs": [],
   "source": [
    "_=\"AGEADBEG\"\n",
    "fig, ax = plt.subplots()\n",
    "df_mh_ad = df_mh.dropna(subset=[_])\n",
    "df_mh_ad.drop_duplicates(\"PTID\",keep=\"first\", inplace=True)\n",
    "df_mh_ad[\"onset\"] = \"AD\"\n",
    "sns.boxenplot(data=df_mh_ad, x=\"subtype\", y=_, ax=ax)\n",
    "# df_mh_fld_ad[\"onset\"] = \"AD\"\n",
    "ax.set_ylim([40,90])\n",
    "kruskal(*[group[_].values for name, group in df_mh_ad.groupby(\"subtype\")])"
   ]
  },
  {
   "cell_type": "code",
   "execution_count": null,
   "id": "e1117e0b",
   "metadata": {},
   "outputs": [],
   "source": [
    "df_onset = pd.concat([df_mh_cog, df_mh_ad], axis=0)\n",
    "sns.boxenplot(data=df_onset, x=\"subtype\", y=_, hue=\"onset\")"
   ]
  },
  {
   "cell_type": "code",
   "execution_count": null,
   "id": "7b573704",
   "metadata": {},
   "outputs": [],
   "source": [
    "df_onset"
   ]
  },
  {
   "cell_type": "code",
   "execution_count": null,
   "id": "a2c0bfe5",
   "metadata": {},
   "outputs": [],
   "source": [
    "# fig, ax = plt.subplots(1,2,figsize=(6,3))\n",
    "df_mh_cog_beg = df_mh.dropna(subset=[\"AGECOGBEG\"])\n",
    "# sns.boxenplot(data=df_mh_fld, x=\"subtype\", y=_, ax = ax[0])\n",
    "# kruskal(*[group[_].values for name, group in df_mh_fld.groupby(\"subtype\")])\n",
    "df_mh_ad_beg = df_mh.dropna(subset=[\"AGEADBEG\"])\n",
    "\n"
   ]
  },
  {
   "cell_type": "code",
   "execution_count": null,
   "id": "ecf98292",
   "metadata": {},
   "outputs": [],
   "source": [
    "df_assess"
   ]
  },
  {
   "cell_type": "code",
   "execution_count": null,
   "id": "a68d28f8",
   "metadata": {},
   "outputs": [],
   "source": [
    "df_mh_ad_beg"
   ]
  },
  {
   "cell_type": "code",
   "execution_count": null,
   "id": "c9a4f713",
   "metadata": {},
   "outputs": [],
   "source": [
    "chi2_table.div(chi2_table.sum(axis=1), axis=0)"
   ]
  },
  {
   "cell_type": "code",
   "execution_count": null,
   "id": "fb369e20",
   "metadata": {},
   "outputs": [],
   "source": [
    "chi2_table.sum(axis=1)"
   ]
  },
  {
   "cell_type": "markdown",
   "id": "57ef821a",
   "metadata": {},
   "source": [
    "# Rurality - doesn't help"
   ]
  },
  {
   "cell_type": "code",
   "execution_count": null,
   "id": "c601dd59",
   "metadata": {},
   "outputs": [],
   "source": [
    "mh_dir = \"/nethome/rtandon32/ebm/ebm_experiments/experiment_scripts/real_data/subject_characteristics/\"\n",
    "file_name = \"RURALITY_11May2024.csv\"\n",
    "df_assess = pd.read_csv(os.path.join(mh_dir, file_name))\n",
    "df_assess[\"VISDATE\"] = pd.to_datetime(df_assess[\"VISDATE\"])\n",
    "df_assess.sort_values([\"RID\", \"VISDATE\"], inplace=True)\n",
    "df_assess.drop_duplicates(\"RID\", inplace=True)\n",
    "df_mh = pd.merge(final_df, df_assess, on=[\"RID\"], how=\"inner\", suffixes=[None, \"_y\"])\n",
    "df_mh.replace([-4,-1,9999], np.nan, inplace=True)"
   ]
  },
  {
   "cell_type": "code",
   "execution_count": null,
   "id": "bb186b8a",
   "metadata": {},
   "outputs": [],
   "source": [
    "_ = \"RUCC\"\n",
    "df_mh_fld = df_mh.dropna(subset=[_])\n",
    "chi2_table = df_mh_fld.groupby([\"subtype\", _]).size().unstack(level=1).fillna(0)\n",
    "p_val = chi2_contingency(chi2_table.values)[1]\n",
    "chi2_table, p_val"
   ]
  },
  {
   "cell_type": "code",
   "execution_count": null,
   "id": "00b73e99",
   "metadata": {},
   "outputs": [],
   "source": []
  },
  {
   "cell_type": "markdown",
   "id": "d62861a7",
   "metadata": {},
   "source": [
    "# NeuroExam"
   ]
  },
  {
   "cell_type": "code",
   "execution_count": null,
   "id": "55bb58f5",
   "metadata": {},
   "outputs": [],
   "source": [
    "mh_dir = \"/nethome/rtandon32/ebm/ebm_experiments/experiment_scripts/real_data/medical_history/\"\n",
    "file_name = \"NEUROEXM_12Apr2024.csv\"\n",
    "df_assess = pd.read_csv(os.path.join(mh_dir, file_name))\n",
    "df_assess[\"VISDATE\"] = pd.to_datetime(df_assess[\"VISDATE\"])\n",
    "df_assess.sort_values([\"RID\", \"VISDATE\"], inplace=True)\n",
    "df_assess.drop_duplicates(\"RID\", inplace=True)\n",
    "df_mh = pd.merge(final_df, df_assess, on=[\"RID\"], how=\"inner\", suffixes=[None, \"_y\"])\n",
    "df_mh.replace([-1,-4], np.nan, inplace=True)\n"
   ]
  },
  {
   "cell_type": "code",
   "execution_count": null,
   "id": "6b6ba673",
   "metadata": {},
   "outputs": [],
   "source": [
    "fields_test = [\"NXVISUAL\", \"NXAUDITO\", \"NXTREMOR\", \"NXCONSCI\", \"NXNERVE\", \"NXMOTOR\",\n",
    "               \"NXFINGER\", \"NXHEEL\", \"NXSENSOR\", \"NXTENDON\", \"NXPLANTA\", \"NXGAIT\", \"NXOTHER\", \"NXABNORM\"]\n",
    "\n",
    "mh_dict = {}\n",
    "for ft in fields_test:\n",
    "    \n",
    "    chi2_table = df_mh.groupby([\"subtype\", ft]).size().unstack(level=1).fillna(0)\n",
    "    p_val = chi2_contingency(chi2_table.values)[1]\n",
    "    st_max = (chi2_table[1]/chi2_table[2]).argmax()\n",
    "    st_min = (chi2_table[1]/chi2_table[2]).argmin()\n",
    "    mh_dict[ft] = (p_val, st_max, st_min)"
   ]
  },
  {
   "cell_type": "code",
   "execution_count": null,
   "id": "7e099bb7",
   "metadata": {},
   "outputs": [],
   "source": [
    "df_mh.groupby([\"subtype\", \"NXOTHER\"]).size().unstack(level=1)"
   ]
  },
  {
   "cell_type": "code",
   "execution_count": null,
   "id": "1179836d",
   "metadata": {},
   "outputs": [],
   "source": [
    "multipletests(pd.DataFrame.from_dict(mh_dict, orient=\"index\")[0], 0.05, \"fdr_bh\")"
   ]
  },
  {
   "cell_type": "markdown",
   "id": "4b992ce3",
   "metadata": {},
   "source": [
    "# VITALS"
   ]
  },
  {
   "cell_type": "code",
   "execution_count": null,
   "id": "a3200d01",
   "metadata": {},
   "outputs": [],
   "source": [
    "def process_df_subtypes(df, fld, ptid=\"PTID\", examdate=\"EXAMDATE\"):\n",
    "    df_fld = df.dropna(subset=[fld])\n",
    "    df_fld.sort_values([ptid, examdate], inplace=True)\n",
    "    df_fld.drop_duplicates(ptid, keep=\"first\", inplace=True)\n",
    "    return df_fld"
   ]
  },
  {
   "cell_type": "code",
   "execution_count": null,
   "id": "078c4b1b",
   "metadata": {},
   "outputs": [],
   "source": [
    "mh_dir = \"/nethome/rtandon32/ebm/ebm_experiments/experiment_scripts/real_data/medical_history/\"\n",
    "file_name = \"VITALS_12Apr2024.csv\"\n",
    "df_assess = pd.read_csv(os.path.join(mh_dir, file_name))\n",
    "df_assess[\"VISDATE\"] = pd.to_datetime(df_assess[\"VISDATE\"])\n",
    "df_assess.sort_values([\"RID\", \"VISDATE\"], inplace=True)\n",
    "df_assess[\"VISCODE2\"].replace(\"sc\", \"bl\", inplace=True)\n",
    "df_mh = pd.merge(final_df, df_assess, left_on=[\"PTID\", \"VISCODE\"], \n",
    "         right_on=[\"PTID\", \"VISCODE2\"], how=\"inner\", suffixes=[None, \"_y\"])\n",
    "df_mh.replace([-4,-1],np.nan, inplace=True)\n",
    "df_mh[\"stage\"] = df_mh[\"stage\"].astype(int)"
   ]
  },
  {
   "cell_type": "code",
   "execution_count": null,
   "id": "a83b4794",
   "metadata": {},
   "outputs": [],
   "source": [
    "fld = \"VSTEMP\"\n",
    "df_vitals_xx = process_df_subtypes(df_mh, fld)\n",
    "sns.boxenplot(data=df_vitals_xx, x=\"subtype\", y=fld)"
   ]
  },
  {
   "cell_type": "markdown",
   "id": "620cf7da",
   "metadata": {},
   "source": [
    "# Modified Hachinski"
   ]
  },
  {
   "cell_type": "code",
   "execution_count": null,
   "id": "0a09072c",
   "metadata": {},
   "outputs": [],
   "source": [
    "mh_dir = \"/nethome/rtandon32/ebm/ebm_experiments/experiment_scripts/real_data/assessments/\"\n",
    "file_name = \"MODHACH_15Apr2024.csv\"\n",
    "df_assess = pd.read_csv(os.path.join(mh_dir, file_name))\n",
    "df_assess[\"EXAMDATE\"] = pd.to_datetime(df_assess[\"EXAMDATE\"])\n",
    "df_assess.sort_values([\"RID\", \"EXAMDATE\"], inplace=True)\n",
    "df_assess.drop_duplicates(\"RID\", inplace=True)\n",
    "df_mh = pd.merge(final_df, df_assess, on=[\"RID\"], how=\"inner\", suffixes=[None, \"_y\"])\n",
    "df_mh.replace([-4,-1], np.nan, inplace=True)\n"
   ]
  },
  {
   "cell_type": "code",
   "execution_count": null,
   "id": "4c00aeb7",
   "metadata": {},
   "outputs": [],
   "source": [
    "fields_test = [\"HMONSET\", \"HMSTEPWS\", \"HMSOMATC\", \"HMEMOTIO\",\n",
    "          \"HMHYPERT\", \"HMSTROKE\", \"HMNEURSG\", \"HMNEURSM\", \"HMSCORE\"]\n",
    "mh_dict = {}\n",
    "for ft in fields_test:\n",
    "    df_mh_fld = df_mh.dropna(subset=ft)\n",
    "    chi2_table = df_mh_fld.groupby([\"subtype\", ft]).size().unstack(level=1).fillna(0)\n",
    "    p_val = chi2_contingency(chi2_table.values)[1]\n",
    "#     st_max = (chi2_table[1]/chi2_table[0]).argmax()\n",
    "#     st_min = (chi2_table[1]/chi2_table[0]).argmin()\n",
    "    mh_dict[ft] = (p_val,)\n",
    "\n",
    "fig_path = \"/nethome/rtandon32/ebm/s-SuStain-outputs/sim_tadpole19_mixture_GMM/figures_4/neurobattery2/\"\n",
    "mh_df = pd.DataFrame.from_dict(mh_dict, orient=\"index\")\n",
    "mh_df.columns = [\"p-vals\"]\n",
    "# mh_df.to_csv(os.path.join(fig_path, \"comorbidities_MEDHIST.csv\"))\n"
   ]
  },
  {
   "cell_type": "code",
   "execution_count": null,
   "id": "b1c25062",
   "metadata": {},
   "outputs": [],
   "source": [
    "multipletests(mh_df[\"p-vals\"], 0.1, \"fdr_bh\")"
   ]
  },
  {
   "cell_type": "code",
   "execution_count": null,
   "id": "95bbb16e",
   "metadata": {},
   "outputs": [],
   "source": [
    "ft = \"HMSCORE\"\n",
    "chi2_table = df_mh.groupby([\"subtype\", ft]).size().unstack(level=1).fillna(0)\n",
    "# fig, ax = plt.subplots()\n",
    "# ax.plot(chi2_table[1]/chi2_table[0])\n",
    "# ax.set_ylabel(\"Odds of hypertension history\")\n",
    "# ax.set_xlabel(\"Stage\")\n",
    "print(chi2_table, \"\\n\\n\")\n",
    "chi2_contingency(chi2_table)"
   ]
  },
  {
   "cell_type": "markdown",
   "id": "618839ca",
   "metadata": {},
   "source": [
    "# NEUROEXM"
   ]
  },
  {
   "cell_type": "code",
   "execution_count": null,
   "id": "bfdf454f",
   "metadata": {},
   "outputs": [],
   "source": [
    "mh_dir = \"/nethome/rtandon32/ebm/ebm_experiments/experiment_scripts/real_data/medical_history/\"\n",
    "file_name = \"NEUROEXM_12Apr2024.csv\"\n",
    "df_assess = pd.read_csv(os.path.join(mh_dir, file_name))\n",
    "df_assess[\"VISDATE\"] = pd.to_datetime(df_assess[\"VISDATE\"])\n",
    "df_assess.sort_values([\"RID\", \"VISDATE\"], inplace=True)\n",
    "df_assess.drop_duplicates(\"RID\", inplace=True)\n",
    "df_mh = pd.merge(final_df, df_assess, on=[\"RID\"], how=\"inner\", suffixes=[None, \"_y\"])\n"
   ]
  },
  {
   "cell_type": "code",
   "execution_count": null,
   "id": "4e213fa4",
   "metadata": {},
   "outputs": [],
   "source": [
    "chi2_table = df_mh.groupby([\"subtype\", \"NXABNORM\"]).size().unstack(level=0).T"
   ]
  },
  {
   "cell_type": "code",
   "execution_count": null,
   "id": "8412b625",
   "metadata": {},
   "outputs": [],
   "source": [
    "chi2_table"
   ]
  },
  {
   "cell_type": "code",
   "execution_count": null,
   "id": "5da56690",
   "metadata": {},
   "outputs": [],
   "source": [
    "chi2_contingency(chi2_table.values)"
   ]
  },
  {
   "cell_type": "markdown",
   "id": "f1be55cb",
   "metadata": {},
   "source": [
    "# PHYSICAL"
   ]
  },
  {
   "cell_type": "code",
   "execution_count": null,
   "id": "2501a7d1",
   "metadata": {},
   "outputs": [],
   "source": [
    "mh_dir = \"/nethome/rtandon32/ebm/ebm_experiments/experiment_scripts/real_data/medical_history/\"\n",
    "file_name = \"PHYSICAL_12Apr2024.csv\"\n",
    "df_assess = pd.read_csv(os.path.join(mh_dir, file_name))\n",
    "df_assess[\"VISDATE\"] = pd.to_datetime(df_assess[\"VISDATE\"])\n",
    "df_assess.sort_values([\"RID\", \"VISDATE\"], inplace=True)\n",
    "df_assess.drop_duplicates(\"RID\", inplace=True)\n",
    "df_mh = pd.merge(final_df, df_assess, on=[\"RID\"], how=\"inner\", suffixes=[None, \"_y\"])\n",
    "df_mh.replace([-4,-1], np.nan, inplace=True)"
   ]
  },
  {
   "cell_type": "code",
   "execution_count": null,
   "id": "ac1dcd3c",
   "metadata": {},
   "outputs": [],
   "source": [
    "fields_test = [\"PXHEADEY\", \"PXCHEST\", \"PXHEART\", \"PXABDOM\",\n",
    "               \"PXEDEMA\", \"PXPERIPH\", \"PXSKIN\", \"PXMUSCUL\", \"PXBACK\"]\n",
    "mh_dict = {}\n",
    "for ft in fields_test:\n",
    "    df_mh_fld = df_mh.dropna(subset=ft)\n",
    "    chi2_table = df_mh_fld.groupby([\"subtype\", ft]).size().unstack(level=1).fillna(0)\n",
    "    p_val = chi2_contingency(chi2_table.values)[1]\n",
    "#     st_max = (chi2_table[1]/chi2_table[0]).argmax()\n",
    "#     st_min = (chi2_table[1]/chi2_table[0]).argmin()\n",
    "    mh_dict[ft] = (p_val,)\n",
    "\n",
    "fig_path = \"/nethome/rtandon32/ebm/s-SuStain-outputs/sim_tadpole19_mixture_GMM/figures_4/neurobattery2/\"\n",
    "mh_df = pd.DataFrame.from_dict(mh_dict, orient=\"index\")\n",
    "mh_df.columns = [\"p-vals\"]\n",
    "# mh_df.to_csv(os.path.join(fig_path, \"comorbidities_MEDHIST.csv\"))\n"
   ]
  },
  {
   "cell_type": "code",
   "execution_count": null,
   "id": "e9db9639",
   "metadata": {},
   "outputs": [],
   "source": [
    "df_mh_fld = df_mh.dropna(subset=\"PXEDEMA\")\n",
    "chi2_table = df_mh_fld[df_mh_fld[\"PTID\"].isin(mci_ptid)].groupby([\"subtype\", ft]).size().unstack(level=1).fillna(0)\n",
    "chi2_table[2]/chi2_table[1]"
   ]
  },
  {
   "cell_type": "code",
   "execution_count": null,
   "id": "eb25b076",
   "metadata": {},
   "outputs": [],
   "source": [
    "chi2_contingency(chi2_table)"
   ]
  },
  {
   "cell_type": "code",
   "execution_count": null,
   "id": "7a0ac23f",
   "metadata": {},
   "outputs": [],
   "source": [
    "mci_ptid"
   ]
  },
  {
   "cell_type": "code",
   "execution_count": null,
   "id": "de0ecb71",
   "metadata": {},
   "outputs": [],
   "source": [
    "multipletests(mh_df[\"p-vals\"], 0.05, \"fdr_bh\")"
   ]
  },
  {
   "cell_type": "code",
   "execution_count": null,
   "id": "fc091bf2",
   "metadata": {
    "scrolled": false
   },
   "outputs": [],
   "source": [
    "chi2_table = df_mh.groupby([\"subtype\", \"PXSKIN\"]).size().unstack(level=1).fillna(0)\n",
    "chi2_table"
   ]
  },
  {
   "cell_type": "code",
   "execution_count": null,
   "id": "64d11b78",
   "metadata": {},
   "outputs": [],
   "source": [
    "chi2_table[2.0]/chi2_table[1.0]"
   ]
  },
  {
   "cell_type": "code",
   "execution_count": null,
   "id": "0a8ca319",
   "metadata": {},
   "outputs": [],
   "source": [
    "chi2_contingency(chi2_table.values)"
   ]
  },
  {
   "cell_type": "markdown",
   "id": "b9558825",
   "metadata": {},
   "source": [
    "# RECMHIST"
   ]
  },
  {
   "cell_type": "code",
   "execution_count": null,
   "id": "c1e2d17f",
   "metadata": {},
   "outputs": [],
   "source": [
    "mh_dir = \"/nethome/rtandon32/ebm/ebm_experiments/experiment_scripts/real_data/medical_history/\"\n",
    "file_name = \"RECMHIST_12Apr2024.csv\"\n",
    "df_assess = pd.read_csv(os.path.join(mh_dir, file_name))\n",
    "df_assess[\"VISDATE\"] = pd.to_datetime(df_assess[\"VISDATE\"])\n",
    "df_assess.sort_values([\"RID\", \"VISDATE\"], inplace=True)\n",
    "df_assess.drop_duplicates(\"RID\", inplace=True)\n",
    "df_mh = pd.merge(final_df, df_assess, on=[\"RID\"], how=\"inner\", suffixes=[None, \"_y\"])\n"
   ]
  },
  {
   "cell_type": "code",
   "execution_count": null,
   "id": "926d9785",
   "metadata": {},
   "outputs": [],
   "source": [
    "chi2_table = df_mh.groupby([\"subtype\", \"MHNUM\"]).size().unstack(level=1).fillna(0)"
   ]
  },
  {
   "cell_type": "code",
   "execution_count": null,
   "id": "af6bf770",
   "metadata": {},
   "outputs": [],
   "source": [
    "chi2_table"
   ]
  },
  {
   "cell_type": "code",
   "execution_count": null,
   "id": "1890e2a4",
   "metadata": {},
   "outputs": [],
   "source": [
    "chi2_contingency(chi2_table)"
   ]
  },
  {
   "cell_type": "markdown",
   "id": "6e8a122a",
   "metadata": {},
   "source": [
    "# Scrap Work"
   ]
  },
  {
   "cell_type": "code",
   "execution_count": null,
   "id": "78ca4414",
   "metadata": {},
   "outputs": [],
   "source": [
    "def append_counts_bar(df, st_min=0, st_max=5):\n",
    "    if df[\"stage\"].min() > st_min:\n",
    "        new_row = {\"stage\":0.0, \"DX\":\"Controls\", \"value\":0.0}\n",
    "#         new_row = {\"stage\":0.0, \"DX\":\"MCI\", \"value\":0.0}\n",
    "#         new_row = {\"stage\":0.0, \"DX\":\"AD\", \"value\":0.0}\n",
    "        df = df.append(new_row, ignore_index=True)\n",
    "    if df[\"stage\"].max() < st_max:\n",
    "        new_row = {\"stage\":5.0, \"DX\":\"AD\", \"value\":0.0}\n",
    "        df = df.append(new_row, ignore_index=True)\n",
    "    return df"
   ]
  },
  {
   "cell_type": "code",
   "execution_count": null,
   "id": "e6a644d2",
   "metadata": {},
   "outputs": [],
   "source": [
    "subtype_select = 2\n",
    "final_df_grouped = final_df[final_df[\"subtype\"] == subtype_select].groupby([\"stage\", \"DX\"]).size().reset_index()\n",
    "final_df_pivot = final_df_grouped.pivot(columns=\"DX\", values=0, index=\"stage\").fillna(0)\n",
    "final_df_pivot /= final_df_pivot.sum(axis=0)\n",
    "counts_bar = final_df_pivot.melt(ignore_index=False, value_vars=[\"Controls\",\"AD\",\"MCI\"]).reset_index()"
   ]
  },
  {
   "cell_type": "code",
   "execution_count": null,
   "id": "e3ae3eb5",
   "metadata": {},
   "outputs": [],
   "source": [
    "counts_bar = append_counts_bar(counts_bar)\n",
    "counts_bar[\"stage\"] = counts_bar[\"stage\"].astype(int)"
   ]
  },
  {
   "cell_type": "code",
   "execution_count": null,
   "id": "0303c1fe",
   "metadata": {},
   "outputs": [],
   "source": [
    "fig, ax = plt.subplots(figsize=(4,2))\n",
    "hue_order=[\"Controls\", \"MCI\", \"AD\"]\n",
    "palette = [\"g\", \"orange\",\"r\"]\n",
    "sns.barplot(data=counts_bar, x=\"stage\", y=\"value\", \n",
    "            hue=\"DX\",ax=ax, hue_order=hue_order, \n",
    "            palette=palette,edgecolor=\"k\",linewidth=1)\n",
    "ax.set_xlabel(\"stage\", fontsize=15)\n",
    "ax.set_ylabel(\"\")\n",
    "    \n",
    "ax.get_legend().remove()\n",
    "\n",
    "ax.tick_params(axis='both', which='major', labelsize=15)\n",
    "\n",
    "\n",
    "# ax.set_ylim([0])\n",
    "ax.set_title(\"Subtype {}\".format(int(subtype_select+1)), fontsize=12)\n",
    "sns.despine()\n",
    "plt.tight_layout()\n",
    "fig_path = \"/nethome/rtandon32/ebm/s-SuStain-outputs/sim_tadpole19_mixture_GMM/figures_3/\"\n",
    "fname = \"stage_hist_subtype_{}.png\".format(int(subtype_select+1))\n",
    "fig.savefig(os.path.join(fig_path, fname), dpi=300, transparent=True)\n"
   ]
  },
  {
   "cell_type": "code",
   "execution_count": null,
   "id": "45ad9d9c",
   "metadata": {},
   "outputs": [],
   "source": [
    "k=118\n",
    "df_total = pd.concat([df_mci, df_cnad], axis=0)\n",
    "SuStaIn_df = pd.merge(df_total, final_df, on=[\"PTID\", \"EXAMDATE\"])\n",
    "SuStaIn_df = SuStaIn_df[SuStaIn_df[\"DX_y\"]==\"MCI\"]\n",
    "MRI_cols = SuStaIn_df.columns.tolist()[:k]\n",
    "SuStaIn_cols = MRI_cols + [\"subtype\", \"stage\"]\n",
    "SuStaIn_df_rel = SuStaIn_df[SuStaIn_cols]\n",
    "SuStaIn_df_rel[\"subtype\"] += 1\n",
    "# df_total"
   ]
  },
  {
   "cell_type": "code",
   "execution_count": null,
   "id": "e3274ea2",
   "metadata": {},
   "outputs": [],
   "source": [
    "from sklearn.manifold import TSNE"
   ]
  },
  {
   "cell_type": "code",
   "execution_count": null,
   "id": "81164838",
   "metadata": {},
   "outputs": [],
   "source": [
    "# palette=\"autumn_r\",\n",
    "SuStaIn_embedded = TSNE(n_components=2, learning_rate='auto',\n",
    "                       init='pca', perplexity=30, random_state=0).fit_transform(SuStaIn_df_rel[MRI_cols].values)\n",
    "fig, ax = plt.subplots(1,2,figsize=(10,5))\n",
    "sns.scatterplot(x=SuStaIn_embedded[:,0], y=SuStaIn_embedded[:,1],\n",
    "                palette = \"viridis\", s = 100, ax = ax[0],edgecolor='face', linewidth=1,\n",
    "                hue = SuStaIn_df_rel[\"subtype\"].astype(int))\n",
    "sns.scatterplot(x=SuStaIn_embedded[:,0], y=SuStaIn_embedded[:,1],\n",
    "                s = 100, ax = ax[1], palette=\"YlOrBr\", edgecolor='face', linewidth=1,\n",
    "                hue = SuStaIn_df_rel[\"stage\"].astype(int))\n",
    "ax[0].legend(loc='upper right', bbox_to_anchor=(1.2, 1.0),\n",
    "             borderaxespad=0., frameon=False, fontsize=18,\n",
    "            markerscale=1.5, title=\"subtype\",\n",
    "             title_fontproperties={'weight':'bold', 'size':18})\n",
    "ax[1].legend(loc='upper right', bbox_to_anchor=(1.2, 1.0),\n",
    "             borderaxespad=0., frameon=False, fontsize=18,\n",
    "            markerscale=1.5, title=\"stage\",\n",
    "             title_fontproperties={'weight':'bold', 'size':18})\n",
    "\n",
    "for ha in ax[0].legend_.legendHandles:\n",
    "    ha.set_edgecolor(\"k\")\n",
    "\n",
    "for ha in ax[1].legend_.legendHandles:\n",
    "    ha.set_edgecolor(\"k\")\n",
    "    \n",
    "# ax[1].legend(bbox_to_anchor=(1.3, 1), loc='upper right', borderaxespad=0., frameon=False)\n",
    "ax[0].axis(\"off\")\n",
    "ax[1].axis(\"off\")\n",
    "fig.tight_layout()\n",
    "fig.savefig(os.path.join(fig_path, \"t-SNE_MCI_full.png\"), dpi=400)\n"
   ]
  },
  {
   "cell_type": "markdown",
   "id": "77d8ffc9",
   "metadata": {},
   "source": [
    "# Progression curves"
   ]
  },
  {
   "cell_type": "code",
   "execution_count": null,
   "id": "8aecfec2",
   "metadata": {},
   "outputs": [],
   "source": [
    "# def prepare_longitudinal_data(first_visit_df):\n",
    "#     # Read the MRI data across all subjects\n",
    "#     path = \"/nethome/rtandon32/ebm/ebm_experiments/experiment_scripts/real_data/dfMri_D12_ebm.csv\"\n",
    "#     df = pd.read_csv(path)\n",
    "#     sid = df[\"Measure:volume\"].apply(lambda x: x.split(\"-\",1))\n",
    "#     df_sid = pd.DataFrame(sid.tolist(), columns=[\"sid\", \"time\"])\n",
    "#     sid_time = df_sid[\"time\"].apply(lambda x: x.split(\"_\",1))\n",
    "#     df_sid_time = pd.DataFrame(sid_time.tolist(), columns=[\"date\", \"time\"])\n",
    "#     df_concat = pd.concat([df_sid, df_sid_time], axis=1)[[\"sid\", \"date\"]]\n",
    "#     df_concat[\"date\"] = pd.to_datetime(df_concat[\"date\"])\n",
    "\n",
    "#     # Read the ADNIMERGE file     \n",
    "#     adnimerge_path = \"/nethome/rtandon32/ebm/ebm_experiments/experiment_scripts/real_data/ADNIMERGE.csv\"\n",
    "#     df_adnimerge =pd.read_csv(adnimerge_path)[[\"PTID\", \"DX_bl\", \"DX\", \"EXAMDATE\", \"VISCODE\", \"AGE\",\"PTGENDER\",\"PTEDUCAT\", \"APOE4\"]]\n",
    "#     df_adnimerge[\"EXAMDATE\"] = pd.to_datetime(df_adnimerge[\"EXAMDATE\"])\n",
    "#     merged_df = df_adnimerge.merge(df_concat, left_on=[\"PTID\", \"EXAMDATE\"], right_on=[\"sid\", \"date\"])\n",
    "    \n",
    "#     # longitudinal_records\n",
    "#     longitudinal_records = df_adnimerge.sort_values([\"PTID\", \"EXAMDATE\"]).set_index(\"PTID\").dropna(subset=[\"DX\"])\n",
    "#     d = {}\n",
    "#     for i, row in first_visit_df.iterrows():\n",
    "#         ptid = row[\"PTID\"]\n",
    "#         d[ptid] = longitudinal_records.loc[ptid, :]\n",
    "#     return d, merged_df\n",
    "    "
   ]
  },
  {
   "cell_type": "code",
   "execution_count": null,
   "id": "cec6b2d3",
   "metadata": {},
   "outputs": [],
   "source": [
    "def prepare_longitudinal_data_newL(first_visit_df):\n",
    "    path = \"/nethome/rtandon32/ebm/ebm_experiments/experiment_scripts/real_data/TADPOLE_all_aligned/df_all_long_no_5_ventricle.csv\"\n",
    "    df = pd.read_csv(path)\n",
    "    df.dropna(subset=[\"DX\"], inplace=True)\n",
    "    df[\"EXAMDATE\"] = pd.to_datetime(df[\"EXAMDATE\"])\n",
    "    \n",
    "    # longitudinal_records\n",
    "    meta_cols = [\"DX_bl\", \"DX\", \"EXAMDATE\", \"VISCODE\", \"AGE\",\"PTGENDER\",\"PTEDUCAT\", \"APOE4\", \"PTID\"]\n",
    "    longitudinal_records = df.sort_values([\"PTID\", \"EXAMDATE\"]).dropna(subset=[\"DX\"])[meta_cols]\n",
    "    \n",
    "    d = {}\n",
    "    for i, row in first_visit_df.iterrows():\n",
    "        ptid = row[\"PTID\"]\n",
    "        d[ptid] = longitudinal_records[longitudinal_records[\"PTID\"].isin([ptid])].reset_index(drop=True)\n",
    "    return d, longitudinal_records"
   ]
  },
  {
   "cell_type": "code",
   "execution_count": null,
   "id": "d29c6c52",
   "metadata": {},
   "outputs": [],
   "source": [
    "cnad_ptid = df_cnad[\"PTID\"].unique().tolist()\n",
    "mci_ptid = df_mci[\"PTID\"].unique().tolist()\n",
    "cn_ptid = df_cnad[df_cnad[\"DX\"].isin([\"CN\"])][\"PTID\"].unique().tolist()\n",
    "ad_ptid = df_cnad[df_cnad[\"DX\"].isin([\"Dementia\"])][\"PTID\"].unique().tolist()"
   ]
  },
  {
   "cell_type": "code",
   "execution_count": null,
   "id": "cbc291ac",
   "metadata": {},
   "outputs": [],
   "source": [
    "d, merged_df = prepare_longitudinal_data_newL(final_df)\n",
    "mci_demographics = merged_df[merged_df[\"PTID\"].isin(mci_ptid)].sort_values([\"PTID\", \"EXAMDATE\"]).drop_duplicates(\"PTID\", keep=\"first\")\n",
    "cn_demographics = merged_df[merged_df[\"PTID\"].isin(cn_ptid)].sort_values([\"PTID\", \"EXAMDATE\"]).drop_duplicates(\"PTID\", keep=\"first\")"
   ]
  },
  {
   "cell_type": "code",
   "execution_count": null,
   "id": "2a5cefcd",
   "metadata": {},
   "outputs": [],
   "source": [
    "Su = 2.0\n",
    "mci_subtype = mci_solved[mci_solved[\"subtype\"]==Su]\n",
    "fraction_mci = mci_subtype.shape[0]/mci_solved.shape[0]\n",
    "cox_mci = mci_demographics[mci_demographics[\"PTID\"].isin(mci_subtype[\"PTID\"])]\n",
    "dict_stage = dict(zip(mci_subtype[\"PTID\"],mci_subtype[\"stage\"]))"
   ]
  },
  {
   "cell_type": "code",
   "execution_count": null,
   "id": "66362997",
   "metadata": {
    "scrolled": true
   },
   "outputs": [],
   "source": [
    "cmap = cm.get_cmap('autumn_r')\n",
    "fig, ax = plt.subplots(1,1, figsize=(5,5), constrained_layout=True)\n",
    "delta_years = list(range(3,6))\n",
    "colors = [cmap(_) for _ in np.linspace(0.15,1,len(delta_years))]\n",
    "d_colors = dict(zip(delta_years, colors))\n",
    "\n",
    "for d_yr in delta_years:\n",
    "    d_convert = {}\n",
    "    d_timedelta = {}\n",
    "    for i, row in mci_subtype.iterrows():\n",
    "        ptid = row[\"PTID\"]\n",
    "        examdate = row[\"EXAMDATE\"]\n",
    "        examdate_max = examdate + relativedelta(years=d_yr, months=0)\n",
    "        if (d[ptid].shape[0] > 1):\n",
    "            ptid_df = d[ptid].sort_values([\"EXAMDATE\"])\n",
    "            ptid_forward_df = ptid_df[(ptid_df[\"EXAMDATE\"] >= examdate) \n",
    "                                & (ptid_df[\"EXAMDATE\"] <= examdate_max)]\n",
    "            ptid_forward_df = ptid_forward_df.reset_index(drop=True)\n",
    "            srs = ptid_forward_df[\"DX\"]\n",
    "            first_dx = srs[0]\n",
    "            assert first_dx == \"MCI\"\n",
    "            bool_srs = srs == \"Dementia\"\n",
    "            cnvrt = 1*any(bool_srs)\n",
    "            if cnvrt:\n",
    "                last_idx = np.where(bool_srs.values)[0][0]\n",
    "            else:\n",
    "                last_idx = bool_srs.shape[0]-1\n",
    "            time_delta = ptid_forward_df[\"EXAMDATE\"][last_idx] - ptid_forward_df[\"EXAMDATE\"][0]            \n",
    "            d_timedelta[ptid] = time_delta.days\n",
    "            d_convert[ptid] = cnvrt\n",
    "        else:\n",
    "            d_timedelta[ptid] = np.NaN\n",
    "            d_convert[ptid] = np.NaN\n",
    "\n",
    "    mci_subtype[\"convert\"] = mci_subtype[\"PTID\"].map(d_convert)\n",
    "    mci_subtype = mci_subtype[~mci_subtype[\"convert\"].isna()]\n",
    "    df_convert = mci_subtype[mci_subtype[\"convert\"]==1]\n",
    "    # dfc = df_convert\n",
    "    # EBM stages of controls who converted at a future time point\n",
    "    a = Counter(df_convert[\"stage\"])\n",
    "    # EBM stages of all controls regardless of whether they converted or not \n",
    "    b = Counter(mci_subtype[\"stage\"])\n",
    "    d_fractions = {}\n",
    "    x = []; y = []; den_list = [];\n",
    "    for i in range(n_stages+1):\n",
    "        if i in a:\n",
    "            num = a[i]\n",
    "        else:\n",
    "            num = 0\n",
    "        if i in b:\n",
    "            den = b[i]\n",
    "        else:\n",
    "            den = np.nan\n",
    "        r = num/(den)\n",
    "        d_fractions[i] = r\n",
    "        x.append(i)\n",
    "        y.append(r)\n",
    "        den_list.append(den)\n",
    "    ax.plot(x, y, label=str(d_yr) + \" years\", marker=\"o\", color=d_colors[d_yr])\n",
    "    if d_yr == 5:\n",
    "        for i in range(n_stages+1):\n",
    "            ax.annotate(\"n = \"+str(den_list[i]), (x[i], y[i]), xytext=(20, 30),\n",
    "              textcoords='offset points', ha='center', va='bottom', fontsize=15,\n",
    "              arrowprops=dict(arrowstyle='->', connectionstyle='arc3,rad=0'))\n",
    "    ax.set_xlabel(\"stage\", fontsize=18)\n",
    "    cox_mci[\"convert\"] = cox_mci[\"PTID\"].map(d_convert)\n",
    "    cox_mci[\"time\"] = cox_mci[\"PTID\"].map(d_timedelta)\n",
    "    cox_mci[\"subtype\"] = Su\n",
    "    cox_mci[\"stages_inferred\"] = cox_mci[\"PTID\"].map(dict_stage)\n",
    "    fname = \"cox_df_subtype_{}_delta_yrs_{}_mci.csv\".format(Su,d_yr)\n",
    "    cox_mci.to_csv(os.path.join(fig_path,fname))\n",
    "\n",
    "ax.spines['right'].set_visible(False)\n",
    "ax.spines['top'].set_visible(False)\n",
    "ax.set_title(\"Subtype {}, prevalence {}\".format(int(Su+1), np.round(fraction_mci, 2)), \n",
    "             fontsize=18)\n",
    "ax.set_xlim([0,5.06])\n",
    "ax.set_ylim([0,1])\n",
    "# fig.subplots_adjust(right=0.5)\n",
    "plt.xticks(fontsize=18)\n",
    "# plt.tight_layout()\n",
    "plt.yticks(fontsize=18)\n",
    "plt.legend(fontsize=18, loc=2)\n",
    "fig_name = \"mci_subtype_{}.png\".format(Su)\n",
    "fig.savefig(os.path.join(fig_path, fig_name), dpi=450)\n"
   ]
  },
  {
   "cell_type": "code",
   "execution_count": null,
   "id": "ee4243a9",
   "metadata": {},
   "outputs": [],
   "source": [
    "Counter(df_convert[\"stage\"])"
   ]
  },
  {
   "cell_type": "code",
   "execution_count": null,
   "id": "80c0a2ce",
   "metadata": {},
   "outputs": [],
   "source": [
    "Counter(mci_subtype[\"stage\"])"
   ]
  },
  {
   "cell_type": "markdown",
   "id": "e0d644a7",
   "metadata": {},
   "source": [
    "## Controls progression"
   ]
  },
  {
   "cell_type": "code",
   "execution_count": null,
   "id": "54f1e06d",
   "metadata": {},
   "outputs": [],
   "source": [
    "d, merged_df = prepare_longitudinal_data_newL(final_df)\n",
    "cn_demographics = merged_df[merged_df[\"PTID\"].isin(cn_ptid)].sort_values([\"PTID\", \"EXAMDATE\"]).drop_duplicates(\"PTID\", keep=\"first\")"
   ]
  },
  {
   "cell_type": "code",
   "execution_count": null,
   "id": "d574d471",
   "metadata": {},
   "outputs": [],
   "source": [
    "Su = 2.0\n",
    "cn_solved = cnad_solved[cnad_solved[\"DX\"]==0.0]\n",
    "cn_subtype = cn_solved[cn_solved[\"subtype\"]==Su]\n",
    "fraction_cn = cn_subtype.shape[0]/cn_solved.shape[0]\n",
    "cox_cn = cn_demographics[cn_demographics[\"PTID\"].isin(cn_subtype[\"PTID\"])]\n",
    "dict_stage = dict(zip(cn_subtype[\"PTID\"],cn_subtype[\"stage\"]))"
   ]
  },
  {
   "cell_type": "code",
   "execution_count": null,
   "id": "55c29c11",
   "metadata": {},
   "outputs": [],
   "source": [
    "cmap = cm.get_cmap('autumn_r')\n",
    "fig, ax = plt.subplots(1,1, figsize=(5,5), constrained_layout=True)\n",
    "delta_years = list(range(3,6))\n",
    "colors = [cmap(_) for _ in np.linspace(0.15,1,len(delta_years))]\n",
    "d_colors = dict(zip(delta_years, colors))\n",
    "\n",
    "for d_yr in delta_years:\n",
    "    d_convert = {}\n",
    "    d_timedelta = {}\n",
    "    for i, row in cn_subtype.iterrows():\n",
    "        ptid = row[\"PTID\"]\n",
    "        examdate = row[\"EXAMDATE\"]\n",
    "        examdate_max = examdate + relativedelta(years=d_yr, months=0)\n",
    "        if (d[ptid].shape[0] > 1):\n",
    "            ptid_df = d[ptid].sort_values([\"EXAMDATE\"])\n",
    "            ptid_forward_df = ptid_df[(ptid_df[\"EXAMDATE\"] >= examdate) \n",
    "                                & (ptid_df[\"EXAMDATE\"] <= examdate_max)]\n",
    "            ptid_forward_df = ptid_forward_df.reset_index(drop=True)\n",
    "            srs = ptid_forward_df[\"DX\"]\n",
    "            first_dx = srs[0]\n",
    "            assert first_dx == \"CN\"\n",
    "            bool_srs = srs != first_dx\n",
    "            cnvrt = 1*any(bool_srs)\n",
    "            if cnvrt:\n",
    "                last_idx = np.where(bool_srs.values)[0][0]\n",
    "            else:\n",
    "                last_idx = bool_srs.shape[0]-1\n",
    "            time_delta = ptid_forward_df[\"EXAMDATE\"][last_idx] - ptid_forward_df[\"EXAMDATE\"][0]            \n",
    "            d_timedelta[ptid] = time_delta.days\n",
    "            d_convert[ptid] = cnvrt\n",
    "        else:\n",
    "            d_timedelta[ptid] = np.NaN\n",
    "            d_convert[ptid] = np.NaN\n",
    "\n",
    "    cn_subtype[\"convert\"] = cn_subtype[\"PTID\"].map(d_convert)\n",
    "    cn_subtype = cn_subtype[~cn_subtype[\"convert\"].isna()]\n",
    "    df_convert = cn_subtype[cn_subtype[\"convert\"]==1]\n",
    "    # dfc = df_convert\n",
    "    # EBM stages of controls who converted at a future time point\n",
    "    a = Counter(df_convert[\"stage\"])\n",
    "    # EBM stages of all controls regardless of whether they converted or not \n",
    "    b = Counter(cn_subtype[\"stage\"])\n",
    "    d_fractions = {}\n",
    "    x = []; y = []; den_list = [];\n",
    "    for i in range(n_stages+1):\n",
    "        if i in a:\n",
    "            num = a[i]\n",
    "        else:\n",
    "            num = 0\n",
    "        if i in b:\n",
    "            den = b[i]\n",
    "        else:\n",
    "            den = np.nan\n",
    "        r = num/(den)\n",
    "        d_fractions[i] = r\n",
    "        x.append(i)\n",
    "        y.append(r)\n",
    "        den_list.append(den)\n",
    "    ax.plot(x, y, label=str(d_yr) + \" years\", marker=\"o\", color=d_colors[d_yr])\n",
    "    if d_yr == 5:\n",
    "        for i in range(n_stages+1):\n",
    "            ax.annotate(\"n = \"+str(den_list[i]), (x[i], y[i]), xytext=(-20, 20),\n",
    "              textcoords='offset points', ha='center', va='bottom',\n",
    "              arrowprops=dict(arrowstyle='->', connectionstyle='arc3,rad=0'))\n",
    "    ax.set_xlabel(\"stage\", fontsize=18)\n",
    "    cox_cn[\"convert\"] = cox_cn[\"PTID\"].map(d_convert)\n",
    "    cox_cn[\"time\"] = cox_cn[\"PTID\"].map(d_timedelta)\n",
    "    cox_cn[\"subtype\"] = Su\n",
    "    cox_cn[\"stages_inferred\"] = cox_cn[\"PTID\"].map(dict_stage)\n",
    "    fname = \"cox_df_subtype_{}_delta_yrs_{}_cn.csv\".format(Su,d_yr)\n",
    "    cox_cn.to_csv(os.path.join(fig_path,fname))\n",
    "\n",
    "ax.spines['right'].set_visible(False)\n",
    "ax.spines['top'].set_visible(False)\n",
    "ax.set_title(\"Subtype {}, prevalence {}\".format(int(Su+1), np.round(fraction_cn, 2)), \n",
    "             fontsize=18)\n",
    "ax.set_xlim([0,5.06])\n",
    "ax.set_ylim([0,0.3])\n",
    "# fig.subplots_adjust(right=0.5)\n",
    "plt.xticks(fontsize=18)\n",
    "# plt.tight_layout()\n",
    "plt.yticks(fontsize=18)\n",
    "plt.legend(fontsize=18, loc=2)\n",
    "fig_name = \"cn_subtype_{}.png\".format(Su)\n",
    "fig.savefig(os.path.join(fig_path, fig_name), dpi=450)\n"
   ]
  },
  {
   "cell_type": "code",
   "execution_count": null,
   "id": "539f390c",
   "metadata": {},
   "outputs": [],
   "source": [
    "den_list"
   ]
  },
  {
   "cell_type": "code",
   "execution_count": null,
   "id": "d2a3c3c2",
   "metadata": {},
   "outputs": [],
   "source": [
    "Counter(df_convert[\"stage\"])"
   ]
  },
  {
   "cell_type": "code",
   "execution_count": null,
   "id": "f51f78df",
   "metadata": {},
   "outputs": [],
   "source": [
    "Counter(cn_subtype[\"stage\"])"
   ]
  },
  {
   "cell_type": "markdown",
   "id": "2729fbb7",
   "metadata": {},
   "source": [
    "## Longitudinal data analysis"
   ]
  },
  {
   "cell_type": "code",
   "execution_count": null,
   "id": "4419915e",
   "metadata": {},
   "outputs": [],
   "source": [
    "# Functions for reading longitudinal data and subtyping/staging\n",
    "def read_long(df_cnad, df_mci, k):\n",
    "    long_path = \"/nethome/rtandon32/ebm/ebm_experiments/experiment_scripts/real_data/TADPOLE_all_aligned/df_all_long_no_5_ventricle.csv\"\n",
    "    df_long = pd.read_csv(long_path)\n",
    "    df_long[\"EXAMDATE\"] = pd.to_datetime(df_long[\"EXAMDATE\"])\n",
    "    assert all(df_long.columns[:k] == df_cnad.columns[:k])\n",
    "    cnad_ptid = df_cnad[\"PTID\"].tolist()\n",
    "    mci_ptid = df_mci[\"PTID\"].tolist()\n",
    "    df_long_cnad = df_long[df_long[\"sid\"].isin(cnad_ptid)]\n",
    "    df_long_mci = df_long[df_long[\"sid\"].isin(mci_ptid)]\n",
    "    return df_long, df_long_cnad, df_long_mci\n",
    "\n",
    "def subtype_stage(L_yes, L_no, pkl, n_stages, last_N=1000000, N_samples=1000):\n",
    "    last_N = 1000000\n",
    "    N_samples = 1000\n",
    "    sustainData_mci_long = sEBMSustainData(L_yes, L_no, n_stages)\n",
    "    samples_sequence = pkl[\"samples_sequence\"][:,:,-last_N:]\n",
    "    samples_f = pkl[\"samples_f\"][:,-last_N:]\n",
    "    shape_seq = pkl[\"shape_seq\"]\n",
    "    temp_mean_f = np.mean(samples_f, axis=1)\n",
    "    ix = np.argsort(temp_mean_f)[::-1]\n",
    "\n",
    "    ml_subtype, \\\n",
    "    prob_ml_subtype, \\\n",
    "    ml_stage, \\\n",
    "    prob_ml_stage, \\\n",
    "    prob_subtype, \\\n",
    "    prob_stage, \\\n",
    "    prob_subtype_stage,_ = sustain.subtype_and_stage_individuals(sustainData_mci_long, shape_seq, samples_sequence, samples_f, N_samples)\n",
    "    return ml_subtype, prob_ml_subtype, ml_stage, prob_ml_stage, prob_subtype, prob_stage, prob_subtype_stage\n",
    "\n",
    "# Read the long df (MCI and CNAD)\n",
    "k = 118\n",
    "df_long, df_long_cnad, df_long_mci = read_long(df_cnad, df_mci, k)\n",
    "\n",
    "# Get the prob_mat for MCI\n",
    "prob_mat_mci_long = mixture_model.get_prob_mat(df_long_mci.iloc[:,:k].values, mixture_models)\n",
    "L_no_mci_long = prob_mat_mci_long[:,:,0]\n",
    "L_yes_mci_long = prob_mat_mci_long[:,:,1]\n",
    "L_yes_mci_long = process_L(L_yes_mci_long)\n",
    "L_no_mci_long = process_L(L_no_mci_long)\n",
    "\n",
    "# Subtype and Stage the MCI subjects and subset them for the relevant columns\n",
    "ml_subtype_mci, prob_ml_subtype_mci, ml_stage_mci, \\\n",
    "prob_ml_stage_mci, prob_subtype_mci, prob_stage_mci, prob_subtype_stage_mci = subtype_stage(L_yes_mci_long, L_no_mci_long, pkl, n_stages)\n",
    "df_long_mci[\"subtype\"] = ml_subtype_mci\n",
    "df_long_mci[\"stage\"] = ml_stage_mci\n",
    "mci_subset = [\"subtype\", \"stage\", \"VISCODE\", \"EXAMDATE\", \"DX\", \"sid\"]\n",
    "df_long_mci_subset = df_long_mci[mci_subset]"
   ]
  },
  {
   "cell_type": "code",
   "execution_count": null,
   "id": "3e35fd3d",
   "metadata": {},
   "outputs": [],
   "source": []
  },
  {
   "cell_type": "code",
   "execution_count": null,
   "id": "5bd2d97d",
   "metadata": {},
   "outputs": [],
   "source": []
  },
  {
   "cell_type": "code",
   "execution_count": null,
   "id": "2abdc496",
   "metadata": {},
   "outputs": [],
   "source": []
  },
  {
   "cell_type": "code",
   "execution_count": null,
   "id": "07bb3bad",
   "metadata": {},
   "outputs": [],
   "source": []
  },
  {
   "cell_type": "code",
   "execution_count": null,
   "id": "6aca97ad",
   "metadata": {},
   "outputs": [],
   "source": [
    "# Subtype and Stage the MCI subjects\n",
    "last_N = 1000000\n",
    "N_samples = 1000\n",
    "sustainData_mci_long = sEBMSustainData(L_yes_mci_long, L_no_mci_long, n_stages)\n",
    "samples_sequence = pkl[\"samples_sequence\"][:,:,-last_N:]\n",
    "samples_f = pkl[\"samples_f\"][:,-last_N:]\n",
    "shape_seq = pkl[\"shape_seq\"]\n",
    "temp_mean_f = np.mean(samples_f, axis=1)\n",
    "ix = np.argsort(temp_mean_f)[::-1]\n",
    "\n",
    "ml_subtype_mci, \\\n",
    "prob_ml_subtype_mci, \\\n",
    "ml_stage_mci, \\\n",
    "prob_ml_stage_mci, \\\n",
    "prob_subtype_mci, \\\n",
    "prob_stage_mci, \\\n",
    "prob_subtype_stage_mci,_ = sustain.subtype_and_stage_individuals(sustainData_mci_long, shape_seq, samples_sequence, samples_f, N_samples)"
   ]
  },
  {
   "cell_type": "code",
   "execution_count": null,
   "id": "380ba7fa",
   "metadata": {},
   "outputs": [],
   "source": [
    "df_long_cnad.shape"
   ]
  },
  {
   "cell_type": "code",
   "execution_count": null,
   "id": "4a6d2513",
   "metadata": {},
   "outputs": [],
   "source": [
    "long_path = \"/nethome/rtandon32/ebm/ebm_experiments/experiment_scripts/real_data/TADPOLE_all_aligned/df_all_long_no_5_ventricle.csv\"\n",
    "df_long = pd.read_csv(long_path)\n",
    "df_long.dropna(subset=[\"DX\"], inplace=True)\n",
    "df_long[\"EXAMDATE\"] = pd.to_datetime(df_long[\"EXAMDATE\"])"
   ]
  },
  {
   "cell_type": "code",
   "execution_count": null,
   "id": "81a864e7",
   "metadata": {},
   "outputs": [],
   "source": [
    "k=118\n",
    "all(df_long.columns[:k] == df_cnad.columns[:k])"
   ]
  },
  {
   "cell_type": "code",
   "execution_count": null,
   "id": "a958094a",
   "metadata": {},
   "outputs": [],
   "source": [
    "cnad_ptid = df_cnad[\"PTID\"].tolist()\n",
    "mci_ptid = df_mci[\"PTID\"].tolist()"
   ]
  },
  {
   "cell_type": "code",
   "execution_count": null,
   "id": "1e805f35",
   "metadata": {},
   "outputs": [],
   "source": [
    "d, merged_df = prepare_longitudinal_data_newL(final_df)"
   ]
  },
  {
   "cell_type": "code",
   "execution_count": null,
   "id": "7ede0cba",
   "metadata": {},
   "outputs": [],
   "source": [
    "df_long_cnad = df_long[df_long[\"sid\"].isin(cnad_ptid)]\n",
    "df_long_mci = df_long[df_long[\"sid\"].isin(mci_ptid)]"
   ]
  },
  {
   "cell_type": "code",
   "execution_count": null,
   "id": "82ee8ddb",
   "metadata": {},
   "outputs": [],
   "source": [
    "prob_mat_mci_long = mixture_model.get_prob_mat(df_long_mci.iloc[:,:k].values, mixture_models)\n",
    "L_no_mci_long = prob_mat_mci_long[:,:,0]\n",
    "L_yes_mci_long = prob_mat_mci_long[:,:,1]\n",
    "L_yes_mci_long = process_L(L_yes_mci_long)\n",
    "L_no_mci_long = process_L(L_no_mci_long)"
   ]
  },
  {
   "cell_type": "code",
   "execution_count": null,
   "id": "8ae561ba",
   "metadata": {},
   "outputs": [],
   "source": [
    "# Subtype and Stage the MCI subjects\n",
    "last_N = 1000000\n",
    "N_samples = 1000\n",
    "sustainData_mci_long = sEBMSustainData(L_yes_mci_long, L_no_mci_long, n_stages)\n",
    "samples_sequence = pkl[\"samples_sequence\"][:,:,-last_N:]\n",
    "samples_f = pkl[\"samples_f\"][:,-last_N:]\n",
    "shape_seq = pkl[\"shape_seq\"]\n",
    "temp_mean_f = np.mean(samples_f, axis=1)\n",
    "ix = np.argsort(temp_mean_f)[::-1]\n",
    "\n",
    "ml_subtype_mci, \\\n",
    "prob_ml_subtype_mci, \\\n",
    "ml_stage_mci, \\\n",
    "prob_ml_stage_mci, \\\n",
    "prob_subtype_mci, \\\n",
    "prob_stage_mci, \\\n",
    "prob_subtype_stage_mci,_ = sustain.subtype_and_stage_individuals(sustainData_mci_long, shape_seq, samples_sequence, samples_f, N_samples)"
   ]
  },
  {
   "cell_type": "code",
   "execution_count": null,
   "id": "a0d7f403",
   "metadata": {},
   "outputs": [],
   "source": [
    "df_long_mci[\"subtype\"] = ml_subtype_mci\n",
    "df_long_mci[\"stage\"] = ml_stage_mci"
   ]
  },
  {
   "cell_type": "code",
   "execution_count": null,
   "id": "93a81347",
   "metadata": {},
   "outputs": [],
   "source": [
    "mci_subset = [\"subtype\", \"stage\", \"VISCODE\", \"EXAMDATE\", \"DX\", \"sid\"]\n",
    "df_long_mci[mci_subset]"
   ]
  },
  {
   "cell_type": "code",
   "execution_count": null,
   "id": "59db6396",
   "metadata": {},
   "outputs": [],
   "source": []
  },
  {
   "cell_type": "code",
   "execution_count": null,
   "id": "3ebd4379",
   "metadata": {},
   "outputs": [],
   "source": []
  },
  {
   "cell_type": "code",
   "execution_count": null,
   "id": "4a54fd5a",
   "metadata": {},
   "outputs": [],
   "source": []
  },
  {
   "cell_type": "code",
   "execution_count": null,
   "id": "6c11cb8b",
   "metadata": {},
   "outputs": [],
   "source": []
  },
  {
   "cell_type": "code",
   "execution_count": null,
   "id": "871bbbca",
   "metadata": {},
   "outputs": [],
   "source": []
  },
  {
   "cell_type": "code",
   "execution_count": null,
   "id": "9bb729d7",
   "metadata": {},
   "outputs": [],
   "source": [
    "long_path = \"/nethome/rtandon32/ebm/ebm_experiments/experiment_scripts/real_data/TADPOLE_all_aligned/df_all_long_no_5_ventricle.csv\"\n",
    "df_long = pd.read_csv(long_path)\n",
    "df_long.dropna(subset=[\"DX\"], inplace=True)\n",
    "df_long[\"EXAMDATE\"] = pd.to_datetime(df_long[\"EXAMDATE\"])"
   ]
  },
  {
   "cell_type": "code",
   "execution_count": null,
   "id": "c76fd1fb",
   "metadata": {},
   "outputs": [],
   "source": [
    "df_long.shape"
   ]
  },
  {
   "cell_type": "code",
   "execution_count": null,
   "id": "525376d1",
   "metadata": {},
   "outputs": [],
   "source": [
    "len(set(df_long[\"sid\"]))"
   ]
  },
  {
   "cell_type": "code",
   "execution_count": null,
   "id": "6a16dc31",
   "metadata": {},
   "outputs": [],
   "source": [
    "# set(df_long[\"sid\"])-set(final_df[\"PTID\"])"
   ]
  },
  {
   "cell_type": "code",
   "execution_count": null,
   "id": "5920d87c",
   "metadata": {},
   "outputs": [],
   "source": [
    "len(set(final_df[\"PTID\"]))"
   ]
  },
  {
   "cell_type": "code",
   "execution_count": null,
   "id": "ea403e99",
   "metadata": {},
   "outputs": [],
   "source": [
    "k=118\n",
    "all(df_long.columns[:k] == df_cnad.columns[:k])"
   ]
  },
  {
   "cell_type": "code",
   "execution_count": null,
   "id": "539c4c90",
   "metadata": {},
   "outputs": [],
   "source": [
    "cnad_ptid = df_cnad[\"PTID\"].tolist()\n",
    "mci_ptid = df_mci[\"PTID\"].tolist()"
   ]
  },
  {
   "cell_type": "code",
   "execution_count": null,
   "id": "0365b862",
   "metadata": {},
   "outputs": [],
   "source": [
    "d, merged_df = prepare_longitudinal_data_newL(final_df)"
   ]
  },
  {
   "cell_type": "code",
   "execution_count": null,
   "id": "d22c263c",
   "metadata": {},
   "outputs": [],
   "source": [
    "df_long_cnad = df_long[df_long[\"sid\"].isin(cnad_ptid)]\n",
    "df_long_mci = df_long[df_long[\"sid\"].isin(mci_ptid)]"
   ]
  },
  {
   "cell_type": "code",
   "execution_count": null,
   "id": "13b9341b",
   "metadata": {},
   "outputs": [],
   "source": [
    "prob_mat_mci_long = mixture_model.get_prob_mat(df_long_mci.iloc[:,:k].values, mixture_models)\n",
    "L_no_mci_long = prob_mat_mci_long[:,:,0]\n",
    "L_yes_mci_long = prob_mat_mci_long[:,:,1]\n",
    "L_yes_mci_long = process_L(L_yes_mci_long)\n",
    "L_no_mci_long = process_L(L_no_mci_long)"
   ]
  },
  {
   "cell_type": "code",
   "execution_count": null,
   "id": "d13ec304",
   "metadata": {},
   "outputs": [],
   "source": [
    "# Subtype and Stage the MCI subjects\n",
    "last_N = 1000000\n",
    "N_samples = 1000\n",
    "sustainData_mci_long = sEBMSustainData(L_yes_mci_long, L_no_mci_long, n_stages)\n",
    "samples_sequence = pkl[\"samples_sequence\"][:,:,-last_N:]\n",
    "samples_f = pkl[\"samples_f\"][:,-last_N:]\n",
    "shape_seq = pkl[\"shape_seq\"]\n",
    "temp_mean_f = np.mean(samples_f, axis=1)\n",
    "ix = np.argsort(temp_mean_f)[::-1]\n",
    "\n",
    "ml_subtype_mci, \\\n",
    "prob_ml_subtype_mci, \\\n",
    "ml_stage_mci, \\\n",
    "prob_ml_stage_mci, \\\n",
    "prob_subtype_mci, \\\n",
    "prob_stage_mci, \\\n",
    "prob_subtype_stage_mci,_ = sustain.subtype_and_stage_individuals(sustainData_mci_long, shape_seq, samples_sequence, samples_f, N_samples)\n"
   ]
  },
  {
   "cell_type": "code",
   "execution_count": null,
   "id": "f850c91e",
   "metadata": {},
   "outputs": [],
   "source": [
    "df_long_mci[\"subtype\"] = ml_subtype_mci\n",
    "df_long_mci[\"stage\"] = ml_stage_mci"
   ]
  },
  {
   "cell_type": "code",
   "execution_count": null,
   "id": "599ce702",
   "metadata": {},
   "outputs": [],
   "source": [
    "df_long_mci"
   ]
  },
  {
   "cell_type": "code",
   "execution_count": null,
   "id": "7040a4ca",
   "metadata": {},
   "outputs": [],
   "source": [
    "mci_subset = [\"subtype\", \"stage\", \"VISCODE\", \"EXAMDATE\", \"DX\", \"sid\"]\n",
    "df_long_mci[mci_subset]"
   ]
  },
  {
   "cell_type": "code",
   "execution_count": null,
   "id": "59fbefed",
   "metadata": {},
   "outputs": [],
   "source": [
    "df_mh = pd.merge(df_long_mci[mci_subset], df_assess, left_on=[\"sid\", \"VISCODE\"], \n",
    "         right_on=[\"PTID\", \"VISCODE2\"], how=\"inner\")\n",
    "df_mh.replace(-1,np.nan, inplace=True)"
   ]
  },
  {
   "cell_type": "code",
   "execution_count": null,
   "id": "8ccf350f",
   "metadata": {},
   "outputs": [],
   "source": [
    "fld = \"AVDEL30MIN\"\n",
    "df_mh.dropna(subset=[fld], inplace=True)"
   ]
  },
  {
   "cell_type": "code",
   "execution_count": null,
   "id": "cec61ce2",
   "metadata": {},
   "outputs": [],
   "source": [
    "df_mh.sort_values([\"PTID\", \"EXAMDATE_x\"], inplace=True)\n",
    "df_mh.drop_duplicates(\"PTID\", keep=\"first\", inplace=True)"
   ]
  },
  {
   "cell_type": "code",
   "execution_count": null,
   "id": "04b92214",
   "metadata": {},
   "outputs": [],
   "source": [
    "\n",
    "chi2_table = df_mh.groupby([\"stage\", fld]).size().unstack(level=1).fillna(0)"
   ]
  },
  {
   "cell_type": "code",
   "execution_count": null,
   "id": "e95c6ac2",
   "metadata": {},
   "outputs": [],
   "source": [
    "chi2_contingency(chi2_table)"
   ]
  },
  {
   "cell_type": "code",
   "execution_count": null,
   "id": "5e7dcf2f",
   "metadata": {},
   "outputs": [],
   "source": [
    "df_mh.shape, chi2_table"
   ]
  },
  {
   "cell_type": "code",
   "execution_count": null,
   "id": "164ff3d9",
   "metadata": {},
   "outputs": [],
   "source": [
    "st = 3\n",
    "kendalltau(df_mh[df_mh[\"subtype\"]==st][\"stage\"], df_mh[df_mh[\"subtype\"]==st][fld])"
   ]
  },
  {
   "cell_type": "code",
   "execution_count": null,
   "id": "a9081409",
   "metadata": {},
   "outputs": [],
   "source": [
    "mci_long_subtype_stage = np.hstack([ml_subtype_mci, ml_stage_mci])\n",
    "mci_long_subtype_stage = pd.DataFrame(mci_long_subtype_stage, columns=[\"subtype\", \"stage\"])\n",
    "mci_long_subtype_stage[[\"sid\", \"date\"]] = df_long_mci.reset_index(drop=True)[[\"sid\", \"date\"]]\n",
    "mci_long_subtype_stage[\"date\"] = pd.to_datetime(mci_long_subtype_stage[\"date\"])\n",
    "df_followup = mci_long_subtype_stage\n",
    "df_followup = df_followup.sort_values([\"sid\", \"date\"])"
   ]
  },
  {
   "cell_type": "code",
   "execution_count": null,
   "id": "2888fcc5",
   "metadata": {},
   "outputs": [],
   "source": [
    "def get_pairs(vec):\n",
    "    trns = []\n",
    "    l = vec.shape[0]\n",
    "    for i in range(1,l):\n",
    "        trns.append((vec[:i][-1], vec[i:][0]))\n",
    "    return trns\n",
    "\n",
    "sub_dict = {}\n",
    "transform_dict = {}\n",
    "for sub in mci_ptid:\n",
    "# for sub in mci_subj_1:\n",
    "    df_subset = df_followup[df_followup[\"sid\"]==sub]\n",
    "    delta_days = df_subset[\"date\"] - min(df_subset[\"date\"])\n",
    "    delta_years = delta_days.apply(lambda x: x.days/365)\n",
    "    df_subset[\"delta_years\"] = delta_years\n",
    "    sub_dict[sub] = df_subset\n",
    "    vec = df_subset[\"subtype\"].values.astype(int)\n",
    "    transform_dict[sub] = get_pairs(vec)"
   ]
  },
  {
   "cell_type": "code",
   "execution_count": null,
   "id": "244f67e2",
   "metadata": {},
   "outputs": [],
   "source": [
    "count = np.zeros((4,4))\n",
    "for sub in mci_ptid:\n",
    "# for sub in mci_subj_1:\n",
    "    count_arr = transform_dict[sub]\n",
    "    for _ in count_arr:\n",
    "        count[_] += 1"
   ]
  },
  {
   "cell_type": "code",
   "execution_count": null,
   "id": "93053938",
   "metadata": {},
   "outputs": [],
   "source": [
    "fig, ax = plt.subplots(1,1, figsize=(4,4), sharex=True, sharey=True)\n",
    "count = count.astype(int)\n",
    "sns.heatmap(count/np.expand_dims(count.sum(axis=1),1), cmap=\"Greys\", annot=count, fmt='', cbar=False, square=True, ax=ax, annot_kws={'fontsize':18})\n",
    "ax.set_ylabel(\"subtype in last visit\", fontsize=21)\n",
    "ax.set_xlabel(\"subtype in next visit\", fontsize=21)\n",
    "ax.set_xticklabels([1,2,3,4], fontsize=21)\n",
    "ax.set_yticklabels([1,2,3,4], fontsize=21)\n",
    "fig_name = \"longitudinal_subtype_followup_visit.png\"\n",
    "fig.tight_layout()\n",
    "fig.savefig(os.path.join(fig_path, fig_name), dpi=300, transparent=True)"
   ]
  },
  {
   "cell_type": "code",
   "execution_count": null,
   "id": "96cf5d34",
   "metadata": {},
   "outputs": [],
   "source": [
    "count.trace() , count.sum()"
   ]
  },
  {
   "cell_type": "code",
   "execution_count": null,
   "id": "6e8a0b4e",
   "metadata": {},
   "outputs": [],
   "source": [
    "count.trace()/count.sum()"
   ]
  },
  {
   "cell_type": "markdown",
   "id": "51c38205",
   "metadata": {},
   "source": [
    "## Stage transition matrix"
   ]
  },
  {
   "cell_type": "code",
   "execution_count": null,
   "id": "5bae447f",
   "metadata": {},
   "outputs": [],
   "source": [
    "sub_dict = {}\n",
    "transform_dict = {}\n",
    "for sub in mci_ptid:\n",
    "# for sub in mci_subj_1:\n",
    "    df_subset = df_followup[df_followup[\"sid\"]==sub]\n",
    "    delta_days = df_subset[\"date\"] - min(df_subset[\"date\"])\n",
    "    delta_years = delta_days.apply(lambda x: x.days/365)\n",
    "    df_subset[\"delta_years\"] = delta_years\n",
    "    sub_dict[sub] = df_subset\n",
    "    vec = df_subset[\"stage\"].values.astype(int)\n",
    "    transform_dict[sub] = get_pairs(vec)"
   ]
  },
  {
   "cell_type": "code",
   "execution_count": null,
   "id": "5cf0ee50",
   "metadata": {},
   "outputs": [],
   "source": [
    "count = np.zeros((6,6))\n",
    "for sub in mci_ptid:\n",
    "# for sub in mci_subj_1:\n",
    "    count_arr = transform_dict[sub]\n",
    "    for _ in count_arr:\n",
    "        count[_] += 1"
   ]
  },
  {
   "cell_type": "code",
   "execution_count": null,
   "id": "238dd29b",
   "metadata": {},
   "outputs": [],
   "source": [
    "fig, ax = plt.subplots(1,1, figsize=(4,4), sharex=True, sharey=True)\n",
    "count = count.astype(int)\n",
    "sns.heatmap(count/np.expand_dims(count.sum(axis=1),1), cmap=\"Greys\", annot=count, fmt='', cbar=False, square=True, ax=ax, annot_kws={'fontsize':18})\n",
    "ax.set_ylabel(\"Stage in last visit\", fontsize=21)\n",
    "ax.set_xlabel(\"Stage in next visit\", fontsize=21)\n",
    "ax.set_xticklabels([0,1,2,3,4,5], fontsize=21)\n",
    "ax.set_yticklabels([0,1,2,3,4,5], fontsize=21)\n",
    "fig_name = \"longitudinal_stage_followup_visit.png\"\n",
    "fig.tight_layout()\n",
    "fig.savefig(os.path.join(fig_path, fig_name), dpi=300, transparent=True)"
   ]
  },
  {
   "cell_type": "code",
   "execution_count": null,
   "id": "0a4c4ff8",
   "metadata": {},
   "outputs": [],
   "source": [
    "x_ = np.array([0.35,0.27,0.15,0.23])\n",
    "np.dot(x_,x_)"
   ]
  },
  {
   "cell_type": "code",
   "execution_count": null,
   "id": "98c775ea",
   "metadata": {},
   "outputs": [],
   "source": [
    "mci_long_subtype_stage[[\"sid\", \"date\"]]"
   ]
  },
  {
   "cell_type": "code",
   "execution_count": null,
   "id": "cca68ccc",
   "metadata": {},
   "outputs": [],
   "source": [
    "df_long_mci"
   ]
  },
  {
   "cell_type": "code",
   "execution_count": null,
   "id": "255f1c2d",
   "metadata": {},
   "outputs": [],
   "source": [
    "mci_demographics, mci_solved"
   ]
  },
  {
   "cell_type": "code",
   "execution_count": null,
   "id": "519fd403",
   "metadata": {},
   "outputs": [],
   "source": [
    "mci_solved[\"EXAMDATE\"]"
   ]
  },
  {
   "cell_type": "code",
   "execution_count": null,
   "id": "1a16a6bb",
   "metadata": {},
   "outputs": [],
   "source": [
    "mci_demo_full = pd.merge(mci_demographics, mci_solved, on=[\"PTID\", \"EXAMDATE\"])"
   ]
  },
  {
   "cell_type": "code",
   "execution_count": null,
   "id": "f3357a2d",
   "metadata": {},
   "outputs": [],
   "source": [
    "mci_solved"
   ]
  },
  {
   "cell_type": "code",
   "execution_count": null,
   "id": "120ed49f",
   "metadata": {},
   "outputs": [],
   "source": [
    "final_df"
   ]
  },
  {
   "cell_type": "code",
   "execution_count": null,
   "id": "05f814ef",
   "metadata": {},
   "outputs": [],
   "source": [
    "mci_demo_full.head()"
   ]
  },
  {
   "cell_type": "code",
   "execution_count": null,
   "id": "6c2545c3",
   "metadata": {},
   "outputs": [],
   "source": [
    "mci_demo_full"
   ]
  },
  {
   "cell_type": "code",
   "execution_count": null,
   "id": "a7e12c68",
   "metadata": {},
   "outputs": [],
   "source": [
    "mci_demo_full.groupby([\"subtype\", \"APOE4\"]).size()"
   ]
  },
  {
   "cell_type": "code",
   "execution_count": null,
   "id": "7c303f20",
   "metadata": {},
   "outputs": [],
   "source": [
    "mci_demo_full.pivot_table(index='subtype', columns='APOE4', \n",
    "                        aggfunc=len, fill_value=0)[\"PTID\"]"
   ]
  },
  {
   "cell_type": "code",
   "execution_count": null,
   "id": "9e1eb2ac",
   "metadata": {},
   "outputs": [],
   "source": [
    "mci_demo_full.pivot_table(index='subtype', columns='stage', \n",
    "                        aggfunc=len, fill_value=0)[\"PTID\"]"
   ]
  },
  {
   "cell_type": "code",
   "execution_count": null,
   "id": "e90bb572",
   "metadata": {},
   "outputs": [],
   "source": [
    "all_demographics = merged_df[merged_df[\"DX\"].isin([\"CN\", \"MCI\", \"Dementia\"])].sort_values([\"PTID\", \"EXAMDATE\"]).drop_duplicates(\"PTID\", keep=\"first\")"
   ]
  },
  {
   "cell_type": "code",
   "execution_count": null,
   "id": "7d5897ca",
   "metadata": {},
   "outputs": [],
   "source": [
    "len(set(all_demographics[\"PTID\"]))"
   ]
  },
  {
   "cell_type": "code",
   "execution_count": null,
   "id": "6a1439f7",
   "metadata": {},
   "outputs": [],
   "source": [
    "all_demographics"
   ]
  },
  {
   "cell_type": "code",
   "execution_count": null,
   "id": "a2ba54c6",
   "metadata": {},
   "outputs": [],
   "source": [
    "all_data = pd.merge(all_demographics, final_df, on=[\"PTID\", \"EXAMDATE\"])"
   ]
  },
  {
   "cell_type": "code",
   "execution_count": null,
   "id": "3454fde1",
   "metadata": {},
   "outputs": [],
   "source": [
    "all_data.pivot_table(index='subtype', columns='DX_x', \n",
    "                        aggfunc=len, fill_value=0)[\"PTID\"]"
   ]
  },
  {
   "cell_type": "code",
   "execution_count": null,
   "id": "91e399dd",
   "metadata": {},
   "outputs": [],
   "source": [
    "all_data.pivot_table(index='subtype', columns='APOE4', \n",
    "                        aggfunc=len, fill_value=0)[\"PTID\"]"
   ]
  },
  {
   "cell_type": "code",
   "execution_count": null,
   "id": "ee2da8c8",
   "metadata": {},
   "outputs": [],
   "source": [
    "all_data[all_data[\"DX_x\"].isin([\"CN\", \"Dementia\"])].pivot_table(index='subtype', columns='PTGENDER', \n",
    "                        aggfunc=len, fill_value=0)[\"PTID\"]"
   ]
  },
  {
   "cell_type": "markdown",
   "id": "a597754f",
   "metadata": {},
   "source": [
    "# Scrap Analysis"
   ]
  },
  {
   "cell_type": "code",
   "execution_count": null,
   "id": "4f9daba1",
   "metadata": {},
   "outputs": [],
   "source": [
    "adnimerge_path = \"/nethome/rtandon32/ebm/ebm_experiments/experiment_scripts/real_data/ADNIMERGE.csv\"\n",
    "df_adnimerge =pd.read_csv(adnimerge_path)[[\"PTID\", \"DX_bl\", \"DX\", \"EXAMDATE\", \"VISCODE\", \"AGE\",\"PTGENDER\",\"PTEDUCAT\", \"APOE4\"]]"
   ]
  },
  {
   "cell_type": "code",
   "execution_count": null,
   "id": "c6465e23",
   "metadata": {},
   "outputs": [],
   "source": [
    "long_path = \"/nethome/rtandon32/ebm/ebm_experiments/experiment_scripts/real_data/df12_longitudinal_ebm.csv\"\n",
    "df_long = pd.read_csv(long_path)"
   ]
  },
  {
   "cell_type": "code",
   "execution_count": null,
   "id": "335d3758",
   "metadata": {},
   "outputs": [],
   "source": [
    "len(set(df_adnimerge[\"PTID\"].tolist()))"
   ]
  },
  {
   "cell_type": "code",
   "execution_count": null,
   "id": "cfdb4429",
   "metadata": {},
   "outputs": [],
   "source": [
    "len(set(df_long[\"sid\"].tolist()))"
   ]
  },
  {
   "cell_type": "code",
   "execution_count": null,
   "id": "23d8851e",
   "metadata": {},
   "outputs": [],
   "source": [
    "327 + 551"
   ]
  },
  {
   "cell_type": "code",
   "execution_count": null,
   "id": "ffcb2b29",
   "metadata": {},
   "outputs": [],
   "source": [
    "cols = df_mci.columns[:k].tolist()"
   ]
  },
  {
   "cell_type": "code",
   "execution_count": null,
   "id": "b8ef3573",
   "metadata": {},
   "outputs": [],
   "source": [
    "pandas"
   ]
  }
 ],
 "metadata": {
  "kernelspec": {
   "display_name": "Python 3",
   "language": "python",
   "name": "python3"
  },
  "language_info": {
   "codemirror_mode": {
    "name": "ipython",
    "version": 3
   },
   "file_extension": ".py",
   "mimetype": "text/x-python",
   "name": "python",
   "nbconvert_exporter": "python",
   "pygments_lexer": "ipython3",
   "version": "3.9.18"
  }
 },
 "nbformat": 4,
 "nbformat_minor": 5
}
