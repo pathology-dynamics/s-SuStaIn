{
 "cells": [
  {
   "cell_type": "markdown",
   "id": "47511f8c",
   "metadata": {},
   "source": [
    "# Steps\n"
   ]
  },
  {
   "cell_type": "markdown",
   "id": "61b4571f",
   "metadata": {},
   "source": [
    "1. Read the data from the csv file\n",
    "2. Read the sequences from the pkl file\n",
    "3. Compute the covariances\n",
    "4. Order their rows/columns"
   ]
  },
  {
   "cell_type": "code",
   "execution_count": 1,
   "id": "789da34b",
   "metadata": {},
   "outputs": [],
   "source": [
    "%matplotlib inline\n",
    "import time\n",
    "import os\n",
    "import warnings\n",
    "import seaborn as sns\n",
    "import numpy as np\n",
    "import pandas as pd\n",
    "import numpy.ma as ma\n",
    "import pickle\n",
    "from kde_ebm.mixture_model import fit_all_gmm_models\n",
    "from kde_ebm import mixture_model\n",
    "from sSuStaIn.sEBMSustain import sEBMSustain, sEBMSustainData\n",
    "from matplotlib import pyplot as plt"
   ]
  },
  {
   "cell_type": "code",
   "execution_count": 2,
   "id": "f3aeb073",
   "metadata": {},
   "outputs": [],
   "source": [
    "cn_ad_path = \"/home/rtandon32/ebm/ebm_experiments/experiment_scripts/real_data/dfMri_D12_ebm_final_n327.csv\"\n",
    "df_cnad = pd.read_csv(cn_ad_path)"
   ]
  },
  {
   "cell_type": "code",
   "execution_count": 3,
   "id": "ea8c4e5f",
   "metadata": {},
   "outputs": [],
   "source": [
    "def process_L(L, min_val=0):\n",
    "    mx = ma.masked_less_equal(L,min_val)\n",
    "    min_masked = mx.min(axis=0)\n",
    "    L_new = mx.filled(fill_value=min_masked)\n",
    "    return L_new\n",
    "\n",
    "def filter_df(df, visit):\n",
    "    return df[df[\"VISCODE\"].isin([visit])]"
   ]
  },
  {
   "cell_type": "code",
   "execution_count": 4,
   "id": "ac543e09",
   "metadata": {},
   "outputs": [
    {
     "name": "stderr",
     "output_type": "stream",
     "text": [
      "/home/rtandon32/.conda/envs/sustain/lib/python3.9/site-packages/scipy/optimize/optimize.py:282: RuntimeWarning: Values in x were outside bounds during a minimize step, clipping to bounds\n",
      "  warnings.warn(\"Values in x were outside bounds during a \"\n"
     ]
    }
   ],
   "source": [
    "# Get the mixture model for the CN/AD subjects\n",
    "k=119\n",
    "X = df_cnad.iloc[:,:k].values\n",
    "y = df_cnad[\"DX\"].map({\"Dementia\":1, \"CN\":0})\n",
    "mm_fit = mixture_model.fit_all_gmm_models\n",
    "mixture_models = mm_fit(X, y)\n",
    "L_yes = np.zeros(X.shape)\n",
    "L_no = np.zeros(X.shape)\n",
    "for i in range(k):\n",
    "    L_no[:, i], L_yes[:, i] = mixture_models[i].pdf(None, X[:, i])\n",
    "\n",
    "L_no = process_L(L_no)\n",
    "L_yes = process_L(L_yes)"
   ]
  },
  {
   "cell_type": "code",
   "execution_count": 5,
   "id": "bd294ff2",
   "metadata": {},
   "outputs": [],
   "source": [
    "path = \"/nethome/rtandon32/ebm/ebm_experiments/experiment_scripts/real_data/dfMri_all_aligned.csv\"\n",
    "df = pd.read_csv(path)\n",
    "k=119\n",
    "exclude_idx = [21,  71,  22,  19, 111,  64,  96,  44,  90,  50,  80,  57,   9,\n",
    "        77,  33, 113,  76,  98, 105,  79,  41,   4,  87, 107, 114,  20,\n",
    "         2, 110,  84,  23,  58,   1,  60,  56,  10,  94,  49,  74,   0,\n",
    "        92,  91,  18,  61,  43,  45, 108,  78, 118,  62,   8,   5,  46,\n",
    "         3,  47,  48,  53,  42, 112,  73]\n",
    "select_cols = [_ for _ in range(k) if _ not in exclude_idx]\n",
    "X = df.iloc[:,select_cols]\n",
    "bm_names = X.columns.tolist()\n",
    "X = X.values\n",
    "y = df[\"DX\"].map({\"Dementia\":1, \"CN\":0, \"MCI\":2})"
   ]
  },
  {
   "cell_type": "code",
   "execution_count": null,
   "id": "460699fd",
   "metadata": {},
   "outputs": [],
   "source": [
    "# Re-order the columns so the are in the same order as the mixture_model object\n",
    "demo_cols = df.columns.difference(bm_names)\n",
    "df_demo = df[demo_cols]\n",
    "df_bm = df[bm_names]\n",
    "df = pd.concat([df_bm, df_demo], axis=1)"
   ]
  },
  {
   "cell_type": "code",
   "execution_count": null,
   "id": "7562af07",
   "metadata": {},
   "outputs": [],
   "source": [
    "# Read the pickled file\n",
    "pickle_path = \"/nethome/rtandon32/ebm/s-SuStain-outputs/sim_tadpole_cov8_mixture_GMM/pickle_files/sim_tadpole_cov8_subtype0.pickle\"\n",
    "with open(pickle_path, \"rb\") as input_file:\n",
    "    pkl = pickle.load(input_file)"
   ]
  },
  {
   "cell_type": "code",
   "execution_count": null,
   "id": "c2f6e86e",
   "metadata": {},
   "outputs": [],
   "source": [
    "prob_mat_all = mixture_model.get_prob_mat(df.iloc[:,:len(select_cols)].values, mixture_models)\n",
    "L_no_all = prob_mat_all[:,:,0]\n",
    "L_yes_all = prob_mat_all[:,:,1]\n",
    "L_no_all = process_L(L_no_all)\n",
    "L_yes_all = process_L(L_yes_all)"
   ]
  },
  {
   "cell_type": "code",
   "execution_count": null,
   "id": "4c04c5a9",
   "metadata": {},
   "outputs": [],
   "source": [
    "L_yes_all.shape, L_no_all.shape"
   ]
  },
  {
   "cell_type": "code",
   "execution_count": null,
   "id": "01f3fc9e",
   "metadata": {},
   "outputs": [],
   "source": [
    "# Create the SuStaIn object for the sEBM model\n",
    "stage_sizes = [12,12,12,12,12]\n",
    "N_startpoints           = 25\n",
    "N_S_max                 = 3\n",
    "rep = 20\n",
    "N_iterations_MCMC_init = int(2e4)\n",
    "N_iterations_MCMC       = int(5e5)  #Generally recommend either 1e5 or 1e6 (the latter may be slow though) in practice\n",
    "n_stages = 5\n",
    "min_clust_size = 2\n",
    "p_absorb = 0.3\n",
    "N_em = 100\n",
    "SuStaInLabels = df.columns[:len(select_cols)].tolist()\n",
    "dataset_name            = 'sim_tadpole9_covar'\n",
    "output_dir              = '/home/rtandon32/ebm/s-SuStain-outputs'\n",
    "sustainType             = 'mixture_GMM'\n",
    "output_folder           = os.path.join(output_dir, dataset_name + '_' + sustainType)\n",
    "use_parallel_startpoints = True\n",
    "sustain = sEBMSustain(L_yes_all, L_no_all, n_stages, stage_sizes, min_clust_size, p_absorb, \n",
    "                      rep, SuStaInLabels, N_startpoints, N_S_max, N_iterations_MCMC_init, \n",
    "                      N_iterations_MCMC, N_em, output_folder, dataset_name, use_parallel_startpoints)"
   ]
  },
  {
   "cell_type": "code",
   "execution_count": null,
   "id": "428473c0",
   "metadata": {},
   "outputs": [],
   "source": [
    "# Subtype and Stage all subjects\n",
    "last_N = 1\n",
    "N_samples = 1\n",
    "sustainData_all = sEBMSustainData(L_yes_all, L_no_all, n_stages)\n",
    "samples_sequence = pkl[\"samples_sequence\"][:,:,0]\n",
    "samples_sequence = np.expand_dims(samples_sequence, axis=2)\n",
    "samples_f = pkl[\"samples_f\"][:,0].reshape(-1,1)\n",
    "shape_seq = pkl[\"shape_seq\"]\n",
    "temp_mean_f = np.mean(samples_f, axis=1)\n",
    "ix = np.argsort(temp_mean_f)[::-1]\n",
    "\n",
    "ml_subtype_all, \\\n",
    "prob_ml_subtype_all, \\\n",
    "ml_stage_all, \\\n",
    "prob_ml_stage_all, \\\n",
    "prob_subtype_all, \\\n",
    "prob_stage_all, \\\n",
    "prob_subtype_stage_all,_ = sustain.subtype_and_stage_individuals(sustainData_all, shape_seq, samples_sequence, samples_f, N_samples)\n"
   ]
  },
  {
   "cell_type": "code",
   "execution_count": null,
   "id": "28f7f0d1",
   "metadata": {},
   "outputs": [],
   "source": [
    "from collections import Counter\n",
    "Counter(df[\"stage\"])"
   ]
  },
  {
   "cell_type": "code",
   "execution_count": null,
   "id": "b5d24ab3",
   "metadata": {},
   "outputs": [],
   "source": [
    "# Add the subtypes and stages to the df columns\n",
    "df[\"subtype\"] = ml_subtype_all\n",
    "df[\"stage\"] = ml_stage_all"
   ]
  },
  {
   "cell_type": "code",
   "execution_count": null,
   "id": "e0673df9",
   "metadata": {},
   "outputs": [],
   "source": [
    "seq = sustain._flatten_sequence(pkl[\"ml_sequence_EM\"])\n",
    "sort_idx = np.argsort(pkl[\"ml_f_EM\"])[::-1]\n",
    "seq = seq[sort_idx]\n",
    "shape_seq = pkl[\"shape_seq\"][sort_idx]"
   ]
  },
  {
   "cell_type": "code",
   "execution_count": null,
   "id": "eecd47e6",
   "metadata": {},
   "outputs": [],
   "source": [
    "figsave_path = \"/nethome/rtandon32/ebm/s-SuStain-outputs/data_dump/figures/covar_analysis/CN/\""
   ]
  },
  {
   "cell_type": "code",
   "execution_count": null,
   "id": "e898a0ff",
   "metadata": {},
   "outputs": [],
   "source": [
    "pd.unique(df[\"DX\"])"
   ]
  },
  {
   "cell_type": "code",
   "execution_count": null,
   "id": "db6fbb1e",
   "metadata": {},
   "outputs": [],
   "source": [
    "seq[subtype]"
   ]
  },
  {
   "cell_type": "code",
   "execution_count": null,
   "id": "46abdb84",
   "metadata": {},
   "outputs": [],
   "source": [
    "fig, ax = plt.subplots(figsize=(6,6))\n",
    "subtype=0\n",
    "viscode=\"m06\"\n",
    "f_df = df[df[\"subtype\"]==subtype]\n",
    "f_df = f_df[f_df[\"VISCODE\"]==viscode]\n",
    "f_df = f_df[f_df[\"DX\"].isin([\"CN\",\"Dementia\"])]\n",
    "X = f_df.iloc[:,:len(select_cols)].values[:,seq[subtype]]\n",
    "cov = np.corrcoef(X.T)\n",
    "cmap = sns.color_palette(\"vlag\", as_cmap=True)\n",
    "print(\"Data shape\", X.shape)\n",
    "sns.heatmap(cov, vmin=-1, vmax=1, center=0, cmap=cmap, ax=ax, square=False)\n",
    "ax.hlines(np.cumsum(shape_seq[subtype]), 0, sum(shape_seq[subtype]), color='k', linestyle=\"--\", linewidth=3)\n",
    "ax.vlines(np.cumsum(shape_seq[subtype]), 0, sum(shape_seq[subtype]), color='k', linestyle=\"--\", linewidth=3)\n",
    "ax.set_title(\"Correlation matrix\\n(subtype={}, visit={}, n={})\".format(subtype,viscode,X.shape[0]), fontsize=15)\n",
    "ax.set_xlabel(\"Biomarker index\", fontsize=15)\n",
    "ax.set_ylabel(\"Biomarker index\", fontsize=15)\n",
    "# fig.savefig(os.path.join(figsave_path, \"subtype_{}_visit_{}.png\".format(subtype,viscode)))"
   ]
  },
  {
   "cell_type": "code",
   "execution_count": null,
   "id": "79833856",
   "metadata": {},
   "outputs": [],
   "source": [
    "bm_names"
   ]
  },
  {
   "cell_type": "code",
   "execution_count": null,
   "id": "8e4c1ab2",
   "metadata": {},
   "outputs": [],
   "source": [
    "\n",
    "dx_list = [0,1,2]\n",
    "subtype = pkl[\"ml_subtype\"]\n",
    "cov_data = X_cnad[(subtype == idx).reshape(-1) & (y_cnad.isin(dx_list))][:,seq[idx]]\n",
    "cov = np.corrcoef(cov_data.T)\n",
    "cmap = sns.color_palette(\"vlag\", as_cmap=True)\n",
    "print(\"Data shape\", cov_data.shape)\n",
    "sns.heatmap(cov, vmin=-1, vmax=1, center=0, cmap=cmap, ax=ax, square=False)\n",
    "ax.hlines(np.cumsum(shape_seq[idx]), 0, 119, color='k', linestyle=\"--\", linewidth=3)\n",
    "ax.vlines(np.cumsum(shape_seq[idx]), 0, 119, color='k', linestyle=\"--\", linewidth=3)\n"
   ]
  },
  {
   "cell_type": "code",
   "execution_count": null,
   "id": "cb03dadc",
   "metadata": {},
   "outputs": [],
   "source": [
    "y_cnad.isin([0,1])"
   ]
  },
  {
   "cell_type": "code",
   "execution_count": null,
   "id": "36025af7",
   "metadata": {},
   "outputs": [],
   "source": [
    "X_cnad[(subtype == idx).reshape(-1)][:,seq[idx]].shape"
   ]
  },
  {
   "cell_type": "code",
   "execution_count": null,
   "id": "2d3e612c",
   "metadata": {},
   "outputs": [],
   "source": [
    "seq[idx]"
   ]
  },
  {
   "cell_type": "code",
   "execution_count": null,
   "id": "069bdc57",
   "metadata": {},
   "outputs": [],
   "source": []
  },
  {
   "cell_type": "code",
   "execution_count": null,
   "id": "ff36356c",
   "metadata": {},
   "outputs": [],
   "source": [
    "subtype = pkl[\"ml_subtype\"]"
   ]
  },
  {
   "cell_type": "code",
   "execution_count": null,
   "id": "80016aef",
   "metadata": {},
   "outputs": [],
   "source": [
    "subtype.shape"
   ]
  },
  {
   "cell_type": "code",
   "execution_count": null,
   "id": "3deacd8a",
   "metadata": {},
   "outputs": [],
   "source": []
  }
 ],
 "metadata": {
  "kernelspec": {
   "display_name": "Python 3",
   "language": "python",
   "name": "python3"
  },
  "language_info": {
   "codemirror_mode": {
    "name": "ipython",
    "version": 3
   },
   "file_extension": ".py",
   "mimetype": "text/x-python",
   "name": "python",
   "nbconvert_exporter": "python",
   "pygments_lexer": "ipython3",
   "version": "3.9.18"
  }
 },
 "nbformat": 4,
 "nbformat_minor": 5
}
