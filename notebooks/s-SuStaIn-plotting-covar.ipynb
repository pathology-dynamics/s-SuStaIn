{
 "cells": [
  {
   "cell_type": "code",
   "execution_count": 1,
   "id": "25db1df8",
   "metadata": {},
   "outputs": [],
   "source": [
    "import pandas as pd\n",
    "import pickle\n",
    "import seaborn as sns\n",
    "import numpy as np\n",
    "from kde_ebm.mixture_model import fit_all_gmm_models\n",
    "from kde_ebm import mixture_model\n",
    "from sSuStaIn.sEBMSustain import sEBMSustain, sEBMSustainData\n",
    "import os\n",
    "import numpy.ma as ma\n",
    "from collections import Counter\n",
    "from dateutil.relativedelta import relativedelta\n"
   ]
  },
  {
   "cell_type": "code",
   "execution_count": 2,
   "id": "0920200d",
   "metadata": {},
   "outputs": [],
   "source": [
    "%load_ext autoreload\n",
    "%autoreload 2\n",
    "%matplotlib inline\n",
    "import matplotlib.pyplot as plt\n",
    "from matplotlib import cm\n",
    "hfont = {'fontname':'Arial'}"
   ]
  },
  {
   "cell_type": "code",
   "execution_count": 3,
   "id": "49390950",
   "metadata": {},
   "outputs": [],
   "source": [
    "def process_L(L, min_val=0):\n",
    "    mx = ma.masked_less_equal(L,min_val)\n",
    "    min_masked = mx.min(axis=0)\n",
    "    L_new = mx.filled(fill_value=min_masked)\n",
    "    return L_new"
   ]
  },
  {
   "cell_type": "markdown",
   "id": "fd1d4edd",
   "metadata": {},
   "source": [
    "## Change the path to the pickled file"
   ]
  },
  {
   "cell_type": "code",
   "execution_count": 21,
   "id": "ec057597",
   "metadata": {},
   "outputs": [],
   "source": [
    "# Read the pickled file\n",
    "pickle_path = \"/nethome/rtandon32/ebm/s-SuStain-outputs/sim_tadpole_cov4_mixture_GMM/pickle_files/sim_tadpole_cov4_subtype0.pickle\"\n",
    "with open(pickle_path, \"rb\") as input_file:\n",
    "    pkl = pickle.load(input_file)"
   ]
  },
  {
   "cell_type": "code",
   "execution_count": 22,
   "id": "4ac8f628",
   "metadata": {},
   "outputs": [
    {
     "data": {
      "text/plain": [
       "(5000, 1)"
      ]
     },
     "execution_count": 22,
     "metadata": {},
     "output_type": "execute_result"
    }
   ],
   "source": [
    "pkl[\"samples_likelihood\"].shape"
   ]
  },
  {
   "cell_type": "markdown",
   "id": "678dd49b",
   "metadata": {},
   "source": [
    "### Check that the MCI and CN/AD files have same column names"
   ]
  },
  {
   "cell_type": "code",
   "execution_count": 23,
   "id": "0e2a1645",
   "metadata": {},
   "outputs": [],
   "source": [
    "# MCI and CN/AD data\n",
    "cn_ad_path = \"/home/rtandon32/ebm/ebm_experiments/experiment_scripts/real_data/dfMri_D12_ebm_final_n327.csv\"\n",
    "df_cnad = pd.read_csv(cn_ad_path)\n",
    "mci_path = \"/nethome/rtandon32/ebm/ebm_experiments/experiment_scripts/real_data/dfMri_D12_ebm_mci.csv\"\n",
    "df_mci = pd.read_csv(mci_path)\n",
    "df_cnad[\"EXAMDATE\"] = pd.to_datetime(df_cnad[\"EXAMDATE\"])\n",
    "df_mci[\"EXAMDATE\"] = pd.to_datetime(df_mci[\"EXAMDATE\"])\n",
    "assert all(df_mci.columns == df_cnad.columns)"
   ]
  },
  {
   "cell_type": "markdown",
   "id": "48db514e",
   "metadata": {},
   "source": [
    "## Subtyping and Staging the subjects"
   ]
  },
  {
   "cell_type": "markdown",
   "id": "d1876c72",
   "metadata": {},
   "source": [
    "### Get the probability matrices for CN/AD"
   ]
  },
  {
   "cell_type": "code",
   "execution_count": 7,
   "id": "12704b61",
   "metadata": {},
   "outputs": [],
   "source": [
    "S = pkl[\"ml_sequence_EM\"][0]"
   ]
  },
  {
   "cell_type": "code",
   "execution_count": 24,
   "id": "d12fe69f",
   "metadata": {},
   "outputs": [
    {
     "ename": "TypeError",
     "evalue": "__init__() takes 4 positional arguments but 7 were given",
     "output_type": "error",
     "traceback": [
      "\u001b[0;31m---------------------------------------------------------------------------\u001b[0m",
      "\u001b[0;31mTypeError\u001b[0m                                 Traceback (most recent call last)",
      "Cell \u001b[0;32mIn[24], line 18\u001b[0m\n\u001b[1;32m     16\u001b[0m y \u001b[38;5;241m=\u001b[39m df_cnad[\u001b[38;5;124m\"\u001b[39m\u001b[38;5;124mDX\u001b[39m\u001b[38;5;124m\"\u001b[39m]\u001b[38;5;241m.\u001b[39mmap({\u001b[38;5;124m\"\u001b[39m\u001b[38;5;124mDementia\u001b[39m\u001b[38;5;124m\"\u001b[39m:\u001b[38;5;241m1\u001b[39m, \u001b[38;5;124m\"\u001b[39m\u001b[38;5;124mCN\u001b[39m\u001b[38;5;124m\"\u001b[39m:\u001b[38;5;241m0\u001b[39m})\n\u001b[1;32m     17\u001b[0m _ones \u001b[38;5;241m=\u001b[39m np\u001b[38;5;241m.\u001b[39mones(X\u001b[38;5;241m.\u001b[39mshape)\n\u001b[0;32m---> 18\u001b[0m sustain_data \u001b[38;5;241m=\u001b[39m \u001b[43msEBMSustainData\u001b[49m\u001b[43m(\u001b[49m\u001b[43m_ones\u001b[49m\u001b[43m,\u001b[49m\u001b[43m \u001b[49m\u001b[43m_ones\u001b[49m\u001b[43m,\u001b[49m\u001b[43m \u001b[49m\u001b[38;5;241;43m5\u001b[39;49m\u001b[43m,\u001b[49m\u001b[43m \u001b[49m\u001b[43mX\u001b[49m\u001b[43m,\u001b[49m\u001b[43m \u001b[49m\u001b[43my\u001b[49m\u001b[43m,\u001b[49m\u001b[43m \u001b[49m\u001b[38;5;28;43;01mNone\u001b[39;49;00m\u001b[43m)\u001b[49m\n",
      "\u001b[0;31mTypeError\u001b[0m: __init__() takes 4 positional arguments but 7 were given"
     ]
    }
   ],
   "source": [
    "# Get the mixture model for the CN/AD subjects\n",
    "# k=119\n",
    "# exclude_idx = [21,  71,  22,  19, 111,  64,  96,  44,  90,  50,  80,  57,   9,\n",
    "#         77,  33, 113,  76,  98, 105,  79,  41,   4,  87, 107, 114,  20,\n",
    "#          2, 110,  84,  23,  58,   1,  60,  56,  10,  94,  49,  74,   0,\n",
    "#         92,  91,  18,  61,  43,  45, 108,  78, 118,  62,   8,   5,  46,\n",
    "#          3,  47,  48,  53,  42, 112,  73]\n",
    "\n",
    "# select_cols = [_ for _ in range(k) if _ not in exclude_idx]\n",
    "# X = df_cnad.iloc[:,select_cols]\n",
    "k = 20\n",
    "X = df_cnad.iloc[:,:k]\n",
    "bm_names = X.columns.tolist()\n",
    "X = X.values\n",
    "# bm_names = df_cnad.columns[:k].tolist()\n",
    "y = df_cnad[\"DX\"].map({\"Dementia\":1, \"CN\":0})\n",
    "_ones = np.ones(X.shape)\n",
    "sustain_data = sEBMSustainData(_ones, _ones, 5, X, y, None)"
   ]
  },
  {
   "cell_type": "markdown",
   "id": "e8d97228",
   "metadata": {},
   "source": [
    "### Create a SuStaIn object to call the associated methods"
   ]
  },
  {
   "cell_type": "code",
   "execution_count": 9,
   "id": "b94e0887",
   "metadata": {},
   "outputs": [],
   "source": [
    "# Create the SuStaIn object for the sEBM model\n",
    "stage_sizes = [12,12,12,12,12]\n",
    "N_startpoints           = 1\n",
    "N_S_max                 = 1\n",
    "rep = 1\n",
    "N_iterations_MCMC_init = int(2e4)\n",
    "N_iterations_MCMC       = int(5e5)  #Generally recommend either 1e5 or 1e6 (the latter may be slow though) in practice\n",
    "n_stages = 5\n",
    "min_clust_size = 3\n",
    "p_absorb = 0.35\n",
    "N_em = 100\n",
    "# SuStaInLabels = df_cnad.columns[:k].tolist()\n",
    "SuStaInLabels = bm_names\n",
    "dataset_name            = 'sim_cov5'\n",
    "output_dir              = '/home/rtandon32/ebm/s-SuStain-outputs'\n",
    "sustainType             = 'mixture_GMM'\n",
    "output_folder           = os.path.join(output_dir, dataset_name + '_' + sustainType)\n",
    "use_parallel_startpoints = False\n",
    "bgmm_params = {\"n_components\":2, \"covariance_type\":\"full\", \n",
    "                \"init_params\":\"random_from_data\", \"reg_covar\":5e-5,\n",
    "                \"weight_concentration_prior_type\":\"dirichlet_distribution\",\n",
    "                \"weight_concentration_prior\":0.1, \"n_init\":1, \"tol\":1e-2, \"max_iter\":1000,\n",
    "                \"random_state\":0}\n",
    "sustain = sEBMSustain(_ones, _ones, n_stages, stage_sizes, min_clust_size, p_absorb, rep, \n",
    "                      SuStaInLabels, N_startpoints, N_S_max, N_iterations_MCMC_init, \n",
    "                      N_iterations_MCMC, N_em, X, y, None, bgmm_params, output_folder, \n",
    "                      dataset_name, use_parallel_startpoints)"
   ]
  },
  {
   "cell_type": "markdown",
   "id": "7e3d11f2",
   "metadata": {},
   "source": [
    "### Subtype and Stage CN/AD data"
   ]
  },
  {
   "cell_type": "code",
   "execution_count": 10,
   "id": "ba3b3e90",
   "metadata": {},
   "outputs": [
    {
     "name": "stdout",
     "output_type": "stream",
     "text": [
      "Log-likelihood :  -143865.0723705012\n",
      "Log-likelihood :  -143865.10081795588\n",
      "Log-likelihood :  -143864.8508428562\n",
      "Log-likelihood :  -143865.86733665632\n",
      "Log-likelihood :  -143864.9439301072\n",
      "Log-likelihood :  -143866.08020244178\n",
      "Log-likelihood :  -143911.6969773487\n",
      "Log-likelihood :  -143911.96019434754\n",
      "Log-likelihood :  -143902.6936642758\n",
      "Log-likelihood :  -143907.99510835024\n",
      "Log-likelihood :  -143864.87452573742\n",
      "Log-likelihood :  -143864.98659011576\n",
      "Log-likelihood :  -143910.61586035753\n",
      "Log-likelihood :  -143864.91812215344\n",
      "Log-likelihood :  -143864.9157927948\n",
      "Log-likelihood :  -143865.07803778292\n",
      "Log-likelihood :  -143864.99484169908\n",
      "Log-likelihood :  -143940.88865396252\n",
      "Log-likelihood :  -143864.98057707027\n",
      "Log-likelihood :  -143869.0347103229\n"
     ]
    }
   ],
   "source": [
    "# subtype and stage CN/AD data\n",
    "last_N = 2000\n",
    "N_samples = 20\n",
    "sustainData_cnad = sEBMSustainData(_ones, _ones, n_stages, X, y)\n",
    "samples_sequence = pkl[\"samples_sequence\"][:,:,-last_N:]\n",
    "samples_f = pkl[\"samples_f\"][:,-last_N:]\n",
    "shape_seq = pkl[\"shape_seq\"]\n",
    "\n",
    "ml_subtype_cnad, \\\n",
    "prob_ml_subtype_cnad, \\\n",
    "ml_stage_cnad, \\\n",
    "prob_ml_stage_cnad, \\\n",
    "prob_subtype_cnad, \\\n",
    "prob_stage_cnad, \\\n",
    "prob_subtype_stage_cnad, _ = sustain.subtype_and_stage_individuals(sustainData_cnad, shape_seq, samples_sequence, samples_f, N_samples)\n"
   ]
  },
  {
   "cell_type": "code",
   "execution_count": 11,
   "id": "17b936b7",
   "metadata": {},
   "outputs": [
    {
     "data": {
      "text/plain": [
       "242421.46483180427"
      ]
     },
     "execution_count": 11,
     "metadata": {},
     "output_type": "execute_result"
    }
   ],
   "source": [
    "143869*551/327"
   ]
  },
  {
   "cell_type": "code",
   "execution_count": 12,
   "id": "ed53f3f9",
   "metadata": {},
   "outputs": [],
   "source": [
    "df_cnad_stages = np.hstack([ml_stage_cnad, y.values.reshape(-1,1)])\n",
    "df_cnad_stages = pd.DataFrame(df_cnad_stages, columns=[\"stage\", \"dx\"])"
   ]
  },
  {
   "cell_type": "code",
   "execution_count": 13,
   "id": "ea3e5b3b",
   "metadata": {},
   "outputs": [
    {
     "data": {
      "text/plain": [
       "<AxesSubplot: xlabel='stage', ylabel='value'>"
      ]
     },
     "execution_count": 13,
     "metadata": {},
     "output_type": "execute_result"
    },
    {
     "data": {
      "image/png": "[encoded data removed]",
      "text/plain": [
       "<Figure size 640x480 with 1 Axes>"
      ]
     },
     "metadata": {},
     "output_type": "display_data"
    }
   ],
   "source": [
    "df_cnad_grouped = df_cnad_stages.groupby([\"stage\", \"dx\"]).size().reset_index()\n",
    "df_cnad_pivot = df_cnad_grouped.pivot(columns=\"dx\", values=0, index=\"stage\").fillna(0)\n",
    "df_cnad_pivot /= df_cnad_pivot.sum(axis=0)\n",
    "counts_bar = df_cnad_pivot.melt(ignore_index=False, value_vars=[0,1]).reset_index()\n",
    "sns.barplot(data=counts_bar, x=\"stage\", y=\"value\", \n",
    "            hue=\"dx\",edgecolor=\"k\",linewidth=1)"
   ]
  },
  {
   "cell_type": "code",
   "execution_count": 14,
   "id": "3d669a02",
   "metadata": {},
   "outputs": [],
   "source": [
    "# Get the prob mat for the mci subjects\n",
    "X_mci = df_mci.iloc[:,:k].values\n",
    "# prob_mat_mci = mixture_model.get_prob_mat(X_mci, mixture_models)\n",
    "# L_no_mci = prob_mat_mci[:,:,0]\n",
    "# L_yes_mci = prob_mat_mci[:,:,1]\n",
    "# L_no_mci = process_L(L_no_mci)\n",
    "# L_yes_mci = process_L(L_yes_mci)"
   ]
  },
  {
   "cell_type": "code",
   "execution_count": 15,
   "id": "b38a72c4",
   "metadata": {},
   "outputs": [
    {
     "data": {
      "text/plain": [
       "(551, 60)"
      ]
     },
     "execution_count": 15,
     "metadata": {},
     "output_type": "execute_result"
    }
   ],
   "source": [
    "X_mci.shape"
   ]
  },
  {
   "cell_type": "markdown",
   "id": "b45d7d20",
   "metadata": {},
   "source": [
    "### Subtype and Stage the MCI subjects"
   ]
  },
  {
   "cell_type": "code",
   "execution_count": 16,
   "id": "46369ce6",
   "metadata": {},
   "outputs": [
    {
     "name": "stdout",
     "output_type": "stream",
     "text": [
      "Log-likelihood :  -246476.70467106998\n",
      "Log-likelihood :  -246476.69129435415\n",
      "Log-likelihood :  -246476.14436850452\n",
      "Log-likelihood :  -246478.32956336706\n",
      "Log-likelihood :  -246476.33245547483\n",
      "Log-likelihood :  -246479.16285905096\n",
      "Log-likelihood :  -246494.92739975394\n",
      "Log-likelihood :  -246495.1021534953\n",
      "Log-likelihood :  -246485.84757373398\n",
      "Log-likelihood :  -246491.43253312827\n",
      "Log-likelihood :  -246476.16785496866\n",
      "Log-likelihood :  -246476.4644000113\n",
      "Log-likelihood :  -246494.0973755735\n",
      "Log-likelihood :  -246476.29350820614\n",
      "Log-likelihood :  -246476.28884834435\n",
      "Log-likelihood :  -246476.71495127567\n",
      "Log-likelihood :  -246476.5248754977\n",
      "Log-likelihood :  -246515.900137545\n",
      "Log-likelihood :  -246476.45453163466\n",
      "Log-likelihood :  -246474.74861194353\n"
     ]
    }
   ],
   "source": [
    "# Subtype and Stage the MCI subjects\n",
    "last_N = 2000\n",
    "N_samples = 20\n",
    "sustainData_newData = sEBMSustainData(_ones, _ones, n_stages, X, y, X_mci)\n",
    "samples_sequence = pkl[\"samples_sequence\"][:,:,-last_N:]\n",
    "samples_f = pkl[\"samples_f\"][:,-last_N:]\n",
    "shape_seq = pkl[\"shape_seq\"]\n",
    "temp_mean_f = np.mean(samples_f, axis=1)\n",
    "ix = np.argsort(temp_mean_f)[::-1]\n",
    "\n",
    "ml_subtype_mci, \\\n",
    "prob_ml_subtype_mci, \\\n",
    "ml_stage_mci, \\\n",
    "prob_ml_stage_mci, \\\n",
    "prob_subtype_mci, \\\n",
    "prob_stage_mci, \\\n",
    "prob_subtype_stage_mci, ll = sustain.subtype_and_stage_individuals(sustainData_newData, shape_seq, samples_sequence, samples_f, N_samples)\n"
   ]
  },
  {
   "cell_type": "code",
   "execution_count": 20,
   "id": "905e5e1b",
   "metadata": {},
   "outputs": [
    {
     "data": {
      "text/plain": [
       "<AxesSubplot: xlabel='stage', ylabel='value'>"
      ]
     },
     "execution_count": 20,
     "metadata": {},
     "output_type": "execute_result"
    },
    {
     "data": {
      "image/png": "[encoded data removed]",
      "text/plain": [
       "<Figure size 640x480 with 1 Axes>"
      ]
     },
     "metadata": {},
     "output_type": "display_data"
    }
   ],
   "source": [
    "df_mci_stages = np.hstack([ml_stage_mci, np.ones(ml_stage_mci.shape)*2])\n",
    "df_mci_stages = pd.DataFrame(df_mci_stages, columns=[\"stage\", \"dx\"])\n",
    "df_stages = pd.concat([df_cnad_stages, df_mci_stages], axis=0)\n",
    "df_grouped = df_stages.groupby([\"stage\", \"dx\"]).size().reset_index()\n",
    "df_pivot = df_grouped.pivot(columns=\"dx\", values=0, index=\"stage\").fillna(0)\n",
    "df_pivot /= df_pivot.sum(axis=0)\n",
    "counts_bar = df_pivot.melt(ignore_index=False, value_vars=[0,1,2]).reset_index()\n",
    "counts_bar[\"dx\"] = counts_bar[\"dx\"].map({0.0:\"Control\", 1.0:\"AD\", 2.0:\"MCI\"})\n",
    "palette = [\"g\", \"orange\",\"r\"]\n",
    "sns.barplot(data=counts_bar, x=\"stage\", y=\"value\", \n",
    "            hue=\"dx\",edgecolor=\"k\",linewidth=1, \n",
    "            hue_order=[\"Control\", \"MCI\", \"AD\"], palette = palette)"
   ]
  },
  {
   "cell_type": "code",
   "execution_count": 18,
   "id": "33e19957",
   "metadata": {},
   "outputs": [
    {
     "data": {
      "text/html": [
       "<div>\n",
       "<style scoped>\n",
       "    .dataframe tbody tr th:only-of-type {\n",
       "        vertical-align: middle;\n",
       "    }\n",
       "\n",
       "    .dataframe tbody tr th {\n",
       "        vertical-align: top;\n",
       "    }\n",
       "\n",
       "    .dataframe thead th {\n",
       "        text-align: right;\n",
       "    }\n",
       "</style>\n",
       "<table border=\"1\" class=\"dataframe\">\n",
       "  <thead>\n",
       "    <tr style=\"text-align: right;\">\n",
       "      <th></th>\n",
       "      <th>stage</th>\n",
       "      <th>dx</th>\n",
       "      <th>value</th>\n",
       "    </tr>\n",
       "  </thead>\n",
       "  <tbody>\n",
       "    <tr>\n",
       "      <th>0</th>\n",
       "      <td>0.0</td>\n",
       "      <td>0.0</td>\n",
       "      <td>0.511765</td>\n",
       "    </tr>\n",
       "    <tr>\n",
       "      <th>1</th>\n",
       "      <td>1.0</td>\n",
       "      <td>0.0</td>\n",
       "      <td>0.270588</td>\n",
       "    </tr>\n",
       "    <tr>\n",
       "      <th>2</th>\n",
       "      <td>2.0</td>\n",
       "      <td>0.0</td>\n",
       "      <td>0.094118</td>\n",
       "    </tr>\n",
       "    <tr>\n",
       "      <th>3</th>\n",
       "      <td>3.0</td>\n",
       "      <td>0.0</td>\n",
       "      <td>0.076471</td>\n",
       "    </tr>\n",
       "    <tr>\n",
       "      <th>4</th>\n",
       "      <td>4.0</td>\n",
       "      <td>0.0</td>\n",
       "      <td>0.041176</td>\n",
       "    </tr>\n",
       "    <tr>\n",
       "      <th>5</th>\n",
       "      <td>5.0</td>\n",
       "      <td>0.0</td>\n",
       "      <td>0.005882</td>\n",
       "    </tr>\n",
       "    <tr>\n",
       "      <th>6</th>\n",
       "      <td>0.0</td>\n",
       "      <td>1.0</td>\n",
       "      <td>0.070064</td>\n",
       "    </tr>\n",
       "    <tr>\n",
       "      <th>7</th>\n",
       "      <td>1.0</td>\n",
       "      <td>1.0</td>\n",
       "      <td>0.407643</td>\n",
       "    </tr>\n",
       "    <tr>\n",
       "      <th>8</th>\n",
       "      <td>2.0</td>\n",
       "      <td>1.0</td>\n",
       "      <td>0.363057</td>\n",
       "    </tr>\n",
       "    <tr>\n",
       "      <th>9</th>\n",
       "      <td>3.0</td>\n",
       "      <td>1.0</td>\n",
       "      <td>0.057325</td>\n",
       "    </tr>\n",
       "    <tr>\n",
       "      <th>10</th>\n",
       "      <td>4.0</td>\n",
       "      <td>1.0</td>\n",
       "      <td>0.095541</td>\n",
       "    </tr>\n",
       "    <tr>\n",
       "      <th>11</th>\n",
       "      <td>5.0</td>\n",
       "      <td>1.0</td>\n",
       "      <td>0.006369</td>\n",
       "    </tr>\n",
       "    <tr>\n",
       "      <th>12</th>\n",
       "      <td>0.0</td>\n",
       "      <td>2.0</td>\n",
       "      <td>0.346642</td>\n",
       "    </tr>\n",
       "    <tr>\n",
       "      <th>13</th>\n",
       "      <td>1.0</td>\n",
       "      <td>2.0</td>\n",
       "      <td>0.375681</td>\n",
       "    </tr>\n",
       "    <tr>\n",
       "      <th>14</th>\n",
       "      <td>2.0</td>\n",
       "      <td>2.0</td>\n",
       "      <td>0.170599</td>\n",
       "    </tr>\n",
       "    <tr>\n",
       "      <th>15</th>\n",
       "      <td>3.0</td>\n",
       "      <td>2.0</td>\n",
       "      <td>0.052632</td>\n",
       "    </tr>\n",
       "    <tr>\n",
       "      <th>16</th>\n",
       "      <td>4.0</td>\n",
       "      <td>2.0</td>\n",
       "      <td>0.049002</td>\n",
       "    </tr>\n",
       "    <tr>\n",
       "      <th>17</th>\n",
       "      <td>5.0</td>\n",
       "      <td>2.0</td>\n",
       "      <td>0.005445</td>\n",
       "    </tr>\n",
       "  </tbody>\n",
       "</table>\n",
       "</div>"
      ],
      "text/plain": [
       "    stage   dx     value\n",
       "0     0.0  0.0  0.511765\n",
       "1     1.0  0.0  0.270588\n",
       "2     2.0  0.0  0.094118\n",
       "3     3.0  0.0  0.076471\n",
       "4     4.0  0.0  0.041176\n",
       "5     5.0  0.0  0.005882\n",
       "6     0.0  1.0  0.070064\n",
       "7     1.0  1.0  0.407643\n",
       "8     2.0  1.0  0.363057\n",
       "9     3.0  1.0  0.057325\n",
       "10    4.0  1.0  0.095541\n",
       "11    5.0  1.0  0.006369\n",
       "12    0.0  2.0  0.346642\n",
       "13    1.0  2.0  0.375681\n",
       "14    2.0  2.0  0.170599\n",
       "15    3.0  2.0  0.052632\n",
       "16    4.0  2.0  0.049002\n",
       "17    5.0  2.0  0.005445"
      ]
     },
     "execution_count": 18,
     "metadata": {},
     "output_type": "execute_result"
    }
   ],
   "source": [
    "counts_bar"
   ]
  },
  {
   "cell_type": "markdown",
   "id": "50395ffd",
   "metadata": {},
   "source": [
    "### Subtype and Stage CN/AD data"
   ]
  },
  {
   "cell_type": "code",
   "execution_count": null,
   "id": "768c0d9b",
   "metadata": {},
   "outputs": [],
   "source": [
    "# subtype and stage CN/AD data\n",
    "\n",
    "sustainData_cnad = sEBMSustainData(L_yes, L_no, n_stages)\n",
    "samples_sequence = pkl[\"samples_sequence\"][:,:,-last_N:]\n",
    "samples_f = pkl[\"samples_f\"][:,-last_N:]\n",
    "shape_seq = pkl[\"shape_seq\"]\n",
    "\n",
    "ml_subtype_cnad, \\\n",
    "prob_ml_subtype_cnad, \\\n",
    "ml_stage_cnad, \\\n",
    "prob_ml_stage_cnad, \\\n",
    "prob_subtype_cnad, \\\n",
    "prob_stage_cnad, \\\n",
    "prob_subtype_stage_cnad, _ = sustain.subtype_and_stage_individuals(sustainData_cnad, shape_seq, samples_sequence, samples_f, N_samples)\n"
   ]
  },
  {
   "cell_type": "code",
   "execution_count": null,
   "id": "0f065383",
   "metadata": {},
   "outputs": [],
   "source": [
    "n_cnad = ml_subtype_cnad.shape[0]\n",
    "n_mci = ml_subtype_mci.shape[0]\n",
    "unique_cnad, counts_cnad = np.unique(ml_subtype_cnad, return_counts=True)\n",
    "unique_mci, counts_mci = np.unique(ml_subtype_mci, return_counts=True)\n",
    "\n",
    "fraction_cnad = {}\n",
    "dict_cnad = dict(zip(unique_cnad, counts_cnad))\n",
    "for k, v in dict_cnad.items():\n",
    "    fraction_cnad[k] = v/n_cnad\n",
    "    \n",
    "fraction_mci = {}\n",
    "dict_mci = dict(zip(unique_mci, counts_mci))\n",
    "for k, v in dict_mci.items():\n",
    "    fraction_mci[k] = v/n_mci\n",
    "    \n",
    "print(\"CN/AD fractions across subtypes : \\n\", fraction_cnad)\n",
    "print(\"MCI fractions across subtypes : \\n\", fraction_mci)"
   ]
  },
  {
   "cell_type": "markdown",
   "id": "e8ed0f7e",
   "metadata": {},
   "source": [
    "### Get subjects for a givensubtype"
   ]
  },
  {
   "cell_type": "markdown",
   "id": "7284479f",
   "metadata": {},
   "source": [
    "### Prepare final dataframe which has subtype, stage, PTID, DX, and EXAMDATE for all subjects"
   ]
  },
  {
   "cell_type": "code",
   "execution_count": null,
   "id": "c0e7ba89",
   "metadata": {},
   "outputs": [],
   "source": [
    "# DataFrame for CN/AD subjects\n",
    "array_subtype_stage_cnad = np.hstack([ml_subtype_cnad, ml_stage_cnad, y.values.reshape(-1,1)])\n",
    "cnad_solved = pd.DataFrame(data=array_subtype_stage_cnad, columns=[\"subtype\", \"stage\", \"DX\"])\n",
    "cnad_solved[[\"PTID\", \"EXAMDATE\"]] = df_cnad[[\"PTID\", \"EXAMDATE\"]]"
   ]
  },
  {
   "cell_type": "code",
   "execution_count": null,
   "id": "d0fd62f4",
   "metadata": {},
   "outputs": [],
   "source": [
    "# DataFrame for MCI subjects\n",
    "array_subtype_stage_mci = np.hstack([ml_subtype_mci, ml_stage_mci])\n",
    "mci_solved = pd.DataFrame(data=array_subtype_stage_mci, columns=[\"subtype\", \"stage\"])\n",
    "mci_solved[\"DX\"] = 2.0\n",
    "mci_solved[[\"PTID\", \"EXAMDATE\"]] = df_mci[[\"PTID\", \"EXAMDATE\"]]\n",
    "final_df = pd.concat([cnad_solved, mci_solved], axis=0)"
   ]
  },
  {
   "cell_type": "code",
   "execution_count": null,
   "id": "54002be1",
   "metadata": {},
   "outputs": [],
   "source": [
    "final_df[\"DX\"] = final_df[\"DX\"].map({0.0:\"Controls\", 1.0:\"AD\", 2.0:\"MCI\"})"
   ]
  },
  {
   "cell_type": "code",
   "execution_count": null,
   "id": "78ca4414",
   "metadata": {},
   "outputs": [],
   "source": [
    "def append_counts_bar(df, st_min=0, st_max=5):\n",
    "    if df[\"stage\"].min() > st_min:\n",
    "        new_row = {\"stage\":0.0, \"DX\":\"Controls\", \"value\":0.0}\n",
    "#         new_row = {\"stage\":0.0, \"DX\":\"MCI\", \"value\":0.0}\n",
    "#         new_row = {\"stage\":0.0, \"DX\":\"AD\", \"value\":0.0}\n",
    "        df = df.append(new_row, ignore_index=True)\n",
    "    if df[\"stage\"].max() < st_max:\n",
    "        new_row = {\"stage\":5.0, \"DX\":\"AD\", \"value\":0.0}\n",
    "        df = df.append(new_row, ignore_index=True)\n",
    "    return df"
   ]
  },
  {
   "cell_type": "code",
   "execution_count": null,
   "id": "e6a644d2",
   "metadata": {},
   "outputs": [],
   "source": [
    "subtype_select = 3\n",
    "final_df_grouped = final_df[final_df[\"subtype\"] == subtype_select].groupby([\"stage\", \"DX\"]).size().reset_index()\n",
    "final_df_pivot = final_df_grouped.pivot(columns=\"DX\", values=0, index=\"stage\").fillna(0)\n",
    "final_df_pivot /= final_df_pivot.sum(axis=0)\n",
    "counts_bar = final_df_pivot.melt(ignore_index=False, value_vars=[\"Controls\",\"AD\",\"MCI\"]).reset_index()"
   ]
  },
  {
   "cell_type": "code",
   "execution_count": null,
   "id": "e3ae3eb5",
   "metadata": {},
   "outputs": [],
   "source": [
    "counts_bar = append_counts_bar(counts_bar)"
   ]
  },
  {
   "cell_type": "code",
   "execution_count": null,
   "id": "ee3840e8",
   "metadata": {},
   "outputs": [],
   "source": [
    "counts_bar[\"stage\"] = counts_bar[\"stage\"].astype(int)"
   ]
  },
  {
   "cell_type": "code",
   "execution_count": null,
   "id": "0303c1fe",
   "metadata": {},
   "outputs": [],
   "source": [
    "fig, ax = plt.subplots(figsize=(4,2))\n",
    "hue_order=[\"Controls\", \"MCI\", \"AD\"]\n",
    "palette = [\"g\", \"orange\",\"r\"]\n",
    "sns.barplot(data=counts_bar, x=\"stage\", y=\"value\", \n",
    "            hue=\"DX\",ax=ax, hue_order=hue_order, \n",
    "            palette=palette,edgecolor=\"k\",linewidth=1)\n",
    "ax.set_xlabel(\"stage\", fontsize=15)\n",
    "ax.set_ylabel(\"\")\n",
    "    \n",
    "ax.get_legend().remove()\n",
    "\n",
    "ax.tick_params(axis='both', which='major', labelsize=15)\n",
    "\n",
    "\n",
    "# ax.set_ylim([0])\n",
    "ax.set_title(\"Subtype {}\".format(int(subtype_select+1)), fontsize=12)\n",
    "sns.despine()\n",
    "plt.tight_layout()\n",
    "fig_path = \"/nethome/rtandon32/ebm/s-SuStain-outputs/sim_tadpole9_mixture_GMM/figures\"\n",
    "fname = \"stage_hist_subtype_{}.png\".format(int(subtype_select+1))\n",
    "fig.savefig(os.path.join(fig_path, fname), dpi=300, transparent=True)\n"
   ]
  },
  {
   "cell_type": "markdown",
   "id": "77d8ffc9",
   "metadata": {},
   "source": [
    "# Progression curves"
   ]
  },
  {
   "cell_type": "code",
   "execution_count": null,
   "id": "91caf2ce",
   "metadata": {},
   "outputs": [],
   "source": [
    "cmap = cm.get_cmap('autumn_r')\n",
    "delta_years = list(range(5,8))\n",
    "colors = [cmap(_) for _ in np.linspace(0.15,1,len(delta_years))]\n",
    "d_colors = dict(zip(delta_years, colors))"
   ]
  },
  {
   "cell_type": "markdown",
   "id": "e2e95bcf",
   "metadata": {},
   "source": [
    "## Prepare longitudinal data"
   ]
  },
  {
   "cell_type": "code",
   "execution_count": null,
   "id": "8aecfec2",
   "metadata": {},
   "outputs": [],
   "source": [
    "def prepare_logitudinal_data(first_visit_df):\n",
    "    # Read the MRI data across all subjects\n",
    "    path = \"/nethome/rtandon32/ebm/ebm_experiments/experiment_scripts/real_data/dfMri_D12_ebm.csv\"\n",
    "    df = pd.read_csv(path)\n",
    "    sid = df[\"Measure:volume\"].apply(lambda x: x.split(\"-\",1))\n",
    "    df_sid = pd.DataFrame(sid.tolist(), columns=[\"sid\", \"time\"])\n",
    "    sid_time = df_sid[\"time\"].apply(lambda x: x.split(\"_\",1))\n",
    "    df_sid_time = pd.DataFrame(sid_time.tolist(), columns=[\"date\", \"time\"])\n",
    "    df_concat = pd.concat([df_sid, df_sid_time], axis=1)[[\"sid\", \"date\"]]\n",
    "    df_concat[\"date\"] = pd.to_datetime(df_concat[\"date\"])\n",
    "\n",
    "    # Read the ADNIMERGE file     \n",
    "    adnimerge_path = \"/nethome/rtandon32/ebm/ebm_experiments/experiment_scripts/real_data/ADNIMERGE.csv\"\n",
    "    df_adnimerge =pd.read_csv(adnimerge_path)[[\"PTID\", \"DX_bl\", \"DX\", \"EXAMDATE\", \"VISCODE\", \"AGE\",\"PTGENDER\",\"PTEDUCAT\", \"APOE4\"]]\n",
    "    df_adnimerge[\"EXAMDATE\"] = pd.to_datetime(df_adnimerge[\"EXAMDATE\"])\n",
    "    merged_df = df_adnimerge.merge(df_concat, left_on=[\"PTID\", \"EXAMDATE\"], right_on=[\"sid\", \"date\"])\n",
    "    \n",
    "    # longitudinal_records\n",
    "    longitudinal_records = df_adnimerge.sort_values([\"PTID\", \"EXAMDATE\"]).set_index(\"PTID\").dropna(subset=[\"DX\"])\n",
    "    d = {}\n",
    "    for i, row in first_visit_df.iterrows():\n",
    "        ptid = row[\"PTID\"]\n",
    "        d[ptid] = longitudinal_records.loc[ptid, :]\n",
    "    return d, merged_df\n",
    "    "
   ]
  },
  {
   "cell_type": "code",
   "execution_count": null,
   "id": "cbc291ac",
   "metadata": {},
   "outputs": [],
   "source": [
    "d, merged_df = prepare_logitudinal_data(final_df)\n",
    "mci_demographics = merged_df[merged_df[\"DX\"].isin([\"MCI\"])].sort_values([\"PTID\", \"EXAMDATE\"]).drop_duplicates(\"PTID\", keep=\"first\")\n",
    "cn_demographics = merged_df[merged_df[\"DX\"].isin([\"CN\"])].sort_values([\"PTID\", \"EXAMDATE\"]).drop_duplicates(\"PTID\", keep=\"first\")"
   ]
  },
  {
   "cell_type": "code",
   "execution_count": null,
   "id": "2a5cefcd",
   "metadata": {},
   "outputs": [],
   "source": [
    "Su = 3.0\n",
    "mci_subtype = mci_solved[mci_solved[\"subtype\"]==Su]\n",
    "fraction = mci_subtype.shape[0]/mci_solved.shape[0]\n",
    "cox_mci = mci_demographics[mci_demographics[\"PTID\"].isin(mci_subtype[\"PTID\"])]\n",
    "dict_stage = dict(zip(mci_subtype[\"PTID\"],mci_subtype[\"stage\"]))"
   ]
  },
  {
   "cell_type": "code",
   "execution_count": null,
   "id": "66362997",
   "metadata": {
    "scrolled": true
   },
   "outputs": [],
   "source": [
    "cmap = cm.get_cmap('autumn_r')\n",
    "fig, ax = plt.subplots(1,1, figsize=(5,5), constrained_layout=True)\n",
    "delta_years = list(range(3,6))\n",
    "colors = [cmap(_) for _ in np.linspace(0.15,1,len(delta_years))]\n",
    "d_colors = dict(zip(delta_years, colors))\n",
    "save_path = \"/nethome/rtandon32/ebm/s-SuStain-outputs/sim_tadpole9_mixture_GMM/figures\"\n",
    "\n",
    "for dy in delta_years:\n",
    "    d2 = {}\n",
    "    dtd = {}\n",
    "    for i, row in mci_subtype.iterrows():\n",
    "        ptid = row[\"PTID\"]\n",
    "        examdate = row[\"EXAMDATE\"]\n",
    "        examdate_max = examdate + relativedelta(years=dy, months=0)\n",
    "        ptid_df = d[ptid].sort_values([\"EXAMDATE\"])\n",
    "        ptid_forward_df = ptid_df[(ptid_df[\"EXAMDATE\"] >= examdate) \n",
    "                            & (ptid_df[\"EXAMDATE\"] <= examdate_max)]\n",
    "        srs = ptid_forward_df[\"DX\"]\n",
    "        if type(srs) is str:\n",
    "            cnvrt = 0\n",
    "        else:\n",
    "            first_dx = srs[0]\n",
    "            assert first_dx == \"MCI\"\n",
    "            bool_srs = srs == \"Dementia\"\n",
    "            cnvrt = 1*any(bool_srs)\n",
    "            if cnvrt:\n",
    "                last_idx = np.where(bool_srs.values)[0][0]\n",
    "            else:\n",
    "                last_idx = bool_srs.shape[0]-1\n",
    "            time_delta = ptid_forward_df[\"EXAMDATE\"][last_idx] - ptid_forward_df[\"EXAMDATE\"][0]\n",
    "        dtd[ptid] = time_delta.days\n",
    "        d2[ptid] = cnvrt\n",
    "\n",
    "    mci_subtype[\"convert\"] = mci_subtype[\"PTID\"].map(d2)\n",
    "    df_convert = mci_subtype[mci_subtype[\"convert\"]==1]\n",
    "    dfc = df_convert\n",
    "    # EBM stages of controls who converted at a future time point\n",
    "    a = Counter(dfc[\"stage\"])\n",
    "    # EBM stages of all controls regardless of whether they converted or not \n",
    "    b = Counter(mci_subtype[\"stage\"])\n",
    "    d3 = {}\n",
    "    for i in range(6):\n",
    "        if i in a:\n",
    "            num = a[i]\n",
    "        else:\n",
    "            num = 0\n",
    "        if i in b:\n",
    "            den = b[i]\n",
    "        else:\n",
    "            den = np.nan\n",
    "        r = num/(den)\n",
    "        d3[i]=r\n",
    "    # print(stats.kendalltau(list(d3.keys()), list(d3.values())))\n",
    "    x = np.array(list(d3.keys()))\n",
    "    y = np.array(list(d3.values()))\n",
    "    ax.plot(x, y, label=str(dy) + \" years\", marker=\"o\", color=d_colors[dy])\n",
    "    ax.set_xlabel(\"stage\", fontsize=18)\n",
    "    cox_mci[\"convert\"] = cox_mci[\"PTID\"].map(d2)\n",
    "    cox_mci[\"time\"] = cox_mci[\"PTID\"].map(dtd)\n",
    "    cox_mci[\"subtype\"] = Su\n",
    "    cox_mci[\"stages_inferred\"] = cox_mci[\"PTID\"].map(dict_stage)\n",
    "    fname = \"cox_df_subtype_{}_delta_yrs_{}.csv\".format(Su,dy)\n",
    "    cox_mci.to_csv(os.path.join(save_path,fname))\n",
    "\n",
    "ax.spines['right'].set_visible(False)\n",
    "ax.spines['top'].set_visible(False)\n",
    "# if Su == 0.0:\n",
    "#     ax.set_ylabel(\"Fraction of MCI subjects\\nconverted to AD/Dementia\", fontsize=18)\n",
    "ax.set_title(\"Subtype {}, prevalence {}\".format(int(Su+1), np.round(fraction, 2)), \n",
    "             fontsize=18)\n",
    "ax.set_xlim([0,5])\n",
    "ax.set_ylim([0,1])\n",
    "# fig.subplots_adjust(right=0.5)\n",
    "plt.xticks(fontsize=18)\n",
    "# plt.tight_layout()\n",
    "plt.yticks(fontsize=18)\n",
    "plt.legend(fontsize=18, loc=2)\n",
    "fig_name = \"mci_subtype_{}.png\".format(Su)\n",
    "fig.savefig(os.path.join(save_path, fig_name), dpi=300)\n"
   ]
  },
  {
   "cell_type": "markdown",
   "id": "e0d644a7",
   "metadata": {},
   "source": [
    "## Controls progression"
   ]
  },
  {
   "cell_type": "code",
   "execution_count": null,
   "id": "54f1e06d",
   "metadata": {},
   "outputs": [],
   "source": [
    "d, merged_df = prepare_logitudinal_data(final_df)\n",
    "cn_demographics = merged_df[merged_df[\"DX_bl\"].isin([\"CN\"])].sort_values([\"PTID\", \"EXAMDATE\"]).drop_duplicates(\"PTID\", keep=\"first\")"
   ]
  },
  {
   "cell_type": "code",
   "execution_count": null,
   "id": "4725259c",
   "metadata": {},
   "outputs": [],
   "source": [
    "merged_df"
   ]
  },
  {
   "cell_type": "code",
   "execution_count": null,
   "id": "d574d471",
   "metadata": {},
   "outputs": [],
   "source": [
    "Su = 3.0\n",
    "cn_subtype = cnad_solved[(cnad_solved[\"subtype\"]==Su) & (cnad_solved[\"DX\"]==0.0)]\n",
    "fraction_cn = cn_subtype.shape[0]/cnad_solved[cnad_solved[\"DX\"]==0.0].shape[0]\n",
    "cox_cn = cn_demographics[cn_demographics[\"PTID\"].isin(cn_subtype[\"PTID\"])]\n",
    "dict_stage = dict(zip(cn_subtype[\"PTID\"],cn_subtype[\"stage\"]))"
   ]
  },
  {
   "cell_type": "code",
   "execution_count": null,
   "id": "b56f7290",
   "metadata": {},
   "outputs": [],
   "source": [
    "cmap = cm.get_cmap('autumn_r')\n",
    "fig, ax = plt.subplots(1,1, figsize=(5,5), constrained_layout=True)\n",
    "delta_years = list(range(5,8))\n",
    "colors = [cmap(_) for _ in np.linspace(0.15,1,len(delta_years))]\n",
    "d_colors = dict(zip(delta_years, colors))\n",
    "save_path = \"/nethome/rtandon32/ebm/s-SuStain-outputs/sim_tadpole9_mixture_GMM/figures\"\n",
    "\n",
    "for dy in delta_years:\n",
    "    d2 = {}\n",
    "    dtd = {}\n",
    "    for i, row in cn_subtype.iterrows():\n",
    "        ptid = row[\"PTID\"]\n",
    "        examdate = row[\"EXAMDATE\"]\n",
    "        examdate_max = examdate + relativedelta(years=dy, months=0)\n",
    "        ptid_df = d[ptid].sort_values([\"EXAMDATE\"])\n",
    "        ptid_forward_df = ptid_df[(ptid_df[\"EXAMDATE\"] >= examdate) \n",
    "                            & (ptid_df[\"EXAMDATE\"] <= examdate_max)]\n",
    "        srs = ptid_forward_df[\"DX\"]\n",
    "        if type(srs) is str:\n",
    "            cnvrt = 0\n",
    "        else:\n",
    "            first_dx = srs[0]\n",
    "            assert first_dx == \"CN\"\n",
    "            bool_srs = srs != first_dx\n",
    "            cnvrt = 1*any(bool_srs)\n",
    "            if cnvrt:\n",
    "                last_idx = np.where(bool_srs.values)[0][0]\n",
    "            else:\n",
    "                last_idx = bool_srs.shape[0]-1\n",
    "            time_delta = ptid_forward_df[\"EXAMDATE\"][last_idx] - ptid_forward_df[\"EXAMDATE\"][0]\n",
    "        dtd[ptid] = time_delta.days\n",
    "        d2[ptid] = cnvrt\n",
    "\n",
    "    cn_subtype[\"convert\"] = cn_subtype[\"PTID\"].map(d2)\n",
    "    df_convert = cn_subtype[cn_subtype[\"convert\"]==1]\n",
    "    dfc = df_convert\n",
    "    # EBM stages of controls who converted at a future time point\n",
    "    a = Counter(dfc[\"stage\"])\n",
    "    # EBM stages of all controls regardless of whether they converted or not \n",
    "    b = Counter(cn_subtype[\"stage\"])\n",
    "    d3 = {}\n",
    "    for i in range(6):\n",
    "        if i in a:\n",
    "            num = a[i]\n",
    "        else:\n",
    "            num = 0\n",
    "        if i in b:\n",
    "            den = b[i]\n",
    "        else:\n",
    "            den = np.nan\n",
    "        r = num/(den)\n",
    "        d3[i]=r\n",
    "    # print(stats.kendalltau(list(d3.keys()), list(d3.values())))\n",
    "    x = np.array(list(d3.keys()))\n",
    "    y = np.array(list(d3.values()))\n",
    "    ax.plot(x, y, label=str(dy) + \" years\", marker=\"o\", color=d_colors[dy])\n",
    "    ax.set_xlabel(\"sEBM stage\", fontsize=15)\n",
    "    cox_cn[\"convert\"] = cox_cn[\"PTID\"].map(d2)\n",
    "    cox_cn[\"time\"] = cox_cn[\"PTID\"].map(dtd)\n",
    "    cox_cn[\"subtype\"] = Su\n",
    "    cox_cn[\"stages_inferred\"] = cox_cn[\"PTID\"].map(dict_stage)\n",
    "    fname = \"CN_cox_df_subtype_{}_delta_yrs_{}.csv\".format(Su,dy)\n",
    "    cox_cn.to_csv(os.path.join(save_path,fname))\n",
    "    \n",
    "ax.set_ylabel(\"Fraction of CN subjects \\nconverted to AD\", fontsize=15)\n",
    "ax.set_title(\"Subtype {}, prevalence {}\".format(int(Su), np.round(fraction_cn, 2)), \n",
    "             fontsize=15)\n",
    "ax.set_xlim([0,5])\n",
    "ax.set_ylim([0,1.0])\n",
    "# fig.subplots_adjust(right=0.5)\n",
    "plt.xticks(fontsize=15)\n",
    "plt.tight_layout()\n",
    "# plt.xlim([0,6])\n",
    "plt.yticks(fontsize=15)\n",
    "plt.legend(fontsize=15, loc=2)\n",
    "fig_name = \"cn_subtype_{}.png\".format(Su)\n",
    "fig.savefig(os.path.join(save_path, fig_name), dpi=300)\n"
   ]
  },
  {
   "cell_type": "markdown",
   "id": "2729fbb7",
   "metadata": {},
   "source": [
    "## Longitudinal data analysis"
   ]
  },
  {
   "cell_type": "code",
   "execution_count": null,
   "id": "9bb729d7",
   "metadata": {},
   "outputs": [],
   "source": [
    "long_path = \"/nethome/rtandon32/ebm/ebm_experiments/experiment_scripts/real_data/df12_longitudinal_ebm.csv\"\n",
    "df_long = pd.read_csv(long_path)"
   ]
  },
  {
   "cell_type": "code",
   "execution_count": null,
   "id": "c76fd1fb",
   "metadata": {},
   "outputs": [],
   "source": [
    "df_long.shape"
   ]
  },
  {
   "cell_type": "code",
   "execution_count": null,
   "id": "525376d1",
   "metadata": {},
   "outputs": [],
   "source": [
    "len(set(df_long[\"sid\"]))"
   ]
  },
  {
   "cell_type": "code",
   "execution_count": null,
   "id": "92bac9d5",
   "metadata": {},
   "outputs": [],
   "source": [
    "327 + 551"
   ]
  },
  {
   "cell_type": "code",
   "execution_count": null,
   "id": "01b5a6cc",
   "metadata": {},
   "outputs": [],
   "source": [
    "df_long.shape"
   ]
  },
  {
   "cell_type": "code",
   "execution_count": null,
   "id": "6a16dc31",
   "metadata": {},
   "outputs": [],
   "source": [
    "set(final_df[\"PTID\"]) - set(df_long[\"sid\"])"
   ]
  },
  {
   "cell_type": "code",
   "execution_count": null,
   "id": "5920d87c",
   "metadata": {},
   "outputs": [],
   "source": [
    "len(set(final_df[\"PTID\"]))"
   ]
  },
  {
   "cell_type": "code",
   "execution_count": null,
   "id": "ea403e99",
   "metadata": {},
   "outputs": [],
   "source": [
    "all(df_long.columns[:119] == df_cnad.columns[:119])"
   ]
  },
  {
   "cell_type": "code",
   "execution_count": null,
   "id": "581ca1c8",
   "metadata": {},
   "outputs": [],
   "source": [
    "### List of CN/AD and MCI subjects"
   ]
  },
  {
   "cell_type": "code",
   "execution_count": null,
   "id": "158dec46",
   "metadata": {},
   "outputs": [],
   "source": [
    "# mci_subj_0 = mci_solved[mci_solved[\"subtype\"]==0.0][\"PTID\"].tolist()\n",
    "# mci_subj_1 = mci_solved[mci_solved[\"subtype\"]==1.0][\"PTID\"].tolist()"
   ]
  },
  {
   "cell_type": "code",
   "execution_count": null,
   "id": "539c4c90",
   "metadata": {},
   "outputs": [],
   "source": [
    "cnad_ptid = df_cnad[\"PTID\"].tolist()\n",
    "mci_ptid = df_mci[\"PTID\"].tolist()"
   ]
  },
  {
   "cell_type": "code",
   "execution_count": null,
   "id": "d22c263c",
   "metadata": {},
   "outputs": [],
   "source": [
    "df_long_cnad = df_long[df_long[\"sid\"].isin(cnad_ptid)]\n",
    "df_long_mci = df_long[df_long[\"sid\"].isin(mci_ptid)]"
   ]
  },
  {
   "cell_type": "code",
   "execution_count": null,
   "id": "59511a9b",
   "metadata": {},
   "outputs": [],
   "source": [
    "k = 119"
   ]
  },
  {
   "cell_type": "code",
   "execution_count": null,
   "id": "13b9341b",
   "metadata": {},
   "outputs": [],
   "source": [
    "prob_mat_mci_long = mixture_model.get_prob_mat(df_long_mci.iloc[:,:k].values, mixture_models)\n",
    "L_no_mci_long = prob_mat_mci_long[:,:,0]\n",
    "L_yes_mci_long = prob_mat_mci_long[:,:,1]\n",
    "L_yes_mci_long = process_L(L_yes_mci_long)\n",
    "L_no_mci_long = process_L(L_no_mci_long)"
   ]
  },
  {
   "cell_type": "code",
   "execution_count": null,
   "id": "d13ec304",
   "metadata": {},
   "outputs": [],
   "source": [
    "# Subtype and Stage the MCI subjects\n",
    "last_N = 1000000\n",
    "N_samples = 1000\n",
    "sustainData_mci_long = sEBMSustainData(L_yes_mci_long, L_no_mci_long, n_stages)\n",
    "samples_sequence = pkl[\"samples_sequence\"][:,:,-last_N:]\n",
    "samples_f = pkl[\"samples_f\"][:,-last_N:]\n",
    "shape_seq = pkl[\"shape_seq\"]\n",
    "temp_mean_f = np.mean(samples_f, axis=1)\n",
    "ix = np.argsort(temp_mean_f)[::-1]\n",
    "\n",
    "ml_subtype_mci, \\\n",
    "prob_ml_subtype_mci, \\\n",
    "ml_stage_mci, \\\n",
    "prob_ml_stage_mci, \\\n",
    "prob_subtype_mci, \\\n",
    "prob_stage_mci, \\\n",
    "prob_subtype_stage_mci,_ = sustain.subtype_and_stage_individuals(sustainData_mci_long, shape_seq, samples_sequence, samples_f, N_samples)\n"
   ]
  },
  {
   "cell_type": "code",
   "execution_count": null,
   "id": "0d7b6fae",
   "metadata": {},
   "outputs": [],
   "source": [
    "mci_long_subtype_stage = np.hstack([ml_subtype_mci, ml_stage_mci])"
   ]
  },
  {
   "cell_type": "code",
   "execution_count": null,
   "id": "a9081409",
   "metadata": {},
   "outputs": [],
   "source": [
    "mci_long_subtype_stage = np.hstack([ml_subtype_mci, ml_stage_mci])\n",
    "mci_long_subtype_stage = pd.DataFrame(mci_long_subtype_stage, columns=[\"subtype\", \"stage\"])\n",
    "mci_long_subtype_stage[[\"sid\", \"date\"]] = df_long_mci.reset_index()[[\"sid\", \"date\"]]\n",
    "mci_long_subtype_stage[\"date\"] = pd.to_datetime(mci_long_subtype_stage[\"date\"])\n",
    "df_followup = mci_long_subtype_stage\n",
    "df_followup = df_followup.sort_values([\"sid\", \"date\"])"
   ]
  },
  {
   "cell_type": "code",
   "execution_count": null,
   "id": "2888fcc5",
   "metadata": {},
   "outputs": [],
   "source": [
    "def get_pairs(vec):\n",
    "    trns = []\n",
    "    l = vec.shape[0]\n",
    "    for i in range(1,l):\n",
    "        trns.append((vec[:i][-1], vec[i:][0]))\n",
    "    return trns\n",
    "\n",
    "sub_dict = {}\n",
    "transform_dict = {}\n",
    "for sub in mci_ptid:\n",
    "# for sub in mci_subj_1:\n",
    "    df_subset = df_followup[df_followup[\"sid\"]==sub]\n",
    "    delta_days = df_subset[\"date\"] - min(df_subset[\"date\"])\n",
    "    delta_years = delta_days.apply(lambda x: x.days/365)\n",
    "    df_subset[\"delta_years\"] = delta_years\n",
    "    sub_dict[sub] = df_subset\n",
    "    vec = df_subset[\"subtype\"].values.astype(int)\n",
    "    transform_dict[sub] = get_pairs(vec)"
   ]
  },
  {
   "cell_type": "code",
   "execution_count": null,
   "id": "244f67e2",
   "metadata": {},
   "outputs": [],
   "source": [
    "count = np.zeros((4,4))\n",
    "for sub in mci_ptid:\n",
    "# for sub in mci_subj_1:\n",
    "    count_arr = transform_dict[sub]\n",
    "    for _ in count_arr:\n",
    "        count[_] += 1"
   ]
  },
  {
   "cell_type": "code",
   "execution_count": null,
   "id": "93053938",
   "metadata": {},
   "outputs": [],
   "source": [
    "fig, ax = plt.subplots(1,1, figsize=(6,6), sharex=True, sharey=True)\n",
    "count = count.astype(int)\n",
    "sns.heatmap(count/np.expand_dims(count.sum(axis=1),1), cmap=\"Greys\", annot=count, fmt='', cbar=False, square=True, ax=ax, annot_kws={'fontsize':18})\n",
    "ax.set_ylabel(\"subtype in last visit\", fontsize=18)\n",
    "ax.set_xlabel(\"subtype in follow-up visit\", fontsize=18)\n",
    "ax.set_xticklabels([1,2,3,4], fontsize=18)\n",
    "ax.set_yticklabels([1,2,3,4], fontsize=18)\n",
    "fig_name = \"longitudinal_subtype_followup_visit.png\"\n",
    "fig.savefig(os.path.join(save_path, fig_name), dpi=300, transparent=True)\n",
    "fig.tight_layout()"
   ]
  },
  {
   "cell_type": "code",
   "execution_count": null,
   "id": "96cf5d34",
   "metadata": {},
   "outputs": [],
   "source": [
    "count.trace() , count.sum()"
   ]
  },
  {
   "cell_type": "code",
   "execution_count": null,
   "id": "6e8a0b4e",
   "metadata": {},
   "outputs": [],
   "source": [
    "count.trace()/count.sum()"
   ]
  },
  {
   "cell_type": "code",
   "execution_count": null,
   "id": "0a4c4ff8",
   "metadata": {},
   "outputs": [],
   "source": [
    "x_ = np.array([0.35,0.27,0.15,0.23])\n",
    "np.dot(x_,x_)"
   ]
  },
  {
   "cell_type": "code",
   "execution_count": null,
   "id": "98c775ea",
   "metadata": {},
   "outputs": [],
   "source": [
    "mci_long_subtype_stage[[\"sid\", \"date\"]]"
   ]
  },
  {
   "cell_type": "code",
   "execution_count": null,
   "id": "cca68ccc",
   "metadata": {},
   "outputs": [],
   "source": [
    "df_long_mci"
   ]
  },
  {
   "cell_type": "code",
   "execution_count": null,
   "id": "255f1c2d",
   "metadata": {},
   "outputs": [],
   "source": [
    "mci_demographics, mci_solved"
   ]
  },
  {
   "cell_type": "code",
   "execution_count": null,
   "id": "519fd403",
   "metadata": {},
   "outputs": [],
   "source": [
    "mci_solved[\"EXAMDATE\"]"
   ]
  },
  {
   "cell_type": "code",
   "execution_count": null,
   "id": "1a16a6bb",
   "metadata": {},
   "outputs": [],
   "source": [
    "mci_demo_full = pd.merge(mci_demographics, mci_solved, on=[\"PTID\", \"EXAMDATE\"])"
   ]
  },
  {
   "cell_type": "code",
   "execution_count": null,
   "id": "f3357a2d",
   "metadata": {},
   "outputs": [],
   "source": [
    "mci_solved"
   ]
  },
  {
   "cell_type": "code",
   "execution_count": null,
   "id": "120ed49f",
   "metadata": {},
   "outputs": [],
   "source": [
    "final_df"
   ]
  },
  {
   "cell_type": "code",
   "execution_count": null,
   "id": "05f814ef",
   "metadata": {},
   "outputs": [],
   "source": [
    "mci_demo_full.head()"
   ]
  },
  {
   "cell_type": "code",
   "execution_count": null,
   "id": "6c2545c3",
   "metadata": {},
   "outputs": [],
   "source": [
    "mci_demo_full"
   ]
  },
  {
   "cell_type": "code",
   "execution_count": null,
   "id": "a7e12c68",
   "metadata": {},
   "outputs": [],
   "source": [
    "mci_demo_full.groupby([\"subtype\", \"APOE4\"]).size()"
   ]
  },
  {
   "cell_type": "code",
   "execution_count": null,
   "id": "7c303f20",
   "metadata": {},
   "outputs": [],
   "source": [
    "mci_demo_full.pivot_table(index='subtype', columns='APOE4', \n",
    "                        aggfunc=len, fill_value=0)[\"PTID\"]"
   ]
  },
  {
   "cell_type": "code",
   "execution_count": null,
   "id": "9e1eb2ac",
   "metadata": {},
   "outputs": [],
   "source": [
    "mci_demo_full.pivot_table(index='subtype', columns='stage', \n",
    "                        aggfunc=len, fill_value=0)[\"PTID\"]"
   ]
  },
  {
   "cell_type": "code",
   "execution_count": null,
   "id": "e90bb572",
   "metadata": {},
   "outputs": [],
   "source": [
    "all_demographics = merged_df[merged_df[\"DX\"].isin([\"CN\", \"MCI\", \"Dementia\"])].sort_values([\"PTID\", \"EXAMDATE\"]).drop_duplicates(\"PTID\", keep=\"first\")"
   ]
  },
  {
   "cell_type": "code",
   "execution_count": null,
   "id": "7d5897ca",
   "metadata": {},
   "outputs": [],
   "source": [
    "len(set(all_demographics[\"PTID\"]))"
   ]
  },
  {
   "cell_type": "code",
   "execution_count": null,
   "id": "6a1439f7",
   "metadata": {},
   "outputs": [],
   "source": [
    "all_demographics"
   ]
  },
  {
   "cell_type": "code",
   "execution_count": null,
   "id": "a2ba54c6",
   "metadata": {},
   "outputs": [],
   "source": [
    "all_data = pd.merge(all_demographics, final_df, on=[\"PTID\", \"EXAMDATE\"])"
   ]
  },
  {
   "cell_type": "code",
   "execution_count": null,
   "id": "3454fde1",
   "metadata": {},
   "outputs": [],
   "source": [
    "all_data.pivot_table(index='subtype', columns='DX_x', \n",
    "                        aggfunc=len, fill_value=0)[\"PTID\"]"
   ]
  },
  {
   "cell_type": "code",
   "execution_count": null,
   "id": "91e399dd",
   "metadata": {},
   "outputs": [],
   "source": [
    "all_data.pivot_table(index='subtype', columns='APOE4', \n",
    "                        aggfunc=len, fill_value=0)[\"PTID\"]"
   ]
  },
  {
   "cell_type": "code",
   "execution_count": null,
   "id": "ee2da8c8",
   "metadata": {},
   "outputs": [],
   "source": [
    "all_data[all_data[\"DX_x\"].isin([\"CN\", \"Dementia\"])].pivot_table(index='subtype', columns='PTGENDER', \n",
    "                        aggfunc=len, fill_value=0)[\"PTID\"]"
   ]
  },
  {
   "cell_type": "markdown",
   "id": "a597754f",
   "metadata": {},
   "source": [
    "# Scrap Analysis"
   ]
  },
  {
   "cell_type": "code",
   "execution_count": null,
   "id": "4f9daba1",
   "metadata": {},
   "outputs": [],
   "source": [
    "adnimerge_path = \"/nethome/rtandon32/ebm/ebm_experiments/experiment_scripts/real_data/ADNIMERGE.csv\"\n",
    "df_adnimerge =pd.read_csv(adnimerge_path)[[\"PTID\", \"DX_bl\", \"DX\", \"EXAMDATE\", \"VISCODE\", \"AGE\",\"PTGENDER\",\"PTEDUCAT\", \"APOE4\"]]"
   ]
  },
  {
   "cell_type": "code",
   "execution_count": null,
   "id": "c6465e23",
   "metadata": {},
   "outputs": [],
   "source": [
    "long_path = \"/nethome/rtandon32/ebm/ebm_experiments/experiment_scripts/real_data/df12_longitudinal_ebm.csv\"\n",
    "df_long = pd.read_csv(long_path)"
   ]
  },
  {
   "cell_type": "code",
   "execution_count": null,
   "id": "335d3758",
   "metadata": {},
   "outputs": [],
   "source": [
    "len(set(df_adnimerge[\"PTID\"].tolist()))"
   ]
  },
  {
   "cell_type": "code",
   "execution_count": null,
   "id": "cfdb4429",
   "metadata": {},
   "outputs": [],
   "source": [
    "len(set(df_long[\"sid\"].tolist()))"
   ]
  },
  {
   "cell_type": "code",
   "execution_count": null,
   "id": "23d8851e",
   "metadata": {},
   "outputs": [],
   "source": [
    "327 + 551"
   ]
  },
  {
   "cell_type": "code",
   "execution_count": null,
   "id": "ffcb2b29",
   "metadata": {},
   "outputs": [],
   "source": [
    "df_long"
   ]
  },
  {
   "cell_type": "code",
   "execution_count": null,
   "id": "115d0f9a",
   "metadata": {},
   "outputs": [],
   "source": []
  }
 ],
 "metadata": {
  "kernelspec": {
   "display_name": "Python 3",
   "language": "python",
   "name": "python3"
  },
  "language_info": {
   "codemirror_mode": {
    "name": "ipython",
    "version": 3
   },
   "file_extension": ".py",
   "mimetype": "text/x-python",
   "name": "python",
   "nbconvert_exporter": "python",
   "pygments_lexer": "ipython3",
   "version": "3.9.18"
  }
 },
 "nbformat": 4,
 "nbformat_minor": 5
}
