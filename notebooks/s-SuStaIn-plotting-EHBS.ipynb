{
 "cells": [
  {
   "cell_type": "code",
   "execution_count": 1,
   "id": "bf3dea42",
   "metadata": {},
   "outputs": [],
   "source": [
    "import pandas as pd\n",
    "import pickle\n",
    "import seaborn as sns\n",
    "import numpy as np\n",
    "from kde_ebm.mixture_model import fit_all_gmm_models\n",
    "from kde_ebm import mixture_model\n",
    "from sSuStaIn.sEBMSustain import sEBMSustain, sEBMSustainData\n",
    "import os\n",
    "import numpy.ma as ma\n",
    "from collections import Counter\n",
    "from dateutil.relativedelta import relativedelta"
   ]
  },
  {
   "cell_type": "code",
   "execution_count": 2,
   "id": "dd2c89b0",
   "metadata": {},
   "outputs": [],
   "source": [
    "%load_ext autoreload\n",
    "%autoreload 2\n",
    "%matplotlib inline\n",
    "import matplotlib.pyplot as plt\n",
    "from matplotlib import cm\n",
    "hfont = {'fontname':'Arial'}"
   ]
  },
  {
   "cell_type": "code",
   "execution_count": 3,
   "id": "8cd8bb13",
   "metadata": {},
   "outputs": [],
   "source": [
    "def process_L(L, min_val=0):\n",
    "    mx = ma.masked_less_equal(L,min_val)\n",
    "    min_masked = mx.min(axis=0)\n",
    "    L_new = mx.filled(fill_value=min_masked)\n",
    "    return L_new"
   ]
  },
  {
   "cell_type": "code",
   "execution_count": 4,
   "id": "07953fe5",
   "metadata": {},
   "outputs": [
    {
     "name": "stdout",
     "output_type": "stream",
     "text": [
      "outputs from extract classes \n",
      " (262, 75) (262,)\n"
     ]
    }
   ],
   "source": [
    "import time\n",
    "import os\n",
    "import warnings\n",
    "import numpy as np\n",
    "import pandas as pd\n",
    "import warnings\n",
    "warnings.filterwarnings(\"ignore\")\n",
    "from collections import Counter\n",
    "from matplotlib import pyplot as plt\n",
    "from joblib import Parallel, delayed\n",
    "from functools import partial, partialmethod\n",
    "from kde_ebm.mixture_model import fit_all_gmm_models, fit_all_kde_models\n",
    "from kde_ebm import plotting\n",
    "from sSuStaIn.sEBMSustain import sEBMSustain\n",
    "import numpy.ma as ma\n",
    "from sklearn.impute import KNNImputer\n",
    "from sklearn.preprocessing import StandardScaler\n",
    "\n",
    "data_save_path = \"/nethome/rtandon32/ebm/real_datasets/ehbs\"\n",
    "\n",
    "def process_L(L, min_val=0):\n",
    "    mx = ma.masked_less_equal(L,min_val)\n",
    "    min_masked = mx.min(axis=0)\n",
    "    L_new = mx.filled(fill_value=min_masked)\n",
    "    return L_new\n",
    "\n",
    "def readData():\n",
    "\tpeptide_fname = os.path.join(data_save_path, \"Peptide Area Report_BSR2020-102_80pep.csv\")\n",
    "\tskyline_fname = os.path.join(data_save_path, \"SkylineRatios-FullPercesion_2021_0608.csv\")\n",
    "\tskyline_df = pd.read_csv(skyline_fname, index_col=0)\n",
    "\tpeptide_df = pd.read_csv(peptide_fname)\n",
    "\t# Get the labels for all subjects in the data\n",
    "\tlabel_df = readLabels(peptide_df)\n",
    "\t# Impute missing values\n",
    "\tXimp = imputeData(skyline_df)\n",
    "\tss = StandardScaler()\n",
    "\tscaledX = ss.fit_transform(Ximp)\n",
    "\tscaledX = pd.DataFrame(scaledX, index=Ximp.index, columns=Ximp.columns)\n",
    "\tscaledX = scaledX.reindex(label_df[\"sbj\"])\n",
    "\tXimp = Ximp.reindex(label_df[\"sbj\"])\n",
    "\treturn scaledX, Ximp, label_df\n",
    "\n",
    "def readLabels(peptide_df):\n",
    "\tlabel_df = peptide_df[[\"Replicate\", \"Condition\"]]\n",
    "\tlabel_df = label_df[label_df[\"Condition\"].isin([\"AD\", \"Control\", \"AsymAD\"])]\n",
    "\tlabel_dict = dict(zip(label_df[\"Replicate\"], label_df[\"Condition\"]))\n",
    "\tlabel_df = pd.DataFrame.from_dict(label_dict, orient=\"index\").reset_index()\n",
    "\tlabel_df.columns = [\"sbj\", \"DX\"]\n",
    "\treturn label_df\n",
    "\n",
    "def imputeData(x):\n",
    "\tx_imp = x.T.values.copy()\n",
    "\tn_neighbors=10\n",
    "\tx_imp = imptKNN(x_imp, n_neighbors)\n",
    "\tXimp = pd.DataFrame(x_imp, index=x.columns, columns=x.index)\n",
    "\treturn Ximp\n",
    "\n",
    "def imptKNN(x, n_neighbors, weights=\"uniform\"):\n",
    "\timputer = KNNImputer(n_neighbors=n_neighbors, weights=weights)\n",
    "\tx_imputed = imputer.fit_transform(x)\n",
    "\treturn x_imputed\n",
    "\n",
    "def extract_classes(X, label_df, dx):\n",
    "\tmerged = pd.merge(X, label_df, left_index=True, right_index=True)\n",
    "\tmerged_subset = merged[merged[\"DX\"].isin(dx)]\n",
    "\t# y = merged_subset[\"DX\"].map({\"Control\":0, \"AD\":1}).to_numpy()\n",
    "\ty = merged_subset[\"DX\"]\n",
    "\tx = merged_subset[merged_subset.columns.difference([\"DX\"])]\n",
    "\tx = x.to_numpy().astype(float)\n",
    "\treturn x, y\n",
    "\n",
    "scaledX, Ximp, label_df = readData()\n",
    "label_df.set_index(\"sbj\", inplace=True)\n",
    "\n",
    "X, y = extract_classes(Ximp, label_df, [\"Control\", \"AD\"])\n",
    "print(\"outputs from extract classes \\n\", X.shape, y.shape)\n",
    "y = y.map({\"Control\":0, \"AD\":1}).to_numpy()\n",
    "bm_names = Ximp.columns.tolist()"
   ]
  },
  {
   "cell_type": "markdown",
   "id": "19be4629",
   "metadata": {},
   "source": [
    "## Change the path to the pickled file\n"
   ]
  },
  {
   "cell_type": "code",
   "execution_count": 5,
   "id": "c10c362c",
   "metadata": {},
   "outputs": [],
   "source": [
    "def _dictionarize_sequence(S, stage_size):\n",
    "    # stage_size = self.stage_size\n",
    "    stages_cumsum = np.cumsum(stage_size, dtype=int)\n",
    "    S_dict = {}\n",
    "\n",
    "    for _ in range(len(stage_size)-1,0,-1):\n",
    "        idx = (stages_cumsum[_-1], stages_cumsum[_])\n",
    "        stage = S[idx[0]: idx[1]]\n",
    "        S_dict[_] = stage\n",
    "    S_dict[0] = S[0:idx[0]]\n",
    "    S_dict_ = {i:S_dict[i] for i in range(len(stage_size))}\n",
    "    return S_dict_"
   ]
  },
  {
   "cell_type": "code",
   "execution_count": 6,
   "id": "81dad223",
   "metadata": {},
   "outputs": [],
   "source": [
    "# Read the pickled file\n",
    "pickle_path = \"/nethome/rtandon32/ebm/s-SuStain-outputs/sim_ehbs1_gmm/pickle_files/sim_ehbs1_subtype3.pickle\"\n",
    "with open(pickle_path, \"rb\") as input_file:\n",
    "    pkl = pickle.load(input_file)"
   ]
  },
  {
   "cell_type": "code",
   "execution_count": 7,
   "id": "a1a54673",
   "metadata": {},
   "outputs": [],
   "source": [
    "seq = pkl[\"samples_sequence\"][:,:,0]\n",
    "pep_names = [[bm_names[_] for _ in seq[seq_id].astype(int)] for seq_id in range(4)]"
   ]
  },
  {
   "cell_type": "code",
   "execution_count": 8,
   "id": "1d1c23eb",
   "metadata": {},
   "outputs": [],
   "source": [
    "path_pep_links = \"/nethome/rtandon32/ebm/s-SuStain-outputs/sim_ehbs1_gmm/peptide_protein_links.csv\"\n",
    "pep_df = pd.read_csv(path_pep_links)"
   ]
  },
  {
   "cell_type": "code",
   "execution_count": 10,
   "id": "f3660e53",
   "metadata": {},
   "outputs": [],
   "source": [
    "shape_seq = pkl[\"shape_seq\"]\n",
    "mod_dict = dict(zip(pep_df[\"peptide\"], pep_df[\"module\"]))"
   ]
  },
  {
   "cell_type": "code",
   "execution_count": 15,
   "id": "268aab40",
   "metadata": {},
   "outputs": [],
   "source": [
    "seq_df = pd.DataFrame(pep_names).T\n",
    "d0 = _dictionarize_sequence(seq_df[0].map(mod_dict), shape_seq[0])\n",
    "d1 = _dictionarize_sequence(seq_df[1].map(mod_dict), shape_seq[1])\n",
    "d2 = _dictionarize_sequence(seq_df[2].map(mod_dict), shape_seq[2])\n",
    "d3 = _dictionarize_sequence(seq_df[3].map(mod_dict), shape_seq[3])"
   ]
  },
  {
   "cell_type": "code",
   "execution_count": 35,
   "id": "3f5138f6",
   "metadata": {},
   "outputs": [
    {
     "data": {
      "text/plain": [
       "(Counter({'M1': 4, nan: 3, 'grey': 2, 'M1/M6': 2, 'M4': 1}),\n",
       " Counter({'grey': 10, 'M4': 9, 'M2': 6, nan: 3, 'M6': 2, 'M1': 1}),\n",
       " Counter({nan: 7, 'M8': 3, 'M1': 1}),\n",
       " Counter({'M8': 4, nan: 1, 'M2': 1, 'M4': 1, 'M5': 1, 'M13': 1}),\n",
       " Counter({'grey': 4, 'M1': 4, 'M4': 2, 'M8': 2}))"
      ]
     },
     "execution_count": 35,
     "metadata": {},
     "output_type": "execute_result"
    }
   ],
   "source": [
    "d = d3\n",
    "Counter(d[0]), Counter(d[1]), Counter(d[2]), Counter(d[3]), Counter(d[4])"
   ]
  },
  {
   "cell_type": "markdown",
   "id": "924d7c2f",
   "metadata": {},
   "source": [
    "## Histogram plots"
   ]
  },
  {
   "cell_type": "code",
   "execution_count": 38,
   "id": "dd41d47a",
   "metadata": {},
   "outputs": [],
   "source": [
    "mixture_type = \"gmm\"\n",
    "if mixture_type==\"kde\":\n",
    "    mm_fit = fit_all_kde_models\n",
    "elif mixture_type == \"gmm\":\n",
    "    mm_fit = fit_all_gmm_models\n",
    "\n",
    "mixtures = mm_fit(X, y)\n",
    "\n",
    "L_yes                   = np.zeros(X.shape)\n",
    "L_no                    = np.zeros(X.shape)\n",
    "\n",
    "for i in range(X.shape[1]):\n",
    "    if mixture_type == \"gmm\":\n",
    "        L_no[:, i], L_yes[:, i] = mixtures[i].pdf(None, X[:, i])\n",
    "    elif mixture_type == \"kde\":\n",
    "        L_no[:, i], L_yes[:, i] = mixtures[i].pdf(X[:, i].reshape(-1, 1))\n",
    "        \n",
    "L_no = process_L(L_no)\n",
    "L_yes = process_L(L_yes)"
   ]
  },
  {
   "cell_type": "code",
   "execution_count": 49,
   "id": "c5335f91",
   "metadata": {},
   "outputs": [],
   "source": [
    "# Create the SuStaIn object for the sEBM model\n",
    "stage_sizes = [15]*5\n",
    "N_startpoints           = 25\n",
    "N_S_max                 = 3\n",
    "rep = 20\n",
    "N_iterations_MCMC_init = int(2e4)\n",
    "N_iterations_MCMC       = int(5e5)  #Generally recommend either 1e5 or 1e6 (the latter may be slow though) in practice\n",
    "n_stages = 5\n",
    "min_clust_size = 6\n",
    "p_absorb = 0.3\n",
    "SuStaInLabels = bm_names\n",
    "dataset_name            = 'sim_ehbs1'\n",
    "output_dir              = '/home/rtandon32/ebm/s-SuStain-outputs'\n",
    "sustainType             = 'mixture_GMM'\n",
    "output_folder           = os.path.join(output_dir, dataset_name + '_' + sustainType)\n",
    "use_parallel_startpoints = True\n",
    "sustain = sEBMSustain(L_yes, L_no, n_stages, stage_sizes, min_clust_size, p_absorb, rep, SuStaInLabels, N_startpoints, N_S_max, N_iterations_MCMC_init, N_iterations_MCMC, output_folder, dataset_name, use_parallel_startpoints)"
   ]
  },
  {
   "cell_type": "code",
   "execution_count": 50,
   "id": "62bdfd91",
   "metadata": {},
   "outputs": [],
   "source": [
    "## Get the prob mat for the AsymAD subjects"
   ]
  },
  {
   "cell_type": "code",
   "execution_count": 51,
   "id": "a2ab2200",
   "metadata": {},
   "outputs": [],
   "source": [
    "# Get the prob mat for the mci subjects\n",
    "X_asym, y_asym = extract_classes(Ximp, label_df, [\"AsymAD\"])\n",
    "prob_mat_asym = mixture_model.get_prob_mat(X_asym, mixtures)"
   ]
  },
  {
   "cell_type": "code",
   "execution_count": 52,
   "id": "3049729c",
   "metadata": {},
   "outputs": [],
   "source": [
    "L_no_asym = prob_mat_asym[:,:,0]\n",
    "L_yes_asym = prob_mat_asym[:,:,1]\n",
    "L_no_asym = process_L(L_no_asym)\n",
    "L_yes_asym = process_L(L_yes_asym)"
   ]
  },
  {
   "cell_type": "markdown",
   "id": "1a88f720",
   "metadata": {},
   "source": [
    "## Subtype and Stage the subjects"
   ]
  },
  {
   "cell_type": "code",
   "execution_count": 53,
   "id": "818e3d8e",
   "metadata": {},
   "outputs": [
    {
     "data": {
      "text/plain": [
       "(4, 75, 1000000)"
      ]
     },
     "execution_count": 53,
     "metadata": {},
     "output_type": "execute_result"
    }
   ],
   "source": [
    "pkl[\"samples_sequence\"].shape"
   ]
  },
  {
   "cell_type": "code",
   "execution_count": 54,
   "id": "9fb15a3a",
   "metadata": {},
   "outputs": [
    {
     "data": {
      "text/plain": [
       "5"
      ]
     },
     "execution_count": 54,
     "metadata": {},
     "output_type": "execute_result"
    }
   ],
   "source": [
    "n_stages"
   ]
  },
  {
   "cell_type": "code",
   "execution_count": 55,
   "id": "6228f0aa",
   "metadata": {},
   "outputs": [],
   "source": [
    "# Subtype and Stage the MCI subjects\n",
    "last_N = 400000\n",
    "N_samples = 1000\n",
    "sustainData_asym = sEBMSustainData(L_yes_asym, L_no_asym, n_stages)\n",
    "samples_sequence = pkl[\"samples_sequence\"][:,:,-last_N:]\n",
    "samples_f = pkl[\"samples_f\"][:,-last_N:]\n",
    "shape_seq = pkl[\"shape_seq\"]\n",
    "temp_mean_f = np.mean(samples_f, axis=1)\n",
    "ix = np.argsort(temp_mean_f)[::-1]\n",
    "\n",
    "ml_subtype_asym, \\\n",
    "prob_ml_subtype_asym, \\\n",
    "ml_stage_asym, \\\n",
    "prob_ml_stage_asym, \\\n",
    "prob_subtype_asym, \\\n",
    "prob_stage_asym, \\\n",
    "prob_subtype_stage_asym = sustain.subtype_and_stage_individuals(sustainData_asym, shape_seq, samples_sequence, samples_f, N_samples)\n"
   ]
  },
  {
   "cell_type": "code",
   "execution_count": 56,
   "id": "28038801",
   "metadata": {},
   "outputs": [
    {
     "data": {
      "text/plain": [
       "{1.0: 19, 2.0: 41, 3.0: 21, 4.0: 48, 5.0: 1}"
      ]
     },
     "execution_count": 56,
     "metadata": {},
     "output_type": "execute_result"
    }
   ],
   "source": [
    "unique, counts = np.unique(ml_stage_asym, return_counts=True)\n",
    "dict(zip(unique, counts))"
   ]
  },
  {
   "cell_type": "markdown",
   "id": "b98cb117",
   "metadata": {},
   "source": [
    "### Subtype and Stage CN/AD data"
   ]
  },
  {
   "cell_type": "code",
   "execution_count": 57,
   "id": "cac03937",
   "metadata": {},
   "outputs": [],
   "source": [
    "# subtype and stage CN/AD data\n",
    "\n",
    "sustainData_cnad = sEBMSustainData(L_yes, L_no, n_stages)\n",
    "samples_sequence = pkl[\"samples_sequence\"][:,:,-last_N:]\n",
    "samples_f = pkl[\"samples_f\"][:,-last_N:]\n",
    "shape_seq = pkl[\"shape_seq\"]\n",
    "\n",
    "ml_subtype_cnad, \\\n",
    "prob_ml_subtype_cnad, \\\n",
    "ml_stage_cnad, \\\n",
    "prob_ml_stage_cnad, \\\n",
    "prob_subtype_cnad, \\\n",
    "prob_stage_cnad, \\\n",
    "prob_subtype_stage_cnad = sustain.subtype_and_stage_individuals(sustainData_cnad, shape_seq, samples_sequence, samples_f, N_samples)\n"
   ]
  },
  {
   "cell_type": "markdown",
   "id": "3cd3e767",
   "metadata": {},
   "source": [
    "### Prepare final dataframe which has subtype, stage, PTID, DX, and EXAMDATE for all subjects"
   ]
  },
  {
   "cell_type": "code",
   "execution_count": 59,
   "id": "5b89ebfe",
   "metadata": {},
   "outputs": [],
   "source": [
    "# DataFrame for CN/AD subjects\n",
    "array_subtype_stage_cnad = np.hstack([ml_subtype_cnad, ml_stage_cnad, y.reshape(-1,1)])\n",
    "cnad_solved = pd.DataFrame(data=array_subtype_stage_cnad, columns=[\"subtype\", \"stage\", \"DX\"])\n",
    "# cnad_solved[[\"PTID\", \"EXAMDATE\"]] = df_cnad[[\"PTID\", \"EXAMDATE\"]]"
   ]
  },
  {
   "cell_type": "code",
   "execution_count": 63,
   "id": "4e50302b",
   "metadata": {},
   "outputs": [],
   "source": [
    "# DataFrame for MCI subjects\n",
    "array_subtype_stage_asym = np.hstack([ml_subtype_asym, ml_stage_asym])\n",
    "mci_solved = pd.DataFrame(data=array_subtype_stage_asym, columns=[\"subtype\", \"stage\"])\n",
    "mci_solved[\"DX\"] = 2.0\n",
    "# mci_solved[[\"PTID\", \"EXAMDATE\"]] = df_mci[[\"PTID\", \"EXAMDATE\"]]\n",
    "final_df = pd.concat([cnad_solved, mci_solved], axis=0)"
   ]
  },
  {
   "cell_type": "code",
   "execution_count": 65,
   "id": "940a5367",
   "metadata": {},
   "outputs": [],
   "source": [
    "final_df[\"DX\"] = final_df[\"DX\"].map({0.0:\"Controls\", 1.0:\"AD\", 2.0:\"AsymAD\"})"
   ]
  },
  {
   "cell_type": "code",
   "execution_count": 118,
   "id": "cf356d77",
   "metadata": {},
   "outputs": [],
   "source": [
    "subtype_select = 3.0\n",
    "final_df_grouped = final_df[final_df[\"subtype\"] == subtype_select].groupby([\"stage\", \"DX\"]).size().reset_index()\n",
    "final_df_pivot = final_df_grouped.pivot(columns=\"DX\", values=0, index=\"stage\").fillna(0)\n",
    "final_df_pivot /= final_df_pivot.sum(axis=0)\n",
    "counts_bar = final_df_pivot.melt(ignore_index=False, value_vars=[\"Controls\",\"AD\",\"AsymAD\"]).reset_index()"
   ]
  },
  {
   "cell_type": "code",
   "execution_count": 119,
   "id": "3f65fd05",
   "metadata": {},
   "outputs": [
    {
     "data": {
      "image/png": "[encoded data removed]",
      "text/plain": [
       "<Figure size 600x300 with 1 Axes>"
      ]
     },
     "metadata": {},
     "output_type": "display_data"
    }
   ],
   "source": [
    "fig, ax = plt.subplots(figsize=(6,3))\n",
    "hue_order=[\"Controls\", \"AsymAD\", \"AD\"]\n",
    "palette = [\"C0\", \"C2\",\"C1\"]\n",
    "sns.barplot(data=counts_bar, x=\"stage\", y=\"value\", \n",
    "            hue=\"DX\",ax=ax, hue_order=hue_order, \n",
    "            palette=palette,edgecolor=\"k\",linewidth=1)\n",
    "ax.set_xlabel(\"Disease (sEBM) stage\", fontsize=18)\n",
    "ax.set_ylabel(\"Fraction\", fontsize=18)\n",
    "ax.tick_params(axis='both', which='major', labelsize=12)\n",
    "ax.legend(title=\"\", fontsize=15, framealpha=0.0, loc=(0.9,0.6))\n",
    "ax.set_title(\"Subtype {}\".format(int(ix[int(subtype_select)] + 1), fontsize=18))\n",
    "# ax.set_title(\"Subtype {}\".format(int(ix[int(subtype_select)]), fontsize=18))\n",
    "# ax.text(s=r\"p-value ($\\chi^{2}$) < 1 x $10^{-18}$ \",x=1.0,y=0.5, fontsize=15)\n",
    "sns.despine()\n",
    "plt.tight_layout()\n",
    "figname = \"Subtype{}.png\".format(ix[int(subtype_select)]+1)\n",
    "fig.savefig(\"/nethome/rtandon32/ebm/s-SuStain-outputs/sim_ehbs1_gmm/figures/{}\".format(figname), dpi=300, transparent=True)"
   ]
  },
  {
   "cell_type": "code",
   "execution_count": 69,
   "id": "d184feb2",
   "metadata": {},
   "outputs": [
    {
     "data": {
      "text/plain": [
       "array([2, 0, 1, 3])"
      ]
     },
     "execution_count": 69,
     "metadata": {},
     "output_type": "execute_result"
    }
   ],
   "source": [
    "ix"
   ]
  },
  {
   "cell_type": "code",
   "execution_count": 70,
   "id": "8e263132",
   "metadata": {},
   "outputs": [
    {
     "data": {
      "text/plain": [
       "array([0.36415305, 0.11183305, 0.42673941, 0.09727448])"
      ]
     },
     "execution_count": 70,
     "metadata": {},
     "output_type": "execute_result"
    }
   ],
   "source": [
    "pkl[\"samples_f\"].mean(axis=1)"
   ]
  },
  {
   "cell_type": "code",
   "execution_count": 122,
   "id": "c98dd8cf",
   "metadata": {},
   "outputs": [
    {
     "data": {
      "text/html": [
       "<div>\n",
       "<style scoped>\n",
       "    .dataframe tbody tr th:only-of-type {\n",
       "        vertical-align: middle;\n",
       "    }\n",
       "\n",
       "    .dataframe tbody tr th {\n",
       "        vertical-align: top;\n",
       "    }\n",
       "\n",
       "    .dataframe thead tr th {\n",
       "        text-align: left;\n",
       "    }\n",
       "\n",
       "    .dataframe thead tr:last-of-type th {\n",
       "        text-align: right;\n",
       "    }\n",
       "</style>\n",
       "<table border=\"1\" class=\"dataframe\">\n",
       "  <thead>\n",
       "    <tr>\n",
       "      <th></th>\n",
       "      <th colspan=\"3\" halign=\"left\">subtype</th>\n",
       "    </tr>\n",
       "    <tr>\n",
       "      <th>DX</th>\n",
       "      <th>AD</th>\n",
       "      <th>AsymAD</th>\n",
       "      <th>Controls</th>\n",
       "    </tr>\n",
       "    <tr>\n",
       "      <th>stage</th>\n",
       "      <th></th>\n",
       "      <th></th>\n",
       "      <th></th>\n",
       "    </tr>\n",
       "  </thead>\n",
       "  <tbody>\n",
       "    <tr>\n",
       "      <th>2.0</th>\n",
       "      <td>0</td>\n",
       "      <td>0</td>\n",
       "      <td>4</td>\n",
       "    </tr>\n",
       "    <tr>\n",
       "      <th>3.0</th>\n",
       "      <td>1</td>\n",
       "      <td>14</td>\n",
       "      <td>3</td>\n",
       "    </tr>\n",
       "    <tr>\n",
       "      <th>4.0</th>\n",
       "      <td>15</td>\n",
       "      <td>35</td>\n",
       "      <td>6</td>\n",
       "    </tr>\n",
       "  </tbody>\n",
       "</table>\n",
       "</div>"
      ],
      "text/plain": [
       "      subtype                \n",
       "DX         AD AsymAD Controls\n",
       "stage                        \n",
       "2.0         0      0        4\n",
       "3.0         1     14        3\n",
       "4.0        15     35        6"
      ]
     },
     "execution_count": 122,
     "metadata": {},
     "output_type": "execute_result"
    }
   ],
   "source": [
    "final_df[final_df[\"subtype\"]==2.0].pivot_table(index=\"stage\", columns=\"DX\",aggfunc=len, fill_value=0)"
   ]
  },
  {
   "cell_type": "code",
   "execution_count": 102,
   "id": "bf953dd4",
   "metadata": {},
   "outputs": [
    {
     "data": {
      "text/plain": [
       "array([0.36281206, 0.11220025, 0.4263842 , 0.0986035 ])"
      ]
     },
     "execution_count": 102,
     "metadata": {},
     "output_type": "execute_result"
    }
   ],
   "source": [
    "temp_mean_f"
   ]
  },
  {
   "cell_type": "code",
   "execution_count": 103,
   "id": "f904ab7d",
   "metadata": {},
   "outputs": [
    {
     "data": {
      "text/plain": [
       "array([2, 0, 1, 3])"
      ]
     },
     "execution_count": 103,
     "metadata": {},
     "output_type": "execute_result"
    }
   ],
   "source": [
    "ix"
   ]
  },
  {
   "cell_type": "code",
   "execution_count": null,
   "id": "cd44069e",
   "metadata": {},
   "outputs": [],
   "source": []
  }
 ],
 "metadata": {
  "kernelspec": {
   "display_name": "Python 3",
   "language": "python",
   "name": "python3"
  },
  "language_info": {
   "codemirror_mode": {
    "name": "ipython",
    "version": 3
   },
   "file_extension": ".py",
   "mimetype": "text/x-python",
   "name": "python",
   "nbconvert_exporter": "python",
   "pygments_lexer": "ipython3",
   "version": "3.9.18"
  }
 },
 "nbformat": 4,
 "nbformat_minor": 5
}
