{
 "cells": [
  {
   "cell_type": "code",
   "execution_count": 1,
   "id": "1e08e8ed",
   "metadata": {},
   "outputs": [],
   "source": [
    "import pandas as pd"
   ]
  },
  {
   "cell_type": "code",
   "execution_count": 2,
   "id": "a4bce33d",
   "metadata": {},
   "outputs": [],
   "source": [
    "cnad_path = \"/nethome/rtandon32/ebm/ebm_experiments/experiment_scripts/real_data/dfMri_D12_ebm_final_n327.csv\"\n",
    "mci_path = \"/nethome/rtandon32/ebm/ebm_experiments/experiment_scripts/real_data/dfMri_D12_ebm_mci.csv\"\n",
    "# ebm_long = \"/nethome/rtandon32/ebm/ebm_experiments/experiment_scripts/real_data/dfMri_D12_ebm.csv\"\n",
    "ebm_long = \"/nethome/rtandon32/ebm/ebm_experiments/experiment_scripts/real_data/df12_longitudinal_ebm.csv\""
   ]
  },
  {
   "cell_type": "code",
   "execution_count": 3,
   "id": "c20ca9d9",
   "metadata": {},
   "outputs": [],
   "source": [
    "df_cnad = pd.read_csv(cnad_path)\n",
    "df_mci = pd.read_csv(mci_path)\n",
    "df_long = pd.read_csv(ebm_long)\n"
   ]
  },
  {
   "cell_type": "code",
   "execution_count": 4,
   "id": "d8fb831f",
   "metadata": {},
   "outputs": [
    {
     "data": {
      "text/plain": [
       "((327, 124), (551, 124), (3293, 121))"
      ]
     },
     "execution_count": 4,
     "metadata": {},
     "output_type": "execute_result"
    }
   ],
   "source": [
    "df_cnad.shape, df_mci.shape, df_long.shape, "
   ]
  },
  {
   "cell_type": "code",
   "execution_count": 5,
   "id": "7286b03f",
   "metadata": {},
   "outputs": [],
   "source": [
    "ptid_cnad = df_cnad[\"PTID\"].unique().tolist()\n",
    "ptid_mci = df_mci[\"PTID\"].unique().tolist()\n",
    "cs_ptid = ptid_cnad + ptid_mci\n",
    "long_ptid = df_long[\"sid\"].unique().tolist()\n",
    "\n"
   ]
  },
  {
   "cell_type": "code",
   "execution_count": 14,
   "id": "393bdf21",
   "metadata": {},
   "outputs": [
    {
     "data": {
      "text/plain": [
       "{'011_S_0022', '016_S_4121', '127_S_0112', '128_S_2123', '137_S_0668'}"
      ]
     },
     "execution_count": 14,
     "metadata": {},
     "output_type": "execute_result"
    }
   ],
   "source": [
    "set(ptid_cnad).intersection(set(ptid_mci))"
   ]
  },
  {
   "cell_type": "code",
   "execution_count": 13,
   "id": "8ee35923",
   "metadata": {
    "scrolled": true
   },
   "outputs": [
    {
     "data": {
      "text/plain": [
       "Counter({4: 148, 5: 148, 3: 91, 6: 60, 2: 58, 7: 26, 1: 20})"
      ]
     },
     "execution_count": 13,
     "metadata": {},
     "output_type": "execute_result"
    }
   ],
   "source": [
    "Counter(df_long[df_long[\"sid\"].isin(ptid_mci)].groupby(\"sid\").size())"
   ]
  },
  {
   "cell_type": "code",
   "execution_count": 12,
   "id": "fc2394dc",
   "metadata": {},
   "outputs": [],
   "source": [
    "from collections import Counter"
   ]
  },
  {
   "cell_type": "code",
   "execution_count": null,
   "id": "939cae7e",
   "metadata": {},
   "outputs": [],
   "source": []
  }
 ],
 "metadata": {
  "kernelspec": {
   "display_name": "Python 3",
   "language": "python",
   "name": "python3"
  },
  "language_info": {
   "codemirror_mode": {
    "name": "ipython",
    "version": 3
   },
   "file_extension": ".py",
   "mimetype": "text/x-python",
   "name": "python",
   "nbconvert_exporter": "python",
   "pygments_lexer": "ipython3",
   "version": "3.9.18"
  }
 },
 "nbformat": 4,
 "nbformat_minor": 5
}
